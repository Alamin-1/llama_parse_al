{
 "cells": [
  {
   "cell_type": "code",
   "execution_count": 13,
   "metadata": {},
   "outputs": [
    {
     "data": {
      "text/plain": [
       "True"
      ]
     },
     "execution_count": 13,
     "metadata": {},
     "output_type": "execute_result"
    }
   ],
   "source": [
    "from dotenv import load_dotenv\n",
    "load_dotenv()"
   ]
  },
  {
   "cell_type": "code",
   "execution_count": 14,
   "metadata": {},
   "outputs": [],
   "source": [
    "import nest_asyncio\n",
    "nest_asyncio.apply()"
   ]
  },
  {
   "cell_type": "code",
   "execution_count": 15,
   "metadata": {},
   "outputs": [],
   "source": [
    "from llama_parse import LlamaParse\n",
    "parser = LlamaParse(\n",
    "    result_type=\"markdown\",\n",
    ")"
   ]
  },
  {
   "cell_type": "code",
   "execution_count": 12,
   "metadata": {},
   "outputs": [
    {
     "name": "stdout",
     "output_type": "stream",
     "text": [
      "Started parsing the file under job_id cd0ab71d-6d8f-4d8f-9eca-f05b56edfa5f\n"
     ]
    }
   ],
   "source": [
    "import os\n",
    "data_path ='./data/sample_excel.xlsx'\n",
    "documents = parser.load_data(data_path)"
   ]
  },
  {
   "cell_type": "code",
   "execution_count": 18,
   "metadata": {},
   "outputs": [
    {
     "name": "stdout",
     "output_type": "stream",
     "text": [
      "# 478479 series COVER Packer wor\n",
      "\n",
      "|serial number|Items to be improved                  |Improvement direction                                             |Improvement plan                                                                      |feasibility assessment|Evaluation indicators|       |       |Program evaluation|Options|\n",
      "|-------------|--------------------------------------|------------------------------------------------------------------|--------------------------------------------------------------------------------------|----------------------|---------------------|-------|-------|------------------|-------|\n",
      "|             |                                      |                                                                  |                                                                                      |                      |technology           |economy|society|                  |       |\n",
      "|1            |Product master mold surface inspection|1:Reduce the number of checks&frequency                           |by everypcsChange all inspections to random inspections                               |                      |NG                   |OK     |OK     |NG                |/      |\n",
      "|             |                                      |                                                                  |by everypcsChange all inspections to inspections by time period                       |                      |NG                   |OK     |OK     |NG                |/      |\n",
      "|             |                                      |2:Reduce inspection items                                         |Cancel discoloration defect check                                                     |                      |NG                   |OK     |OK     |NG                |/      |\n",
      "|             |                                      |                                                                  |Cancel unsaturated mold defect check                                                  |                      |NG                   |OK     |OK     |NG                |/      |\n",
      "|             |                                      |3:Optimize inspection method                                      |Check all products before threading the rod                                           |                      |NG                   |OK     |OK     |NG                |/      |\n",
      "|             |                                      |                                                                  |After the product is inserted into the pole, the entire product is inspected together.|                      |OK                   |OK     |OK     |OK                |V      |\n",
      "|2            |Product hardware inspection           |1:Reduce the number of checks&frequency/Optimize inspection method|by everypcsChange all inspections to random inspections                               |                      |NG                   |OK     |OK     |NG                |/      |\n",
      "|             |                                      |                                                                  |by everypcsChange all inspections to inspections by time period                       |                      |NG                   |OK     |OK     |NG                |/      |\n",
      "|             |                                      |                                                                  |Combined with the master mold surface inspection and performed at the same time       |                      |OK                   |OK     |OK     |OK                |V      |\n",
      "|3            |                                      |2:Mold fixture/Hardware piece design change                       |Hardware shape change                                                                 |                      |OK                   |NG     |NG     |NG                |/      |\n",
      "|             |                                      |                                                                  |Let the variable model be,Realize the anti-fool effect of missing hardware            |                      |OK                   |OK     |OK     |OK                |V      |\n",
      "|4            |Product wear rod                      |1:Changes in rod threading methods                                |Check all products before threading the rod                                           |                      |NG                   |OK     |OK     |NG                |/      |\n",
      "|             |                                      |                                                                  |Add a jig to replace manual alignment and threading of rods                           |                      |OK                   |OK     |OK     |OK                |V      |\n",
      "\n"
     ]
    }
   ],
   "source": [
    "print(documents[0].text)"
   ]
  },
  {
   "cell_type": "code",
   "execution_count": 20,
   "metadata": {},
   "outputs": [],
   "source": [
    "## Set OpenAI API Key\n",
    "\n",
    "import os\n",
    "\n",
    "from llama_index.llms.openai import OpenAI\n",
    "from llama_index.core import Settings\n",
    "\n",
    "llm = OpenAI()\n",
    "Settings.llm = llm"
   ]
  },
  {
   "cell_type": "code",
   "execution_count": 21,
   "metadata": {},
   "outputs": [],
   "source": [
    "## Build Index and QueryEngine\n",
    "from llama_index.core import VectorStoreIndex\n",
    "index = VectorStoreIndex.from_documents(documents)\n",
    "query_engine = index.as_query_engine()"
   ]
  },
  {
   "cell_type": "code",
   "execution_count": 23,
   "metadata": {},
   "outputs": [
    {
     "name": "stdout",
     "output_type": "stream",
     "text": [
      "The improvement direction selected for 'Product Wear Rod' was to make changes in rod threading methods.\n"
     ]
    }
   ],
   "source": [
    "response = query_engine.query(\"What improvement direction was selected for 'Product Wear Rod'?\")\n",
    "print(str(response))"
   ]
  },
  {
   "cell_type": "markdown",
   "metadata": {},
   "source": [
    "## Advanced RAG with LlamaParse"
   ]
  },
  {
   "cell_type": "code",
   "execution_count": 26,
   "metadata": {},
   "outputs": [
    {
     "data": {
      "text/plain": [
       "True"
      ]
     },
     "execution_count": 26,
     "metadata": {},
     "output_type": "execute_result"
    }
   ],
   "source": [
    "import os\n",
    "data_path = './data/_10-K-2021-(As-Filed).pdf'\n",
    "os.path.exists(data_path)"
   ]
  },
  {
   "cell_type": "code",
   "execution_count": 27,
   "metadata": {},
   "outputs": [],
   "source": [
    "from llama_index.llms.openai import OpenAI\n",
    "from llama_index.embeddings.openai import OpenAIEmbedding\n",
    "from llama_index.core import VectorStoreIndex\n",
    "from llama_index.core import Settings\n",
    "\n",
    "embed_model = OpenAIEmbedding(model=\"text-embedding-3-small\")\n",
    "llm = OpenAI(model=\"gpt-3.5-turbo-0125\")\n",
    "\n",
    "Settings.llm = llm\n",
    "Settings.embed_model = embed_model"
   ]
  },
  {
   "cell_type": "code",
   "execution_count": 28,
   "metadata": {},
   "outputs": [
    {
     "name": "stdout",
     "output_type": "stream",
     "text": [
      "Started parsing the file under job_id befb89c3-c317-432d-a1d7-2402c408ca43\n"
     ]
    }
   ],
   "source": [
    "from llama_parse import LlamaParse\n",
    "\n",
    "documents = LlamaParse(result_type=\"markdown\").load_data(data_path)"
   ]
  },
  {
   "cell_type": "code",
   "execution_count": 31,
   "metadata": {},
   "outputs": [],
   "source": [
    "from copy import deepcopy\n",
    "from llama_index.core.schema import TextNode\n",
    "from llama_index.core import VectorStoreIndex\n",
    "\n",
    "\n",
    "def get_page_nodes(docs, separator=\"\\n---\\n\"):\n",
    "    \"\"\"Split each document into page node, by separator.\"\"\"\n",
    "    nodes = []\n",
    "    for doc in docs:\n",
    "        doc_chunks = doc.text.split(separator)\n",
    "        for doc_chunk in doc_chunks:\n",
    "            node = TextNode(\n",
    "                text=doc_chunk,\n",
    "                metadata=deepcopy(doc.metadata),\n",
    "            )\n",
    "            nodes.append(node)\n",
    "\n",
    "    return nodes"
   ]
  },
  {
   "cell_type": "code",
   "execution_count": 32,
   "metadata": {},
   "outputs": [],
   "source": [
    "page_nodes = get_page_nodes(documents)"
   ]
  },
  {
   "cell_type": "code",
   "execution_count": 34,
   "metadata": {},
   "outputs": [
    {
     "name": "stdout",
     "output_type": "stream",
     "text": [
      "82\n"
     ]
    }
   ],
   "source": [
    "print(len(page_nodes))"
   ]
  },
  {
   "cell_type": "code",
   "execution_count": 37,
   "metadata": {},
   "outputs": [
    {
     "name": "stdout",
     "output_type": "stream",
     "text": [
      "# UNITED STATES SECURITIES AND EXCHANGE COMMISSION\n",
      "\n",
      "# Washington, D.C. 20549\n",
      "\n",
      "# FORM 10-K\n",
      "\n",
      "(Mark One)\n",
      "\n",
      "☒ ANNUAL REPORT PURSUANT TO SECTION 13 OR 15(d) OF THE SECURITIES EXCHANGE ACT OF 1934\n",
      "\n",
      "For the fiscal year ended September 25, 2021\n",
      "\n",
      "or\n",
      "\n",
      "☐ TRANSITION REPORT PURSUANT TO SECTION 13 OR 15(d) OF THE SECURITIES EXCHANGE ACT OF 1934\n",
      "\n",
      "For the transition period from               to          .\n",
      "\n",
      "Commission File Number: 001-36743\n",
      "\n",
      "# Apple Inc.\n",
      "\n",
      "(Exact name of Registrant as specified in its charter)\n",
      "\n",
      "|California|94-2404110|\n",
      "|---|---|\n",
      "|(State or other jurisdiction|(I.R.S. Employer Identification No.)|\n",
      "|of incorporation or organization)| |\n",
      "\n",
      "One Apple Park Way\n",
      "\n",
      "Cupertino, California 95014\n",
      "\n",
      "(Address of principal executive offices) (Zip Code)\n",
      "\n",
      "(408) 996-1010\n",
      "\n",
      "(Registrant’s telephone number, including area code)\n",
      "\n",
      "# Securities registered pursuant to Section 12(b) of the Act:\n",
      "\n",
      "|Title of each class|Trading symbol(s)|Name of each exchange on which registered|\n",
      "|---|---|---|\n",
      "|Common Stock, $0.00001 par value per share|AAPL|The Nasdaq Stock Market LLC|\n",
      "|1.000% Notes due 2022|—|The Nasdaq Stock Market LLC|\n",
      "|1.375% Notes due 2024|—|The Nasdaq Stock Market LLC|\n",
      "|0.000% Notes due 2025|—|The Nasdaq Stock Market LLC|\n",
      "|0.875% Notes due 2025|—|The Nasdaq Stock Market LLC|\n",
      "|1.625% Notes due 2026|—|The Nasdaq Stock Market LLC|\n",
      "|2.000% Notes due 2027|—|The Nasdaq Stock Market LLC|\n",
      "|1.375% Notes due 2029|—|The Nasdaq Stock Market LLC|\n",
      "|3.050% Notes due 2029|—|The Nasdaq Stock Market LLC|\n",
      "|0.500% Notes due 2031|—|The Nasdaq Stock Market LLC|\n",
      "|3.600% Notes due 2042|—|The Nasdaq Stock Market LLC|\n",
      "\n",
      "Securities registered pursuant to Section 12(g) of the Act: None\n",
      "\n",
      "Indicate by check mark if the Registrant is a well-known seasoned issuer, as defined in Rule 405 of the Securities Act.\n",
      "\n",
      "Yes ☒      No ☐\n",
      "\n",
      "Indicate by check mark if the Registrant is not required to file reports pursuant to Section 13 or Section 15(d) of the Act.\n",
      "\n",
      "Yes ☐      No ☒\n"
     ]
    }
   ],
   "source": [
    "print(page_nodes[0].text)"
   ]
  },
  {
   "cell_type": "code",
   "execution_count": 38,
   "metadata": {},
   "outputs": [],
   "source": [
    "from llama_index.core.node_parser import MarkdownElementNodeParser\n",
    "\n",
    "node_parser = MarkdownElementNodeParser(\n",
    "    llm=OpenAI(model=\"gpt-3.5-turbo-0125\"), num_workers=8\n",
    ")"
   ]
  },
  {
   "cell_type": "code",
   "execution_count": 39,
   "metadata": {},
   "outputs": [
    {
     "name": "stderr",
     "output_type": "stream",
     "text": [
      "2it [00:00, ?it/s]\n",
      "1it [00:00, ?it/s]\n",
      "1it [00:00, ?it/s]\n",
      "0it [00:00, ?it/s]\n",
      "0it [00:00, ?it/s]\n",
      "0it [00:00, ?it/s]\n",
      "0it [00:00, ?it/s]\n",
      "0it [00:00, ?it/s]\n",
      "0it [00:00, ?it/s]\n",
      "0it [00:00, ?it/s]\n",
      "0it [00:00, ?it/s]\n",
      "0it [00:00, ?it/s]\n",
      "0it [00:00, ?it/s]\n",
      "0it [00:00, ?it/s]\n",
      "0it [00:00, ?it/s]\n",
      "0it [00:00, ?it/s]\n",
      "0it [00:00, ?it/s]\n",
      "0it [00:00, ?it/s]\n",
      "0it [00:00, ?it/s]\n",
      "0it [00:00, ?it/s]\n",
      "1it [00:00, ?it/s]\n",
      "1it [00:00, ?it/s]\n",
      "0it [00:00, ?it/s]\n",
      "1it [00:00, ?it/s]\n",
      "1it [00:00, ?it/s]\n",
      "3it [00:00, ?it/s]\n",
      "2it [00:00, ?it/s]\n",
      "0it [00:00, ?it/s]\n",
      "0it [00:00, ?it/s]\n",
      "0it [00:00, ?it/s]\n",
      "1it [00:00, ?it/s]\n",
      "1it [00:00, ?it/s]\n",
      "1it [00:00, ?it/s]\n",
      "1it [00:00, ?it/s]\n",
      "1it [00:00, ?it/s]\n",
      "5it [00:00, ?it/s]\n",
      "1it [00:00, ?it/s]\n",
      "0it [00:00, ?it/s]\n",
      "0it [00:00, ?it/s]\n",
      "1it [00:00, ?it/s]\n",
      "2it [00:00, ?it/s]\n",
      "2it [00:00, ?it/s]\n",
      "3it [00:00, ?it/s]\n",
      "3it [00:00, ?it/s]\n",
      "2it [00:00, ?it/s]\n",
      "1it [00:00, ?it/s]\n",
      "2it [00:00, ?it/s]\n",
      "2it [00:00, ?it/s]\n",
      "1it [00:00, ?it/s]\n",
      "2it [00:00, ?it/s]\n",
      "2it [00:00, ?it/s]\n",
      "0it [00:00, ?it/s]\n",
      "2it [00:00, ?it/s]\n",
      "2it [00:00, ?it/s]\n",
      "0it [00:00, ?it/s]\n",
      "0it [00:00, ?it/s]\n",
      "0it [00:00, ?it/s]\n",
      "0it [00:00, ?it/s]\n",
      "0it [00:00, ?it/s]\n",
      "2it [00:00, 1991.12it/s]\n",
      "1it [00:00, 17772.47it/s]\n",
      "1it [00:00, ?it/s]\n",
      "1it [00:00, ?it/s]\n",
      "0it [00:00, ?it/s]\n",
      "0it [00:00, ?it/s]\n",
      "0it [00:00, ?it/s]\n",
      "0it [00:00, ?it/s]\n",
      "0it [00:00, ?it/s]\n",
      "0it [00:00, ?it/s]\n",
      "0it [00:00, ?it/s]\n",
      "0it [00:00, ?it/s]\n",
      "0it [00:00, ?it/s]\n",
      "0it [00:00, ?it/s]\n",
      "0it [00:00, ?it/s]\n",
      "0it [00:00, ?it/s]\n",
      "0it [00:00, ?it/s]\n",
      "0it [00:00, ?it/s]\n",
      "1it [00:00, ?it/s]\n",
      "0it [00:00, ?it/s]\n",
      "0it [00:00, ?it/s]\n",
      "0it [00:00, ?it/s]\n",
      "0it [00:00, ?it/s]\n"
     ]
    }
   ],
   "source": [
    "nodes = node_parser.get_nodes_from_documents(documents)"
   ]
  },
  {
   "cell_type": "code",
   "execution_count": 42,
   "metadata": {},
   "outputs": [
    {
     "name": "stdout",
     "output_type": "stream",
     "text": [
      "<class 'list'>\n",
      "256\n"
     ]
    }
   ],
   "source": [
    "print(type(nodes))\n",
    "print(len(nodes))"
   ]
  },
  {
   "cell_type": "code",
   "execution_count": 44,
   "metadata": {},
   "outputs": [
    {
     "data": {
      "text/plain": [
       "'UNITED STATES SECURITIES AND EXCHANGE COMMISSION\\n\\n Washington, D.C. 20549\\n\\n FORM 10-K\\n\\n(Mark One)\\n\\n☒ ANNUAL REPORT PURSUANT TO SECTION 13 OR 15(d) OF THE SECURITIES EXCHANGE ACT OF 1934\\n\\nFor the fiscal year ended September 25, 2021\\n\\nor\\n\\n☐ TRANSITION REPORT PURSUANT TO SECTION 13 OR 15(d) OF THE SECURITIES EXCHANGE ACT OF 1934\\n\\nFor the transition period from               to          .\\n\\nCommission File Number: 001-36743\\n\\n Apple Inc.\\n\\n(Exact name of Registrant as specified in its charter)'"
      ]
     },
     "execution_count": 44,
     "metadata": {},
     "output_type": "execute_result"
    }
   ],
   "source": [
    "nodes[0].text"
   ]
  },
  {
   "cell_type": "code",
   "execution_count": 45,
   "metadata": {},
   "outputs": [],
   "source": [
    "base_nodes, objects = node_parser.get_nodes_and_objects(nodes)"
   ]
  },
  {
   "cell_type": "code",
   "execution_count": 48,
   "metadata": {},
   "outputs": [
    {
     "data": {
      "text/plain": [
       "\"This table provides information about a company's state of incorporation or organization and its corresponding I.R.S. Employer Identification Number.,\\nwith the following columns:\\n- California: None\\n- 94-2404110: None\\n\""
      ]
     },
     "execution_count": 48,
     "metadata": {},
     "output_type": "execute_result"
    }
   ],
   "source": [
    "objects[0].get_content()"
   ]
  },
  {
   "cell_type": "code",
   "execution_count": 49,
   "metadata": {},
   "outputs": [],
   "source": [
    "# dump both indexed tables and page text into the vector index\n",
    "recursive_index = VectorStoreIndex(nodes=base_nodes + objects + page_nodes)"
   ]
  },
  {
   "cell_type": "code",
   "execution_count": 50,
   "metadata": {},
   "outputs": [
    {
     "name": "stdout",
     "output_type": "stream",
     "text": [
      "# Apple Inc.\n",
      "\n",
      "# CONSOLIDATED STATEMENTS OF OPERATIONS\n",
      "\n",
      "(In millions, except number of shares which are reflected in thousands and per share amounts)\n",
      "\n",
      "| |Years ended|September 25, 2021|September 26, 2020|September 28, 2019|\n",
      "|---|---|---|---|---|\n",
      "|Net sales:|Products|$ 297,392|$ 220,747|$ 213,883|\n",
      "| |Services|$ 68,425|$ 53,768|$ 46,291|\n",
      "| |Total net sales|$ 365,817|$ 274,515|$ 260,174|\n",
      "|Cost of sales:|Products|$ 192,266|$ 151,286|$ 144,996|\n",
      "| |Services|$ 20,715|$ 18,273|$ 16,786|\n",
      "| |Total cost of sales|$ 212,981|$ 169,559|$ 161,782|\n",
      "| |Gross margin|$ 152,836|$ 104,956|$ 98,392|\n",
      "|Operating expenses:|Research and development|$ 21,914|$ 18,752|$ 16,217|\n",
      "| |Selling, general and administrative|$ 21,973|$ 19,916|$ 18,245|\n",
      "| |Total operating expenses|$ 43,887|$ 38,668|$ 34,462|\n",
      "|Operating income| |$ 108,949|$ 66,288|$ 63,930|\n",
      "|Other income/(expense), net| |$ 258|$ 803|$ 1,807|\n",
      "|Income before provision for income taxes| |$ 109,207|$ 67,091|$ 65,737|\n",
      "|Provision for income taxes| |$ 14,527|$ 9,680|$ 10,481|\n",
      "|Net income| |$ 94,680|$ 57,411|$ 55,256|\n",
      "|Earnings per share:|Basic|$ 5.67|$ 3.31|$ 2.99|\n",
      "| |Diluted|$ 5.61|$ 3.28|$ 2.97|\n",
      "|Shares used in computing earnings per share:|Basic|16,701,272|17,352,119|18,471,336|\n",
      "| |Diluted|16,864,919|17,528,214|18,595,651|\n",
      "\n",
      "See accompanying Notes to Consolidated Financial Statements.\n",
      "\n",
      "Apple Inc. | 2021 Form 10-K | 29\n"
     ]
    }
   ],
   "source": [
    "print(page_nodes[31].get_content())"
   ]
  },
  {
   "cell_type": "code",
   "execution_count": 53,
   "metadata": {},
   "outputs": [
    {
     "name": "stderr",
     "output_type": "stream",
     "text": [
      "C:\\Program Files\\WindowsApps\\PythonSoftwareFoundation.Python.3.9_3.9.3568.0_x64__qbz5n2kfra8p0\\lib\\dataclasses.py:835: RuntimeWarning: coroutine 'LlamaParse.aload_data' was never awaited\n",
      "  for b in cls.__mro__[-1:0:-1]:\n",
      "RuntimeWarning: Enable tracemalloc to get the object allocation traceback\n"
     ]
    },
    {
     "data": {
      "application/vnd.jupyter.widget-view+json": {
       "model_id": "a51dc5af0eb8477985d9f1dc55951780",
       "version_major": 2,
       "version_minor": 0
      },
      "text/plain": [
       "tokenizer_config.json:   0%|          | 0.00/443 [00:00<?, ?B/s]"
      ]
     },
     "metadata": {},
     "output_type": "display_data"
    },
    {
     "name": "stderr",
     "output_type": "stream",
     "text": [
      "C:\\Users\\Muhammad Al-Amin\\Desktop\\Al-Amin\\llama_parse_al\\env\\lib\\site-packages\\huggingface_hub\\file_download.py:139: UserWarning: `huggingface_hub` cache-system uses symlinks by default to efficiently store duplicated files but your machine does not support them in C:\\Users\\Muhammad Al-Amin\\.cache\\huggingface\\hub\\models--BAAI--bge-reranker-large. Caching files will still work but in a degraded version that might require more space on your disk. This warning can be disabled by setting the `HF_HUB_DISABLE_SYMLINKS_WARNING` environment variable. For more details, see https://huggingface.co/docs/huggingface_hub/how-to-cache#limitations.\n",
      "To support symlinks on Windows, you either need to activate Developer Mode or to run Python as an administrator. In order to activate developer mode, see this article: https://docs.microsoft.com/en-us/windows/apps/get-started/enable-your-device-for-development\n",
      "  warnings.warn(message)\n"
     ]
    },
    {
     "data": {
      "application/vnd.jupyter.widget-view+json": {
       "model_id": "b2dd573a3aaa42bb891aec0741339659",
       "version_major": 2,
       "version_minor": 0
      },
      "text/plain": [
       "sentencepiece.bpe.model:   0%|          | 0.00/5.07M [00:00<?, ?B/s]"
      ]
     },
     "metadata": {},
     "output_type": "display_data"
    },
    {
     "data": {
      "application/vnd.jupyter.widget-view+json": {
       "model_id": "f2e22094e1114f18a2488287b5ae9ef9",
       "version_major": 2,
       "version_minor": 0
      },
      "text/plain": [
       "tokenizer.json:   0%|          | 0.00/17.1M [00:00<?, ?B/s]"
      ]
     },
     "metadata": {},
     "output_type": "display_data"
    },
    {
     "data": {
      "application/vnd.jupyter.widget-view+json": {
       "model_id": "1d211d7c5ee84d21833ce69337d7b7bf",
       "version_major": 2,
       "version_minor": 0
      },
      "text/plain": [
       "special_tokens_map.json:   0%|          | 0.00/279 [00:00<?, ?B/s]"
      ]
     },
     "metadata": {},
     "output_type": "display_data"
    },
    {
     "data": {
      "application/vnd.jupyter.widget-view+json": {
       "model_id": "f3785bdf89c246708aab5281892d8186",
       "version_major": 2,
       "version_minor": 0
      },
      "text/plain": [
       "config.json:   0%|          | 0.00/801 [00:00<?, ?B/s]"
      ]
     },
     "metadata": {},
     "output_type": "display_data"
    },
    {
     "data": {
      "application/vnd.jupyter.widget-view+json": {
       "model_id": "ac19bbe39a0647c69a70dfc66bdd3ba6",
       "version_major": 2,
       "version_minor": 0
      },
      "text/plain": [
       "model.safetensors:   0%|          | 0.00/2.24G [00:00<?, ?B/s]"
      ]
     },
     "metadata": {},
     "output_type": "display_data"
    }
   ],
   "source": [
    "from llama_index.postprocessor.flag_embedding_reranker import FlagEmbeddingReranker\n",
    "reranker = FlagEmbeddingReranker(\n",
    "    top_n=5,\n",
    "    model=\"BAAI/bge-reranker-large\",\n",
    ")\n",
    "recursive_query_engine = recursive_index.as_query_engine(\n",
    "    similarity_top_k=5, node_postprocessors=[reranker], verbose=True\n",
    ")"
   ]
  },
  {
   "cell_type": "code",
   "execution_count": 54,
   "metadata": {},
   "outputs": [],
   "source": [
    "## Setup Baseline\n",
    "from llama_index.core import SimpleDirectoryReader\n",
    "\n",
    "reader = SimpleDirectoryReader(input_files=[data_path])\n",
    "base_docs = reader.load_data()\n",
    "raw_index = VectorStoreIndex.from_documents(base_docs)\n",
    "raw_query_engine = raw_index.as_query_engine(\n",
    "    similarity_top_k=5, node_postprocessors=[reranker]\n",
    ")"
   ]
  },
  {
   "cell_type": "code",
   "execution_count": null,
   "metadata": {},
   "outputs": [
    {
     "name": "stderr",
     "output_type": "stream",
     "text": [
      "pre tokenize:   0%|                                                                                                          | 0/1 [00:00<?, ?it/s]You're using a XLMRobertaTokenizerFast tokenizer. Please note that with a fast tokenizer, using the `__call__` method is faster than using a method to encode the text followed by a call to the `pad` method to get a padded encoding.\n",
      "pre tokenize: 100%|█████████████████████████████████████████████████████████████████████████████████████████████████| 1/1 [00:00<00:00, 124.59it/s]\n",
      "C:\\Users\\Muhammad Al-Amin\\Desktop\\Al-Amin\\llama_parse_al\\env\\lib\\site-packages\\transformers\\tokenization_utils_base.py:2888: UserWarning: `max_length` is ignored when `padding`=`True` and there is no truncation strategy. To pad to max length, use `padding='max_length'`.\n",
      "  warnings.warn(\n"
     ]
    },
    {
     "name": "stdout",
     "output_type": "stream",
     "text": [
      "\n",
      "***********Basic Query Engine***********\n",
      "The purchases of marketable securities in 2020 amounted to $163.4 billion.\n",
      "\u001b[1;3;38;2;11;159;203mRetrieval entering 7d2d89dc-4eb2-483d-8ccf-d970e9d80d57: TextNode\n",
      "\u001b[0m\u001b[1;3;38;2;237;90;200mRetrieving from object TextNode with query Purchases of marketable securities in 2020\n",
      "\u001b[0m"
     ]
    },
    {
     "name": "stderr",
     "output_type": "stream",
     "text": [
      "pre tokenize: 100%|█████████████████████████████████████████████████████████████████████████████████████████████████| 1/1 [00:00<00:00, 247.20it/s]\n"
     ]
    },
    {
     "name": "stdout",
     "output_type": "stream",
     "text": [
      "\n",
      "***********New LlamaParse+ Recursive Retriever Query Engine***********\n",
      "The purchases of marketable securities in 2020 amounted to $171.886 billion.\n"
     ]
    }
   ],
   "source": [
    "## Table Query Task: Queries for Table Question Answering\n",
    "query = \"Purchases of marketable securities in 2020\"\n",
    "\n",
    "response_1 = raw_query_engine.query(query)\n",
    "print(\"\\n***********Basic Query Engine***********\")\n",
    "print(response_1)\n",
    "\n",
    "response_2 = recursive_query_engine.query(query)\n",
    "print(\"\\n***********New LlamaParse+ Recursive Retriever Query Engine***********\")\n",
    "print(response_2)"
   ]
  },
  {
   "cell_type": "code",
   "execution_count": 56,
   "metadata": {},
   "outputs": [
    {
     "name": "stdout",
     "output_type": "stream",
     "text": [
      "This table provides information on hedged assets and liabilities for the years 2021 and 2020, including current and non-current marketable securities and term debt.,\n",
      "with the following columns:\n",
      "- Hedged assets/(liabilities):: None\n",
      "- 2021: None\n",
      "- 2020: None\n",
      "\n",
      "|Hedged assets/(liabilities):|2021|2020|\n",
      "|---|---|---|\n",
      "|Current and non-current marketable securities|$ 15,954|$ 16,270|\n",
      "|Current and non-current term debt|$ (17,857)|$ (21,033)|\n",
      "\n"
     ]
    }
   ],
   "source": [
    "print(response_2.source_nodes[2].get_content())"
   ]
  },
  {
   "cell_type": "code",
   "execution_count": 57,
   "metadata": {},
   "outputs": [
    {
     "name": "stderr",
     "output_type": "stream",
     "text": [
      "pre tokenize: 100%|█████████████████████████████████████████████████████████████████████████████████████████████████| 1/1 [00:00<00:00, 198.62it/s]\n"
     ]
    },
    {
     "name": "stdout",
     "output_type": "stream",
     "text": [
      "\n",
      "***********Basic Query Engine***********\n",
      "0.03% - 4.78%\n",
      "\u001b[1;3;38;2;11;159;203mRetrieval entering 77263be9-18c7-4697-b733-b1fd6ae6afa5: TextNode\n",
      "\u001b[0m\u001b[1;3;38;2;237;90;200mRetrieving from object TextNode with query effective interest rates of all debt issuances in 2021\n",
      "\u001b[0m\u001b[1;3;38;2;11;159;203mRetrieval entering 0fa72da3-cf43-4c00-8e84-e48953ebaaf5: TextNode\n",
      "\u001b[0m\u001b[1;3;38;2;237;90;200mRetrieving from object TextNode with query effective interest rates of all debt issuances in 2021\n",
      "\u001b[0m\u001b[1;3;38;2;11;159;203mRetrieval entering 6389bddb-3700-427e-8424-dc1af9fd9c9f: TextNode\n",
      "\u001b[0m\u001b[1;3;38;2;237;90;200mRetrieving from object TextNode with query effective interest rates of all debt issuances in 2021\n",
      "\u001b[0m"
     ]
    },
    {
     "name": "stderr",
     "output_type": "stream",
     "text": [
      "pre tokenize: 100%|█████████████████████████████████████████████████████████████████████████████████████████████████| 1/1 [00:00<00:00, 499.02it/s]\n"
     ]
    },
    {
     "name": "stdout",
     "output_type": "stream",
     "text": [
      "\n",
      "***********New LlamaParse+ Recursive Retriever Query Engine***********\n",
      "0.48% – 0.63%, 0.03% – 4.78%, 0.75% – 2.81%, 1.43% – 2.86%\n"
     ]
    }
   ],
   "source": [
    "query = \"effective interest rates of all debt issuances in 2021\"\n",
    "\n",
    "response_1 = raw_query_engine.query(query)\n",
    "print(\"\\n***********Basic Query Engine***********\")\n",
    "print(response_1)\n",
    "\n",
    "response_2 = recursive_query_engine.query(query)\n",
    "print(\"\\n***********New LlamaParse+ Recursive Retriever Query Engine***********\")\n",
    "print(response_2)"
   ]
  },
  {
   "cell_type": "code",
   "execution_count": 58,
   "metadata": {},
   "outputs": [
    {
     "name": "stdout",
     "output_type": "stream",
     "text": [
      "Term Debt\n",
      "As of September 25, 2021, the Company had outstanding floating- and fixed-rate notes with varying maturities for an aggregate \n",
      "principal amount of $118.1 billion (collectively the “Notes”). The Notes are senior unsecured obligations and interest is payable in \n",
      "arrears. The following table provides a summary of the Company’s term debt as of September  25, 2021 and September  26, \n",
      "2020:\n",
      "Maturities\n",
      "(calendar year)\n",
      "2021 2020\n",
      "Amount\n",
      "(in millions)\n",
      "Effective\n",
      "Interest Rate\n",
      "Amount\n",
      "(in millions)\n",
      "Effective\n",
      "Interest Rate\n",
      "2013 – 2020 debt issuances:\n",
      "Floating-rate notes  2022 $ 1,750 0.48% – 0.63% $ 2,250 0.60% – 1.39%\n",
      "Fixed-rate 0.000% – 4.650% notes 2022 – 2060  95,813 0.03% – 4.78%  103,828 0.03% – 4.78%\n",
      "Second quarter 2021 debt issuance:\n",
      "Fixed-rate 0.700% – 2.800% notes 2026 – 2061  14,000 0.75% – 2.81%  —  — %\n",
      "Fourth quarter 2021 debt issuance:\n",
      "Fixed-rate 1.400% – 2.850% notes 2028 – 2061  6,500 1.43% – 2.86%  —  — %\n",
      "Total term debt  118,063  106,078 \n",
      "Unamortized premium/(discount) and issuance \n",
      "costs, net  (380)  (314) \n",
      "Hedge accounting fair value adjustments  1,036  1,676 \n",
      "Less: Current portion of term debt  (9,613)  (8,773) \n",
      "Total non-current portion of term debt $ 109,106 $ 98,667 \n",
      "To manage interest rate risk on certain of its U.S. dollar–denominated fixed- or floating-rate notes, the Company has entered into \n",
      "interest rate swaps to effectively convert the fixed interest rates to floating interest rates or the floating interest rates to fixed \n",
      "interest rates on a portion of these notes. Additionally, to manage foreign currency risk on certain of its foreign currency–\n",
      "denominated notes, the Company has entered into foreign currency swaps to effectively convert these notes to U.S. dollar–\n",
      "denominated notes.\n",
      "The effective interest rates for the Notes include the interest on the Notes, amortization of the discount or premium and, if \n",
      "applicable, adjustments related to hedging. The Company recognized $2.6 billion, $2.8 billion and $3.2 billion of interest expense \n",
      "on its term debt for 2021, 2020 and 2019, respectively.\n",
      "The future principal payments for the Company’s Notes as of September 25, 2021, are as follows (in millions):\n",
      "2022 $ 9,583 \n",
      "2023  11,391 \n",
      "2024  10,202 \n",
      "2025  10,914 \n",
      "2026  11,408 \n",
      "Thereafter  64,565 \n",
      "Total term debt $ 118,063 \n",
      "As of September 25, 2021 and September 26, 2020, the fair value of the Company’s Notes, based on Level 2 inputs, was $125.3 \n",
      "billion and $117.1 billion, respectively.\n",
      "Apple Inc. | 2021 Form 10-K | 45\n"
     ]
    }
   ],
   "source": [
    "print(response_1.source_nodes[0].get_content())"
   ]
  },
  {
   "cell_type": "code",
   "execution_count": 59,
   "metadata": {},
   "outputs": [
    {
     "name": "stderr",
     "output_type": "stream",
     "text": [
      "pre tokenize: 100%|█████████████████████████████████████████████████████████████████████████████████████████████████| 1/1 [00:00<00:00, 195.20it/s]\n"
     ]
    },
    {
     "name": "stdout",
     "output_type": "stream",
     "text": [
      "\n",
      "***********Basic Query Engine***********\n",
      "The U.S. Tax Cuts and Jobs Act of 2017 had an impact on income taxes in 2020, as evidenced by a decrease in the provision for income taxes compared to the previous year.\n",
      "\u001b[1;3;38;2;11;159;203mRetrieval entering 95ddcd5f-dda9-40bd-b44d-03845389270b: TextNode\n",
      "\u001b[0m\u001b[1;3;38;2;237;90;200mRetrieving from object TextNode with query Impacts of the U.S. Tax Cuts and Jobs Act of 2017 on income taxes in 2020\n",
      "\u001b[0m\u001b[1;3;38;2;11;159;203mRetrieval entering 34e7585a-dedf-4952-b59a-1c43f7e27bbc: TextNode\n",
      "\u001b[0m\u001b[1;3;38;2;237;90;200mRetrieving from object TextNode with query Impacts of the U.S. Tax Cuts and Jobs Act of 2017 on income taxes in 2020\n",
      "\u001b[0m\u001b[1;3;38;2;11;159;203mRetrieval entering 24ac6da9-f295-4931-8a4a-771e5320d91a: TextNode\n",
      "\u001b[0m\u001b[1;3;38;2;237;90;200mRetrieving from object TextNode with query Impacts of the U.S. Tax Cuts and Jobs Act of 2017 on income taxes in 2020\n",
      "\u001b[0m\u001b[1;3;38;2;11;159;203mRetrieval entering b12a4c4c-6443-48aa-9f25-a68f108e2db4: TextNode\n",
      "\u001b[0m\u001b[1;3;38;2;237;90;200mRetrieving from object TextNode with query Impacts of the U.S. Tax Cuts and Jobs Act of 2017 on income taxes in 2020\n",
      "\u001b[0m"
     ]
    },
    {
     "name": "stderr",
     "output_type": "stream",
     "text": [
      "pre tokenize: 100%|█████████████████████████████████████████████████████████████████████████████████████████████████| 1/1 [00:00<00:00, 499.32it/s]\n"
     ]
    },
    {
     "name": "stdout",
     "output_type": "stream",
     "text": [
      "\n",
      "***********New LlamaParse+ Recursive Retriever Query Engine***********\n",
      "The U.S. Tax Cuts and Jobs Act of 2017 had a negative impact on income taxes in 2020, as indicated by a figure of ($582) million in the table provided.\n"
     ]
    }
   ],
   "source": [
    "query = \"Impacts of the U.S. Tax Cuts and Jobs Act of 2017 on income taxes in 2020\"\n",
    "\n",
    "response_1 = raw_query_engine.query(query)\n",
    "print(\"\\n***********Basic Query Engine***********\")\n",
    "print(response_1)\n",
    "\n",
    "response_2 = recursive_query_engine.query(query)\n",
    "print(\"\\n***********New LlamaParse+ Recursive Retriever Query Engine***********\")\n",
    "print(response_2)"
   ]
  },
  {
   "cell_type": "code",
   "execution_count": 60,
   "metadata": {},
   "outputs": [
    {
     "name": "stderr",
     "output_type": "stream",
     "text": [
      "pre tokenize: 100%|█████████████████████████████████████████████████████████████████████████████████████████████████| 1/1 [00:00<00:00, 198.39it/s]\n"
     ]
    },
    {
     "name": "stdout",
     "output_type": "stream",
     "text": [
      "\n",
      "***********Basic Query Engine***********\n",
      "$1,620 million in 2019, $455 million in 2020, $475 million in 2021.\n",
      "\u001b[1;3;38;2;11;159;203mRetrieval entering 34e7585a-dedf-4952-b59a-1c43f7e27bbc: TextNode\n",
      "\u001b[0m\u001b[1;3;38;2;237;90;200mRetrieving from object TextNode with query current state taxes per year in 2019-2021 (include +/-)\n",
      "\u001b[0m\u001b[1;3;38;2;11;159;203mRetrieval entering 24ac6da9-f295-4931-8a4a-771e5320d91a: TextNode\n",
      "\u001b[0m\u001b[1;3;38;2;237;90;200mRetrieving from object TextNode with query current state taxes per year in 2019-2021 (include +/-)\n",
      "\u001b[0m\u001b[1;3;38;2;11;159;203mRetrieval entering 95ddcd5f-dda9-40bd-b44d-03845389270b: TextNode\n",
      "\u001b[0m\u001b[1;3;38;2;237;90;200mRetrieving from object TextNode with query current state taxes per year in 2019-2021 (include +/-)\n",
      "\u001b[0m\u001b[1;3;38;2;11;159;203mRetrieval entering 0596859c-09a1-4173-bae9-42984222abab: TextNode\n",
      "\u001b[0m\u001b[1;3;38;2;237;90;200mRetrieving from object TextNode with query current state taxes per year in 2019-2021 (include +/-)\n",
      "\u001b[0m\u001b[1;3;38;2;11;159;203mRetrieval entering b12a4c4c-6443-48aa-9f25-a68f108e2db4: TextNode\n",
      "\u001b[0m\u001b[1;3;38;2;237;90;200mRetrieving from object TextNode with query current state taxes per year in 2019-2021 (include +/-)\n",
      "\u001b[0m"
     ]
    },
    {
     "name": "stderr",
     "output_type": "stream",
     "text": [
      "pre tokenize: 100%|█████████████████████████████████████████████████████████████████████████████████████████████████| 1/1 [00:00<00:00, 499.62it/s]\n"
     ]
    },
    {
     "name": "stdout",
     "output_type": "stream",
     "text": [
      "\n",
      "***********New LlamaParse+ Recursive Retriever Query Engine***********\n",
      "State current taxes for the years 2019-2021 are as follows:\n",
      "- 2019: $475\n",
      "- 2020: $455\n",
      "- 2021: $1,620\n"
     ]
    }
   ],
   "source": [
    "query = \"current state taxes per year in 2019-2021 (include +/-)\"\n",
    "\n",
    "response_1 = raw_query_engine.query(query)\n",
    "print(\"\\n***********Basic Query Engine***********\")\n",
    "print(response_1)\n",
    "\n",
    "response_2 = recursive_query_engine.query(query)\n",
    "print(\"\\n***********New LlamaParse+ Recursive Retriever Query Engine***********\")\n",
    "print(response_2)"
   ]
  },
  {
   "cell_type": "code",
   "execution_count": 61,
   "metadata": {},
   "outputs": [
    {
     "name": "stdout",
     "output_type": "stream",
     "text": [
      "Summary of Federal, State, and Foreign income taxes for the years 2019, 2020, and 2021,\n",
      "with the following columns:\n",
      "- 2021: None\n",
      "- 2020: None\n",
      "- 2019: None\n",
      "\n",
      "| |2021|2020|2019|\n",
      "|---|---|---|---|\n",
      "|Federal:| | | |\n",
      "|Current|$ 8,257|$ 6,306|$ 6,384|\n",
      "|Deferred|(7,176)|(3,619)|(2,939)|\n",
      "|Total|1,081|2,687|3,445|\n",
      "|State:| | | |\n",
      "|Current|1,620|455|475|\n",
      "|Deferred|(338)|21|(67)|\n",
      "|Total|1,282|476|408|\n",
      "|Foreign:| | | |\n",
      "|Current|9,424|3,134|3,962|\n",
      "|Deferred|2,740|3,383|2,666|\n",
      "|Total|12,164|6,517|6,628|\n",
      "|Provision for income taxes|$ 14,527|$ 9,680|$ 10,481|\n",
      "\n"
     ]
    }
   ],
   "source": [
    "print(response_2.source_nodes[0].get_content())"
   ]
  },
  {
   "cell_type": "code",
   "execution_count": 63,
   "metadata": {},
   "outputs": [
    {
     "name": "stderr",
     "output_type": "stream",
     "text": [
      "--2024-11-14 18:15:55--  https://policyholder.gov.in/documents/37343/931203/NBHTGBP22011V012223.pdf/c392bcc1-f6a8-cadd-ab84-495b3273d2c3?version=1.0&t=1669350459879&download=true\n",
      "Resolving policyholder.gov.in (policyholder.gov.in)... 13.107.253.51\n",
      "Connecting to policyholder.gov.in (policyholder.gov.in)|13.107.253.51|:443... connected.\n",
      "HTTP request sent, awaiting response... 200 OK\n",
      "Length: 1341586 (1.3M) [application/pdf]\n",
      "Saving to: './policy.pdf'\n",
      "\n",
      "     0K .......... .......... .......... .......... ..........  3%  676K 2s\n",
      "    50K .......... .......... .......... .......... ..........  7%  430K 2s\n",
      "   100K .......... .......... .......... .......... .......... 11% 1.59M 2s\n",
      "   150K .......... .......... .......... .......... .......... 15% 2.93M 1s\n",
      "   200K .......... .......... .......... .......... .......... 19% 2.95M 1s\n",
      "   250K .......... .......... .......... .......... .......... 22%  323K 1s\n",
      "   300K .......... .......... .......... .......... .......... 26% 6.21M 1s\n",
      "   350K .......... .......... .......... .......... .......... 30% 1.43M 1s\n",
      "   400K .......... .......... .......... .......... .......... 34% 6.43M 1s\n",
      "   450K .......... .......... .......... .......... .......... 38% 4.16M 1s\n",
      "   500K .......... .......... .......... .......... .......... 41%  321K 1s\n",
      "   550K .......... .......... .......... .......... .......... 45% 6.98M 1s\n",
      "   600K .......... .......... .......... .......... .......... 49% 5.14M 1s\n",
      "   650K .......... .......... .......... .......... .......... 53% 13.8M 1s\n",
      "   700K .......... .......... .......... .......... .......... 57% 6.31M 0s\n",
      "   750K .......... .......... .......... .......... .......... 61% 2.36M 0s\n",
      "   800K .......... .......... .......... .......... .......... 64% 11.0M 0s\n",
      "   850K .......... .......... .......... .......... .......... 68% 1.83M 0s\n",
      "   900K .......... .......... .......... .......... .......... 72%  362K 0s\n",
      "   950K .......... .......... .......... .......... .......... 76% 7.90M 0s\n",
      "  1000K .......... .......... .......... .......... .......... 80% 5.83M 0s\n",
      "  1050K .......... .......... .......... .......... .......... 83% 3.55M 0s\n",
      "  1100K .......... .......... .......... .......... .......... 87% 71.9M 0s\n",
      "  1150K .......... .......... .......... .......... .......... 91% 9.91M 0s\n",
      "  1200K .......... .......... .......... .......... .......... 95% 11.6M 0s\n",
      "  1250K .......... .......... .......... .......... .......... 99%  660K 0s\n",
      "  1300K ..........                                            100%  193G=1.0s\n",
      "\n",
      "2024-11-14 18:15:58 (1.34 MB/s) - './policy.pdf' saved [1341586/1341586]\n",
      "\n"
     ]
    }
   ],
   "source": [
    "!wget \"https://policyholder.gov.in/documents/37343/931203/NBHTGBP22011V012223.pdf/c392bcc1-f6a8-cadd-ab84-495b3273d2c3?version=1.0&t=1669350459879&download=true\" -O \"./policy.pdf\""
   ]
  },
  {
   "cell_type": "code",
   "execution_count": 64,
   "metadata": {},
   "outputs": [
    {
     "name": "stdout",
     "output_type": "stream",
     "text": [
      "Started parsing the file under job_id 0620f9e2-4478-4bfa-b924-1f4258fba9f9\n",
      "...."
     ]
    }
   ],
   "source": [
    "## Vanila approach\n",
    "\n",
    "from llama_parse import LlamaParse\n",
    "documents = LlamaParse(result_type=\"markdown\").load_data(\"./data/policy.pdf\")"
   ]
  },
  {
   "cell_type": "code",
   "execution_count": 65,
   "metadata": {},
   "outputs": [
    {
     "data": {
      "text/plain": [
       "'# Bupa nivaHealth Insurance\\n\\n# 1. Preamble\\n\\nThis ‘Travel Infinity’ Policy is a contract of insurance between You and Us which is subject to payment of full premium in advance and the terms, conditions and exclusions of this Policy. Expense incurred outside the policy period will NOT be covered. Unutilized Sum Insured will expire at the end of policy year. All applicable benefits, details and limits are mentioned in your Certificate of insurance. We will cover only allopathic treatments in this policy.\\n\\n# 2. Defined Terms\\n\\nThe terms listed below in this Section and used elsewhere in the Policy in Initial Capitals shall have the meaning set out against them in this Section.\\n\\n# Standard Definitions\\n\\n# 2.1\\n\\nAccident or Accidental means sudden, unforeseen and involuntary event caused by external, visible and violent means.\\n\\n# 2.2\\n\\nCo-payment means a cost sharing requirement under a health insurance policy that provides that the policyholder/insured will bear a specified percentage of the ad'"
      ]
     },
     "execution_count": 65,
     "metadata": {},
     "output_type": "execute_result"
    }
   ],
   "source": [
    "documents[0].text[:1000]"
   ]
  },
  {
   "cell_type": "code",
   "execution_count": 66,
   "metadata": {},
   "outputs": [],
   "source": [
    "## Markdown element node parser\n",
    "from llama_index.core.node_parser import MarkdownElementNodeParser\n",
    "node_parser = MarkdownElementNodeParser(\n",
    "    llm=OpenAI(model=\"gpt-3.5-turbo-0125\"), num_workers=8\n",
    ")"
   ]
  },
  {
   "cell_type": "code",
   "execution_count": 67,
   "metadata": {},
   "outputs": [
    {
     "name": "stderr",
     "output_type": "stream",
     "text": [
      "0it [00:00, ?it/s]\n",
      "0it [00:00, ?it/s]\n",
      "0it [00:00, ?it/s]\n",
      "0it [00:00, ?it/s]\n",
      "0it [00:00, ?it/s]\n",
      "0it [00:00, ?it/s]\n",
      "0it [00:00, ?it/s]\n",
      "0it [00:00, ?it/s]\n",
      "2it [00:00, ?it/s]\n",
      "2it [00:00, ?it/s]\n",
      "0it [00:00, ?it/s]\n",
      "0it [00:00, ?it/s]\n",
      "0it [00:00, ?it/s]\n",
      "0it [00:00, ?it/s]\n",
      "0it [00:00, ?it/s]\n",
      "1it [00:00, ?it/s]\n",
      "0it [00:00, ?it/s]\n",
      "0it [00:00, ?it/s]\n",
      "0it [00:00, ?it/s]\n",
      "1it [00:00, 1015.82it/s]\n",
      "0it [00:00, ?it/s]\n",
      "0it [00:00, ?it/s]\n",
      "1it [00:00, ?it/s]\n",
      "0it [00:00, ?it/s]\n",
      "0it [00:00, ?it/s]\n",
      "0it [00:00, ?it/s]\n",
      "0it [00:00, ?it/s]\n",
      "0it [00:00, ?it/s]\n",
      "0it [00:00, ?it/s]\n",
      "0it [00:00, ?it/s]\n",
      "0it [00:00, ?it/s]\n",
      "0it [00:00, ?it/s]\n",
      "0it [00:00, ?it/s]\n",
      "0it [00:00, ?it/s]\n",
      "2it [00:00, ?it/s]\n",
      "0it [00:00, ?it/s]\n",
      "0it [00:00, ?it/s]\n",
      "0it [00:00, ?it/s]\n",
      "0it [00:00, ?it/s]\n",
      "0it [00:00, ?it/s]\n",
      "2it [00:00, ?it/s]\n",
      "2it [00:00, ?it/s]\n",
      "1it [00:00, ?it/s]\n",
      "0it [00:00, ?it/s]\n",
      "1it [00:00, ?it/s]\n",
      "0it [00:00, ?it/s]\n",
      "0it [00:00, ?it/s]\n",
      "0it [00:00, ?it/s]\n",
      "0it [00:00, ?it/s]\n",
      "0it [00:00, ?it/s]\n",
      "1it [00:00, ?it/s]\n",
      "6it [00:00, ?it/s]\n",
      "0it [00:00, ?it/s]\n",
      "5it [00:00, 5003.94it/s]\n",
      "1it [00:00, ?it/s]\n",
      "5it [00:00, ?it/s]\n",
      "1it [00:00, ?it/s]\n",
      "0it [00:00, ?it/s]\n"
     ]
    }
   ],
   "source": [
    "nodes = node_parser.get_nodes_from_documents(documents)"
   ]
  },
  {
   "cell_type": "code",
   "execution_count": 68,
   "metadata": {},
   "outputs": [],
   "source": [
    "base_nodes, objects = node_parser.get_nodes_and_objects(nodes)\n",
    "\n",
    "recursive_index = VectorStoreIndex(nodes=base_nodes + objects)"
   ]
  },
  {
   "cell_type": "code",
   "execution_count": 69,
   "metadata": {},
   "outputs": [],
   "source": [
    "query_engine = recursive_index.as_query_engine(similarity_top_k=25)"
   ]
  },
  {
   "cell_type": "code",
   "execution_count": 70,
   "metadata": {},
   "outputs": [
    {
     "name": "stdout",
     "output_type": "stream",
     "text": [
      "You are covered for the delay of your trip up to the amount specified in the Certificate of Insurance.\n"
     ]
    }
   ],
   "source": [
    "query_1 = \"My trip was delay and I paid 45, how much am I cover for?\"\n",
    "\n",
    "response_1 = query_engine.query(query_1)\n",
    "print(str(response_1))"
   ]
  },
  {
   "cell_type": "code",
   "execution_count": 72,
   "metadata": {},
   "outputs": [
    {
     "name": "stdout",
     "output_type": "stream",
     "text": [
      "Started parsing the file under job_id d527d9fd-22a8-40f0-a07f-172d72e5dcfc\n",
      "."
     ]
    }
   ],
   "source": [
    "documents_with_instruction = LlamaParse(\n",
    "    result_type=\"markdown\",\n",
    "    parsing_instruction=\"\"\"\n",
    "This document is an insurance policy.\n",
    "When a benefits/coverage/exlusion is describe in the document ammend to it add a text in the follwing benefits string format (where coverage could be an exclusion).\n",
    "For {nameofrisk} and in this condition {whenDoesThecoverageApply} the coverage is {coverageDescription}.                                  \n",
    "If the document contain a benefits TABLE that describe coverage amounts, do not ouput it as a table, but instead as a list of benefits string.                                 \n",
    "\"\"\",\n",
    ").load_data(\"./data/policy.pdf\")"
   ]
  },
  {
   "cell_type": "code",
   "execution_count": 74,
   "metadata": {},
   "outputs": [
    {
     "ename": "IndexError",
     "evalue": "list index out of range",
     "output_type": "error",
     "traceback": [
      "\u001b[1;31m---------------------------------------------------------------------------\u001b[0m",
      "\u001b[1;31mIndexError\u001b[0m                                Traceback (most recent call last)",
      "Cell \u001b[1;32mIn[74], line 5\u001b[0m\n\u001b[0;32m      2\u001b[0m pages_vanilla \u001b[38;5;241m=\u001b[39m documents[\u001b[38;5;241m0\u001b[39m]\u001b[38;5;241m.\u001b[39mtext\u001b[38;5;241m.\u001b[39msplit(\u001b[38;5;124m\"\u001b[39m\u001b[38;5;130;01m\\n\u001b[39;00m\u001b[38;5;124m---\u001b[39m\u001b[38;5;130;01m\\n\u001b[39;00m\u001b[38;5;124m\"\u001b[39m)\n\u001b[0;32m      3\u001b[0m pages_with_instructions \u001b[38;5;241m=\u001b[39m documents_with_instruction[\u001b[38;5;241m0\u001b[39m]\u001b[38;5;241m.\u001b[39mtext\u001b[38;5;241m.\u001b[39msplit(\u001b[38;5;124m\"\u001b[39m\u001b[38;5;130;01m\\n\u001b[39;00m\u001b[38;5;124m---\u001b[39m\u001b[38;5;130;01m\\n\u001b[39;00m\u001b[38;5;124m\"\u001b[39m)\n\u001b[1;32m----> 5\u001b[0m \u001b[38;5;28mprint\u001b[39m(\u001b[43mpages_vanilla\u001b[49m\u001b[43m[\u001b[49m\u001b[43mtarget_page\u001b[49m\u001b[43m]\u001b[49m)\n\u001b[0;32m      6\u001b[0m \u001b[38;5;28mprint\u001b[39m(\u001b[38;5;124m\"\u001b[39m\u001b[38;5;130;01m\\n\u001b[39;00m\u001b[38;5;130;01m\\n\u001b[39;00m\u001b[38;5;124m=========================================================\u001b[39m\u001b[38;5;130;01m\\n\u001b[39;00m\u001b[38;5;130;01m\\n\u001b[39;00m\u001b[38;5;124m\"\u001b[39m)\n\u001b[0;32m      7\u001b[0m \u001b[38;5;28mprint\u001b[39m(pages_with_instructions[target_page])\n",
      "\u001b[1;31mIndexError\u001b[0m: list index out of range"
     ]
    }
   ],
   "source": [
    "target_page = 45\n",
    "pages_vanilla = documents[0].text.split(\"\\n---\\n\")\n",
    "pages_with_instructions = documents_with_instruction[0].text.split(\"\\n---\\n\")\n",
    "\n",
    "print(pages_vanilla[target_page])\n",
    "print(\"\\n\\n=========================================================\\n\\n\")\n",
    "print(pages_with_instructions[target_page])"
   ]
  },
  {
   "cell_type": "code",
   "execution_count": 90,
   "metadata": {},
   "outputs": [],
   "source": [
    "import os\n",
    "from IPython.display import Markdown, display"
   ]
  },
  {
   "cell_type": "code",
   "execution_count": null,
   "metadata": {},
   "outputs": [],
   "source": [
    "## Simple example without parser\n",
    "from llama_index.core import VectorStoreIndex, SimpleDirectoryReader\n",
    "\n",
    "documents = SimpleDirectoryReader(\"data_2\").load_data()"
   ]
  },
  {
   "cell_type": "code",
   "execution_count": 83,
   "metadata": {},
   "outputs": [],
   "source": [
    "# create an index from the documents\n",
    "index = VectorStoreIndex.from_documents(documents)"
   ]
  },
  {
   "cell_type": "code",
   "execution_count": 84,
   "metadata": {},
   "outputs": [],
   "source": [
    "# create a query engine for the index\n",
    "query_engine = index.as_query_engine()"
   ]
  },
  {
   "cell_type": "code",
   "execution_count": 92,
   "metadata": {},
   "outputs": [],
   "source": [
    "# query the engine\n",
    "query = \"What is full form of SMIRL?\"\n",
    "response = query_engine.query(query)"
   ]
  },
  {
   "cell_type": "code",
   "execution_count": 93,
   "metadata": {},
   "outputs": [
    {
     "data": {
      "text/markdown": [
       "<b>State Machine Integrated Recognition and Localization</b>"
      ],
      "text/plain": [
       "<IPython.core.display.Markdown object>"
      ]
     },
     "metadata": {},
     "output_type": "display_data"
    }
   ],
   "source": [
    "display(Markdown(f\"<b>{response}</b>\"))"
   ]
  },
  {
   "cell_type": "code",
   "execution_count": 94,
   "metadata": {},
   "outputs": [
    {
     "name": "stdout",
     "output_type": "stream",
     "text": [
      "Started parsing the file under job_id 473d5694-4614-4a30-a5c5-cdcdd957491b\n",
      "..........."
     ]
    }
   ],
   "source": [
    "## Example with parser\n",
    "parser = LlamaParse(\n",
    "    result_type='markdown'\n",
    ")\n",
    "# use SimpleDirectoryReader to parse our file\n",
    "file_extractor = {\".pdf\": parser}\n",
    "documents = SimpleDirectoryReader(input_files=['data_2/Paper-2.pdf'], file_extractor=file_extractor).load_data()"
   ]
  },
  {
   "cell_type": "code",
   "execution_count": 95,
   "metadata": {},
   "outputs": [],
   "source": [
    "# create an index from the parsed markdown\n",
    "index = VectorStoreIndex.from_documents(documents)"
   ]
  },
  {
   "cell_type": "code",
   "execution_count": 96,
   "metadata": {},
   "outputs": [],
   "source": [
    "# create a query engine for the index\n",
    "query_engine = index.as_query_engine()"
   ]
  },
  {
   "cell_type": "code",
   "execution_count": 101,
   "metadata": {},
   "outputs": [
    {
     "data": {
      "text/markdown": [
       "<b>The NMAE for 'Attach Bracket' is 0.12. The context does not provide information about the IoU (Intersection over Union) for 'Attach Bracket'.</b>"
      ],
      "text/plain": [
       "<IPython.core.display.Markdown object>"
      ]
     },
     "metadata": {},
     "output_type": "display_data"
    }
   ],
   "source": [
    "# query the engine\n",
    "query = \"What is the NMAE and IoU for 'Attach Bracket'?\"\n",
    "response = query_engine.query(query)\n",
    "display(Markdown(f\"<b>{response}</b>\"))"
   ]
  },
  {
   "cell_type": "code",
   "execution_count": 102,
   "metadata": {},
   "outputs": [
    {
     "name": "stdout",
     "output_type": "stream",
     "text": [
      "Started parsing the file under job_id cdfe9e0a-0217-488c-9d02-768a91bb3146\n"
     ]
    }
   ],
   "source": [
    "## Advanced RAG with Excel File\n",
    "parser = LlamaParse(\n",
    "    result_type='markdown'\n",
    ")\n",
    "documents = parser.load_data('./data/BP_Excel.xlsx')\n"
   ]
  },
  {
   "cell_type": "code",
   "execution_count": 103,
   "metadata": {},
   "outputs": [
    {
     "data": {
      "text/plain": [
       "44"
      ]
     },
     "execution_count": 103,
     "metadata": {},
     "output_type": "execute_result"
    }
   ],
   "source": [
    "len(documents)"
   ]
  },
  {
   "cell_type": "code",
   "execution_count": 109,
   "metadata": {},
   "outputs": [
    {
     "name": "stdout",
     "output_type": "stream",
     "text": [
      "# Summary\n",
      "\n",
      "|Financial and Operating Information 2020 - 2024                          |           |        |        |        |        |        |        |        |        |        |        |         |        |        |        |        |        |        |        |        |        |        |        |      |      |           |\n",
      "|-------------------------------------------------------------------------|-----------|--------|--------|--------|--------|--------|--------|--------|--------|--------|--------|---------|--------|--------|--------|--------|--------|--------|--------|--------|--------|--------|--------|------|------|-----------|\n",
      "|Group information                                                        |           |        |        |        |        |        |        |        |        |        |        |         |        |        |        |        |        |        |        |        |        |        |        |      |      |           |\n",
      "|                                                                         |           |        |        |        |        |        |        |        |        |        |        |         |        |        |        |        |        |        |        |        |        |Contents|        |      |      |           |\n",
      "|                                                                         |           |        |        |        |        |        |        |        |        |        |        |         |        |        |        |        |        |        |        |        |        |        |        |      |      |           |\n",
      "|Summary                                                                  |           |        |        |        |        |        |        |        |        |        |        |         |        |        |        |        |        |        |        |        |        |        |        |      |      |           |\n",
      "|                                                                         |           |        |        |        |        |        |        |        |        |        |        |         |        |        |        |        |        |        |        |        |        |        |        |      |      |           |\n",
      "|                                                                         |           |        |        |        |        |        |        |        |        |        |        |         |        |        |        |        |        |        |        |        |        |        |        |      |      |$ million  |\n",
      "|                                                                         |Footnotes  |Q1      |Q2      |Q3      |Q4      |2020    |Q1      |Q2      |Q3      |Q4      |2021    |Q1       |Q2      |Q3      |Q4      |2022    |Q1      |Q2      |Q3      |Q4      |2023    |Q1      |Q2      |Q3    |Q4    |2024       |\n",
      "|Profit (loss) attributable to bp shareholders                            |           |(4,365) |(16,848)|(450)   |1,358   |(20,305)|4,667   |3,116   |(2,544) |2,326   |7,565   |(20,384) |9,257   |(2,163) |10,803  |(2,487) |8,218   |1,792   |4,858   |371     |15,239  |2,263   |(129)   |      |      |2,134      |\n",
      "|Inventory holding (gains) losses, net of tax                             |           |3,737   |(809)   |(194)   |(533)   |2,201   |(1,342) |(736)   |(390)   |(358)   |(2,826) |(2,664)  |(1,607) |2,186   |1,066   |(1,019) |452     |549     |(1,212) |1,155   |944     |(657)   |113     |      |      |(544)      |\n",
      "|Replacement cost profit (loss) attributable to bp shareholders           |           |(628)   |(17,657)|(644)   |825     |(18,104)|3,325   |2,380   |(2,934) |1,968   |4,739   |(23,048) |7,650   |23      |11,869  |(3,506) |8,670   |2,341   |3,646   |1,526   |16,183  |1,606   |(16)    |      |      |1,590      |\n",
      "|Net (favourable) adverse impact of adjusting items, net of tax           |           |1,419   |10,975  |730     |(710)   |12,414  |(695)   |418     |6,256   |2,097   |8,076   |29,293   |801     |8,127   |(7,062) |31,159  |(3,707) |248     |(353)   |1,465   |(2,347) |1,117   |2,772   |      |      |3,889      |\n",
      "|Underlying replacement cost profit (loss) attributable to bp shareholders|           |791     |(6,682) |86      |115     |(5,690) |2,630   |2,798   |3,322   |4,065   |12,815  |6,245    |8,451   |8,150   |4,807   |27,653  |4,963   |2,589   |3,293   |2,991   |13,836  |2,723   |2,756   |      |      |5,479      |\n",
      "|                                                                         |           |        |        |        |        |        |        |        |        |        |        |         |        |        |        |        |        |        |        |        |        |        |        |      |      |           |\n",
      "|Underlying effective tax rate (ETR) (%)                                  |           |55%     |9%      |64%     |40%     |-14%    |        |        |        |        |-14%    |         |        |        |        |-14%    |        |        |        |        |-14%    |        |        |      |      |-14%       |\n",
      "|Operating cash flow                                                      |           |952     |3,737   |5,204   |2,269   |12,162  |6,109   |5,411   |5,976   |6,116   |23,612  |8,210    |10,863  |8,288   |13,571  |40,932  |7,622   |6,293   |8,747   |9,377   |32,039  |5,009   |8,100   |      |      |13,109     |\n",
      "|Capital expenditure                                                      |           |3,861   |3,067   |3,636   |3,491   |14,055  |3,798   |2,514   |2,903   |3,633   |12,848  |2,929    |2,838   |3,194   |7,369   |16,330  |3,625   |4,314   |3,603   |4,711   |16,253  |4,278   |3,691   |      |      |7,969      |\n",
      "|Divestment and other proceeds                                            |           |681     |1,135   |597     |4,173   |6,586   |4,839   |215     |313     |2,265   |7,632   |1,181    |722     |606     |614     |3,123   |800     |88      |655     |300     |1,843   |413     |760     |      |      |1,173      |\n",
      "|Surplus cash flow                                                        |c          |        |        |        |        |        |1,704   |655     |899     |2,955   |6,213   |4,037    |6,546   |3,496   |4,985   |19,065  |2,283   |(269)   |3,107   |2,755   |7,876   |        |        |      |      |           |\n",
      "|Net issue (repurchase) of shares                                         |           |(776)   |–       |–       |–       |(776)   |–       |(500)   |(926)   |(1,725) |(3,151) |(1,592)  |(2,288) |(2,876) |(3,240) |(9,996) |(2,448) |(2,073) |(2,047) |(1,350) |(7,918) |(1,750) |(1,751) |      |      |(3,501)    |\n",
      "|Net debt                                                                 |           |51,404  |40,920  |40,379  |38,941  |38,941  |33,313  |32,706  |31,971  |30,613  |30,613  |27,457   |22,816  |22,002  |21,422  |21,422  |21,232  |23,660  |22,324  |20,912  |20,912  |24,015  |22,614  |      |      |22,614     |\n",
      "|ROACE%                                                                   |           |        |        |        |        |-3.8%   |        |        |        |        |13.3%   |         |        |        |        |30.5%   |        |        |        |        |18.1%   |        |        |      |      |           |\n",
      "|Adjusted EBIDA                                                           |           |        |        |        |        |19,244  |        |        |        |        |30,783  |         |        |        |        |45,695  |        |        |        |        |34,345  |        |        |      |      |           |\n",
      "|upstream Production (mboe/d)                                             |           |2,579   |2,525   |2,243   |2,155   |2,375   |2,218   |2,120   |2,202   |2,332   |2,219   |2,252    |2,198   |2,298   |2,265   |2,254   |2,329   |2,272   |2,328   |2,320   |2,313   |2,378   |2,379   |      |      |2,379      |\n",
      "|Announced dividend per ordinary share (cents per share)                  |           |10.50   |5.25    |5.25    |5.25    |26.25   |5.25    |5.46    |5.46    |5.46    |21.63   |5.46     |6.01    |6.01    |6.61    |24.08   |6.61    |7.27    |7.27    |7.27    |28.42   |7.27    |8.000   |      |      |15.27      |\n",
      "|RC profit (loss) per ordinary share (cents)                              |           |(3.11)  |(87.32) |(3.18)  |4.08    |(89.53) |16.38   |11.74   |(14.57) |9.94    |23.53   |(118.11) |39.45   |0.12    |65.29   |(18.47) |48.46   |13.35   |21.19   |9.06    |93.21   |9.65    |(0.10)  |      |      |9.59       |\n",
      "|RC profit (loss) per ADS (dollars)                                       |           |(0.19)  |(5.24)  |(0.19)  |0.24    |(5.37)  |0.98    |0.70    |(0.87)  |0.60    |1.41    |(7.09)   |2.37    |0.01    |3.92    |(1.11)  |2.91    |0.80    |1.27    |0.54    |5.59    |0.58    |(0.01)  |      |      |0.58       |\n",
      "|Underlying RC profit (loss) per ordinary share (cents)                   |           |3.92    |(33.05) |0.42    |0.57    |(28.14) |12.95   |13.80   |16.48   |20.53   |63.65   |32.00    |43.58   |43.15   |26.44   |145.63  |27.74   |14.77   |19.14   |17.77   |79.69   |16.24   |16.61   |      |      |32.86      |\n",
      "|Underlying RC profit (loss) per ADS (dollars)                            |           |0.24    |(1.98)  |0.03    |0.03    |(1.69)  |0.78    |0.83    |0.99    |1.23    |3.82    |1.92     |2.61    |2.59    |1.59    |8.74    |1.66    |0.89    |1.15    |1.07    |4.78    |0.97    |1.00    |      |      |1.97       |\n",
      "|                                                                         |           |        |        |        |        |        |        |        |        |        |        |         |        |        |        |        |        |        |        |        |        |        |        |      |      |           |\n",
      "|Resilient hydrocarbons                                                   |           |        |        |        |        |        |        |        |        |        |        |         |        |        |        |        |        |        |        |        |        |        |        |      |      |           |\n",
      "|Total production - total hydrocarbons (mboe/d)                           |           |3,715   |3,596   |3,318   |3,266   |3,473   |3,268   |3,215   |3,322   |3,458   |3,317   |3,002    |2,198   |2,298   |2,265   |3,004   |2,329   |2,272   |2,328   |2,320   |2,313   |2,378   |2,379   |      |      |2,379      |\n",
      "|bp-operated upstream plant reliability*  % (YTD)                         |           |93.0    |94.2    |93.8    |94.0    |94.0    |93.0    |93.7    |94.3    |94.0    |94.0    |96.1     |95.3    |95.8    |96.0    |96.0    |95.5    |95.0    |95.7    |95.0    |95.0    |94.9    |95.5    |      |      |95.5       |\n",
      "|upstream unit production costs*  ($/boe)                                 |           |7.07    |6.13    |6.30    |6.39    |6.39    |7.36    |7.33    |6.96    |6.82    |6.82    |6.52     |6.53    |6.25    |6.07    |6.07    |5.73    |5.94    |5.88    |5.78    |5.78    |6.00    |6.17    |      |      |6.17       |\n",
      "|bp-operated refining availability (%)                                    |           |96.1    |95.6    |96.2    |96.1    |96.0    |94.8    |93.5    |95.6    |95.4    |94.8    |95.0     |93.9    |94.3    |95.0    |94.5    |96.1    |95.7    |96.3    |96.1    |96.1    |90.4    |96.4    |      |      |93.4       |\n",
      "|Biofuels production (kb/d)                                               |           |        |        |        |        |30      |        |        |        |        |26      |         |        |        |        |27      |        |        |        |        |32      |        |        |      |      |           |\n",
      "|Biogas supply volumes (mboe/d)                                           |           |        |        |        |        |11      |        |        |        |        |9       |         |        |        |        |12      |        |        |        |        |22      |        |        |      |      |           |\n",
      "|LNG Portfolio, Mtpa                                                      |           |        |        |        |        |20      |        |        |        |        |18      |         |        |        |        |19      |        |        |        |        |23      |        |        |      |      |           |\n",
      "|                                                                         |           |        |        |        |        |        |        |        |        |        |        |         |        |        |        |        |        |        |        |        |        |        |        |      |      |           |\n",
      "|Convenience and mobility                                                 |           |        |        |        |        |        |        |        |        |        |        |         |        |        |        |        |        |        |        |        |        |        |        |      |      |           |\n",
      "|Strategic convenience sites (#)                                          |a          |1,650   |1,650   |1,900   |1,900   |1,900   |1,950   |2,000   |2,050   |2,150   |2,150   |2,150    |2,200   |2,250   |2,400   |2,400   |2,450   |2,750   |2,750   |2,850   |2,850   |2,900   |2,950   |      |      |2,950      |\n",
      "|Customer touchpoints (# millions)                                        |           |        |        |        |        |>11     |        |        |        |        |>12     |         |        |        |        |~12     |        |        |        |        |>12     |        |–       |      |      |           |\n",
      "|Electric vehicle charge points (#)                                       |b          |        |        |        |        |10,100  |        |        |        |        |13,100  |         |        |        |        |21,900  |        |        |        |        |29,300  |        |        |      |      |           |\n",
      "|                                                                         |           |        |        |        |        |        |        |        |        |        |        |         |        |        |        |        |        |        |        |        |        |        |        |      |      |           |\n",
      "|Low carbon energy                                                        |           |        |        |        |        |        |        |        |        |        |        |         |        |        |        |        |        |        |        |        |        |        |        |      |      |           |\n",
      "|Developed renewables to FID (net), GW                                    |           |2.7     |2.8     |3.1     |3.3     |3.3     |3.3     |3.5     |3.6     |4.4     |4.4     |4.4      |4.4     |4.6     |5.8     |5.8     |5.9     |6.1     |6.1     |6.2     |6.2     |6.2     |6.5     |      |      |6.5        |\n",
      "|Installed renewables capacity (net), GW                                  |           |1.1     |1.1     |1.2     |1.5     |1.5     |1.6     |1.6     |1.7     |1.9     |1.9     |1.9      |2.0     |2.0     |2.2     |2.2     |2.2     |2.4     |2.5     |2.7     |2.7     |2.7     |2.7     |      |      |2.7        |\n",
      "\n"
     ]
    }
   ],
   "source": [
    "print(documents[3].get_content())"
   ]
  },
  {
   "cell_type": "code",
   "execution_count": 132,
   "metadata": {},
   "outputs": [],
   "source": [
    "llm_o1 = OpenAI(model=\"o1-mini\")\n",
    "llm_gpt4o_mini = OpenAI(model=\"gpt-4o-mini\")\n",
    "llm_o1_preview = OpenAI(model=\"o1-preview\")"
   ]
  },
  {
   "cell_type": "code",
   "execution_count": 122,
   "metadata": {},
   "outputs": [],
   "source": [
    "node_parser = MarkdownElementNodeParser(llm = llm_gpt4o_mini, num_workers=4)"
   ]
  },
  {
   "cell_type": "code",
   "execution_count": 123,
   "metadata": {},
   "outputs": [
    {
     "name": "stderr",
     "output_type": "stream",
     "text": [
      "1it [00:00, ?it/s]\n",
      "0it [00:00, ?it/s]\n",
      "0it [00:00, ?it/s]\n",
      "1it [00:00, ?it/s]\n",
      "1it [00:00, 995.33it/s]\n",
      "1it [00:00, ?it/s]\n",
      "1it [00:00, ?it/s]\n",
      "1it [00:00, ?it/s]\n",
      "1it [00:00, ?it/s]\n",
      "1it [00:00, ?it/s]\n"
     ]
    }
   ],
   "source": [
    "nodes = node_parser.get_nodes_from_documents(documents[:10])"
   ]
  },
  {
   "cell_type": "code",
   "execution_count": 124,
   "metadata": {},
   "outputs": [],
   "source": [
    "base_nodes, objects = node_parser.get_nodes_and_objects(nodes)"
   ]
  },
  {
   "cell_type": "code",
   "execution_count": 125,
   "metadata": {},
   "outputs": [
    {
     "data": {
      "text/plain": [
       "(27, 11, 8)"
      ]
     },
     "execution_count": 125,
     "metadata": {},
     "output_type": "execute_result"
    }
   ],
   "source": [
    "len(nodes), len(base_nodes), len(objects)"
   ]
  },
  {
   "cell_type": "code",
   "execution_count": 126,
   "metadata": {},
   "outputs": [
    {
     "name": "stdout",
     "output_type": "stream",
     "text": [
      "This table presents the financial and operating information of a group from 2020 to 2024, detailing the condensed group statement of comprehensive income, including profit or loss for the period, other comprehensive income items, and total comprehensive income attributable to shareholders and non-controlling interests.,\n",
      "with the following table title:\n",
      "Financial and Operating Information 2020 - 2024,\n",
      "with the following columns:\n",
      "- Group information: None\n",
      "- Condensed group statement of comprehensive income: None\n",
      "- Profit (loss) for the period: None\n",
      "- Other comprehensive income: None\n",
      "- Total comprehensive income: None\n",
      "- Attributable to: None\n",
      "\n"
     ]
    }
   ],
   "source": [
    "print(objects[3].get_content())"
   ]
  },
  {
   "cell_type": "code",
   "execution_count": 133,
   "metadata": {},
   "outputs": [],
   "source": [
    "# dump both indexed tables and page text into the vector index\n",
    "recursive_index = VectorStoreIndex(nodes=base_nodes + objects, llm=llm_gpt4o_mini)\n",
    "\n",
    "recursive_query_engine_o1 = recursive_index.as_query_engine(\n",
    "    similarity_top_k=5, llm=llm_o1\n",
    ")\n",
    "\n",
    "recursive_query_engine_o1_preview = recursive_index.as_query_engine(\n",
    "    similarity_top_k=5, llm=llm_o1_preview\n",
    ")\n",
    "\n",
    "recursive_query_engine_gpt4o_mini = recursive_index.as_query_engine(\n",
    "    similarity_top_k=5, llm=llm_gpt4o_mini\n",
    ")"
   ]
  },
  {
   "cell_type": "code",
   "execution_count": 135,
   "metadata": {},
   "outputs": [],
   "source": [
    "query = \"What is the Sales and other operating revenues in 2020?\"\n",
    "\n",
    "# response_recursive_o1 = recursive_query_engine_o1.query(query)\n",
    "# response_recursive_o1_preview = recursive_query_engine_o1_preview.query(query)\n",
    "response_recursive_gpt4o_mini = recursive_query_engine_gpt4o_mini.query(query)"
   ]
  },
  {
   "cell_type": "code",
   "execution_count": null,
   "metadata": {},
   "outputs": [],
   "source": [
    "response_recursive_gpt4o_mini = recursive_query_engine_gpt4o_mini.query(query)"
   ]
  },
  {
   "cell_type": "code",
   "execution_count": 136,
   "metadata": {},
   "outputs": [
    {
     "name": "stdout",
     "output_type": "stream",
     "text": [
      "----------------------RESPONSE WITH GPT4O-MINI----------------------\n"
     ]
    },
    {
     "data": {
      "text/markdown": [
       "The Sales and other operating revenues in 2020 amount to 105,944 million."
      ],
      "text/plain": [
       "<IPython.core.display.Markdown object>"
      ]
     },
     "metadata": {},
     "output_type": "display_data"
    }
   ],
   "source": [
    "print(\"----------------------RESPONSE WITH GPT4O-MINI----------------------\")\n",
    "display(Markdown(f\"{response_recursive_gpt4o_mini}\"))"
   ]
  },
  {
   "cell_type": "code",
   "execution_count": 138,
   "metadata": {},
   "outputs": [
    {
     "ename": "NameError",
     "evalue": "name 'response_recursive_o1' is not defined",
     "output_type": "error",
     "traceback": [
      "\u001b[1;31m---------------------------------------------------------------------------\u001b[0m",
      "\u001b[1;31mNameError\u001b[0m                                 Traceback (most recent call last)",
      "Cell \u001b[1;32mIn[138], line 1\u001b[0m\n\u001b[1;32m----> 1\u001b[0m \u001b[38;5;28mprint\u001b[39m(\u001b[43mresponse_recursive_o1\u001b[49m\u001b[38;5;241m.\u001b[39msource_nodes[\u001b[38;5;241m0\u001b[39m]\u001b[38;5;241m.\u001b[39mget_content())\n",
      "\u001b[1;31mNameError\u001b[0m: name 'response_recursive_o1' is not defined"
     ]
    }
   ],
   "source": [
    "print(response_recursive_o1.source_nodes[0].get_content())"
   ]
  },
  {
   "cell_type": "code",
   "execution_count": 140,
   "metadata": {},
   "outputs": [],
   "source": [
    "query = \"In which years the Sales and other operating revenues is greater than $1,50,000 million?\"\n",
    "response_recursive_gpt4o_mini = recursive_query_engine_gpt4o_mini.query(query)"
   ]
  },
  {
   "cell_type": "code",
   "execution_count": 141,
   "metadata": {},
   "outputs": [
    {
     "name": "stdout",
     "output_type": "stream",
     "text": [
      "----------------------RESPONSE WITH GPT4O-MINI----------------------\n"
     ]
    },
    {
     "data": {
      "text/markdown": [
       "The Sales and other operating revenues exceed $150,000 million in the year 2022."
      ],
      "text/plain": [
       "<IPython.core.display.Markdown object>"
      ]
     },
     "metadata": {},
     "output_type": "display_data"
    }
   ],
   "source": [
    "print(\"----------------------RESPONSE WITH GPT4O-MINI----------------------\")\n",
    "display(Markdown(f\"{response_recursive_gpt4o_mini}\"))"
   ]
  },
  {
   "cell_type": "code",
   "execution_count": 145,
   "metadata": {},
   "outputs": [],
   "source": [
    "from llama_index.core import Document, VectorStoreIndex\n",
    "\n",
    "text_list = ['text1', 'text2']\n",
    "documents = [Document(text=t) for t in text_list]\n",
    "\n",
    "# build index\n",
    "index = VectorStoreIndex.from_documents(documents)"
   ]
  },
  {
   "cell_type": "code",
   "execution_count": 149,
   "metadata": {},
   "outputs": [
    {
     "name": "stdout",
     "output_type": "stream",
     "text": [
      "text1\n"
     ]
    }
   ],
   "source": [
    "print(documents[0].get_content())"
   ]
  },
  {
   "cell_type": "code",
   "execution_count": 150,
   "metadata": {},
   "outputs": [],
   "source": [
    "from llama_index.core.node_parser import SentenceSplitter\n",
    "\n",
    "# parse nodes\n",
    "parser = SentenceSplitter()\n",
    "nodes = parser.get_nodes_from_documents(documents)"
   ]
  },
  {
   "cell_type": "code",
   "execution_count": 153,
   "metadata": {},
   "outputs": [
    {
     "name": "stdout",
     "output_type": "stream",
     "text": [
      "text1\n"
     ]
    }
   ],
   "source": [
    "print(nodes[0].get_content())"
   ]
  },
  {
   "cell_type": "code",
   "execution_count": 154,
   "metadata": {},
   "outputs": [],
   "source": [
    "index = VectorStoreIndex(nodes)"
   ]
  },
  {
   "cell_type": "markdown",
   "metadata": {},
   "source": [
    "## Advanced RAG with LLamaParse"
   ]
  },
  {
   "cell_type": "code",
   "execution_count": null,
   "metadata": {},
   "outputs": [],
   "source": [
    "# llama-parse is async-first, running the async code in a notebook requires the use of nest_asyncio\n",
    "import nest_asyncio\n",
    "nest_asyncio.apply()"
   ]
  },
  {
   "cell_type": "code",
   "execution_count": 156,
   "metadata": {},
   "outputs": [],
   "source": [
    "from llama_index.llms.openai import OpenAI\n",
    "from llama_index.embeddings.openai import OpenAIEmbedding\n",
    "from llama_index.core import VectorStoreIndex\n",
    "from llama_index.core import Settings\n",
    "\n",
    "embed_model = OpenAIEmbedding(model=\"text-embedding-3-small\")\n",
    "llm = OpenAI(model=\"gpt-3.5-turbo-0125\")\n",
    "\n",
    "Settings.llm = llm\n",
    "Settings.embed_model = embed_model"
   ]
  },
  {
   "cell_type": "code",
   "execution_count": 157,
   "metadata": {},
   "outputs": [
    {
     "name": "stdout",
     "output_type": "stream",
     "text": [
      "Started parsing the file under job_id 9d6ef962-aff1-4579-8184-f68963146883\n"
     ]
    }
   ],
   "source": [
    "from llama_parse import LlamaParse\n",
    "\n",
    "documents = LlamaParse(result_type=\"markdown\").load_data(\"./data/template_2.xlsx\")"
   ]
  },
  {
   "cell_type": "code",
   "execution_count": 158,
   "metadata": {},
   "outputs": [],
   "source": [
    "from copy import deepcopy\n",
    "from llama_index.core.schema import TextNode\n",
    "from llama_index.core import VectorStoreIndex\n",
    "\n",
    "\n",
    "def get_page_nodes(docs, separator=\"\\n---\\n\"):\n",
    "    \"\"\"Split each document into page node, by separator.\"\"\"\n",
    "    nodes = []\n",
    "    for doc in docs:\n",
    "        doc_chunks = doc.text.split(separator)\n",
    "        for doc_chunk in doc_chunks:\n",
    "            node = TextNode(\n",
    "                text=doc_chunk,\n",
    "                metadata=deepcopy(doc.metadata),\n",
    "            )\n",
    "            nodes.append(node)\n",
    "\n",
    "    return nodes"
   ]
  },
  {
   "cell_type": "code",
   "execution_count": 159,
   "metadata": {},
   "outputs": [],
   "source": [
    "page_nodes = get_page_nodes(documents)"
   ]
  },
  {
   "cell_type": "code",
   "execution_count": 160,
   "metadata": {},
   "outputs": [],
   "source": [
    "from llama_index.core.node_parser import MarkdownElementNodeParser\n",
    "\n",
    "node_parser = MarkdownElementNodeParser(\n",
    "    llm=OpenAI(model=\"gpt-3.5-turbo-0125\"), num_workers=8\n",
    ")"
   ]
  },
  {
   "cell_type": "code",
   "execution_count": 161,
   "metadata": {},
   "outputs": [
    {
     "name": "stderr",
     "output_type": "stream",
     "text": [
      "1it [00:00, ?it/s]\n",
      "1it [00:00, ?it/s]\n",
      "1it [00:00, ?it/s]\n",
      "1it [00:00, ?it/s]\n",
      "1it [00:00, ?it/s]\n"
     ]
    },
    {
     "data": {
      "text/plain": [
       "'This table provides detailed information on the analysis and improvement projects related to standard operations in the 1366 CAP Packer. It includes project names, form types, serial numbers, items to be improved, analysis methods, responsible persons, start and completion dates, and status of completion for each project.,\\nwith the following table title:\\nAnalysis of Projects for Standard Operation Improvement in 1366 CAP Packer,\\nwith the following columns:\\n- Project: None\\n- Project name: None\\n- form type: None\\n- serial number: None\\n- Items to be improved (problems): None\\n- Analytical methods(A. Process analysis B. Operation analysis C. Action economic principle D. Action analysis E. 5W1H F.5Why or Wn ): None\\n- Analysis process (explained in the attachment): None\\n- True Cause(KPIVs): None\\n- Responsible person: None\\n- start date: None\\n- completion date: None\\n- illustrate: None\\n'"
      ]
     },
     "execution_count": 161,
     "metadata": {},
     "output_type": "execute_result"
    }
   ],
   "source": [
    "nodes = node_parser.get_nodes_from_documents(documents)\n",
    "base_nodes, objects = node_parser.get_nodes_and_objects(nodes)\n",
    "objects[0].get_content()"
   ]
  },
  {
   "cell_type": "code",
   "execution_count": 162,
   "metadata": {},
   "outputs": [],
   "source": [
    "# dump both indexed tables and page text into the vector index\n",
    "recursive_index = VectorStoreIndex(nodes=base_nodes + objects + page_nodes)"
   ]
  },
  {
   "cell_type": "code",
   "execution_count": 163,
   "metadata": {},
   "outputs": [],
   "source": [
    "from llama_index.postprocessor.flag_embedding_reranker import FlagEmbeddingReranker\n",
    "\n",
    "reranker = FlagEmbeddingReranker(\n",
    "    top_n=5,\n",
    "    model=\"BAAI/bge-reranker-large\",\n",
    ")\n",
    "\n",
    "recursive_query_engine = recursive_index.as_query_engine(\n",
    "    similarity_top_k=5, node_postprocessors=[reranker], verbose=True\n",
    ")"
   ]
  },
  {
   "cell_type": "code",
   "execution_count": 164,
   "metadata": {},
   "outputs": [
    {
     "name": "stdout",
     "output_type": "stream",
     "text": [
      "15\n"
     ]
    }
   ],
   "source": [
    "print(len(nodes))"
   ]
  },
  {
   "cell_type": "code",
   "execution_count": 180,
   "metadata": {},
   "outputs": [],
   "source": [
    "from IPython.display import Markdown, display\n",
    "import warnings\n",
    "\n",
    "# Suppress all warnings\n",
    "warnings.filterwarnings(\"ignore\")"
   ]
  },
  {
   "cell_type": "code",
   "execution_count": 165,
   "metadata": {},
   "outputs": [],
   "source": [
    "# Setup Baseline\n",
    "\n",
    "from llama_index.core import SimpleDirectoryReader\n",
    "reader = SimpleDirectoryReader(input_files=['./data/template_2.xlsx'])\n",
    "base_docs = reader.load_data()\n",
    "raw_index = VectorStoreIndex.from_documents(base_docs)\n",
    "raw_query_engine = raw_index.as_query_engine(\n",
    "    similarity_top_k=5, node_postprocessors=[reranker]\n",
    ")"
   ]
  },
  {
   "cell_type": "code",
   "execution_count": 182,
   "metadata": {},
   "outputs": [
    {
     "name": "stdout",
     "output_type": "stream",
     "text": [
      "\u001b[1;3;38;2;11;159;203mRetrieval entering 0206302d-7f2a-409b-8300-0f0db79b8f8a: TextNode\n",
      "\u001b[0m\u001b[1;3;38;2;237;90;200mRetrieving from object TextNode with query What is the true cause for 'Product Manual Threading'?\n",
      "\u001b[0m"
     ]
    },
    {
     "name": "stderr",
     "output_type": "stream",
     "text": [
      "pre tokenize: 100%|███████████████████████████████████████████████████████████████████████████████████████████| 1/1 [00:00<00:00, 125.48it/s]\n"
     ]
    },
    {
     "name": "stdout",
     "output_type": "stream",
     "text": [
      "\n",
      "***********New LlamaParse + Recursive Retriever Query Engine***********\n"
     ]
    },
    {
     "data": {
      "text/markdown": [
       "<b>The true cause for 'Product Manual Threading' is that assembly requires neatly arranged products.</b>"
      ],
      "text/plain": [
       "<IPython.core.display.Markdown object>"
      ]
     },
     "metadata": {},
     "output_type": "display_data"
    }
   ],
   "source": [
    "## Worksheet '478479 series COVER Packer work'\n",
    "query = \"What is the true cause for 'Product Manual Threading'?\"\n",
    "\n",
    "response_2 = recursive_query_engine.query(query)\n",
    "print(\"\\n***********New LlamaParse + Recursive Retriever Query Engine***********\")\n",
    "display(Markdown(f\"<b>{response_2}</b>\"))"
   ]
  },
  {
   "cell_type": "code",
   "execution_count": null,
   "metadata": {},
   "outputs": [
    {
     "name": "stdout",
     "output_type": "stream",
     "text": [
      "\u001b[1;3;38;2;11;159;203mRetrieval entering 78ed5ec7-59c7-47e5-82e5-247fe25aeeb8: TextNode\n",
      "\u001b[0m\u001b[1;3;38;2;237;90;200mRetrieving from object TextNode with query For Product wear rod, please mention the all feasible improvement solutions, the approved final solution,    and reason behind it in terms of evaluation criteria?\n",
      "\u001b[0m"
     ]
    },
    {
     "name": "stderr",
     "output_type": "stream",
     "text": [
      "pre tokenize: 100%|███████████████████████████████████████████████████████████████████████████████████████████| 1/1 [00:00<00:00, 124.93it/s]\n"
     ]
    },
    {
     "name": "stdout",
     "output_type": "stream",
     "text": [
      "\n",
      "***********New LlamaParse+ Recursive Retriever Query Engine***********\n"
     ]
    },
    {
     "data": {
      "text/markdown": [
       "<b>The feasible improvement solutions for Product wear rod are as follows:\n",
       "1. Changes in rod threading methods: Check all products before threading the rod.\n",
       "2. Add a jig to replace manual alignment and threading of rods.\n",
       "\n",
       "The approved final solution for Product wear rod is to add a jig to replace manual alignment and threading of rods. This solution was chosen based on the evaluation criteria of feasibility assessment, technology, economy, and society, where it was deemed to be OK in terms of feasibility, technology, and economy, and OK in terms of society impact.</b>"
      ],
      "text/plain": [
       "<IPython.core.display.Markdown object>"
      ]
     },
     "metadata": {},
     "output_type": "display_data"
    }
   ],
   "source": [
    "## Worksheet '478479 series COVER Packer work'\n",
    "query = \"For Product wear rod, please mention the all feasible improvement solutions, \\ the approved final solution,\\\n",
    "    and reason behind it in terms of evaluation criteria?\"\n",
    "\n",
    "\n",
    "response_2 = recursive_query_engine.query(query)\n",
    "print(\"\\n***********New LlamaParse+ Recursive Retriever Query Engine***********\")\n",
    "print(response_2)"
   ]
  },
  {
   "cell_type": "code",
   "execution_count": 184,
   "metadata": {},
   "outputs": [
    {
     "name": "stderr",
     "output_type": "stream",
     "text": [
      "pre tokenize: 100%|███████████████████████████████████████████████████████████████████████████████████████████| 1/1 [00:00<00:00, 166.43it/s]\n"
     ]
    },
    {
     "name": "stdout",
     "output_type": "stream",
     "text": [
      "\n",
      "***********New LlamaParse+ Recursive Retriever Query Engine***********\n"
     ]
    },
    {
     "data": {
      "text/markdown": [
       "<b>The true cause for 'Dome Appearance and functional inspection' is identified as a high number of self-checks, causing duplication of time and waste. The final solution proposed to address this issue is to reduce the number of appearance and functional tests of self-inspection. The improvement plan suggests conducting 3 appearance and function inspections every 10K units, reduced from the previous 2 appearance and function inspections every 10K units.</b>"
      ],
      "text/plain": [
       "<IPython.core.display.Markdown object>"
      ]
     },
     "metadata": {},
     "output_type": "display_data"
    }
   ],
   "source": [
    "## Dome Machine\n",
    "query = \"What is true cause for 'Dome Appearance and functional inspection' and final solution for it?\"\n",
    "\n",
    "response_2 = recursive_query_engine.query(query)\n",
    "print(\"\\n***********New LlamaParse+ Recursive Retriever Query Engine***********\")\n",
    "display(Markdown(f\"<b>{response_2}</b>\"))"
   ]
  },
  {
   "cell_type": "code",
   "execution_count": 185,
   "metadata": {},
   "outputs": [
    {
     "name": "stdout",
     "output_type": "stream",
     "text": [
      "\u001b[1;3;38;2;11;159;203mRetrieval entering cd4a5bf2-a37d-4844-a8a5-8c9ba0bcdb98: TextNode\n",
      "\u001b[0m\u001b[1;3;38;2;237;90;200mRetrieving from object TextNode with query What should I do when there is a gap between 'CT' and 'TT'?\n",
      "\u001b[0m"
     ]
    },
    {
     "name": "stderr",
     "output_type": "stream",
     "text": [
      "pre tokenize: 100%|███████████████████████████████████████████████████████████████████████████████████████████| 1/1 [00:00<00:00, 199.55it/s]\n"
     ]
    },
    {
     "name": "stdout",
     "output_type": "stream",
     "text": [
      "\n",
      "***********New LlamaParse+ Recursive Retriever Query Engine***********\n"
     ]
    },
    {
     "data": {
      "text/markdown": [
       "<b>Increase operator workload and job saturation to address the gap between 'CT' and 'TT'.</b>"
      ],
      "text/plain": [
       "<IPython.core.display.Markdown object>"
      ]
     },
     "metadata": {},
     "output_type": "display_data"
    }
   ],
   "source": [
    "## Dome Machine\n",
    "query = \"What should I do when there is a gap between 'CT' and 'TT'?\"\n",
    "\n",
    "response_2 = recursive_query_engine.query(query)\n",
    "print(\"\\n***********New LlamaParse+ Recursive Retriever Query Engine***********\")\n",
    "display(Markdown(f\"<b>{response_2}</b>\"))"
   ]
  },
  {
   "cell_type": "code",
   "execution_count": null,
   "metadata": {},
   "outputs": [
    {
     "name": "stdout",
     "output_type": "stream",
     "text": [
      "\u001b[1;3;38;2;11;159;203mRetrieval entering 0206302d-7f2a-409b-8300-0f0db79b8f8a: TextNode\n",
      "\u001b[0m\u001b[1;3;38;2;237;90;200mRetrieving from object TextNode with query Please output the implementation countermeasures for 'dome Standardization of machine operation operations'?\n",
      "\u001b[0m"
     ]
    },
    {
     "name": "stderr",
     "output_type": "stream",
     "text": [
      "pre tokenize: 100%|███████████████████████████████████████████████████████████████████████████████████████████| 1/1 [00:00<00:00, 166.73it/s]\n"
     ]
    },
    {
     "name": "stdout",
     "output_type": "stream",
     "text": [
      "\n",
      "***********New LlamaParse+ Recursive Retriever Query Engine***********\n"
     ]
    },
    {
     "data": {
      "text/markdown": [
       "<b>The implementation countermeasures for 'Dome Standardization of Machine Operation Operations' include the following:\n",
       "1. For the Dome Appearance and Functional Inspection improvement project, the countermeasure implemented was to reduce the number of appearance and functional tests of self-inspection from 3 to 2 every 10K operations.\n",
       "2. For the CT time and TT time difference improvement project, the countermeasure implemented was to increase operator workload and job saturation by rearranging operator work, resulting in a promotion of operator saturation from 69.4% to 90.5%.\n",
       "3. For the Dome Functional Testing improvement project, the countermeasure implemented was to reduce the estimated functional measurement time from 4.9 minutes to 4.27 minutes after improvement.</b>"
      ],
      "text/plain": [
       "<IPython.core.display.Markdown object>"
      ]
     },
     "metadata": {},
     "output_type": "display_data"
    }
   ],
   "source": [
    "## Dome Machine\n",
    "query = \"Please output the implementation countermeasures for \\ \n",
    "'dome Standardization of machine operation operations'?\"\n",
    "\n",
    "response_2 = recursive_query_engine.query(query)\n",
    "print(\"\\n***********New LlamaParse+ Recursive Retriever Query Engine***********\")\n",
    "display(Markdown(f\"<b>{response_2}</b>\"))"
   ]
  },
  {
   "cell_type": "code",
   "execution_count": null,
   "metadata": {},
   "outputs": [
    {
     "name": "stdout",
     "output_type": "stream",
     "text": [
      "\u001b[1;3;38;2;11;159;203mRetrieval entering 0206302d-7f2a-409b-8300-0f0db79b8f8a: TextNode\n",
      "\u001b[0m\u001b[1;3;38;2;237;90;200mRetrieving from object TextNode with query Please output the implementation summary of 'dome Standardization' project?\n",
      "\u001b[0m"
     ]
    },
    {
     "name": "stderr",
     "output_type": "stream",
     "text": [
      "pre tokenize: 100%|███████████████████████████████████████████████████████████████████████████████████████████| 1/1 [00:00<00:00, 166.98it/s]\n"
     ]
    },
    {
     "name": "stdout",
     "output_type": "stream",
     "text": [
      "\n",
      "***********New LlamaParse+ Recursive Retriever Query Engine***********\n"
     ]
    },
    {
     "data": {
      "text/markdown": [
       "<b>The implementation summary of the 'Dome Standardization' project includes the following details:\n",
       "- For the Process Capability Table:\n",
       "  - Dome Functional testing improvement reduced the estimated functional measurement time from 4.9 minutes to 4.27 minutes.\n",
       "  - CT time and TT time difference was addressed to reduce waiting time for the machine.\n",
       "  - Product function self-inspection process was improved to reduce personnel waiting time.\n",
       "- For the Standard Work Combination Table:\n",
       "  - Improvement was made to increase operator workload and job saturation by rearranging operator work.\n",
       "- For the Standard Worksheet:\n",
       "  - Improvement was made in the appearance and functional inspection process to reduce the number of self-inspections and improve efficiency.</b>"
      ],
      "text/plain": [
       "<IPython.core.display.Markdown object>"
      ]
     },
     "metadata": {},
     "output_type": "display_data"
    }
   ],
   "source": [
    "## Dome Machine\n",
    "query = \"Please output the implementation summary of 'dome Standardization' project?\"\n",
    "\n",
    "response_2 = recursive_query_engine.query(query)\n",
    "print(\"\\n***********New LlamaParse + Recursive Retriever Query Engine***********\")\n",
    "display(Markdown(f\"<b>{response_2}</b>\"))"
   ]
  }
 ],
 "metadata": {
  "kernelspec": {
   "display_name": "lparser",
   "language": "python",
   "name": "lparser"
  },
  "language_info": {
   "codemirror_mode": {
    "name": "ipython",
    "version": 3
   },
   "file_extension": ".py",
   "mimetype": "text/x-python",
   "name": "python",
   "nbconvert_exporter": "python",
   "pygments_lexer": "ipython3",
   "version": "3.9.13"
  }
 },
 "nbformat": 4,
 "nbformat_minor": 2
}
