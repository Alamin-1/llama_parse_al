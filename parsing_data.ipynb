{
 "cells": [
  {
   "cell_type": "code",
   "execution_count": 2,
   "metadata": {},
   "outputs": [
    {
     "data": {
      "text/plain": [
       "True"
      ]
     },
     "execution_count": 2,
     "metadata": {},
     "output_type": "execute_result"
    }
   ],
   "source": [
    "from dotenv import load_dotenv\n",
    "load_dotenv()"
   ]
  },
  {
   "cell_type": "code",
   "execution_count": 3,
   "metadata": {},
   "outputs": [],
   "source": [
    "import nest_asyncio\n",
    "nest_asyncio.apply()"
   ]
  },
  {
   "cell_type": "code",
   "execution_count": null,
   "metadata": {},
   "outputs": [
    {
     "name": "stdout",
     "output_type": "stream",
     "text": [
      "Started parsing the file under job_id c5d4c2a6-7d92-4d74-b266-15fe35d4815e\n",
      "......................."
     ]
    }
   ],
   "source": [
    "from llama_parse import LlamaParse\n",
    "\n",
    "# parsing_instruction\n",
    "\n",
    "parser = LlamaParse(\n",
    "    result_type=\"markdown\",\n",
    "    parsing_instruction=None\n",
    "    \n",
    ")\n",
    "documents = parser.load_data('./data/Series Cover Packer.pptx')"
   ]
  },
  {
   "cell_type": "code",
   "execution_count": null,
   "metadata": {},
   "outputs": [],
   "source": [
    "from copy import deepcopy\n",
    "from llama_index.core.schema import TextNode\n",
    "from llama_index.core import VectorStoreIndex\n",
    "\n",
    "\n",
    "def get_page_nodes(docs, separator=\"\\n---\\n\"):\n",
    "    \"\"\"Split each document into page node, by separator.\"\"\"\n",
    "    nodes = []\n",
    "    for doc in docs:\n",
    "        doc_chunks = doc.text.split(separator)\n",
    "        for doc_chunk in doc_chunks:\n",
    "            node = TextNode(\n",
    "                text=doc_chunk,\n",
    "                metadata=deepcopy(doc.metadata),\n",
    "            )\n",
    "            nodes.append(node)\n",
    "    return nodes"
   ]
  },
  {
   "cell_type": "code",
   "execution_count": 20,
   "metadata": {},
   "outputs": [
    {
     "name": "stdout",
     "output_type": "stream",
     "text": [
      "57\n",
      "# Select topic\n",
      "\n",
      "# 1. Define indicators and measurement methods\n",
      "\n",
      "A. Job saturation\n",
      "\n",
      "|Operator cycle time|2800 (sec/box)|64.81|飽和度分析|\n",
      "|---|---|---|---|\n",
      "|takt time|4320 (sec/box)| |%|\n",
      "|Number of workers UPH|13438 pcs/H|896 (pcs/H/person)| |\n",
      "\n",
      "B. UPPH\n",
      "\n",
      "|actual output on shift|107500 pcs| |計劃表|\n",
      "|---|---|---|---|\n",
      "|UPH| | |13438 pcs/H|\n",
      "|Working hours on duty|8 H| | |\n",
      "\n",
      "The output of two shifts is: 215 K\n",
      "\n",
      "# 2. Set goals\n",
      "\n",
      "|序號|管理指標|改善前|改善後|目標|\n",
      "|---|---|---|---|---|\n",
      "|1|作業人力|29人|23人|依照人力DO|\n",
      "|2|工作飽和度|64.81%|78.20%|作飽和度&|\n",
      "|3|人均產能|896 pcs/H/人|1081.5 pcs/H/人|%|\n",
      "\n",
      "改善前\n",
      "\n",
      "100.00%\n",
      "80.00%\n",
      "60.00%\n",
      "40.00%\n",
      "20.00%\n",
      "0.00%\n",
      "\n",
      "改善後\n",
      "\n",
      "1000\n",
      "800\n",
      "600\n",
      "400\n",
      "200\n",
      "0\n",
      "\n",
      "改善前\n",
      "\n",
      "改善後\n",
      "\n",
      "NWInG Confidential\n",
      "\n",
      "Page: 8\n",
      "\n",
      "標准作業建立\n"
     ]
    }
   ],
   "source": [
    "print(len(documents))\n",
    "print(documents[7].get_content())"
   ]
  },
  {
   "cell_type": "code",
   "execution_count": 21,
   "metadata": {},
   "outputs": [
    {
     "name": "stdout",
     "output_type": "stream",
     "text": [
      "57\n",
      "# Standard operating plan\n",
      "\n",
      "# Analyze the problem\n",
      "\n",
      "# Selected topic\n",
      "\n",
      "# Current situation analysis\n",
      "\n",
      "478/479 series COVER\n",
      "\n",
      "# Packer work standard case\n",
      "\n",
      "Department: Secondary Molding\n",
      "\n",
      "Department system Author: Wang Zhonggui\n",
      "\n",
      "Counselor: Shi Minghui\n",
      "\n",
      "Promotion date: 11/20.08\n",
      "\n",
      "REV: B\n",
      "\n",
      "Project number: SICSMPBM451081101\n",
      "\n",
      "Approved by: Liang Yuanlong\n",
      "\n",
      "Checked by: Ruan Yuanlong\n",
      "\n",
      "NWInG Confidential\n",
      "\n",
      "Page: 1\n",
      "\n",
      "標准作業建立\n"
     ]
    }
   ],
   "source": [
    "page_nodes = get_page_nodes(documents)\n",
    "print(len(page_nodes))\n",
    "print(page_nodes[0].text)\n"
   ]
  },
  {
   "cell_type": "code",
   "execution_count": 23,
   "metadata": {},
   "outputs": [],
   "source": [
    "from llama_index.core.node_parser import MarkdownElementNodeParser\n",
    "from llama_index.llms.openai import OpenAI\n",
    "node_parser = MarkdownElementNodeParser(\n",
    "    llm=OpenAI(model=\"gpt-3.5-turbo-0125\"), num_workers=8\n",
    ")"
   ]
  },
  {
   "cell_type": "code",
   "execution_count": 24,
   "metadata": {},
   "outputs": [
    {
     "name": "stderr",
     "output_type": "stream",
     "text": [
      "0it [00:00, ?it/s]\n",
      "4it [00:00, ?it/s]\n",
      "2it [00:00, ?it/s]\n",
      "0it [00:00, ?it/s]\n",
      "1it [00:00, 1015.32it/s]\n",
      "2it [00:00, ?it/s]\n",
      "1it [00:00, ?it/s]\n",
      "3it [00:00, 2988.82it/s]\n",
      "3it [00:00, 3027.65it/s]\n",
      "1it [00:00, ?it/s]\n",
      "0it [00:00, ?it/s]\n",
      "0it [00:00, ?it/s]\n",
      "0it [00:00, ?it/s]\n",
      "1it [00:00, ?it/s]\n",
      "1it [00:00, ?it/s]\n",
      "1it [00:00, ?it/s]\n",
      "1it [00:00, ?it/s]\n",
      "2it [00:00, ?it/s]\n",
      "1it [00:00, ?it/s]\n",
      "2it [00:00, ?it/s]\n",
      "2it [00:00, ?it/s]\n",
      "2it [00:00, 1999.19it/s]\n",
      "1it [00:00, 972.48it/s]\n",
      "1it [00:00, 994.15it/s]\n",
      "1it [00:00, ?it/s]\n",
      "2it [00:00, ?it/s]\n",
      "1it [00:00, 969.11it/s]\n",
      "2it [00:00, ?it/s]\n",
      "2it [00:00, ?it/s]\n",
      "1it [00:00, ?it/s]\n",
      "0it [00:00, ?it/s]\n",
      "1it [00:00, ?it/s]\n",
      "1it [00:00, ?it/s]\n",
      "1it [00:00, ?it/s]\n",
      "1it [00:00, ?it/s]\n",
      "3it [00:00, ?it/s]\n",
      "0it [00:00, ?it/s]\n",
      "1it [00:00, ?it/s]\n",
      "0it [00:00, ?it/s]\n",
      "3it [00:00, ?it/s]\n",
      "1it [00:00, ?it/s]\n",
      "1it [00:00, ?it/s]\n",
      "0it [00:00, ?it/s]\n",
      "2it [00:00, ?it/s]\n",
      "5it [00:00, ?it/s]\n",
      "1it [00:00, ?it/s]\n",
      "2it [00:00, ?it/s]\n",
      "0it [00:00, ?it/s]\n",
      "2it [00:00, ?it/s]\n",
      "1it [00:00, 997.69it/s]\n",
      "2it [00:00, ?it/s]\n",
      "3it [00:00, ?it/s]\n",
      "0it [00:00, ?it/s]\n",
      "0it [00:00, ?it/s]\n",
      "1it [00:00, 999.60it/s]\n",
      "1it [00:00, ?it/s]\n",
      "0it [00:00, ?it/s]\n"
     ]
    }
   ],
   "source": [
    "nodes = node_parser.get_nodes_from_documents(documents)"
   ]
  },
  {
   "cell_type": "code",
   "execution_count": 25,
   "metadata": {},
   "outputs": [
    {
     "name": "stdout",
     "output_type": "stream",
     "text": [
      "<class 'list'>\n",
      "268\n"
     ]
    }
   ],
   "source": [
    "print(type(nodes))\n",
    "print(len(nodes))"
   ]
  },
  {
   "cell_type": "code",
   "execution_count": 26,
   "metadata": {},
   "outputs": [
    {
     "data": {
      "text/plain": [
       "'Standard operating plan\\n\\n Analyze the problem\\n\\n Selected topic\\n\\n Current situation analysis\\n\\n478/479 series COVER\\n\\n Packer work standard case\\n\\nDepartment: Secondary Molding\\n\\nDepartment system Author: Wang Zhonggui\\n\\nCounselor: Shi Minghui\\n\\nPromotion date: 11/20.08\\n\\nREV: B\\n\\nProject number: SICSMPBM451081101\\n\\nApproved by: Liang Yuanlong\\n\\nChecked by: Ruan Yuanlong\\n\\nNWInG Confidential\\n\\nPage: 1\\n\\n標准作業建立'"
      ]
     },
     "execution_count": 26,
     "metadata": {},
     "output_type": "execute_result"
    }
   ],
   "source": [
    "nodes[0].text"
   ]
  },
  {
   "cell_type": "code",
   "execution_count": 27,
   "metadata": {},
   "outputs": [],
   "source": [
    "base_nodes, objects = node_parser.get_nodes_and_objects(nodes)\n"
   ]
  },
  {
   "cell_type": "code",
   "execution_count": 28,
   "metadata": {},
   "outputs": [
    {
     "data": {
      "text/plain": [
       "'This table shows the responsibility assignment for each week from W46 to W53.,\\nwith the following columns:\\n- 責任人: None\\n'"
      ]
     },
     "execution_count": 28,
     "metadata": {},
     "output_type": "execute_result"
    }
   ],
   "source": [
    "objects[0].get_content()\n"
   ]
  },
  {
   "cell_type": "code",
   "execution_count": 29,
   "metadata": {},
   "outputs": [],
   "source": [
    "# dump both indexed tables and page text into the vector index\n",
    "recursive_index = VectorStoreIndex(nodes=base_nodes + objects + page_nodes)"
   ]
  },
  {
   "cell_type": "code",
   "execution_count": 46,
   "metadata": {},
   "outputs": [
    {
     "name": "stdout",
     "output_type": "stream",
     "text": [
      "# Project proposal review\n",
      "\n",
      "# Project Proposal ApprovaSICSM PBM 451081101l Form\n",
      "\n",
      "Project name: MB 478/479 series COVER Packer operating standards\n",
      "\n",
      "Project number:\n",
      "\n",
      "Project leader: Wang Zhonggui\n",
      "\n",
      "Position: Specialized\n",
      "\n",
      "# 1. Background analysis\n",
      "\n",
      "External environment: With the implementation of the new labor law, labor costs have increased.\n",
      "\n",
      "Internal environment:\n",
      "\n",
      "1. Serious manpower loss, the lost manpower will no longer be replenished.\n",
      "2. The manpower streamlining target for 2008 was not achieved, and the production difference was 20 people. It needs to be given priority. FPS boost to supplement completion of streamlined goals.\n",
      "\n",
      "# 2. Initial state\n",
      "\n",
      "1. Existing manpower: 29 people\n",
      "2. Now job saturation: 64.81%\n",
      "3. Present capacity per capita: 896 PCS/H/person\n",
      "\n",
      "# 4. Action plan\n",
      "\n",
      "|Responsible person|W46|W47|W48|W49|W50|W51|W52|W53|\n",
      "|---|---|---|---|---|---|---|---|---|\n",
      "|Wang Zhonggui|Selected topic|Current situation analysis|Analyze the problem|Implementation of countermeasures|Standardization|Remarks: ● Start time; ▲ Finish time|Remarks: ● Start time; ▲ Finish time|Remarks: ● Start time; ▲ Finish time|\n",
      "\n",
      "# 5. Effectiveness evaluation (estimate)\n",
      "\n",
      "Streamline manpower: 6 people\n",
      "\n",
      "Streamline packaging manpower:\n",
      "\n",
      "Job saturation: Depend on 64.81% Increased by 78.2%\n",
      "\n",
      "# 3. Target state\n",
      "\n",
      "Manpower streamlining goal: twenty-three people (Manpower streamlining 6 people) Down 20.7%\n",
      "\n",
      "Job saturation goals: 78.2%\n",
      "\n",
      "Per capita production capacity target: 1081.5 PCS/H/person.\n",
      "\n",
      "Manpower is down 20.7%, and the other two indicators need to be increased by 20.7%.\n",
      "\n",
      "# Capacity per capita\n",
      "\n",
      "Depend on 896 PCS/H/person improve 1081.5 PCS/H/person\n",
      "\n",
      "# Qualifications\n",
      "\n",
      "|Name|Position|Qualifications|Responsibility|\n",
      "|---|---|---|---|\n",
      "|Wang Zhonggui|/|C|Lead planning projects|\n",
      "|Li Jun|/|D|Assist in planning projects|\n",
      "|Lin Shihua|/|D|Assist in execution AR|\n",
      "\n",
      "# 7. Sign-off\n",
      "\n",
      "Lai Qinghe\n",
      "\n",
      "Shi Minghui\n",
      "\n",
      "Ruan Yuanlong\n",
      "\n",
      "NWInG Confidential\n",
      "\n",
      "Page: 3\n",
      "\n",
      "標准作業建立\n"
     ]
    }
   ],
   "source": [
    "print(page_nodes[2].get_content())\n"
   ]
  },
  {
   "cell_type": "code",
   "execution_count": 31,
   "metadata": {},
   "outputs": [],
   "source": [
    "from llama_index.postprocessor.flag_embedding_reranker import FlagEmbeddingReranker\n",
    "reranker = FlagEmbeddingReranker(\n",
    "    top_n=5,\n",
    "    model=\"BAAI/bge-reranker-large\",\n",
    ")\n",
    "recursive_query_engine = recursive_index.as_query_engine(\n",
    "    similarity_top_k=5, node_postprocessors=[reranker], verbose=True\n",
    ")"
   ]
  },
  {
   "cell_type": "code",
   "execution_count": 33,
   "metadata": {},
   "outputs": [],
   "source": [
    "# ## Setup Baseline\n",
    "# from llama_index.core import SimpleDirectoryReader\n",
    "\n",
    "# reader = SimpleDirectoryReader(input_files=[data_path])\n",
    "# base_docs = reader.load_data()\n",
    "# raw_index = VectorStoreIndex.from_documents(base_docs)\n",
    "# raw_query_engine = raw_index.as_query_engine(\n",
    "#     similarity_top_k=5, node_postprocessors=[reranker]\n",
    "# )"
   ]
  },
  {
   "cell_type": "code",
   "execution_count": 44,
   "metadata": {},
   "outputs": [
    {
     "name": "stdout",
     "output_type": "stream",
     "text": [
      "\u001b[1;3;38;2;11;159;203mRetrieval entering 05a00c4a-a52a-4c31-845d-6f36a19c4bb8: TextNode\n",
      "\u001b[0m\u001b[1;3;38;2;237;90;200mRetrieving from object TextNode with query Please provide a summary of table on items that cannot be improved immediately\n",
      "\u001b[0m\u001b[1;3;38;2;11;159;203mRetrieval entering 5441feae-c670-438e-acad-1cc18f5daf08: TextNode\n",
      "\u001b[0m\u001b[1;3;38;2;237;90;200mRetrieving from object TextNode with query Please provide a summary of table on items that cannot be improved immediately\n",
      "\u001b[0m\u001b[1;3;38;2;11;159;203mRetrieval entering 69eaf941-4c06-4e7e-92eb-af1918933e82: TextNode\n",
      "\u001b[0m\u001b[1;3;38;2;237;90;200mRetrieving from object TextNode with query Please provide a summary of table on items that cannot be improved immediately\n",
      "\u001b[0m"
     ]
    },
    {
     "name": "stderr",
     "output_type": "stream",
     "text": [
      "pre tokenize: 100%|███| 1/1 [00:00<00:00, 498.43it/s]\n"
     ]
    },
    {
     "name": "stdout",
     "output_type": "stream",
     "text": [
      "\n",
      "***********New LlamaParse+ Recursive Retriever Query Engine***********\n",
      "The table lists items that cannot be improved immediately, such as product discoloration, product not being full, visual fatigue during inspection, lack of clear distinction between good and defective products, and manual threading of products.\n"
     ]
    }
   ],
   "source": [
    "## Table Query Task: Queries for Table Question Answering\n",
    "query = \"Please provide a summary of table on items that cannot be improved immediately\"\n",
    "\n",
    "# response_1 = raw_query_engine.query(query)\n",
    "# print(\"\\n***********Basic Query Engine***********\")\n",
    "# print(response_1)\n",
    "\n",
    "response_2 = recursive_query_engine.query(query)\n",
    "print(\"\\n***********New LlamaParse+ Recursive Retriever Query Engine***********\")\n",
    "print(response_2)"
   ]
  },
  {
   "cell_type": "code",
   "execution_count": 64,
   "metadata": {},
   "outputs": [],
   "source": [
    "from typing import List\n",
    "from pydantic import BaseModel\n",
    "import os\n",
    "import json\n",
    "import csv\n",
    "\n",
    "from llama_parse import LlamaParse\n",
    "from llama_index.core.schema import Document\n",
    "from llama_index.llms.openai import OpenAI\n",
    "import nest_asyncio\n",
    "\n",
    "nest_asyncio.apply()"
   ]
  },
  {
   "cell_type": "code",
   "execution_count": 65,
   "metadata": {},
   "outputs": [],
   "source": [
    "## Parse the Form Filing File\n",
    "def parse_file(file_path: str) -> List[Document]:\n",
    "    llama_parse = LlamaParse(\n",
    "        api_key=os.environ['LLAMA_CLOUD_API_KEY'],\n",
    "        result_type='markdown',\n",
    "    )\n",
    "    result = llama_parse.load_data(\n",
    "        file_path,\n",
    "        \n",
    "    )\n",
    "    return result"
   ]
  },
  {
   "cell_type": "code",
   "execution_count": 66,
   "metadata": {},
   "outputs": [
    {
     "name": "stdout",
     "output_type": "stream",
     "text": [
      "Started parsing the file under job_id ebf8cac2-2a38-412f-b666-859b1194a62b\n"
     ]
    }
   ],
   "source": [
    "documents = parse_file('data/sec_10k_analysis_form_filling.xlsx')"
   ]
  },
  {
   "cell_type": "code",
   "execution_count": 67,
   "metadata": {},
   "outputs": [
    {
     "name": "stdout",
     "output_type": "stream",
     "text": [
      "<class 'list'>\n",
      "1\n"
     ]
    }
   ],
   "source": [
    "print(type(documents))\n",
    "print(len(documents))"
   ]
  },
  {
   "cell_type": "code",
   "execution_count": 68,
   "metadata": {},
   "outputs": [
    {
     "name": "stdout",
     "output_type": "stream",
     "text": [
      "1\n",
      "|Parameter                            |2021         |                |            |2022         |                |            |\n",
      "|-------------------------------------|-------------|----------------|------------|-------------|----------------|------------|\n",
      "|                                     |Amazon (AMZN)|Microsoft (MSFT)|Apple (AAPL)|Amazon (AMZN)|Microsoft (MSFT)|Apple (AAPL)|\n",
      "|1. Revenue                           |             |                |            |             |                |            |\n",
      "|2. Net Income                        |             |                |            |             |                |            |\n",
      "|3. Earnings Per Share (EPS)          |             |                |            |             |                |            |\n",
      "|4. EBITDA                            |             |                |            |             |                |            |\n",
      "|5. Free Cash Flow                    |             |                |            |             |                |            |\n",
      "|6. Return on Equity (ROE)            |             |                |            |             |                |            |\n",
      "|7. Return on Assets (ROA)            |             |                |            |             |                |            |\n",
      "|8. Debt-to-Equity Ratio              |             |                |            |             |                |            |\n",
      "|9. Current Ratio                     |             |                |            |             |                |            |\n",
      "|10. Gross Margin                     |             |                |            |             |                |            |\n",
      "|11. Operating Margin                 |             |                |            |             |                |            |\n",
      "|12. Net Profit Margin                |             |                |            |             |                |            |\n",
      "|13. Inventory Turnover               |             |                |            |             |                |            |\n",
      "|14. Accounts Receivable Turnover     |             |                |            |             |                |            |\n",
      "|15. Capital Expenditures             |             |                |            |             |                |            |\n",
      "|16. Research and Development Expenses|             |                |            |             |                |            |\n",
      "|17. Market Cap                       |             |                |            |             |                |            |\n",
      "|18. Price-to-Earnings (P/E) Ratio    |             |                |            |             |                |            |\n",
      "|19. Dividend Yield                   |             |                |            |             |                |            |\n",
      "|20. Year-over-Year Growth Rate       |             |                |            |             |                |            |\n",
      "\n"
     ]
    }
   ],
   "source": [
    "print(len(documents))\n",
    "print(documents[0].text)"
   ]
  },
  {
   "cell_type": "code",
   "execution_count": 10,
   "metadata": {},
   "outputs": [],
   "source": [
    "text = documents[0].text"
   ]
  },
  {
   "cell_type": "code",
   "execution_count": null,
   "metadata": {},
   "outputs": [],
   "source": [
    "## Structured Extraction\n",
    "prompt = f\"\"\"\n",
    "You are an AI assistant specializing in financial analysis. You've been given an Excel spreadsheet containing financial data for multiple companies. \\ \n",
    "Your task is to extract and structure this information in a clear, organized format.\n",
    "\n",
    "The Excel sheet contains the following:\n",
    "1. Multiple companies (rows)\n",
    "2. Year (columns)\n",
    "3. Various financial parameters (sub-columns)\n",
    "\n",
    "Input Excel data:\n",
    "{text}\n",
    "\n",
    "Please present the extracted and structured information in a clear, easy-to-read format.\n",
    "\"\"\""
   ]
  },
  {
   "cell_type": "code",
   "execution_count": null,
   "metadata": {},
   "outputs": [],
   "source": [
    "class CompanyParameters(BaseModel):\n",
    "    \"\"\"Data model for an sec filing analysis.\"\"\"\n",
    "    Companies: List[str]\n",
    "    FinancialParameters: List[str]\n",
    "    Years: List[str]"
   ]
  },
  {
   "cell_type": "code",
   "execution_count": 13,
   "metadata": {},
   "outputs": [],
   "source": [
    "llm = OpenAI(model='gpt-4o-mini')"
   ]
  },
  {
   "cell_type": "code",
   "execution_count": null,
   "metadata": {},
   "outputs": [],
   "source": [
    "sllm = llm.as_structured_llm(output_cls=CompanyParameters)\n",
    "input_msg = ChatMessage.from_str(prompt)"
   ]
  },
  {
   "cell_type": "code",
   "execution_count": 14,
   "metadata": {},
   "outputs": [],
   "source": [
    "from llama_index.core.llms import ChatMessage\n",
    "\n",
    "sllm = llm.as_structured_llm(output_cls=CompanyParameters)\n",
    "input_msg = ChatMessage.from_str(prompt)"
   ]
  },
  {
   "cell_type": "code",
   "execution_count": 15,
   "metadata": {},
   "outputs": [
    {
     "data": {
      "text/plain": [
       "CompanyParameters(Companies=['Amazon (AMZN)', 'Microsoft (MSFT)', 'Apple (AAPL)'], FinancialParameters=['Revenue', 'Net Income', 'Earnings Per Share (EPS)', 'EBITDA', 'Free Cash Flow', 'Return on Equity (ROE)', 'Return on Assets (ROA)', 'Debt-to-Equity Ratio', 'Current Ratio', 'Gross Margin', 'Operating Margin', 'Net Profit Margin', 'Inventory Turnover', 'Accounts Receivable Turnover', 'Capital Expenditures', 'Research and Development Expenses', 'Market Cap', 'Price-to-Earnings (P/E) Ratio', 'Dividend Yield', 'Year-over-Year Growth Rate'], Years=['2021', '2022'])"
      ]
     },
     "execution_count": 15,
     "metadata": {},
     "output_type": "execute_result"
    }
   ],
   "source": [
    "output = sllm.chat([input_msg])\n",
    "output_obj = output.raw\n",
    "output_obj"
   ]
  },
  {
   "cell_type": "code",
   "execution_count": 35,
   "metadata": {},
   "outputs": [
    {
     "name": "stdout",
     "output_type": "stream",
     "text": [
      "<class '__main__.CompanyParameters'>\n",
      "['Amazon (AMZN)', 'Microsoft (MSFT)', 'Apple (AAPL)']\n",
      "['Revenue', 'Net Income', 'Earnings Per Share (EPS)', 'EBITDA', 'Free Cash Flow', 'Return on Equity (ROE)', 'Return on Assets (ROA)', 'Debt-to-Equity Ratio', 'Current Ratio', 'Gross Margin', 'Operating Margin', 'Net Profit Margin', 'Inventory Turnover', 'Accounts Receivable Turnover', 'Capital Expenditures', 'Research and Development Expenses', 'Market Cap', 'Price-to-Earnings (P/E) Ratio', 'Dividend Yield', 'Year-over-Year Growth Rate']\n",
      "['2021', '2022']\n"
     ]
    }
   ],
   "source": [
    "print(type(output_obj))\n",
    "print(output_obj.Companies)\n",
    "print(output_obj.FinancialParameters)\n",
    "print(output_obj.Years)"
   ]
  },
  {
   "cell_type": "code",
   "execution_count": 16,
   "metadata": {},
   "outputs": [],
   "source": [
    "## Connect To LlamaCloud Index.\n",
    "from llama_index.indices.managed.llama_cloud import LlamaCloudIndex\n",
    "\n",
    "index = LlamaCloudIndex(\n",
    "  name=\"eager-sailfish-2024-11-22\", \n",
    "  project_name=\"Default\",\n",
    "  organization_id=\"2033a7fc-187e-48e4-a172-5079c4ee2bbf\",\n",
    "  api_key=os.environ['LLAMA_CLOUD_API_KEY'],\n",
    ")\n",
    "\n",
    "# nodes = index.as_retriever().retrieve(query)\n",
    "# response = index.as_query_engine().query(query)"
   ]
  },
  {
   "cell_type": "code",
   "execution_count": 17,
   "metadata": {},
   "outputs": [],
   "source": [
    "query_engine = index.as_query_engine(\n",
    "    dense_similarity_top_k=10,\n",
    "    sparse_similarity_top_k=10,\n",
    "    alpha=0.5,\n",
    "    enable_reranking=True,\n",
    "    rerank_top_n=5,\n",
    ")"
   ]
  },
  {
   "cell_type": "code",
   "execution_count": 60,
   "metadata": {},
   "outputs": [
    {
     "name": "stdout",
     "output_type": "stream",
     "text": [
      "Revenue\n",
      "Net Income\n",
      "Earnings Per Share (EPS)\n",
      "EBITDA\n",
      "Free Cash Flow\n",
      "Return on Equity (ROE)\n",
      "Return on Assets (ROA)\n",
      "Debt-to-Equity Ratio\n",
      "Current Ratio\n",
      "Gross Margin\n",
      "Operating Margin\n",
      "Net Profit Margin\n",
      "Inventory Turnover\n",
      "Accounts Receivable Turnover\n",
      "Capital Expenditures\n",
      "Research and Development Expenses\n",
      "Market Cap\n",
      "Price-to-Earnings (P/E) Ratio\n",
      "Dividend Yield\n",
      "Year-over-Year Growth Rate\n"
     ]
    }
   ],
   "source": [
    "# for year in years:\n",
    "#     print(year)\n",
    "# for company in companies:\n",
    "#     print(company)\n",
    "for element in financial_parameters:\n",
    "    print(element)\n",
    "    "
   ]
  },
  {
   "cell_type": "code",
   "execution_count": 75,
   "metadata": {},
   "outputs": [],
   "source": [
    "companies = output_obj.Companies\n",
    "financial_parameters = output_obj.FinancialParameters\n",
    "years = output_obj.Years"
   ]
  },
  {
   "cell_type": "code",
   "execution_count": null,
   "metadata": {},
   "outputs": [
    {
     "name": "stderr",
     "output_type": "stream",
     "text": [
      "100%|██████████████████████████████████████████████████████████████████████████████████████████████████████████████████████████████████████████████████████████████████████████████████| 7/7 [00:13<00:00,  1.88s/it]\n",
      "100%|██████████████████████████████████████████████████████████████████████████████████████████████████████████████████████████████████████████████████████████████████████████████████| 7/7 [00:11<00:00,  1.61s/it]\n",
      "100%|██████████████████████████████████████████████████████████████████████████████████████████████████████████████████████████████████████████████████████████████████████████████████| 7/7 [00:10<00:00,  1.54s/it]\n",
      "100%|██████████████████████████████████████████████████████████████████████████████████████████████████████████████████████████████████████████████████████████████████████████████████| 7/7 [00:11<00:00,  1.65s/it]\n",
      "100%|██████████████████████████████████████████████████████████████████████████████████████████████████████████████████████████████████████████████████████████████████████████████████| 7/7 [00:10<00:00,  1.53s/it]\n",
      "100%|██████████████████████████████████████████████████████████████████████████████████████████████████████████████████████████████████████████████████████████████████████████████████| 7/7 [00:10<00:00,  1.52s/it]"
     ]
    },
    {
     "name": "stdout",
     "output_type": "stream",
     "text": [
      "{'2021': {'Amazon (AMZN)': {}, 'Microsoft (MSFT)': {}, 'Apple (AAPL)': {}}, '2022': {'Amazon (AMZN)': {}, 'Microsoft (MSFT)': {}, 'Apple (AAPL)': {}}}\n"
     ]
    },
    {
     "name": "stderr",
     "output_type": "stream",
     "text": [
      "\n"
     ]
    }
   ],
   "source": [
    "companies_financial_parameters_answers = {}\n",
    "for year in years:\n",
    "    companies_financial_parameters_answers[year] = {}\n",
    "    for company in companies:\n",
    "        companies_financial_parameters_answers[year][company] = {}\n",
    "        for financial_parameter in tqdm(financial_parameters):\n",
    "            query = f\"what is the {financial_parameter} of {company} for the year? Don't be verbose. Provide 1-5 words for mathematical answers\"\n",
    "            # answer = str(query_engine.query(query))\n",
    "print(companies_financial_parameters_answers)"
   ]
  },
  {
   "cell_type": "code",
   "execution_count": 78,
   "metadata": {},
   "outputs": [],
   "source": [
    "from tqdm import tqdm\n",
    "def generate_answers(companies: List[str], financial_parameters: List[str], years: List[str]) -> List[str]:\n",
    "    companies_financial_parameters_answers = {}\n",
    "\n",
    "    for year in years:\n",
    "        companies_financial_parameters_answers[year] = {}\n",
    "        for company in companies:\n",
    "            companies_financial_parameters_answers[year][company] = {}\n",
    "            for financial_parameter in tqdm(financial_parameters):\n",
    "                query = f\"what is the {financial_parameter} of {company} for the year {year}?. Don't be verbose. Provide 1-5 words answers for mathematical values. If you are unable to provide answer, output as NA.\"\n",
    "                answer = str(query_engine.query(query))\n",
    "                companies_financial_parameters_answers[year][company][financial_parameter] = answer\n",
    "\n",
    "    return companies_financial_parameters_answers"
   ]
  },
  {
   "cell_type": "code",
   "execution_count": 20,
   "metadata": {},
   "outputs": [
    {
     "name": "stderr",
     "output_type": "stream",
     "text": [
      "100%|████████████████████████████████████████████████████████████████████████████████████████████████████████████████████████████████████████████████████████████████████████████████| 20/20 [00:38<00:00,  1.91s/it]\n",
      "100%|████████████████████████████████████████████████████████████████████████████████████████████████████████████████████████████████████████████████████████████████████████████████| 20/20 [00:40<00:00,  2.01s/it]\n",
      "100%|████████████████████████████████████████████████████████████████████████████████████████████████████████████████████████████████████████████████████████████████████████████████| 20/20 [00:33<00:00,  1.65s/it]\n",
      "100%|████████████████████████████████████████████████████████████████████████████████████████████████████████████████████████████████████████████████████████████████████████████████| 20/20 [00:33<00:00,  1.65s/it]\n",
      "100%|████████████████████████████████████████████████████████████████████████████████████████████████████████████████████████████████████████████████████████████████████████████████| 20/20 [00:31<00:00,  1.56s/it]\n",
      "100%|████████████████████████████████████████████████████████████████████████████████████████████████████████████████████████████████████████████████████████████████████████████████| 20/20 [00:32<00:00,  1.63s/it]\n"
     ]
    }
   ],
   "source": [
    "answers = generate_answers(companies, financial_parameters, years)"
   ]
  },
  {
   "cell_type": "code",
   "execution_count": 79,
   "metadata": {},
   "outputs": [
    {
     "data": {
      "text/plain": [
       "{'2021': {'Amazon (AMZN)': {'Revenue': '469,822',\n",
       "   'Net Income': '33,364',\n",
       "   'Earnings Per Share (EPS)': '3.30',\n",
       "   'EBITDA': '24,879',\n",
       "   'Free Cash Flow': 'NA',\n",
       "   'Return on Equity (ROE)': 'NA',\n",
       "   'Return on Assets (ROA)': '5.4%',\n",
       "   'Debt-to-Equity Ratio': '0.44',\n",
       "   'Current Ratio': '1.8',\n",
       "   'Gross Margin': '$24,879 million',\n",
       "   'Operating Margin': '13.2%',\n",
       "   'Net Profit Margin': '9.1%',\n",
       "   'Inventory Turnover': 'NA',\n",
       "   'Accounts Receivable Turnover': '5.7 times',\n",
       "   'Capital Expenditures': '$72.325 billion',\n",
       "   'Research and Development Expenses': '$2.6 billion',\n",
       "   'Market Cap': '$1,507,362,696,975',\n",
       "   'Price-to-Earnings (P/E) Ratio': '73.57',\n",
       "   'Dividend Yield': 'NA',\n",
       "   'Year-over-Year Growth Rate': '44.5%'},\n",
       "  'Microsoft (MSFT)': {'Revenue': '$168,088 million',\n",
       "   'Net Income': '$61,271 million',\n",
       "   'Earnings Per Share (EPS)': '8.12 Basic, 8.05 Diluted',\n",
       "   'EBITDA': '$72.6 billion',\n",
       "   'Free Cash Flow': '16,065 million',\n",
       "   'Return on Equity (ROE)': '21.4%',\n",
       "   'Return on Assets (ROA)': '6.5%',\n",
       "   'Debt-to-Equity Ratio': '0.92',\n",
       "   'Current Ratio': '2.0',\n",
       "   'Gross Margin': '$115,856',\n",
       "   'Operating Margin': '23.6%',\n",
       "   'Net Profit Margin': '19.7%',\n",
       "   'Inventory Turnover': '5.3 times',\n",
       "   'Accounts Receivable Turnover': '7.6 times',\n",
       "   'Capital Expenditures': '$9.5 billion',\n",
       "   'Research and Development Expenses': '$20.3 billion',\n",
       "   'Market Cap': '$2.48 trillion',\n",
       "   'Price-to-Earnings (P/E) Ratio': '37.5',\n",
       "   'Dividend Yield': '0.94%',\n",
       "   'Year-over-Year Growth Rate': '37.5%'},\n",
       "  'Apple (AAPL)': {'Revenue': '$365,817 million',\n",
       "   'Net Income': '94,680 million',\n",
       "   'Earnings Per Share (EPS)': '5.67',\n",
       "   'EBITDA': 'NA',\n",
       "   'Free Cash Flow': '24,164 million',\n",
       "   'Return on Equity (ROE)': 'NA',\n",
       "   'Return on Assets (ROA)': 'NA',\n",
       "   'Debt-to-Equity Ratio': '0.47',\n",
       "   'Current Ratio': '1.19',\n",
       "   'Gross Margin': '$152,836',\n",
       "   'Operating Margin': '24.5%',\n",
       "   'Net Profit Margin': '21.8%',\n",
       "   'Inventory Turnover': 'NA',\n",
       "   'Accounts Receivable Turnover': 'Not available',\n",
       "   'Capital Expenditures': '$10,708 million',\n",
       "   'Research and Development Expenses': '21,914 million',\n",
       "   'Market Cap': '$2.02 trillion',\n",
       "   'Price-to-Earnings (P/E) Ratio': '25.7',\n",
       "   'Dividend Yield': '1. 0.0057',\n",
       "   'Year-over-Year Growth Rate': '38.0%'}},\n",
       " '2022': {'Amazon (AMZN)': {'Revenue': '513,983',\n",
       "   'Net Income': '(2,722)',\n",
       "   'Earnings Per Share (EPS)': '(0.27)',\n",
       "   'EBITDA': '12.248 billion',\n",
       "   'Free Cash Flow': 'NA',\n",
       "   'Return on Equity (ROE)': '8.7%',\n",
       "   'Return on Assets (ROA)': '6.5%',\n",
       "   'Debt-to-Equity Ratio': '0.05',\n",
       "   'Current Ratio': 'NA',\n",
       "   'Gross Margin': '$12,248 million',\n",
       "   'Operating Margin': '-4.7%',\n",
       "   'Net Profit Margin': '-0.5%',\n",
       "   'Inventory Turnover': 'NA',\n",
       "   'Accounts Receivable Turnover': '6.1 times',\n",
       "   'Capital Expenditures': '60.836 billion',\n",
       "   'Research and Development Expenses': '$720 million',\n",
       "   'Market Cap': '$1.46 trillion',\n",
       "   'Price-to-Earnings (P/E) Ratio': 'NA',\n",
       "   'Dividend Yield': 'NA',\n",
       "   'Year-over-Year Growth Rate': 'Negative 63.2%'},\n",
       "  'Microsoft (MSFT)': {'Revenue': '198,270',\n",
       "   'Net Income': '$72,738 million',\n",
       "   'Earnings Per Share (EPS)': '9.70 (Basic), 9.65 (Diluted)',\n",
       "   'EBITDA': '$76.5 billion',\n",
       "   'Free Cash Flow': '89,035 million',\n",
       "   'Return on Equity (ROE)': '22.5%',\n",
       "   'Return on Assets (ROA)': '$72,738 million',\n",
       "   'Debt-to-Equity Ratio': 'NA',\n",
       "   'Current Ratio': '1.9',\n",
       "   'Gross Margin': '135,620',\n",
       "   'Operating Margin': '39.7%',\n",
       "   'Net Profit Margin': '19.7%',\n",
       "   'Inventory Turnover': '5.1 times',\n",
       "   'Accounts Receivable Turnover': '7.1 times',\n",
       "   'Capital Expenditures': 'NA',\n",
       "   'Research and Development Expenses': '10,656 million',\n",
       "   'Market Cap': '$2.5 trillion',\n",
       "   'Price-to-Earnings (P/E) Ratio': '35.8',\n",
       "   'Dividend Yield': '2.48%',\n",
       "   'Year-over-Year Growth Rate': '25.7%'},\n",
       "  'Apple (AAPL)': {'Revenue': '394,328',\n",
       "   'Net Income': '99,803',\n",
       "   'Earnings Per Share (EPS)': '6.11',\n",
       "   'EBITDA': '$133.255 billion',\n",
       "   'Free Cash Flow': '$107,606 million',\n",
       "   'Return on Equity (ROE)': 'NA',\n",
       "   'Return on Assets (ROA)': 'NA',\n",
       "   'Debt-to-Equity Ratio': 'NA',\n",
       "   'Current Ratio': '1.00',\n",
       "   'Gross Margin': '170,782',\n",
       "   'Operating Margin': '24.9%',\n",
       "   'Net Profit Margin': '16.8%',\n",
       "   'Inventory Turnover': 'NA',\n",
       "   'Accounts Receivable Turnover': '6.9 times',\n",
       "   'Capital Expenditures': 'NA',\n",
       "   'Research and Development Expenses': '$26,251 million',\n",
       "   'Market Cap': '$2,830,067 million',\n",
       "   'Price-to-Earnings (P/E) Ratio': '24.9',\n",
       "   'Dividend Yield': '1. 1.47%',\n",
       "   'Year-over-Year Growth Rate': '$28.5%'}}}"
      ]
     },
     "execution_count": 79,
     "metadata": {},
     "output_type": "execute_result"
    }
   ],
   "source": [
    "answers"
   ]
  },
  {
   "cell_type": "code",
   "execution_count": 73,
   "metadata": {},
   "outputs": [
    {
     "name": "stdout",
     "output_type": "stream",
     "text": [
      "2021\n",
      "2022\n"
     ]
    }
   ],
   "source": [
    "for key, value in answers.items():\n",
    "    print(key)"
   ]
  },
  {
   "cell_type": "code",
   "execution_count": 74,
   "metadata": {},
   "outputs": [
    {
     "name": "stdout",
     "output_type": "stream",
     "text": [
      "Amazon (AMZN)\n",
      "Microsoft (MSFT)\n",
      "Apple (AAPL)\n"
     ]
    }
   ],
   "source": [
    "for key, value in answers['2021'].items():\n",
    "    print(key)"
   ]
  },
  {
   "cell_type": "code",
   "execution_count": 79,
   "metadata": {},
   "outputs": [],
   "source": [
    "answers = json.loads(\"\"\"\\\n",
    "{'2021': {'Amazon (AMZN)': {'Revenue': '469,822 million',\n",
    "   'Net Income': '33,364',\n",
    "   'Earnings Per Share (EPS)': '64.81',\n",
    "   'EBITDA': '24,879',\n",
    "   'Free Cash Flow': '-$11,569',\n",
    "   'Return on Equity (ROE)': '22.9%',\n",
    "   'Return on Assets (ROA)': '5.9%',\n",
    "   'Debt-to-Equity Ratio': '0.63',\n",
    "   'Current Ratio': '1.02',\n",
    "   'Gross Margin': '41.0%',\n",
    "   'Operating Margin': '13.7%',\n",
    "   'Net Profit Margin': '6.8%',\n",
    "   'Inventory Turnover': '4.8 times',\n",
    "   'Accounts Receivable Turnover': '5.6 times',\n",
    "   'Capital Expenditures': '58.3 billion',\n",
    "   'Research and Development Expenses': 'Not significant',\n",
    "   'Market Cap': '$1.66 trillion',\n",
    "   'Price-to-Earnings (P/E) Ratio': '73.6',\n",
    "   'Dividend Yield': 'NA',\n",
    "   'Year-over-Year Growth Rate': '22%'},\n",
    "  'Microsoft (MSFT)': {'Revenue': '$168,088 million',\n",
    "   'Net Income': '$61,271 million',\n",
    "   'Earnings Per Share (EPS)': '8.05',\n",
    "   'EBITDA': '$ 76,632 million',\n",
    "   'Free Cash Flow': '28.7 billion',\n",
    "   'Return on Equity (ROE)': '27.4%',\n",
    "   'Return on Assets (ROA)': '10.9%',\n",
    "   'Debt-to-Equity Ratio': '0.30',\n",
    "   'Current Ratio': '1.79',\n",
    "   'Gross Margin': '$115.9 billion',\n",
    "   'Operating Margin': '32%',\n",
    "   'Net Profit Margin': '19.7%',\n",
    "   'Inventory Turnover': '2.5 times',\n",
    "   'Accounts Receivable Turnover': '7.5 times',\n",
    "   'Capital Expenditures': '$9.5 billion',\n",
    "   'Research and Development Expenses': '20,716 million',\n",
    "   'Market Cap': '$2.5 trillion',\n",
    "   'Price-to-Earnings (P/E) Ratio': '34.5',\n",
    "   'Dividend Yield': '1. 0.8%',\n",
    "   'Year-over-Year Growth Rate': '18%'},\n",
    "  'Apple (AAPL)': {'Revenue': '$365.817 billion',\n",
    "   'Net Income': '94,680 million',\n",
    "   'Earnings Per Share (EPS)': '5.61',\n",
    "   'EBITDA': '19,863',\n",
    "   'Free Cash Flow': '$ 73,000',\n",
    "   'Return on Equity (ROE)': '21.9%',\n",
    "   'Return on Assets (ROA)': '5.1%',\n",
    "   'Debt-to-Equity Ratio': '0.93',\n",
    "   'Current Ratio': '1.12',\n",
    "   'Gross Margin': '$152,836 million',\n",
    "   'Operating Margin': '44.7%',\n",
    "   'Net Profit Margin': '21.7%',\n",
    "   'Inventory Turnover': 'Not available',\n",
    "   'Accounts Receivable Turnover': '6.2 times',\n",
    "   'Capital Expenditures': '$9,000 million',\n",
    "   'Research and Development Expenses': '$21,914 million',\n",
    "   'Market Cap': '$2.46 trillion',\n",
    "   'Price-to-Earnings (P/E) Ratio': '28.11',\n",
    "   'Dividend Yield': '1. 0.0065',\n",
    "   'Year-over-Year Growth Rate': '33%'}},\n",
    " '2022': {'Amazon (AMZN)': {'Revenue': '513,983',\n",
    "   'Net Income': '(2,722)',\n",
    "   'Earnings Per Share (EPS)': '9.70',\n",
    "   'EBITDA': '$15,432 million',\n",
    "   'Free Cash Flow': '$-11,569 million',\n",
    "   'Return on Equity (ROE)': '8.4%',\n",
    "   'Return on Assets (ROA)': '6.9%',\n",
    "   'Debt-to-Equity Ratio': '1.39',\n",
    "   'Current Ratio': '1.1',\n",
    "   'Gross Margin': 'NA',\n",
    "   'Operating Margin': '16.9%',\n",
    "   'Net Profit Margin': 'NA',\n",
    "   'Inventory Turnover': 'NA',\n",
    "   'Accounts Receivable Turnover': '6.4 times',\n",
    "   'Capital Expenditures': '$58.3 billion',\n",
    "   'Research and Development Expenses': '$73,213 million',\n",
    "   'Market Cap': '$1.47 trillion',\n",
    "   'Price-to-Earnings (P/E) Ratio': 'NA',\n",
    "   'Dividend Yield': 'NA',\n",
    "   'Year-over-Year Growth Rate': '13%'},\n",
    "  'Microsoft (MSFT)': {'Revenue': '$198,270 million',\n",
    "   'Net Income': '72,738',\n",
    "   'Earnings Per Share (EPS)': '9.65',\n",
    "   'EBITDA': '$107.895 billion',\n",
    "   'Free Cash Flow': '$58.7 billion',\n",
    "   'Return on Equity (ROE)': '38.7%',\n",
    "   'Return on Assets (ROA)': '9.99%',\n",
    "   'Debt-to-Equity Ratio': '0.59',\n",
    "   'Current Ratio': '1.78',\n",
    "   'Gross Margin': '$135.620 billion',\n",
    "   'Operating Margin': '19%',\n",
    "   'Net Profit Margin': '19%',\n",
    "   'Inventory Turnover': '3.4 times',\n",
    "   'Accounts Receivable Turnover': '6.1 times',\n",
    "   'Capital Expenditures': '$8.5 billion',\n",
    "   'Research and Development Expenses': '$24,512 million',\n",
    "   'Market Cap': '$1.87 trillion',\n",
    "   'Price-to-Earnings (P/E) Ratio': '38.6',\n",
    "   'Dividend Yield': '2.0%',\n",
    "   'Year-over-Year Growth Rate': '18%'},\n",
    "  'Apple (AAPL)': {'Revenue': '394,328 million',\n",
    "   'Net Income': '99,803',\n",
    "   'Earnings Per Share (EPS)': '6.15',\n",
    "   'EBITDA': '$145,787 million',\n",
    "   'Free Cash Flow': '$ 88,531',\n",
    "   'Return on Equity (ROE)': '13.15%',\n",
    "   'Return on Assets (ROA)': '6.7%',\n",
    "   'Debt-to-Equity Ratio': '0.68',\n",
    "   'Current Ratio': '2.78',\n",
    "   'Gross Margin': '$170,782 million',\n",
    "   'Operating Margin': '37.9%',\n",
    "   'Net Profit Margin': '21.9%',\n",
    "   'Inventory Turnover': '1. 6.87',\n",
    "   'Accounts Receivable Turnover': '6.0 times',\n",
    "   'Capital Expenditures': '$42,117 million',\n",
    "   'Research and Development Expenses': '$26,251 million',\n",
    "   'Market Cap': '$2.9 trillion',\n",
    "   'Price-to-Earnings (P/E) Ratio': '24.6',\n",
    "   'Dividend Yield': '0.0054',\n",
    "   'Year-over-Year Growth Rate': '8%'}}}\n",
    "\"\"\".replace(\"\\'\", \"\\\"\"))"
   ]
  },
  {
   "cell_type": "code",
   "execution_count": 81,
   "metadata": {},
   "outputs": [],
   "source": [
    "def flatten_dict(d, parent_key='', sep='_'):\n",
    "    items = []\n",
    "    for k, v in d.items():\n",
    "        new_key = f\"{parent_key}{sep}{k}\" if parent_key else k\n",
    "        if isinstance(v, dict):\n",
    "            items.extend(flatten_dict(v, new_key, sep=sep).items())\n",
    "        else:\n",
    "            items.append((new_key, v))\n",
    "    return dict(items)\n",
    "\n",
    "# Flatten the nested dictionary\n",
    "flat_data = []\n",
    "for year, companies in answers.items():\n",
    "    for company, metrics in companies.items():\n",
    "        flat_metrics = flatten_dict(metrics)\n",
    "        flat_metrics['Year'] = year\n",
    "        flat_metrics['Company'] = company\n",
    "        flat_data.append(flat_metrics)\n",
    "\n",
    "# Get all unique keys to use as CSV headers\n",
    "headers = set()\n",
    "for item in flat_data:\n",
    "    headers.update(item.keys())\n",
    "\n",
    "# Sort headers to ensure 'Year' and 'Company' come first\n",
    "headers = sorted(headers)\n",
    "headers.insert(0, headers.pop(headers.index('Year')))\n",
    "headers.insert(1, headers.pop(headers.index('Company')))\n",
    "\n",
    "# Write to CSV\n",
    "with open('sec_10k_analysis_form_filling.csv', 'w', newline='', encoding='utf-8') as csvfile:\n",
    "    writer = csv.DictWriter(csvfile, fieldnames=headers)\n",
    "    writer.writeheader()\n",
    "    for row in flat_data:\n",
    "        writer.writerow(row)"
   ]
  },
  {
   "cell_type": "code",
   "execution_count": 82,
   "metadata": {},
   "outputs": [
    {
     "data": {
      "text/plain": [
       "[{'Revenue': '469,822',\n",
       "  'Net Income': '33,364',\n",
       "  'Earnings Per Share (EPS)': '3.30',\n",
       "  'EBITDA': '24,879',\n",
       "  'Free Cash Flow': 'NA',\n",
       "  'Return on Equity (ROE)': 'NA',\n",
       "  'Return on Assets (ROA)': '5.4%',\n",
       "  'Debt-to-Equity Ratio': '0.44',\n",
       "  'Current Ratio': '1.8',\n",
       "  'Gross Margin': '$24,879 million',\n",
       "  'Operating Margin': '13.2%',\n",
       "  'Net Profit Margin': '9.1%',\n",
       "  'Inventory Turnover': 'NA',\n",
       "  'Accounts Receivable Turnover': '5.7 times',\n",
       "  'Capital Expenditures': '$72.325 billion',\n",
       "  'Research and Development Expenses': '$2.6 billion',\n",
       "  'Market Cap': '$1,507,362,696,975',\n",
       "  'Price-to-Earnings (P/E) Ratio': '73.57',\n",
       "  'Dividend Yield': 'NA',\n",
       "  'Year-over-Year Growth Rate': '44.5%',\n",
       "  'Year': '2021',\n",
       "  'Company': 'Amazon (AMZN)'},\n",
       " {'Revenue': '$168,088 million',\n",
       "  'Net Income': '$61,271 million',\n",
       "  'Earnings Per Share (EPS)': '8.12 Basic, 8.05 Diluted',\n",
       "  'EBITDA': '$72.6 billion',\n",
       "  'Free Cash Flow': '16,065 million',\n",
       "  'Return on Equity (ROE)': '21.4%',\n",
       "  'Return on Assets (ROA)': '6.5%',\n",
       "  'Debt-to-Equity Ratio': '0.92',\n",
       "  'Current Ratio': '2.0',\n",
       "  'Gross Margin': '$115,856',\n",
       "  'Operating Margin': '23.6%',\n",
       "  'Net Profit Margin': '19.7%',\n",
       "  'Inventory Turnover': '5.3 times',\n",
       "  'Accounts Receivable Turnover': '7.6 times',\n",
       "  'Capital Expenditures': '$9.5 billion',\n",
       "  'Research and Development Expenses': '$20.3 billion',\n",
       "  'Market Cap': '$2.48 trillion',\n",
       "  'Price-to-Earnings (P/E) Ratio': '37.5',\n",
       "  'Dividend Yield': '0.94%',\n",
       "  'Year-over-Year Growth Rate': '37.5%',\n",
       "  'Year': '2021',\n",
       "  'Company': 'Microsoft (MSFT)'},\n",
       " {'Revenue': '$365,817 million',\n",
       "  'Net Income': '94,680 million',\n",
       "  'Earnings Per Share (EPS)': '5.67',\n",
       "  'EBITDA': 'NA',\n",
       "  'Free Cash Flow': '24,164 million',\n",
       "  'Return on Equity (ROE)': 'NA',\n",
       "  'Return on Assets (ROA)': 'NA',\n",
       "  'Debt-to-Equity Ratio': '0.47',\n",
       "  'Current Ratio': '1.19',\n",
       "  'Gross Margin': '$152,836',\n",
       "  'Operating Margin': '24.5%',\n",
       "  'Net Profit Margin': '21.8%',\n",
       "  'Inventory Turnover': 'NA',\n",
       "  'Accounts Receivable Turnover': 'Not available',\n",
       "  'Capital Expenditures': '$10,708 million',\n",
       "  'Research and Development Expenses': '21,914 million',\n",
       "  'Market Cap': '$2.02 trillion',\n",
       "  'Price-to-Earnings (P/E) Ratio': '25.7',\n",
       "  'Dividend Yield': '1. 0.0057',\n",
       "  'Year-over-Year Growth Rate': '38.0%',\n",
       "  'Year': '2021',\n",
       "  'Company': 'Apple (AAPL)'},\n",
       " {'Revenue': '513,983',\n",
       "  'Net Income': '(2,722)',\n",
       "  'Earnings Per Share (EPS)': '(0.27)',\n",
       "  'EBITDA': '12.248 billion',\n",
       "  'Free Cash Flow': 'NA',\n",
       "  'Return on Equity (ROE)': '8.7%',\n",
       "  'Return on Assets (ROA)': '6.5%',\n",
       "  'Debt-to-Equity Ratio': '0.05',\n",
       "  'Current Ratio': 'NA',\n",
       "  'Gross Margin': '$12,248 million',\n",
       "  'Operating Margin': '-4.7%',\n",
       "  'Net Profit Margin': '-0.5%',\n",
       "  'Inventory Turnover': 'NA',\n",
       "  'Accounts Receivable Turnover': '6.1 times',\n",
       "  'Capital Expenditures': '60.836 billion',\n",
       "  'Research and Development Expenses': '$720 million',\n",
       "  'Market Cap': '$1.46 trillion',\n",
       "  'Price-to-Earnings (P/E) Ratio': 'NA',\n",
       "  'Dividend Yield': 'NA',\n",
       "  'Year-over-Year Growth Rate': 'Negative 63.2%',\n",
       "  'Year': '2022',\n",
       "  'Company': 'Amazon (AMZN)'},\n",
       " {'Revenue': '198,270',\n",
       "  'Net Income': '$72,738 million',\n",
       "  'Earnings Per Share (EPS)': '9.70 (Basic), 9.65 (Diluted)',\n",
       "  'EBITDA': '$76.5 billion',\n",
       "  'Free Cash Flow': '89,035 million',\n",
       "  'Return on Equity (ROE)': '22.5%',\n",
       "  'Return on Assets (ROA)': '$72,738 million',\n",
       "  'Debt-to-Equity Ratio': 'NA',\n",
       "  'Current Ratio': '1.9',\n",
       "  'Gross Margin': '135,620',\n",
       "  'Operating Margin': '39.7%',\n",
       "  'Net Profit Margin': '19.7%',\n",
       "  'Inventory Turnover': '5.1 times',\n",
       "  'Accounts Receivable Turnover': '7.1 times',\n",
       "  'Capital Expenditures': 'NA',\n",
       "  'Research and Development Expenses': '10,656 million',\n",
       "  'Market Cap': '$2.5 trillion',\n",
       "  'Price-to-Earnings (P/E) Ratio': '35.8',\n",
       "  'Dividend Yield': '2.48%',\n",
       "  'Year-over-Year Growth Rate': '25.7%',\n",
       "  'Year': '2022',\n",
       "  'Company': 'Microsoft (MSFT)'},\n",
       " {'Revenue': '394,328',\n",
       "  'Net Income': '99,803',\n",
       "  'Earnings Per Share (EPS)': '6.11',\n",
       "  'EBITDA': '$133.255 billion',\n",
       "  'Free Cash Flow': '$107,606 million',\n",
       "  'Return on Equity (ROE)': 'NA',\n",
       "  'Return on Assets (ROA)': 'NA',\n",
       "  'Debt-to-Equity Ratio': 'NA',\n",
       "  'Current Ratio': '1.00',\n",
       "  'Gross Margin': '170,782',\n",
       "  'Operating Margin': '24.9%',\n",
       "  'Net Profit Margin': '16.8%',\n",
       "  'Inventory Turnover': 'NA',\n",
       "  'Accounts Receivable Turnover': '6.9 times',\n",
       "  'Capital Expenditures': 'NA',\n",
       "  'Research and Development Expenses': '$26,251 million',\n",
       "  'Market Cap': '$2,830,067 million',\n",
       "  'Price-to-Earnings (P/E) Ratio': '24.9',\n",
       "  'Dividend Yield': '1. 1.47%',\n",
       "  'Year-over-Year Growth Rate': '$28.5%',\n",
       "  'Year': '2022',\n",
       "  'Company': 'Apple (AAPL)'}]"
      ]
     },
     "execution_count": 82,
     "metadata": {},
     "output_type": "execute_result"
    }
   ],
   "source": [
    "flat_data"
   ]
  },
  {
   "cell_type": "code",
   "execution_count": null,
   "metadata": {},
   "outputs": [],
   "source": [
    "import pandas as pd\n",
    "from IPython.core.display import HTML\n",
    "\n",
    "pd.set_option('display.max_colwidth', 10)\n",
    "out_df = pd.read_csv(\"sec_10k_analysis_form_filling.csv\")"
   ]
  },
  {
   "cell_type": "code",
   "execution_count": 82,
   "metadata": {},
   "outputs": [
    {
     "data": {
      "text/html": [
       "<table border=\"1\" class=\"dataframe\">\n",
       "  <thead>\n",
       "    <tr style=\"text-align: right;\">\n",
       "      <th></th>\n",
       "      <th>Year</th>\n",
       "      <th>Company</th>\n",
       "      <th>Accounts Receivable Turnover</th>\n",
       "      <th>Capital Expenditures</th>\n",
       "      <th>Current Ratio</th>\n",
       "      <th>Debt-to-Equity Ratio</th>\n",
       "      <th>Dividend Yield</th>\n",
       "      <th>EBITDA</th>\n",
       "      <th>Earnings Per Share (EPS)</th>\n",
       "      <th>Free Cash Flow</th>\n",
       "      <th>Gross Margin</th>\n",
       "      <th>Inventory Turnover</th>\n",
       "      <th>Market Cap</th>\n",
       "      <th>Net Income</th>\n",
       "      <th>Net Profit Margin</th>\n",
       "      <th>Operating Margin</th>\n",
       "      <th>Price-to-Earnings (P/E) Ratio</th>\n",
       "      <th>Research and Development Expenses</th>\n",
       "      <th>Return on Assets (ROA)</th>\n",
       "      <th>Return on Equity (ROE)</th>\n",
       "      <th>Revenue</th>\n",
       "      <th>Year-over-Year Growth Rate</th>\n",
       "    </tr>\n",
       "  </thead>\n",
       "  <tbody>\n",
       "    <tr>\n",
       "      <th>0</th>\n",
       "      <td>2021</td>\n",
       "      <td>Amazon (AMZN)</td>\n",
       "      <td>5.6 times</td>\n",
       "      <td>58.3 billion</td>\n",
       "      <td>1.02</td>\n",
       "      <td>0.63</td>\n",
       "      <td>NaN</td>\n",
       "      <td>24,879</td>\n",
       "      <td>64.81</td>\n",
       "      <td>-$11,569</td>\n",
       "      <td>41.0%</td>\n",
       "      <td>4.8 times</td>\n",
       "      <td>$1.66 trillion</td>\n",
       "      <td>33,364</td>\n",
       "      <td>6.8%</td>\n",
       "      <td>13.7%</td>\n",
       "      <td>73.60</td>\n",
       "      <td>Not significant</td>\n",
       "      <td>5.9%</td>\n",
       "      <td>22.9%</td>\n",
       "      <td>469,822 million</td>\n",
       "      <td>22%</td>\n",
       "    </tr>\n",
       "    <tr>\n",
       "      <th>1</th>\n",
       "      <td>2021</td>\n",
       "      <td>Microsoft (MSFT)</td>\n",
       "      <td>7.5 times</td>\n",
       "      <td>$9.5 billion</td>\n",
       "      <td>1.79</td>\n",
       "      <td>0.30</td>\n",
       "      <td>1. 0.8%</td>\n",
       "      <td>$ 76,632 million</td>\n",
       "      <td>8.05</td>\n",
       "      <td>28.7 billion</td>\n",
       "      <td>$115.9 billion</td>\n",
       "      <td>2.5 times</td>\n",
       "      <td>$2.5 trillion</td>\n",
       "      <td>$61,271 million</td>\n",
       "      <td>19.7%</td>\n",
       "      <td>32%</td>\n",
       "      <td>34.50</td>\n",
       "      <td>20,716 million</td>\n",
       "      <td>10.9%</td>\n",
       "      <td>27.4%</td>\n",
       "      <td>$168,088 million</td>\n",
       "      <td>18%</td>\n",
       "    </tr>\n",
       "    <tr>\n",
       "      <th>2</th>\n",
       "      <td>2021</td>\n",
       "      <td>Apple (AAPL)</td>\n",
       "      <td>6.2 times</td>\n",
       "      <td>$9,000 million</td>\n",
       "      <td>1.12</td>\n",
       "      <td>0.93</td>\n",
       "      <td>1. 0.0065</td>\n",
       "      <td>19,863</td>\n",
       "      <td>5.61</td>\n",
       "      <td>$ 73,000</td>\n",
       "      <td>$152,836 million</td>\n",
       "      <td>Not available</td>\n",
       "      <td>$2.46 trillion</td>\n",
       "      <td>94,680 million</td>\n",
       "      <td>21.7%</td>\n",
       "      <td>44.7%</td>\n",
       "      <td>28.11</td>\n",
       "      <td>$21,914 million</td>\n",
       "      <td>5.1%</td>\n",
       "      <td>21.9%</td>\n",
       "      <td>$365.817 billion</td>\n",
       "      <td>33%</td>\n",
       "    </tr>\n",
       "    <tr>\n",
       "      <th>3</th>\n",
       "      <td>2022</td>\n",
       "      <td>Amazon (AMZN)</td>\n",
       "      <td>6.4 times</td>\n",
       "      <td>$58.3 billion</td>\n",
       "      <td>1.10</td>\n",
       "      <td>1.39</td>\n",
       "      <td>NaN</td>\n",
       "      <td>$15,432 million</td>\n",
       "      <td>9.70</td>\n",
       "      <td>$-11,569 million</td>\n",
       "      <td>NaN</td>\n",
       "      <td>NaN</td>\n",
       "      <td>$1.47 trillion</td>\n",
       "      <td>(2,722)</td>\n",
       "      <td>NaN</td>\n",
       "      <td>16.9%</td>\n",
       "      <td>NaN</td>\n",
       "      <td>$73,213 million</td>\n",
       "      <td>6.9%</td>\n",
       "      <td>8.4%</td>\n",
       "      <td>513,983</td>\n",
       "      <td>13%</td>\n",
       "    </tr>\n",
       "    <tr>\n",
       "      <th>4</th>\n",
       "      <td>2022</td>\n",
       "      <td>Microsoft (MSFT)</td>\n",
       "      <td>6.1 times</td>\n",
       "      <td>$8.5 billion</td>\n",
       "      <td>1.78</td>\n",
       "      <td>0.59</td>\n",
       "      <td>2.0%</td>\n",
       "      <td>$107.895 billion</td>\n",
       "      <td>9.65</td>\n",
       "      <td>$58.7 billion</td>\n",
       "      <td>$135.620 billion</td>\n",
       "      <td>3.4 times</td>\n",
       "      <td>$1.87 trillion</td>\n",
       "      <td>72,738</td>\n",
       "      <td>19%</td>\n",
       "      <td>19%</td>\n",
       "      <td>38.60</td>\n",
       "      <td>$24,512 million</td>\n",
       "      <td>9.99%</td>\n",
       "      <td>38.7%</td>\n",
       "      <td>$198,270 million</td>\n",
       "      <td>18%</td>\n",
       "    </tr>\n",
       "    <tr>\n",
       "      <th>5</th>\n",
       "      <td>2022</td>\n",
       "      <td>Apple (AAPL)</td>\n",
       "      <td>6.0 times</td>\n",
       "      <td>$42,117 million</td>\n",
       "      <td>2.78</td>\n",
       "      <td>0.68</td>\n",
       "      <td>0.0054</td>\n",
       "      <td>$145,787 million</td>\n",
       "      <td>6.15</td>\n",
       "      <td>$ 88,531</td>\n",
       "      <td>$170,782 million</td>\n",
       "      <td>1. 6.87</td>\n",
       "      <td>$2.9 trillion</td>\n",
       "      <td>99,803</td>\n",
       "      <td>21.9%</td>\n",
       "      <td>37.9%</td>\n",
       "      <td>24.60</td>\n",
       "      <td>$26,251 million</td>\n",
       "      <td>6.7%</td>\n",
       "      <td>13.15%</td>\n",
       "      <td>394,328 million</td>\n",
       "      <td>8%</td>\n",
       "    </tr>\n",
       "  </tbody>\n",
       "</table>"
      ],
      "text/plain": [
       "<IPython.core.display.HTML object>"
      ]
     },
     "execution_count": 82,
     "metadata": {},
     "output_type": "execute_result"
    }
   ],
   "source": [
    "html = out_df.to_html()\n",
    "HTML(html)"
   ]
  }
 ],
 "metadata": {
  "kernelspec": {
   "display_name": "lparser",
   "language": "python",
   "name": "lparser"
  },
  "language_info": {
   "codemirror_mode": {
    "name": "ipython",
    "version": 3
   },
   "file_extension": ".py",
   "mimetype": "text/x-python",
   "name": "python",
   "nbconvert_exporter": "python",
   "pygments_lexer": "ipython3",
   "version": "3.9.13"
  }
 },
 "nbformat": 4,
 "nbformat_minor": 2
}
