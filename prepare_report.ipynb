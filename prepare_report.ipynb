{
 "cells": [
  {
   "cell_type": "code",
   "execution_count": 2,
   "metadata": {},
   "outputs": [
    {
     "data": {
      "text/plain": [
       "True"
      ]
     },
     "execution_count": 2,
     "metadata": {},
     "output_type": "execute_result"
    }
   ],
   "source": [
    "from dotenv import load_dotenv\n",
    "load_dotenv()"
   ]
  },
  {
   "cell_type": "code",
   "execution_count": 6,
   "metadata": {},
   "outputs": [],
   "source": [
    "import nest_asyncio\n",
    "nest_asyncio.apply()"
   ]
  },
  {
   "cell_type": "code",
   "execution_count": 59,
   "metadata": {},
   "outputs": [],
   "source": [
    "from typing import List\n",
    "from pydantic import BaseModel\n",
    "import os\n",
    "import json\n",
    "import csv\n",
    "\n",
    "from llama_parse import LlamaParse\n",
    "from llama_index.core.schema import Document\n",
    "from llama_index.llms.openai import OpenAI\n",
    "import nest_asyncio\n",
    "\n",
    "nest_asyncio.apply()"
   ]
  },
  {
   "cell_type": "code",
   "execution_count": 94,
   "metadata": {},
   "outputs": [],
   "source": [
    "## Parse the Form Filing File\n",
    "def parse_file(file_path: str) -> List[Document]:\n",
    "    llama_parse = LlamaParse(\n",
    "        api_key=os.environ['LLAMA_CLOUD_API_KEY'],\n",
    "        result_type='markdown',\n",
    "    )\n",
    "    result = llama_parse.load_data(\n",
    "        file_path,\n",
    "    )\n",
    "    return result"
   ]
  },
  {
   "cell_type": "code",
   "execution_count": 95,
   "metadata": {},
   "outputs": [
    {
     "name": "stdout",
     "output_type": "stream",
     "text": [
      "Started parsing the file under job_id 566ecfd2-f562-4af7-b6b9-b2a969b9caab\n"
     ]
    }
   ],
   "source": [
    "documents = parse_file('data/Report_format_2.xlsx')"
   ]
  },
  {
   "cell_type": "code",
   "execution_count": 96,
   "metadata": {},
   "outputs": [
    {
     "name": "stdout",
     "output_type": "stream",
     "text": [
      "<class 'list'>\n",
      "1\n"
     ]
    }
   ],
   "source": [
    "print(type(documents))\n",
    "print(len(documents))"
   ]
  },
  {
   "cell_type": "code",
   "execution_count": 97,
   "metadata": {},
   "outputs": [
    {
     "name": "stdout",
     "output_type": "stream",
     "text": [
      "Doc length: 1\n",
      "|Items to be Improved                  |Improvement Parameters|                     |                |\n",
      "|--------------------------------------|----------------------|---------------------|----------------|\n",
      "|                                      |True Cause            |Improvement Direction|Improvement Plan|\n",
      "|Product master mold surface inspection|                      |                     |                |\n",
      "|Product hardware inspection           |                      |                     |                |\n",
      "|Product wear rod                      |                      |                     |                |\n",
      "\n"
     ]
    }
   ],
   "source": [
    "print(f'Doc length: {len(documents)}')\n",
    "print(documents[0].text)"
   ]
  },
  {
   "cell_type": "code",
   "execution_count": 98,
   "metadata": {},
   "outputs": [],
   "source": [
    "text = documents[0].text"
   ]
  },
  {
   "cell_type": "code",
   "execution_count": 148,
   "metadata": {},
   "outputs": [],
   "source": [
    "## Structured Extraction\n",
    "prompt = f\"\"\"\n",
    "You are an AI assistant specializing in Industrial Engineering problem solving. You've been given an Excel spreadsheet containing items to be improved. \\ \n",
    "Your task is to extract and structure this information in a clear, organized format.\n",
    "\n",
    "The Excel sheet contains the following:\n",
    "1. Issues to be improved (rows)\n",
    "2. Improvement parameters (columns)\n",
    "3. Various Improvement topic (sub-columns)\n",
    "\n",
    "Input Excel data:\n",
    "{text}\n",
    "\n",
    "Please present the extracted and structured information in a clear, easy-to-read format.\n",
    "\"\"\""
   ]
  },
  {
   "cell_type": "code",
   "execution_count": 149,
   "metadata": {},
   "outputs": [],
   "source": [
    "class ReportParameters(BaseModel):\n",
    "    \"\"\"Data model for IE problem solving analysis.\"\"\"\n",
    "    ItemsToBeImproved: List[str]\n",
    "    ImprovementParameters: List[str]"
   ]
  },
  {
   "cell_type": "code",
   "execution_count": 150,
   "metadata": {},
   "outputs": [],
   "source": [
    "llm = OpenAI(model='gpt-4o-mini')"
   ]
  },
  {
   "cell_type": "code",
   "execution_count": 151,
   "metadata": {},
   "outputs": [],
   "source": [
    "from llama_index.core.llms import ChatMessage\n",
    "sllm = llm.as_structured_llm(output_cls=ReportParameters)\n",
    "input_msg = ChatMessage.from_str(prompt)"
   ]
  },
  {
   "cell_type": "code",
   "execution_count": 152,
   "metadata": {},
   "outputs": [
    {
     "data": {
      "text/plain": [
       "ReportParameters(ItemsToBeImproved=['Product master mold surface inspection', 'Product hardware inspection', 'Product wear rod'], ImprovementParameters=['True Cause', 'Improvement Direction', 'Improvement Plan'])"
      ]
     },
     "execution_count": 152,
     "metadata": {},
     "output_type": "execute_result"
    }
   ],
   "source": [
    "output = sllm.chat([input_msg])\n",
    "output_obj = output.raw\n",
    "output_obj"
   ]
  },
  {
   "cell_type": "code",
   "execution_count": 153,
   "metadata": {},
   "outputs": [
    {
     "name": "stdout",
     "output_type": "stream",
     "text": [
      "<class '__main__.ReportParameters'>\n",
      "['Product master mold surface inspection', 'Product hardware inspection', 'Product wear rod']\n",
      "['True Cause', 'Improvement Direction', 'Improvement Plan']\n"
     ]
    }
   ],
   "source": [
    "print(type(output_obj))\n",
    "print(output_obj.ItemsToBeImproved)\n",
    "print(output_obj.ImprovementParameters)"
   ]
  },
  {
   "cell_type": "code",
   "execution_count": 154,
   "metadata": {},
   "outputs": [],
   "source": [
    "from llama_index.indices.managed.llama_cloud import LlamaCloudIndex\n",
    "# pip install llama-index-indices-managed-llama-cloud\n",
    "index = LlamaCloudIndex(\n",
    "  name=\"template-2-2024-11-25\", \n",
    "  project_name=\"Default\",\n",
    "  organization_id=\"2033a7fc-187e-48e4-a172-5079c4ee2bbf\",\n",
    "  api_key=os.environ['LLAMA_CLOUD_API_KEY']\n",
    ")"
   ]
  },
  {
   "cell_type": "code",
   "execution_count": 155,
   "metadata": {},
   "outputs": [],
   "source": [
    "query_engine = index.as_query_engine(\n",
    "    dense_similarity_top_k=10,\n",
    "    sparse_similarity_top_k=10,\n",
    "    alpha=0.5,\n",
    "    enable_reranking=True,\n",
    "    rerank_top_n=5,\n",
    ")"
   ]
  },
  {
   "cell_type": "code",
   "execution_count": 156,
   "metadata": {},
   "outputs": [],
   "source": [
    "ItemsToBeImproved = output_obj.ItemsToBeImproved\n",
    "ImprovementParameters = output_obj.ImprovementParameters"
   ]
  },
  {
   "cell_type": "code",
   "execution_count": 158,
   "metadata": {},
   "outputs": [
    {
     "name": "stdout",
     "output_type": "stream",
     "text": [
      "Product master mold surface inspection\n",
      "Product hardware inspection\n",
      "Product wear rod\n",
      "True Cause\n",
      "Improvement Direction\n",
      "Improvement Plan\n"
     ]
    }
   ],
   "source": [
    "for item in ItemsToBeImproved:\n",
    "    print(item)\n",
    "for paramter in ImprovementParameters:\n",
    "    print(paramter)\n"
   ]
  },
  {
   "cell_type": "code",
   "execution_count": null,
   "metadata": {},
   "outputs": [],
   "source": []
  },
  {
   "cell_type": "code",
   "execution_count": null,
   "metadata": {},
   "outputs": [
    {
     "data": {
      "text/plain": [
       "{'True Cause': {}, 'Improvement Direction': {}, 'Improvement Plan': {}}"
      ]
     },
     "execution_count": 160,
     "metadata": {},
     "output_type": "execute_result"
    }
   ],
   "source": [
    "from tqdm import tqdm\n",
    "items_to_be_improved = {}\n",
    "for parameter in ImprovementParameters:\n",
    "    items_to_be_improved[parameter] = {}\n",
    "    for item in tqdm(ItemsToBeImproved):\n",
    "        query = f\"What is the {parameter} for {item}? If you don't know the answer then say 'NA'\"\n",
    "        # answer = str(query_engine.query(query))\n",
    "items_to_be_improved"
   ]
  },
  {
   "cell_type": "code",
   "execution_count": 161,
   "metadata": {},
   "outputs": [],
   "source": [
    "from tqdm import tqdm\n",
    "def generate_answers(ItemsToBeImproved: List[str], ImprovementParameters: List[str]) -> List[str]:\n",
    "    items_to_be_improved = {}\n",
    "    for parameter in ImprovementParameters:\n",
    "        items_to_be_improved[parameter] = {}\n",
    "        for problem in tqdm(ItemsToBeImproved):\n",
    "            query = f\"What is the {parameter} for {problem}? If you don't know the answer then say 'NA'\"\n",
    "            answer = str(query_engine.query(query))\n",
    "            items_to_be_improved[parameter][problem] = answer\n",
    "    return items_to_be_improved"
   ]
  },
  {
   "cell_type": "code",
   "execution_count": 162,
   "metadata": {},
   "outputs": [],
   "source": [
    "# ItemsToBeImproved = output_obj.ItemsToBeImproved\n",
    "# ImprovementParameters = output_obj.TrueCause"
   ]
  },
  {
   "cell_type": "code",
   "execution_count": 163,
   "metadata": {},
   "outputs": [
    {
     "name": "stderr",
     "output_type": "stream",
     "text": [
      "100%|██████████████████████████████████████████████████████████████████████████████████████████████████████████████████████████████████████████████████████████████████████████████████| 3/3 [00:06<00:00,  2.21s/it]\n",
      "100%|██████████████████████████████████████████████████████████████████████████████████████████████████████████████████████████████████████████████████████████████████████████████████| 3/3 [00:04<00:00,  1.42s/it]\n",
      "100%|██████████████████████████████████████████████████████████████████████████████████████████████████████████████████████████████████████████████████████████████████████████████████| 3/3 [00:05<00:00,  1.68s/it]\n"
     ]
    }
   ],
   "source": [
    "answers = generate_answers(ItemsToBeImproved, ImprovementParameters)"
   ]
  },
  {
   "cell_type": "code",
   "execution_count": 164,
   "metadata": {},
   "outputs": [
    {
     "data": {
      "text/plain": [
       "{'True Cause': {'Product master mold surface inspection': \"Product master mold surface inspection's True Cause is Product discoloration.\",\n",
       "  'Product hardware inspection': 'Visual fatigue during inspection',\n",
       "  'Product wear rod': 'Visual fatigue during inspection'},\n",
       " 'Improvement Direction': {'Product master mold surface inspection': 'Optimize inspection method.',\n",
       "  'Product hardware inspection': 'Cancel discoloration defect check, Cancel unsaturated mold defect check, Check all products before threading the rod, After the product is inserted into the pole, the entire product is inspected together.',\n",
       "  'Product wear rod': 'Add a jig to replace manual alignment and threading of rods.'},\n",
       " 'Improvement Plan': {'Product master mold surface inspection': 'Reduce the number of checks and frequency, cancel discoloration defect check and unsaturated mold defect check, optimize inspection method by checking all products before threading the rod and inspecting the entire product after it is inserted into the pole.',\n",
       "  'Product hardware inspection': 'NA',\n",
       "  'Product wear rod': 'Check all products before threading the rod. Add a jig to replace manual alignment and threading of rods.'}}"
      ]
     },
     "execution_count": 164,
     "metadata": {},
     "output_type": "execute_result"
    }
   ],
   "source": [
    "answers"
   ]
  },
  {
   "cell_type": "code",
   "execution_count": 170,
   "metadata": {},
   "outputs": [],
   "source": [
    "def flatten_dict(d, parent_key='', sep='_'):\n",
    "    items = []\n",
    "    for k, v in d.items():\n",
    "        new_key = f\"{parent_key}{sep}{k}\" if parent_key else k\n",
    "        if isinstance(v, dict):\n",
    "            items.extend(flatten_dict(v, new_key, sep=sep).items())\n",
    "        else:\n",
    "            items.append((new_key, v))\n",
    "    return dict(items)\n",
    "flat_data = []\n",
    "for parameter, metrics in answers.items():\n",
    "    flat_metrics = flatten_dict(metrics)\n",
    "    flat_metrics['parameter'] = parameter \n",
    "    flat_data.append(flat_metrics)"
   ]
  },
  {
   "cell_type": "code",
   "execution_count": 171,
   "metadata": {},
   "outputs": [
    {
     "data": {
      "text/plain": [
       "[{'Product master mold surface inspection': \"Product master mold surface inspection's True Cause is Product discoloration.\",\n",
       "  'Product hardware inspection': 'Visual fatigue during inspection',\n",
       "  'Product wear rod': 'Visual fatigue during inspection',\n",
       "  'parameter': 'True Cause'},\n",
       " {'Product master mold surface inspection': 'Optimize inspection method.',\n",
       "  'Product hardware inspection': 'Cancel discoloration defect check, Cancel unsaturated mold defect check, Check all products before threading the rod, After the product is inserted into the pole, the entire product is inspected together.',\n",
       "  'Product wear rod': 'Add a jig to replace manual alignment and threading of rods.',\n",
       "  'parameter': 'Improvement Direction'},\n",
       " {'Product master mold surface inspection': 'Reduce the number of checks and frequency, cancel discoloration defect check and unsaturated mold defect check, optimize inspection method by checking all products before threading the rod and inspecting the entire product after it is inserted into the pole.',\n",
       "  'Product hardware inspection': 'NA',\n",
       "  'Product wear rod': 'Check all products before threading the rod. Add a jig to replace manual alignment and threading of rods.',\n",
       "  'parameter': 'Improvement Plan'}]"
      ]
     },
     "execution_count": 171,
     "metadata": {},
     "output_type": "execute_result"
    }
   ],
   "source": [
    "flat_data"
   ]
  },
  {
   "cell_type": "code",
   "execution_count": 56,
   "metadata": {},
   "outputs": [],
   "source": [
    "# answers = json.loads(\"\"\"\n",
    "# {'The saturation of the lower glass point Xiaoli Pill is 65%': 'Judgment of value and reduce tasks without added value, Inspection of movement quality and human engineering hazards: Reduce the number of movements, work with both hands at the same time, shorten the distance of movements, and make movements easier; eliminate human engineering hazards, Automated level inspection: simple and automated import, Merge and rearrange new job elements.',\n",
    "#  'Bottom glass electrophoresis tank+UVFixed baking operation saturation 79.2%': 'The improvement direction for Bottom glass electrophoresis tank+UVFixed baking operation saturation 79.2% is to reduce tasks without added value, inspect movement quality and human engineering hazards, conduct automated level inspection, and merge and rearrange new job elements.',\n",
    "#  'Xiaoliwan wax+Paste conductive foam+Lower glass glue frame dispensing operation saturation75%': 'The improvement direction for Xiaoliwan wax+Paste conductive foam+Lower glass glue frame dispensing operation saturation75% is to reduce the number of movements, work with both hands at the same time, shorten the distance of movements, and make movements easier; eliminate human engineering hazards.'}\n",
    "# \"\"\")"
   ]
  },
  {
   "cell_type": "code",
   "execution_count": 177,
   "metadata": {},
   "outputs": [],
   "source": [
    "def flatten_dict(d, parent_key='', sep='_'):\n",
    "    items = []\n",
    "    for k, v in d.items():\n",
    "        new_key = f\"{parent_key}{sep}{k}\" if parent_key else k\n",
    "        if isinstance(v, dict):\n",
    "            items.extend(flatten_dict(v, new_key, sep=sep).items())\n",
    "        else:\n",
    "            items.append((new_key, v))\n",
    "    return dict(items)\n",
    "\n",
    "# Flatten the nested dictionary\n",
    "flat_data = []\n",
    "for parameter, metrics in answers.items():\n",
    "    flat_metrics = flatten_dict(metrics)\n",
    "    flat_metrics['parameter'] = parameter \n",
    "    flat_data.append(flat_metrics)\n",
    "\n",
    "# Get all unique keys to use as CSV headers\n",
    "headers = set()\n",
    "for item in flat_data:\n",
    "    headers.update(item.keys())\n",
    "\n",
    "# Sort headers to ensure 'Items to be improved' comes first\n",
    "headers = sorted(headers)\n",
    "headers.insert(0, headers.pop(headers.index('parameter')))\n",
    "# headers.insert(1, headers.pop(headers.index('Improvement Parameters')))\n",
    "\n",
    "# Write to CSV\n",
    "with open('Report_format_2.csv', 'w', newline='', encoding='utf-8') as csvfile:\n",
    "    writer = csv.DictWriter(csvfile, fieldnames=headers)\n",
    "    writer.writeheader()\n",
    "    for row in flat_data:\n",
    "        writer.writerow(row)"
   ]
  },
  {
   "cell_type": "code",
   "execution_count": 179,
   "metadata": {},
   "outputs": [
    {
     "data": {
      "text/html": [
       "<table border=\"1\" class=\"dataframe\">\n",
       "  <thead>\n",
       "    <tr style=\"text-align: right;\">\n",
       "      <th></th>\n",
       "      <th>parameter</th>\n",
       "      <th>Product hardware inspection</th>\n",
       "      <th>Product master mold surface inspection</th>\n",
       "      <th>Product wear rod</th>\n",
       "    </tr>\n",
       "  </thead>\n",
       "  <tbody>\n",
       "    <tr>\n",
       "      <th>0</th>\n",
       "      <td>True Cause</td>\n",
       "      <td>Visual fatigue during inspection</td>\n",
       "      <td>Product master mold surface inspection's True Cause is Product discoloration.</td>\n",
       "      <td>Visual fatigue during inspection</td>\n",
       "    </tr>\n",
       "    <tr>\n",
       "      <th>1</th>\n",
       "      <td>Improvement Direction</td>\n",
       "      <td>Cancel discoloration defect check, Cancel unsaturated mold defect check, Check all products before threading the rod, After the product is inserted into the pole, the entire product is inspected together.</td>\n",
       "      <td>Optimize inspection method.</td>\n",
       "      <td>Add a jig to replace manual alignment and threading of rods.</td>\n",
       "    </tr>\n",
       "    <tr>\n",
       "      <th>2</th>\n",
       "      <td>Improvement Plan</td>\n",
       "      <td>NaN</td>\n",
       "      <td>Reduce the number of checks and frequency, cancel discoloration defect check and unsaturated mold defect check, optimize inspection method by checking all products before threading the rod and inspecting the entire product after it is inserted into the pole.</td>\n",
       "      <td>Check all products before threading the rod. Add a jig to replace manual alignment and threading of rods.</td>\n",
       "    </tr>\n",
       "  </tbody>\n",
       "</table>"
      ],
      "text/plain": [
       "<IPython.core.display.HTML object>"
      ]
     },
     "execution_count": 179,
     "metadata": {},
     "output_type": "execute_result"
    }
   ],
   "source": [
    "import pandas as pd\n",
    "from IPython.core.display import HTML\n",
    "\n",
    "pd.set_option('display.max_colwidth', 10)\n",
    "out_df = pd.read_csv(\"Report_format_2.csv\")\n",
    "html = out_df.to_html()\n",
    "HTML(html)"
   ]
  },
  {
   "cell_type": "code",
   "execution_count": 58,
   "metadata": {},
   "outputs": [],
   "source": [
    "out_df.to_csv(\"Report_format_complete.csv\", index=False)"
   ]
  }
 ],
 "metadata": {
  "kernelspec": {
   "display_name": "lparser",
   "language": "python",
   "name": "lparser"
  },
  "language_info": {
   "codemirror_mode": {
    "name": "ipython",
    "version": 3
   },
   "file_extension": ".py",
   "mimetype": "text/x-python",
   "name": "python",
   "nbconvert_exporter": "python",
   "pygments_lexer": "ipython3",
   "version": "3.9.13"
  }
 },
 "nbformat": 4,
 "nbformat_minor": 2
}
