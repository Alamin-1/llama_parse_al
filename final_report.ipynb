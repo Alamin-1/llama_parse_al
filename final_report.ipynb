{
 "cells": [
  {
   "cell_type": "code",
   "execution_count": 22,
   "metadata": {},
   "outputs": [],
   "source": [
    "from dotenv import load_dotenv\n",
    "load_dotenv()\n",
    "import nest_asyncio\n",
    "nest_asyncio.apply()\n",
    "from typing import List\n",
    "from pydantic import BaseModel\n",
    "import os\n",
    "import json\n",
    "import csv\n",
    "\n",
    "from llama_parse import LlamaParse\n",
    "from llama_index.core.schema import Document\n",
    "from llama_index.llms.openai import OpenAI"
   ]
  },
  {
   "cell_type": "code",
   "execution_count": 23,
   "metadata": {},
   "outputs": [],
   "source": [
    "## Parse the Form Filing File\n",
    "def parse_file(file_path: str) -> List[Document]:\n",
    "    llama_parse = LlamaParse(\n",
    "        api_key=os.environ['LLAMA_CLOUD_API_KEY'],\n",
    "        result_type='markdown',\n",
    "        target_pages=\"0\"\n",
    "    )\n",
    "    result = llama_parse.load_data(\n",
    "        file_path,\n",
    "    )\n",
    "    return result"
   ]
  },
  {
   "cell_type": "code",
   "execution_count": 24,
   "metadata": {},
   "outputs": [
    {
     "name": "stdout",
     "output_type": "stream",
     "text": [
      "Started parsing the file under job_id fe08477a-aba7-45ad-808f-d5685e64386c\n"
     ]
    }
   ],
   "source": [
    "# Parsing the report template\n",
    "documents = parse_file('data/Report_format_2.xlsx')"
   ]
  },
  {
   "cell_type": "code",
   "execution_count": 25,
   "metadata": {},
   "outputs": [],
   "source": [
    "text = documents[0].text"
   ]
  },
  {
   "cell_type": "code",
   "execution_count": 26,
   "metadata": {},
   "outputs": [],
   "source": [
    "## Structured Extraction\n",
    "prompt = f\"\"\"\n",
    "You are an AI assistant specializing in Industrial Engineering problem solving. You've been given an Excel spreadsheet containing items to be improved. \\ \n",
    "and improvement parameters. Your task is to extract and structure this information in a clear, organized format.\n",
    "\n",
    "The Excel sheet contains the following:\n",
    "1. Items to be improved (rows)\n",
    "2. Description (columns)\n",
    "3. Improvement parameters and dates (columns)\n",
    "\n",
    "Input Excel data:\n",
    "{text}\n",
    "\n",
    "Please present the extracted and structured information in a clear, easy-to-read format.\n",
    "\"\"\""
   ]
  },
  {
   "cell_type": "code",
   "execution_count": 27,
   "metadata": {},
   "outputs": [],
   "source": [
    "## Defining the database\n",
    "class ReportParameters(BaseModel):\n",
    "    \"\"\"Data model for IE problem solving analysis.\"\"\"\n",
    "    ItemsToBeImproved: List[str]\n",
    "    Description: List[str]\n",
    "    ImprovementParameters: List[str]"
   ]
  },
  {
   "cell_type": "code",
   "execution_count": 28,
   "metadata": {},
   "outputs": [],
   "source": [
    "## Defining the LLM model\n",
    "llm = OpenAI(model='gpt-4o-mini')"
   ]
  },
  {
   "cell_type": "code",
   "execution_count": 29,
   "metadata": {},
   "outputs": [],
   "source": [
    "from llama_index.core.llms import ChatMessage\n",
    "sllm = llm.as_structured_llm(output_cls=ReportParameters)\n",
    "input_msg = ChatMessage.from_str(prompt)"
   ]
  },
  {
   "cell_type": "code",
   "execution_count": 30,
   "metadata": {},
   "outputs": [
    {
     "data": {
      "text/plain": [
       "ReportParameters(ItemsToBeImproved=['The saturation of the lower glass point Xiaoli Pill is 65%', 'Bottom glass electrophoresis tank+UVFixed baking operation saturation79.2%', 'Xiaoliwan wax+Paste conductive foam+Lower glass glue frame dispensing operation saturation75%', 'The upper and lower glass bonding saturation is 67.5%', 'Five-in-one front&back saturation53.2%', 'CellstickFPCsaturation61.9%', 'FPCFoam resistance test saturation40.8%', 'The saturation of amplified pills and sports cars is 73.3%', 'pointUVglue,UVsolidify&Check saturation33.3%', 'Electrophoresis tank noteBufferliquid saturation79.2%', 'BufferLiquid injection port sealing and solidification+Water leakage test saturation60.3%', 'Silicone oil saturation 50.7%', 'Silicone oil port sealing + dispensing + curing saturation 58%', 'Set Conn & lower cover + paste QR CODE saturation 41%', 'Lock the lid + label the saturation 81.7%', 'Glass module test saturation 100%', 'Visual inspection of UV glue + pull tape is the bottleneck station', 'Measuring oil leakage is the bottleneck station', 'The next glass point Xiaoli Pill exists in Renwai Machine 2S', 'Dispensing UV glue, UV curing & checking the existence of human machine 22S', 'The sum of the saturations of two adjacent processes is less than or equal to 95%', 'Production line balance rate 75.2%'], Description=['Low job saturation(lower than95%)', 'Low job saturation(lower than95%)', 'Low job saturation(lower than95%)', 'Low job saturation(lower than95%)', 'Low job saturation(lower than95%)', 'Low job saturation(lower than95%)', 'Low job saturation(lower than95%)', 'Low job saturation(lower than95%)', 'Low job saturation(lower than95%)', 'Low job saturation(lower than95%)', 'Low job saturation(lower than95%)', 'Low job saturation(lower than95%)', 'Low job saturation(lower than95%)', 'Low job saturation(lower than95%)', 'Low job saturation(lower than95%)', 'Job saturation 100%', 'Bottleneck station (the average C/T of the station is the largest)', 'Bottleneck station (the average C/T of the station is the largest)', 'Simultaneous working time of man and machine = manual time (39S) + automatic time (2S) - process standard C/T (41S) = 0S Time of man waiting for machine = automatic time (2S) - simultaneous working time of man and machine (0S) = 2S', 'Simultaneous working time of man and machine = manual time (39S) + automatic time (2S) - process standard C/T (41S) = 0S Time of man waiting for machine = automatic time (2S) - simultaneous working time of man and machine (0S) = 2S', 'The sum of Sn process saturation and S(n+1) process saturation is less than or equal to 95%', 'Balance rate is less than 90%'], ImprovementParameters=['', 'Improvement direction', 'Person responsible', 'Expected start date', 'Actual start date', 'Expected completion date', 'Actual completion date', 'Improve immediately', 'Confirmation', 'appendix'])"
      ]
     },
     "execution_count": 30,
     "metadata": {},
     "output_type": "execute_result"
    }
   ],
   "source": [
    "## Get the parsed documents as a \n",
    "output = sllm.chat([input_msg])\n",
    "output_obj = output.raw\n",
    "output_obj"
   ]
  },
  {
   "cell_type": "code",
   "execution_count": 31,
   "metadata": {},
   "outputs": [],
   "source": [
    "ItemsToBeImproved = output_obj.ItemsToBeImproved\n",
    "Description = output_obj.Description\n",
    "ImprovementParameters = output_obj.ImprovementParameters[1:]"
   ]
  },
  {
   "cell_type": "code",
   "execution_count": 32,
   "metadata": {},
   "outputs": [],
   "source": [
    "## Config at LLamaIndex\n",
    "from llama_index.indices.managed.llama_cloud import LlamaCloudIndex\n",
    "# pip install llama-index-indices-managed-llama-cloud\n",
    "index = LlamaCloudIndex(\n",
    "  name=\"objective-wildfowl-2024-11-24\", \n",
    "  project_name=\"Default\",\n",
    "  organization_id=\"2033a7fc-187e-48e4-a172-5079c4ee2bbf\",\n",
    "  api_key=os.environ['LLAMA_CLOUD_API_KEY']\n",
    ")\n",
    "query_engine = index.as_query_engine(\n",
    "    dense_similarity_top_k=10,\n",
    "    sparse_similarity_top_k=10,\n",
    "    alpha=0.5,\n",
    "    enable_reranking=True,\n",
    "    rerank_top_n=5,\n",
    ")"
   ]
  },
  {
   "cell_type": "code",
   "execution_count": 33,
   "metadata": {},
   "outputs": [],
   "source": [
    "## Developing the prompt based on description and generate improvement suggestions accordingly\n",
    "\n",
    "from tqdm import tqdm\n",
    "def generate_answers(ItemsToBeImproved: List[str],Description: List[str], ImprovementParameters: List[str]) -> List[str]:\n",
    "    items_to_be_improved = {}\n",
    "    for index, item in enumerate(ItemsToBeImproved[:3]):\n",
    "        items_to_be_improved[item] = {}\n",
    "        for parameter in tqdm(ImprovementParameters):\n",
    "            job_saturation = (\n",
    "                f\"Analyze the following text and determine whether the job saturation value mentioned is lower than 95%.\\n\\n\"\n",
    "                f\"Text: \\\"{Description[index]}\\\"\\n\\n\"\n",
    "                f\"If a job saturation value is explicitly mentioned, check if it is lower than 95%. If so, respond with 'YES'. \"\n",
    "                f\"If it is 95% or higher, respond with 'NO'. If no job saturation value is mentioned, respond with 'NO INFORMATION'.\"\n",
    "            )\n",
    "            input_msg = ChatMessage.from_str(job_saturation)\n",
    "            output = llm.chat([input_msg])\n",
    "            answer = output.message.content\n",
    "            print(Description[index], answer)\n",
    "            if answer == 'YES':\n",
    "                query = (\n",
    "                    f\"For the problem '{item}', provide a detailed and concise value or description for the improvement parameter '{parameter}'.\\n\"\n",
    "                    f\"If the parameter is not applicable or no information is available, respond explicitly with 'NA'.\\n\\n\"\n",
    "                    f\"Ensure your response is clear, contextually relevant, and avoids ambiguity.\"\n",
    "                    )\n",
    "                answer = str(query_engine.query(query))\n",
    "                items_to_be_improved[item]['Description'] = Description[index]\n",
    "                items_to_be_improved[item][parameter] = answer\n",
    "    return items_to_be_improved"
   ]
  },
  {
   "cell_type": "code",
   "execution_count": 34,
   "metadata": {},
   "outputs": [
    {
     "name": "stderr",
     "output_type": "stream",
     "text": [
      " ... (more hidden) ..."
     ]
    },
    {
     "name": "stdout",
     "output_type": "stream",
     "text": [
      "Low job saturation(lower than95%) YES\n"
     ]
    },
    {
     "name": "stderr",
     "output_type": "stream",
     "text": [
      " ... (more hidden) ..."
     ]
    },
    {
     "name": "stdout",
     "output_type": "stream",
     "text": [
      "Low job saturation(lower than95%) YES\n"
     ]
    },
    {
     "name": "stderr",
     "output_type": "stream",
     "text": [
      " ... (more hidden) ..."
     ]
    },
    {
     "name": "stdout",
     "output_type": "stream",
     "text": [
      "Low job saturation(lower than95%) YES\n"
     ]
    },
    {
     "name": "stderr",
     "output_type": "stream",
     "text": [
      " ... (more hidden) ..."
     ]
    },
    {
     "name": "stdout",
     "output_type": "stream",
     "text": [
      "Low job saturation(lower than95%) YES\n"
     ]
    },
    {
     "name": "stderr",
     "output_type": "stream",
     "text": [
      " ... (more hidden) ..."
     ]
    },
    {
     "name": "stdout",
     "output_type": "stream",
     "text": [
      "Low job saturation(lower than95%) YES\n"
     ]
    },
    {
     "name": "stderr",
     "output_type": "stream",
     "text": [
      " ... (more hidden) ..."
     ]
    },
    {
     "name": "stdout",
     "output_type": "stream",
     "text": [
      "Low job saturation(lower than95%) YES\n"
     ]
    },
    {
     "name": "stderr",
     "output_type": "stream",
     "text": [
      " ... (more hidden) ..."
     ]
    },
    {
     "name": "stdout",
     "output_type": "stream",
     "text": [
      "Low job saturation(lower than95%) YES\n"
     ]
    },
    {
     "name": "stderr",
     "output_type": "stream",
     "text": [
      " ... (more hidden) ..."
     ]
    },
    {
     "name": "stdout",
     "output_type": "stream",
     "text": [
      "Low job saturation(lower than95%) YES\n"
     ]
    },
    {
     "name": "stderr",
     "output_type": "stream",
     "text": [
      " ... (more hidden) ..."
     ]
    },
    {
     "name": "stdout",
     "output_type": "stream",
     "text": [
      "Low job saturation(lower than95%) YES\n"
     ]
    },
    {
     "name": "stderr",
     "output_type": "stream",
     "text": [
      " ... (more hidden) ...\n",
      " ... (more hidden) ..."
     ]
    },
    {
     "name": "stdout",
     "output_type": "stream",
     "text": [
      "Low job saturation(lower than95%) YES\n"
     ]
    },
    {
     "name": "stderr",
     "output_type": "stream",
     "text": [
      " ... (more hidden) ..."
     ]
    },
    {
     "name": "stdout",
     "output_type": "stream",
     "text": [
      "Low job saturation(lower than95%) YES\n"
     ]
    },
    {
     "name": "stderr",
     "output_type": "stream",
     "text": [
      " ... (more hidden) ..."
     ]
    },
    {
     "name": "stdout",
     "output_type": "stream",
     "text": [
      "Low job saturation(lower than95%) YES\n"
     ]
    },
    {
     "name": "stderr",
     "output_type": "stream",
     "text": [
      " ... (more hidden) ..."
     ]
    },
    {
     "name": "stdout",
     "output_type": "stream",
     "text": [
      "Low job saturation(lower than95%) YES\n"
     ]
    },
    {
     "name": "stderr",
     "output_type": "stream",
     "text": [
      " ... (more hidden) ..."
     ]
    },
    {
     "name": "stdout",
     "output_type": "stream",
     "text": [
      "Low job saturation(lower than95%) YES\n"
     ]
    },
    {
     "name": "stderr",
     "output_type": "stream",
     "text": [
      " ... (more hidden) ..."
     ]
    },
    {
     "name": "stdout",
     "output_type": "stream",
     "text": [
      "Low job saturation(lower than95%) YES\n"
     ]
    },
    {
     "name": "stderr",
     "output_type": "stream",
     "text": [
      " ... (more hidden) ..."
     ]
    },
    {
     "name": "stdout",
     "output_type": "stream",
     "text": [
      "Low job saturation(lower than95%) YES\n"
     ]
    },
    {
     "name": "stderr",
     "output_type": "stream",
     "text": [
      " ... (more hidden) ..."
     ]
    },
    {
     "name": "stdout",
     "output_type": "stream",
     "text": [
      "Low job saturation(lower than95%) YES\n"
     ]
    },
    {
     "name": "stderr",
     "output_type": "stream",
     "text": [
      " ... (more hidden) ..."
     ]
    },
    {
     "name": "stdout",
     "output_type": "stream",
     "text": [
      "Low job saturation(lower than95%) YES\n"
     ]
    },
    {
     "name": "stderr",
     "output_type": "stream",
     "text": [
      " ... (more hidden) ...\n",
      " ... (more hidden) ..."
     ]
    },
    {
     "name": "stdout",
     "output_type": "stream",
     "text": [
      "Low job saturation(lower than95%) YES\n"
     ]
    },
    {
     "name": "stderr",
     "output_type": "stream",
     "text": [
      " ... (more hidden) ..."
     ]
    },
    {
     "name": "stdout",
     "output_type": "stream",
     "text": [
      "Low job saturation(lower than95%) YES\n"
     ]
    },
    {
     "name": "stderr",
     "output_type": "stream",
     "text": [
      " ... (more hidden) ..."
     ]
    },
    {
     "name": "stdout",
     "output_type": "stream",
     "text": [
      "Low job saturation(lower than95%) YES\n"
     ]
    },
    {
     "name": "stderr",
     "output_type": "stream",
     "text": [
      " ... (more hidden) ..."
     ]
    },
    {
     "name": "stdout",
     "output_type": "stream",
     "text": [
      "Low job saturation(lower than95%) YES\n"
     ]
    },
    {
     "name": "stderr",
     "output_type": "stream",
     "text": [
      " ... (more hidden) ..."
     ]
    },
    {
     "name": "stdout",
     "output_type": "stream",
     "text": [
      "Low job saturation(lower than95%) YES\n"
     ]
    },
    {
     "name": "stderr",
     "output_type": "stream",
     "text": [
      " ... (more hidden) ..."
     ]
    },
    {
     "name": "stdout",
     "output_type": "stream",
     "text": [
      "Low job saturation(lower than95%) YES\n"
     ]
    },
    {
     "name": "stderr",
     "output_type": "stream",
     "text": [
      " ... (more hidden) ..."
     ]
    },
    {
     "name": "stdout",
     "output_type": "stream",
     "text": [
      "Low job saturation(lower than95%) YES\n"
     ]
    },
    {
     "name": "stderr",
     "output_type": "stream",
     "text": [
      " ... (more hidden) ..."
     ]
    },
    {
     "name": "stdout",
     "output_type": "stream",
     "text": [
      "Low job saturation(lower than95%) YES\n"
     ]
    },
    {
     "name": "stderr",
     "output_type": "stream",
     "text": [
      " ... (more hidden) ..."
     ]
    },
    {
     "name": "stdout",
     "output_type": "stream",
     "text": [
      "Low job saturation(lower than95%) YES\n"
     ]
    },
    {
     "name": "stderr",
     "output_type": "stream",
     "text": [
      " ... (more hidden) ...\n"
     ]
    }
   ],
   "source": [
    "answers = generate_answers(ItemsToBeImproved, Description, ImprovementParameters)"
   ]
  },
  {
   "cell_type": "code",
   "execution_count": 35,
   "metadata": {},
   "outputs": [],
   "source": [
    "def flatten_dict(d, parent_key='', sep='_'):\n",
    "    items = []\n",
    "    for k, v in d.items():\n",
    "        new_key = f\"{parent_key}{sep}{k}\" if parent_key else k\n",
    "        if isinstance(v, dict):\n",
    "            items.extend(flatten_dict(v, new_key, sep=sep).items())\n",
    "        else:\n",
    "            items.append((new_key, v))\n",
    "    return dict(items)\n",
    "# Flatten the nested dictionary\n",
    "flat_data = []\n",
    "for parameter, metrics in answers.items():\n",
    "    flat_metrics = flatten_dict(metrics)\n",
    "    flat_metrics['Items to be improved'] = parameter \n",
    "    flat_data.append(flat_metrics)\n",
    "\n",
    "# Get all unique keys to use as CSV headers\n",
    "headers = set()\n",
    "for item in flat_data:\n",
    "    headers.update(item.keys())\n",
    "\n",
    "# Sort headers to ensure 'Items to be improved' comes first\n",
    "headers = sorted(headers)\n",
    "headers.insert(0, headers.pop(headers.index('Items to be improved')))\n",
    "headers.insert(1, headers.pop(headers.index('Description')))\n",
    "headers.insert(2, headers.pop(headers.index('Improvement direction')))\n",
    "headers.insert(3, headers.pop(headers.index('Person responsible')))\n",
    "headers.insert(4, headers.pop(headers.index('Expected start date')))\n",
    "headers.insert(5, headers.pop(headers.index('Actual start date')))\n",
    "headers.insert(6, headers.pop(headers.index('Expected completion date')))\n",
    "headers.insert(7, headers.pop(headers.index('Actual completion date')))\n",
    "headers.insert(8, headers.pop(headers.index('Improve immediately')))\n",
    "headers.insert(9, headers.pop(headers.index('Confirmation')))\n",
    "headers.insert(10, headers.pop(headers.index('appendix')))"
   ]
  },
  {
   "cell_type": "code",
   "execution_count": 36,
   "metadata": {},
   "outputs": [
    {
     "data": {
      "text/plain": [
       "['893F8420',\n",
       " 'BP_Excel.xlsx',\n",
       " 'gantt_chart_with_custom_xaxis.png',\n",
       " 'Paper-2.pdf',\n",
       " 'policy.pdf',\n",
       " 'PPS process.xlsx',\n",
       " 'Report_format.xlsx',\n",
       " 'Report_format_2.xlsx',\n",
       " 'Report_format_2_complete.csv',\n",
       " 'Report_format_2_complete.xlsx',\n",
       " 'sample_excel.xlsx',\n",
       " 'sec_10k_analysis_form_filling.xlsx',\n",
       " 'Series Cover Packer.pptx',\n",
       " 'Series_Cover_Packer_2.pptx',\n",
       " 'tasks.xlsx',\n",
       " 'tasks_with_custom_xaxis.xlsx',\n",
       " 'template_2.xlsx',\n",
       " '_10-K-2021-(As-Filed).pdf']"
      ]
     },
     "execution_count": 36,
     "metadata": {},
     "output_type": "execute_result"
    }
   ],
   "source": [
    "import os\n",
    "os.getcwd()\n",
    "os.listdir('./data')"
   ]
  },
  {
   "cell_type": "code",
   "execution_count": 37,
   "metadata": {},
   "outputs": [],
   "source": [
    "# Write the report into CSV\n",
    "with open('./data/Report_format_2_complete.csv', 'w', newline='', encoding='utf-8') as csvfile:\n",
    "    writer = csv.DictWriter(csvfile, fieldnames=headers)\n",
    "    writer.writeheader()\n",
    "    for row in flat_data:\n",
    "        writer.writerow(row)"
   ]
  },
  {
   "cell_type": "code",
   "execution_count": 38,
   "metadata": {},
   "outputs": [
    {
     "data": {
      "text/html": [
       "<table border=\"1\" class=\"dataframe\">\n",
       "  <thead>\n",
       "    <tr style=\"text-align: right;\">\n",
       "      <th></th>\n",
       "      <th>Items to be improved</th>\n",
       "      <th>Description</th>\n",
       "      <th>Improvement direction</th>\n",
       "      <th>Person responsible</th>\n",
       "      <th>Expected start date</th>\n",
       "      <th>Actual start date</th>\n",
       "      <th>Expected completion date</th>\n",
       "      <th>Actual completion date</th>\n",
       "      <th>Improve immediately</th>\n",
       "      <th>Confirmation</th>\n",
       "      <th>appendix</th>\n",
       "    </tr>\n",
       "  </thead>\n",
       "  <tbody>\n",
       "    <tr>\n",
       "      <th>0</th>\n",
       "      <td>The saturation of the lower glass point Xiaoli Pill is 65%</td>\n",
       "      <td>Low job saturation(lower than95%)</td>\n",
       "      <td>1. Judgment of value and reduce tasks without added value\\n2. Inspection of movement quality and human engineering hazards: Reduce the number of movements, work with both hands at the same time, shorten the distance of movements, and make movements easier; eliminate human engineering hazards\\n3. Automated level inspection: simple and automated import\\n4. Merge and rearrange new job elements</td>\n",
       "      <td>LiXX</td>\n",
       "      <td>10/8/24</td>\n",
       "      <td>10/8/24</td>\n",
       "      <td>10/15/24</td>\n",
       "      <td>10/15/24</td>\n",
       "      <td>yes</td>\n",
       "      <td>LiXX</td>\n",
       "      <td>LiXX</td>\n",
       "    </tr>\n",
       "    <tr>\n",
       "      <th>1</th>\n",
       "      <td>Bottom glass electrophoresis tank+UVFixed baking operation saturation79.2%</td>\n",
       "      <td>Low job saturation(lower than95%)</td>\n",
       "      <td>The improvement direction for the problem 'Bottom glass electrophoresis tank+UVFixed baking operation saturation79.2%' is as follows: 1. Judgment of value and reduce tasks without added value 2. Inspection of movement quality and human engineering hazards: Reduce the number of movements, work with both hands at the same time, shorten the distance of movements, and make movements easier; eliminate human engineering hazards 3. Automated level inspection: simple and automated import 4. Merge and rearrange new job elements.</td>\n",
       "      <td>LiXX</td>\n",
       "      <td>10/8/24</td>\n",
       "      <td>10/8/24</td>\n",
       "      <td>Expected completion date: 10/15/24</td>\n",
       "      <td>10/15/24</td>\n",
       "      <td>yes</td>\n",
       "      <td>The improvement parameter 'Confirmation' for the problem 'Bottom glass electrophoresis tank+UVFixed baking operation saturation79.2%' is 'yes'.</td>\n",
       "      <td>LiXX</td>\n",
       "    </tr>\n",
       "    <tr>\n",
       "      <th>2</th>\n",
       "      <td>Xiaoliwan wax+Paste conductive foam+Lower glass glue frame dispensing operation saturation75%</td>\n",
       "      <td>Low job saturation(lower than95%)</td>\n",
       "      <td>1. Judgment of value and reduce tasks without added value\\n2. Inspection of movement quality and human engineering hazards\\n3. Automated level inspection\\n4. Merge and rearrange new job elements</td>\n",
       "      <td>LiXX</td>\n",
       "      <td>10/8/24</td>\n",
       "      <td>10/8/24</td>\n",
       "      <td>10/15/24</td>\n",
       "      <td>10/15/24</td>\n",
       "      <td>yes</td>\n",
       "      <td>The improvement parameter 'Confirmation' for the problem 'Xiaoliwan wax+Paste conductive foam+Lower glass glue frame dispensing operation saturation75%' is 'yes'.</td>\n",
       "      <td>LiXX</td>\n",
       "    </tr>\n",
       "  </tbody>\n",
       "</table>"
      ],
      "text/plain": [
       "<IPython.core.display.HTML object>"
      ]
     },
     "execution_count": 38,
     "metadata": {},
     "output_type": "execute_result"
    }
   ],
   "source": [
    "# Read the CSV and save into Excel File\n",
    "import pandas as pd\n",
    "from IPython.core.display import HTML\n",
    "pd.set_option('display.max_colwidth', 10)\n",
    "out_df = pd.read_csv(\"Report_format_2_complete.csv\")\n",
    "out_df.to_excel(\"./data/Report_format_2_complete.xlsx\", index=False)\n",
    "\n",
    "## Display the \n",
    "html = out_df.to_html()\n",
    "HTML(html)\n"
   ]
  },
  {
   "cell_type": "code",
   "execution_count": 39,
   "metadata": {},
   "outputs": [],
   "source": [
    "#Reading the exported excel file and develop the  Gantt Chart from there!\n",
    "import pandas as pd\n",
    "import plotly.express as px\n",
    "from openpyxl import load_workbook\n",
    "from openpyxl.drawing.image import Image\n",
    "from openpyxl.styles import Alignment"
   ]
  },
  {
   "cell_type": "code",
   "execution_count": null,
   "metadata": {},
   "outputs": [
    {
     "name": "stdout",
     "output_type": "stream",
     "text": [
      "Gantt chart with custom x-axis embedded in ./data/tasks_with_custom_xaxis.xlsx\n"
     ]
    },
    {
     "name": "stderr",
     "output_type": "stream",
     "text": [
      "C:\\Users\\Al-Amin\\AppData\\Local\\Temp\\ipykernel_5764\\266155471.py:9: UserWarning:\n",
      "\n",
      "Could not infer format, so each element will be parsed individually, falling back to `dateutil`. To ensure parsing is consistent and as-expected, please specify a format.\n",
      "\n",
      "C:\\Users\\Al-Amin\\AppData\\Local\\Temp\\ipykernel_5764\\266155471.py:10: UserWarning:\n",
      "\n",
      "Could not infer format, so each element will be parsed individually, falling back to `dateutil`. To ensure parsing is consistent and as-expected, please specify a format.\n",
      "\n"
     ]
    },
    {
     "ename": "",
     "evalue": "",
     "output_type": "error",
     "traceback": [
      "\u001b[1;31mThe Kernel crashed while executing code in the current cell or a previous cell. \n",
      "\u001b[1;31mPlease review the code in the cell(s) to identify a possible cause of the failure. \n",
      "\u001b[1;31mClick <a href='https://aka.ms/vscodeJupyterKernelCrash'>here</a> for more info. \n",
      "\u001b[1;31mView Jupyter <a href='command:jupyter.viewOutput'>log</a> for further details."
     ]
    }
   ],
   "source": [
    "#Reading the exported excel file and develop the  Gantt Chart from there!\n",
    "import os\n",
    "os.getcwd()\n",
    "os.listdir('./data')\n",
    "file_path = './data/Report_format_2_complete.xlsx'\n",
    "df = pd.read_excel(file_path)\n",
    "\n",
    "# Step 2: Ensure columns are in the correct format\n",
    "df['Actual start date'] = pd.to_datetime(df['Actual start date'])\n",
    "df['Actual completion date'] = pd.to_datetime(df['Actual completion date'])\n",
    "\n",
    "# Step 3: Add a column for data labels (e.g., Task names or durations)\n",
    "df['Label'] =  (df['Actual completion date'] - df['Actual start date']).dt.days.astype(str)\n",
    "# df['Label'] = df['Task'] + \" (\" + ((df['Finish'] - df['Start']).dt.days.astype(str)) + \" days)\"\n",
    "\n",
    "# Step 4: Create a Gantt chart with data labels\n",
    "fig = px.timeline(\n",
    "    df,\n",
    "    x_start=\"Actual start date\",\n",
    "    x_end=\"Actual completion date\",\n",
    "    y=\"Items to be improved\",\n",
    "    color=\"Person responsible\",\n",
    "    text=\"Label\",  # Overlay Task names and durations\n",
    "    title=\"Gantt Chart with Custom X-Axis\"\n",
    ")\n",
    "\n",
    "# Step 5: Customize the x-axis\n",
    "fig.update_traces(textposition=\"auto\", textfont=dict(size=12, color=\"white\"))\n",
    "\n",
    "fig.update_yaxes(categoryorder=\"trace\")  # Optional: Sort tasks by total ascending\n",
    "fig.update_layout(\n",
    "    xaxis_title=\"Project Timeline (Dates)\",  # Custom x-axis label\n",
    "    title_x=0.5  # Center the chart title\n",
    ")\n",
    "\n",
    "# Step 6: Save the chart as an image\n",
    "image_file = \"./data/gantt_chart_with_custom_xaxis.png\"\n",
    "fig.write_image(image_file)  # Requires kaleido library (install using `pip install kaleido`)\n",
    "\n",
    "# Step 7: Load the Excel file\n",
    "wb = load_workbook(file_path)\n",
    "ws = wb.active  # Use the first sheet (or specify a sheet name)\n",
    "\n",
    "# Set the width of specific columns\n",
    "ws.column_dimensions['A'].width = 50  # Set column A width to 50\n",
    "ws.column_dimensions['B'].width = 40  # Set column A width to 40\n",
    "ws.column_dimensions['C'].width = 60  # Set column A width to 60\n",
    "ws.column_dimensions['D'].width = 20  # Set column A width to 20\n",
    "ws.column_dimensions['E'].width = 20  # Set column A width to 20\n",
    "ws.column_dimensions['F'].width = 20  # Set column A width to 20\n",
    "ws.column_dimensions['G'].width = 25  # Set column A width to 25\n",
    "ws.column_dimensions['H'].width = 25  # Set column A width to 25\n",
    "ws.column_dimensions['I'].width = 20  # Set column A width to 20\n",
    "ws.column_dimensions['J'].width = 20  # Set column A width to 20\n",
    "ws.column_dimensions['K'].width = 20  # Set column A width to 20\n",
    "\n",
    "\n",
    "# Apply Wrap Text to specific cells\n",
    "for col in ['A','B','C','D','E','F','G','H','I','J','K']:\n",
    "    for cell in ws[col]:\n",
    "        cell.alignment = Alignment(wrap_text=True)\n",
    "\n",
    "\n",
    "# Step 8: Insert the image into the Excel file\n",
    "img = Image(image_file)\n",
    "img.anchor = \"M2\"  # Position to embed the image (e.g., cell E2)\n",
    "ws.add_image(img)\n",
    "\n",
    "# Step 9: Save the updated Excel file\n",
    "output_file = \"./data/tasks_with_custom_xaxis.xlsx\"\n",
    "wb.save(output_file)\n",
    "\n",
    "print(f\"Gantt chart with custom x-axis embedded in {output_file}\")\n"
   ]
  },
  {
   "cell_type": "code",
   "execution_count": null,
   "metadata": {},
   "outputs": [],
   "source": []
  }
 ],
 "metadata": {
  "kernelspec": {
   "display_name": "lparser",
   "language": "python",
   "name": "lparser"
  },
  "language_info": {
   "codemirror_mode": {
    "name": "ipython",
    "version": 3
   },
   "file_extension": ".py",
   "mimetype": "text/x-python",
   "name": "python",
   "nbconvert_exporter": "python",
   "pygments_lexer": "ipython3",
   "version": "3.9.13"
  }
 },
 "nbformat": 4,
 "nbformat_minor": 2
}
