{
 "cells": [
  {
   "cell_type": "code",
   "execution_count": 186,
   "metadata": {},
   "outputs": [
    {
     "data": {
      "text/plain": [
       "True"
      ]
     },
     "execution_count": 186,
     "metadata": {},
     "output_type": "execute_result"
    }
   ],
   "source": [
    "from dotenv import load_dotenv\n",
    "load_dotenv()"
   ]
  },
  {
   "cell_type": "code",
   "execution_count": 187,
   "metadata": {},
   "outputs": [],
   "source": [
    "import nest_asyncio\n",
    "nest_asyncio.apply()"
   ]
  },
  {
   "cell_type": "code",
   "execution_count": 188,
   "metadata": {},
   "outputs": [],
   "source": [
    "from typing import List\n",
    "from pydantic import BaseModel\n",
    "import os\n",
    "import json\n",
    "import csv\n",
    "\n",
    "from llama_parse import LlamaParse\n",
    "from llama_index.core.schema import Document\n",
    "from llama_index.llms.openai import OpenAI\n",
    "import nest_asyncio\n",
    "\n",
    "nest_asyncio.apply()"
   ]
  },
  {
   "cell_type": "code",
   "execution_count": 338,
   "metadata": {},
   "outputs": [],
   "source": [
    "## Parse the Form Filing File\n",
    "def parse_file(file_path: str) -> List[Document]:\n",
    "    llama_parse = LlamaParse(\n",
    "        api_key=os.environ['LLAMA_CLOUD_API_KEY'],\n",
    "        result_type='markdown',\n",
    "        target_pages=\"0\"\n",
    "    )\n",
    "    result = llama_parse.load_data(\n",
    "        file_path,\n",
    "    )\n",
    "    return result"
   ]
  },
  {
   "cell_type": "code",
   "execution_count": 343,
   "metadata": {},
   "outputs": [
    {
     "name": "stdout",
     "output_type": "stream",
     "text": [
      "Started parsing the file under job_id 09f778cd-a272-41c7-b8e5-4e044b5bba98\n"
     ]
    }
   ],
   "source": [
    "documents = parse_file('data/Report_format_2.xlsx')"
   ]
  },
  {
   "cell_type": "code",
   "execution_count": 344,
   "metadata": {},
   "outputs": [
    {
     "name": "stdout",
     "output_type": "stream",
     "text": [
      "Doc length: <class 'list'>\n",
      "1\n"
     ]
    }
   ],
   "source": [
    "print(f'Doc length: {type(documents)}')\n",
    "print(len(documents))"
   ]
  },
  {
   "cell_type": "code",
   "execution_count": 345,
   "metadata": {},
   "outputs": [
    {
     "name": "stdout",
     "output_type": "stream",
     "text": [
      "Doc length: 1\n",
      "|Items to be improved                                                                         |Description|Improvement Parameters|                  |                   |                 |                        |                      |                   |            |        |\n",
      "|---------------------------------------------------------------------------------------------|---------------------------------------------------------------------------------------------------------------------------------------------------------------------------------------------------------------------------------------|----------------------|------------------|-------------------|-----------------|------------------------|----------------------|-------------------|------------|--------|\n",
      "|                                                                                             | |Improvement direction |Person responsible|Expected start date|Actual start date|Expected completion date|Acutal completion date|Improve immediately|Confirmation|appendix|\n",
      "|The saturation of the lower glass point Xiaoli Pill is 65%                                   |Low job saturation(lower than95%)|                      |                  |                   |                 |                        |                      |                   |            |        |\n",
      "|Bottom glass electrophoresis tank+UVFixed baking operation saturation79.2%                   |Low job saturation(lower than95%)|                      |                  |                   |                 |                        |                      |                   |            |        |\n",
      "|Xiaoliwan wax+Paste conductive foam+Lower glass glue frame dispensing operation saturation75%|Low job saturation(lower than95%)|                      |                  |                   |                 |                        |                      |                   |            |        |\n",
      "|The upper and lower glass bonding saturation is 67.5%                                        |Low job saturation(lower than95%)|                      |                  |                   |                 |                        |                      |                   |            |        |\n",
      "|Five-in-one front&back saturation53.2%                                                       |Low job saturation(lower than95%)|                      |                  |                   |                 |                        |                      |                   |            |        |\n",
      "|CellstickFPCsaturation61.9%                                                                  |Low job saturation(lower than95%)|                      |                  |                   |                 |                        |                      |                   |            |        |\n",
      "|FPCFoam resistance test saturation40.8%                                                      |Low job saturation(lower than95%)|                      |                  |                   |                 |                        |                      |                   |            |        |\n",
      "|The saturation of amplified pills and sports cars is 73.3%                                   |Low job saturation(lower than95%)|                      |                  |                   |                 |                        |                      |                   |            |        |\n",
      "|pointUVglue,UVsolidify&Check saturation33.3%                                                 |Low job saturation(lower than95%)|                      |                  |                   |                 |                        |                      |                   |            |        |\n",
      "|Electrophoresis tank noteBufferliquid saturation79.2%                                        |Low job saturation(lower than95%)|                      |                  |                   |                 |                        |                      |                   |            |        |\n",
      "|BufferLiquid injection port sealing and solidification+Water leakage test saturation60.3%    |Low job saturation(lower than95%)|                      |                  |                   |                 |                        |                      |                   |            |        |\n",
      "|Silicone oil saturation 50.7%                                                                |Low job saturation(lower than95%)|                      |                  |                   |                 |                        |                      |                   |            |        |\n",
      "|Silicone oil port sealing + dispensing + curing saturation 58%                               |Low job saturation(lower than95%)|                      |                  |                   |                 |                        |                      |                   |            |        |\n",
      "|Set Conn & lower cover + paste QR CODE saturation 41%                                        |Low job saturation(lower than95%)|                      |                  |                   |                 |                        |                      |                   |            |        |\n",
      "|Lock the lid + label the saturation 81.7%                                                    |Low job saturation(lower than95%)|                      |                  |                   |                 |                        |                      |                   |            |        |\n",
      "|Glass module test saturation 100%                                                            |Job saturation 100%|                      |                  |                   |                 |                        |                      |                   |            |        |\n",
      "|Visual inspection of UV glue + pull tape is the bottleneck station                           |Bottleneck station (the average C/T of the station is the largest)|                      |                  |                   |                 |                        |                      |                   |            |        |\n",
      "|Measuring oil leakage is the bottleneck station                                              |Bottleneck station (the average C/T of the station is the largest)|                      |                  |                   |                 |                        |                      |                   |            |        |\n",
      "|The next glass point Xiaoli Pill exists in Renwai Machine 2S                                 |Simultaneous working time of man and machine = manual time (39S) + automatic time (2S) - process standard C/T (41S) = 0S Time of man waiting for machine = automatic time (2S) - simultaneous working time of man and machine (0S) = 2S|                      |                  |                   |                 |                        |                      |                   |            |        |\n",
      "|Dispensing UV glue, UV curing & checking the existence of human machine 22S                  |Simultaneous working time of man and machine = manual time (39S) + automatic time (2S) - process standard C/T (41S) = 0S Time of man waiting for machine = automatic time (2S) - simultaneous working time of man and machine (0S) = 2S|                      |                  |                   |                 |                        |                      |                   |            |        |\n",
      "|The sum of the saturations of two adjacent processes is less than or equal to 95%            |The sum of Sn process saturation and S(n+1) process saturation is less than or equal to 95%|                      |                  |                   |                 |                        |                      |                   |            |        |\n",
      "|Production line balance rate 75.2%                                                           |Balance rate is less than 90%|                      |                  |                   |                 |                        |                      |                   |            |        |\n",
      "\n"
     ]
    }
   ],
   "source": [
    "print(f'Doc length: {len(documents)}')\n",
    "print(documents[0].text)"
   ]
  },
  {
   "cell_type": "code",
   "execution_count": 346,
   "metadata": {},
   "outputs": [],
   "source": [
    "text = documents[0].text"
   ]
  },
  {
   "cell_type": "code",
   "execution_count": 347,
   "metadata": {},
   "outputs": [],
   "source": [
    "## Structured Extraction\n",
    "prompt = f\"\"\"\n",
    "You are an AI assistant specializing in Industrial Engineering problem solving. You've been given an Excel spreadsheet containing items to be improved. \\ \n",
    "and improvement parameters. Your task is to extract and structure this information in a clear, organized format.\n",
    "\n",
    "The Excel sheet contains the following:\n",
    "1. Items to be improved (rows)\n",
    "2. Description (columns)\n",
    "3. Improvement parameters and dates (columns)\n",
    "\n",
    "Input Excel data:\n",
    "{text}\n",
    "\n",
    "Please present the extracted and structured information in a clear, easy-to-read format.\n",
    "\"\"\""
   ]
  },
  {
   "cell_type": "code",
   "execution_count": 358,
   "metadata": {},
   "outputs": [],
   "source": [
    "class ReportParameters(BaseModel):\n",
    "    \"\"\"Data model for IE problem solving analysis.\"\"\"\n",
    "    ItemsToBeImproved: List[str]\n",
    "    Description: List[str]\n",
    "    ImprovementParameters: List[str]\n",
    "    # ImprovementPerson: List[str]\n",
    "    # StartDate: List[str]\n",
    "    # CompletionDate: List[str]\n",
    "    # ImproveImmediately: List[bool]\n",
    "    # Confirmation: List[str]\n",
    "    # Appendix: List[str]"
   ]
  },
  {
   "cell_type": "code",
   "execution_count": 409,
   "metadata": {},
   "outputs": [
    {
     "data": {
      "text/plain": [
       "'I’m called ChatGPT. How can I assist you today?'"
      ]
     },
     "execution_count": 409,
     "metadata": {},
     "output_type": "execute_result"
    }
   ],
   "source": [
    "input_msg = ChatMessage.from_str('What is your name?')\n",
    "output = llm.chat([input_msg])\n",
    "output.message.content"
   ]
  },
  {
   "cell_type": "code",
   "execution_count": null,
   "metadata": {},
   "outputs": [
    {
     "data": {
      "text/plain": [
       "'I’m called ChatGPT. How can I assist you today?'"
      ]
     },
     "execution_count": 408,
     "metadata": {},
     "output_type": "execute_result"
    }
   ],
   "source": []
  },
  {
   "cell_type": "code",
   "execution_count": 359,
   "metadata": {},
   "outputs": [],
   "source": [
    "llm = OpenAI(model='gpt-4o-mini')"
   ]
  },
  {
   "cell_type": "code",
   "execution_count": 360,
   "metadata": {},
   "outputs": [],
   "source": [
    "from llama_index.core.llms import ChatMessage\n",
    "sllm = llm.as_structured_llm(output_cls=ReportParameters)\n",
    "input_msg = ChatMessage.from_str(prompt)"
   ]
  },
  {
   "cell_type": "code",
   "execution_count": 361,
   "metadata": {},
   "outputs": [
    {
     "data": {
      "text/plain": [
       "ReportParameters(ItemsToBeImproved=['The saturation of the lower glass point Xiaoli Pill is 65%', 'Bottom glass electrophoresis tank+UVFixed baking operation saturation79.2%', 'Xiaoliwan wax+Paste conductive foam+Lower glass glue frame dispensing operation saturation75%', 'The upper and lower glass bonding saturation is 67.5%', 'Five-in-one front&back saturation53.2%', 'CellstickFPCsaturation61.9%', 'FPCFoam resistance test saturation40.8%', 'The saturation of amplified pills and sports cars is 73.3%', 'pointUVglue,UVsolidify&Check saturation33.3%', 'Electrophoresis tank noteBufferliquid saturation79.2%', 'BufferLiquid injection port sealing and solidification+Water leakage test saturation60.3%', 'Silicone oil saturation 50.7%', 'Silicone oil port sealing + dispensing + curing saturation 58%', 'Set Conn & lower cover + paste QR CODE saturation 41%', 'Lock the lid + label the saturation 81.7%', 'Glass module test saturation 100%', 'Visual inspection of UV glue + pull tape is the bottleneck station', 'Measuring oil leakage is the bottleneck station', 'The next glass point Xiaoli Pill exists in Renwai Machine 2S', 'Dispensing UV glue, UV curing & checking the existence of human machine 22S', 'The sum of the saturations of two adjacent processes is less than or equal to 95%', 'Production line balance rate 75.2%'], Description=['Low job saturation(lower than95%)', 'Low job saturation(lower than95%)', 'Low job saturation(lower than95%)', 'Low job saturation(lower than95%)', 'Low job saturation(lower than95%)', 'Low job saturation(lower than95%)', 'Low job saturation(lower than95%)', 'Low job saturation(lower than95%)', 'Low job saturation(lower than95%)', 'Low job saturation(lower than95%)', 'Low job saturation(lower than95%)', 'Low job saturation(lower than95%)', 'Low job saturation(lower than95%)', 'Low job saturation(lower than95%)', 'Low job saturation(lower than95%)', 'Job saturation 100%', 'Bottleneck station (the average C/T of the station is the largest)', 'Bottleneck station (the average C/T of the station is the largest)', 'Simultaneous working time of man and machine = manual time (39S) + automatic time (2S) - process standard C/T (41S) = 0S Time of man waiting for machine = automatic time (2S) - simultaneous working time of man and machine (0S) = 2S', 'Simultaneous working time of man and machine = manual time (39S) + automatic time (2S) - process standard C/T (41S) = 0S Time of man waiting for machine = automatic time (2S) - simultaneous working time of man and machine (0S) = 2S', 'The sum of Sn process saturation and S(n+1) process saturation is less than or equal to 95%', 'Balance rate is less than 90%'], ImprovementParameters=['', 'Improvement direction', 'Person responsible', 'Expected start date', 'Actual start date', 'Expected completion date', 'Acutal completion date', 'Improve immediately', 'Confirmation', 'appendix'])"
      ]
     },
     "execution_count": 361,
     "metadata": {},
     "output_type": "execute_result"
    }
   ],
   "source": [
    "output = sllm.chat([input_msg])\n",
    "output_obj = output.raw\n",
    "output_obj"
   ]
  },
  {
   "cell_type": "code",
   "execution_count": 366,
   "metadata": {},
   "outputs": [
    {
     "name": "stdout",
     "output_type": "stream",
     "text": [
      "22\n",
      "22\n",
      "10\n"
     ]
    }
   ],
   "source": [
    "#print out the items based on the data model\n",
    "print(len(output_obj.ItemsToBeImproved))\n",
    "print(len(output_obj.Description))\n",
    "print(len(output_obj.ImprovementParameters))"
   ]
  },
  {
   "cell_type": "code",
   "execution_count": 380,
   "metadata": {},
   "outputs": [],
   "source": [
    "ItemsToBeImproved = output_obj.ItemsToBeImproved\n",
    "Description = output_obj.Description\n",
    "ImprovementParameters = output_obj.ImprovementParameters[1:]\n",
    "# print(output_obj.ImprovementDirection)\n",
    "# print(output_obj.BriefDescription)\n",
    "# print(output_obj.ImprovementPerson)\n",
    "# print(output_obj.StartDate)\n",
    "# print(output_obj.CompletionDate)\n",
    "# print(output_obj.ImproveImmediately)\n",
    "# print(output_obj.Confirmation)\n",
    "# print(output_obj.Appendix)"
   ]
  },
  {
   "cell_type": "code",
   "execution_count": 381,
   "metadata": {},
   "outputs": [
    {
     "data": {
      "text/plain": [
       "['Improvement direction',\n",
       " 'Person responsible',\n",
       " 'Expected start date',\n",
       " 'Actual start date',\n",
       " 'Expected completion date',\n",
       " 'Acutal completion date',\n",
       " 'Improve immediately',\n",
       " 'Confirmation',\n",
       " 'appendix']"
      ]
     },
     "execution_count": 381,
     "metadata": {},
     "output_type": "execute_result"
    }
   ],
   "source": [
    "ImprovementParameters"
   ]
  },
  {
   "cell_type": "code",
   "execution_count": 368,
   "metadata": {},
   "outputs": [],
   "source": [
    "from llama_index.indices.managed.llama_cloud import LlamaCloudIndex\n",
    "# pip install llama-index-indices-managed-llama-cloud\n",
    "index = LlamaCloudIndex(\n",
    "  name=\"objective-wildfowl-2024-11-24\", \n",
    "  project_name=\"Default\",\n",
    "  organization_id=\"2033a7fc-187e-48e4-a172-5079c4ee2bbf\",\n",
    "  api_key=os.environ['LLAMA_CLOUD_API_KEY']\n",
    ")"
   ]
  },
  {
   "cell_type": "code",
   "execution_count": 369,
   "metadata": {},
   "outputs": [],
   "source": [
    "query_engine = index.as_query_engine(\n",
    "    dense_similarity_top_k=10,\n",
    "    sparse_similarity_top_k=10,\n",
    "    alpha=0.5,\n",
    "    enable_reranking=True,\n",
    "    rerank_top_n=5,\n",
    ")"
   ]
  },
  {
   "cell_type": "code",
   "execution_count": null,
   "metadata": {},
   "outputs": [],
   "source": [
    "# print(output_obj.ItemsToBeImproved)\n",
    "# print(output_obj.BriefDescription)\n",
    "# print(output_obj.ImprovementDirection)\n",
    "# print(output_obj.ImprovementPerson)\n",
    "# print(output_obj.StartDate)\n",
    "# print(output_obj.CompletionDate)\n",
    "# print(output_obj.ImproveImmediately)\n",
    "# print(output_obj.Confirmation)\n",
    "# print(output_obj.Appendix)"
   ]
  },
  {
   "cell_type": "code",
   "execution_count": 384,
   "metadata": {},
   "outputs": [
    {
     "data": {
      "text/plain": [
       "['The saturation of the lower glass point Xiaoli Pill is 65%',\n",
       " 'Bottom glass electrophoresis tank+UVFixed baking operation saturation79.2%',\n",
       " 'Xiaoliwan wax+Paste conductive foam+Lower glass glue frame dispensing operation saturation75%',\n",
       " 'The upper and lower glass bonding saturation is 67.5%',\n",
       " 'Five-in-one front&back saturation53.2%',\n",
       " 'CellstickFPCsaturation61.9%',\n",
       " 'FPCFoam resistance test saturation40.8%',\n",
       " 'The saturation of amplified pills and sports cars is 73.3%',\n",
       " 'pointUVglue,UVsolidify&Check saturation33.3%',\n",
       " 'Electrophoresis tank noteBufferliquid saturation79.2%',\n",
       " 'BufferLiquid injection port sealing and solidification+Water leakage test saturation60.3%',\n",
       " 'Silicone oil saturation 50.7%',\n",
       " 'Silicone oil port sealing + dispensing + curing saturation 58%',\n",
       " 'Set Conn & lower cover + paste QR CODE saturation 41%',\n",
       " 'Lock the lid + label the saturation 81.7%',\n",
       " 'Glass module test saturation 100%',\n",
       " 'Visual inspection of UV glue + pull tape is the bottleneck station',\n",
       " 'Measuring oil leakage is the bottleneck station',\n",
       " 'The next glass point Xiaoli Pill exists in Renwai Machine 2S',\n",
       " 'Dispensing UV glue, UV curing & checking the existence of human machine 22S',\n",
       " 'The sum of the saturations of two adjacent processes is less than or equal to 95%',\n",
       " 'Production line balance rate 75.2%']"
      ]
     },
     "execution_count": 384,
     "metadata": {},
     "output_type": "execute_result"
    }
   ],
   "source": [
    "# ItemsToBeImproved = output_obj.ItemsToBeImproved\n",
    "# BriefDescription = output_obj.BriefDescription\n",
    "# ImprovementDirection = output_obj.ImprovementDirection\n",
    "# ImprovementPerson = output_obj.ImprovementPerson\n",
    "# StartDate = output_obj.StartDate\n",
    "# CompletionDate = output_obj.CompletionDate\n",
    "# ImproveImmediately = output_obj.ImproveImmediately\n",
    "# Confirmation = output_obj.Confirmation\n",
    "# Appendix = output_obj.Appendix\n",
    "ItemsToBeImproved"
   ]
  },
  {
   "cell_type": "code",
   "execution_count": 401,
   "metadata": {},
   "outputs": [
    {
     "ename": "ValidationError",
     "evalue": "1 validation error for LLMChatStartEvent\nmessages.0\n  Input should be a valid dictionary or instance of ChatMessage [type=model_type, input_value='What is your name?', input_type=str]\n    For further information visit https://errors.pydantic.dev/2.9/v/model_type",
     "output_type": "error",
     "traceback": [
      "\u001b[1;31m---------------------------------------------------------------------------\u001b[0m",
      "\u001b[1;31mValidationError\u001b[0m                           Traceback (most recent call last)",
      "Cell \u001b[1;32mIn[401], line 1\u001b[0m\n\u001b[1;32m----> 1\u001b[0m \u001b[43msllm\u001b[49m\u001b[38;5;241;43m.\u001b[39;49m\u001b[43mchat\u001b[49m\u001b[43m(\u001b[49m\u001b[43m[\u001b[49m\u001b[38;5;124;43m'\u001b[39;49m\u001b[38;5;124;43mWhat is your name?\u001b[39;49m\u001b[38;5;124;43m'\u001b[39;49m\u001b[43m]\u001b[49m\u001b[43m)\u001b[49m\n",
      "File \u001b[1;32m~\\Desktop\\Al-Amin\\llama_parse_al\\env\\lib\\site-packages\\llama_index\\core\\instrumentation\\dispatcher.py:311\u001b[0m, in \u001b[0;36mDispatcher.span.<locals>.wrapper\u001b[1;34m(func, instance, args, kwargs)\u001b[0m\n\u001b[0;32m    308\u001b[0m             _logger\u001b[38;5;241m.\u001b[39mdebug(\u001b[38;5;124mf\u001b[39m\u001b[38;5;124m\"\u001b[39m\u001b[38;5;124mFailed to reset active_span_id: \u001b[39m\u001b[38;5;132;01m{\u001b[39;00me\u001b[38;5;132;01m}\u001b[39;00m\u001b[38;5;124m\"\u001b[39m)\n\u001b[0;32m    310\u001b[0m \u001b[38;5;28;01mtry\u001b[39;00m:\n\u001b[1;32m--> 311\u001b[0m     result \u001b[38;5;241m=\u001b[39m func(\u001b[38;5;241m*\u001b[39margs, \u001b[38;5;241m*\u001b[39m\u001b[38;5;241m*\u001b[39mkwargs)\n\u001b[0;32m    312\u001b[0m     \u001b[38;5;28;01mif\u001b[39;00m \u001b[38;5;28misinstance\u001b[39m(result, asyncio\u001b[38;5;241m.\u001b[39mFuture):\n\u001b[0;32m    313\u001b[0m         \u001b[38;5;66;03m# If the result is a Future, wrap it\u001b[39;00m\n\u001b[0;32m    314\u001b[0m         new_future \u001b[38;5;241m=\u001b[39m asyncio\u001b[38;5;241m.\u001b[39mensure_future(result)\n",
      "File \u001b[1;32m~\\Desktop\\Al-Amin\\llama_parse_al\\env\\lib\\site-packages\\llama_index\\core\\llms\\callbacks.py:157\u001b[0m, in \u001b[0;36mllm_chat_callback.<locals>.wrap.<locals>.wrapped_llm_chat\u001b[1;34m(_self, messages, **kwargs)\u001b[0m\n\u001b[0;32m    154\u001b[0m model_dict \u001b[38;5;241m=\u001b[39m _self\u001b[38;5;241m.\u001b[39mto_dict()\n\u001b[0;32m    155\u001b[0m model_dict\u001b[38;5;241m.\u001b[39mpop(\u001b[38;5;124m\"\u001b[39m\u001b[38;5;124mapi_key\u001b[39m\u001b[38;5;124m\"\u001b[39m, \u001b[38;5;28;01mNone\u001b[39;00m)\n\u001b[0;32m    156\u001b[0m dispatcher\u001b[38;5;241m.\u001b[39mevent(\n\u001b[1;32m--> 157\u001b[0m     \u001b[43mLLMChatStartEvent\u001b[49m\u001b[43m(\u001b[49m\n\u001b[0;32m    158\u001b[0m \u001b[43m        \u001b[49m\u001b[43mmodel_dict\u001b[49m\u001b[38;5;241;43m=\u001b[39;49m\u001b[43mmodel_dict\u001b[49m\u001b[43m,\u001b[49m\n\u001b[0;32m    159\u001b[0m \u001b[43m        \u001b[49m\u001b[43mmessages\u001b[49m\u001b[38;5;241;43m=\u001b[39;49m\u001b[43mmessages\u001b[49m\u001b[43m,\u001b[49m\n\u001b[0;32m    160\u001b[0m \u001b[43m        \u001b[49m\u001b[43madditional_kwargs\u001b[49m\u001b[38;5;241;43m=\u001b[39;49m\u001b[43mkwargs\u001b[49m\u001b[43m,\u001b[49m\n\u001b[0;32m    161\u001b[0m \u001b[43m        \u001b[49m\u001b[43mspan_id\u001b[49m\u001b[38;5;241;43m=\u001b[39;49m\u001b[43mspan_id\u001b[49m\u001b[43m,\u001b[49m\n\u001b[0;32m    162\u001b[0m \u001b[43m    \u001b[49m\u001b[43m)\u001b[49m\n\u001b[0;32m    163\u001b[0m )\n\u001b[0;32m    164\u001b[0m event_id \u001b[38;5;241m=\u001b[39m callback_manager\u001b[38;5;241m.\u001b[39mon_event_start(\n\u001b[0;32m    165\u001b[0m     CBEventType\u001b[38;5;241m.\u001b[39mLLM,\n\u001b[0;32m    166\u001b[0m     payload\u001b[38;5;241m=\u001b[39m{\n\u001b[1;32m   (...)\u001b[0m\n\u001b[0;32m    170\u001b[0m     },\n\u001b[0;32m    171\u001b[0m )\n\u001b[0;32m    172\u001b[0m \u001b[38;5;28;01mtry\u001b[39;00m:\n",
      "File \u001b[1;32m~\\Desktop\\Al-Amin\\llama_parse_al\\env\\lib\\site-packages\\pydantic\\main.py:212\u001b[0m, in \u001b[0;36mBaseModel.__init__\u001b[1;34m(self, **data)\u001b[0m\n\u001b[0;32m    210\u001b[0m \u001b[38;5;66;03m# `__tracebackhide__` tells pytest and some other tools to omit this function from tracebacks\u001b[39;00m\n\u001b[0;32m    211\u001b[0m __tracebackhide__ \u001b[38;5;241m=\u001b[39m \u001b[38;5;28;01mTrue\u001b[39;00m\n\u001b[1;32m--> 212\u001b[0m validated_self \u001b[38;5;241m=\u001b[39m \u001b[38;5;28;43mself\u001b[39;49m\u001b[38;5;241;43m.\u001b[39;49m\u001b[43m__pydantic_validator__\u001b[49m\u001b[38;5;241;43m.\u001b[39;49m\u001b[43mvalidate_python\u001b[49m\u001b[43m(\u001b[49m\u001b[43mdata\u001b[49m\u001b[43m,\u001b[49m\u001b[43m \u001b[49m\u001b[43mself_instance\u001b[49m\u001b[38;5;241;43m=\u001b[39;49m\u001b[38;5;28;43mself\u001b[39;49m\u001b[43m)\u001b[49m\n\u001b[0;32m    213\u001b[0m \u001b[38;5;28;01mif\u001b[39;00m \u001b[38;5;28mself\u001b[39m \u001b[38;5;129;01mis\u001b[39;00m \u001b[38;5;129;01mnot\u001b[39;00m validated_self:\n\u001b[0;32m    214\u001b[0m     warnings\u001b[38;5;241m.\u001b[39mwarn(\n\u001b[0;32m    215\u001b[0m         \u001b[38;5;124m'\u001b[39m\u001b[38;5;124mA custom validator is returning a value other than `self`.\u001b[39m\u001b[38;5;130;01m\\n\u001b[39;00m\u001b[38;5;124m'\u001b[39m\n\u001b[0;32m    216\u001b[0m         \u001b[38;5;124m\"\u001b[39m\u001b[38;5;124mReturning anything other than `self` from a top level model validator isn\u001b[39m\u001b[38;5;124m'\u001b[39m\u001b[38;5;124mt supported when validating via `__init__`.\u001b[39m\u001b[38;5;130;01m\\n\u001b[39;00m\u001b[38;5;124m\"\u001b[39m\n\u001b[0;32m    217\u001b[0m         \u001b[38;5;124m'\u001b[39m\u001b[38;5;124mSee the `model_validator` docs (https://docs.pydantic.dev/latest/concepts/validators/#model-validators) for more details.\u001b[39m\u001b[38;5;124m'\u001b[39m,\n\u001b[0;32m    218\u001b[0m         category\u001b[38;5;241m=\u001b[39m\u001b[38;5;28;01mNone\u001b[39;00m,\n\u001b[0;32m    219\u001b[0m     )\n",
      "\u001b[1;31mValidationError\u001b[0m: 1 validation error for LLMChatStartEvent\nmessages.0\n  Input should be a valid dictionary or instance of ChatMessage [type=model_type, input_value='What is your name?', input_type=str]\n    For further information visit https://errors.pydantic.dev/2.9/v/model_type"
     ]
    }
   ],
   "source": [
    "sllm.chat(['What is your name?'])"
   ]
  },
  {
   "cell_type": "code",
   "execution_count": 410,
   "metadata": {},
   "outputs": [
    {
     "name": "stdout",
     "output_type": "stream",
     "text": [
      "0 , Low job saturation(lower than95%) , YES\n",
      "1 , Low job saturation(lower than95%) , YES\n",
      "2 , Low job saturation(lower than95%) , YES\n",
      "3 , Low job saturation(lower than95%) , YES\n",
      "4 , Low job saturation(lower than95%) , YES\n",
      "5 , Low job saturation(lower than95%) , YES\n",
      "6 , Low job saturation(lower than95%) , YES\n",
      "7 , Low job saturation(lower than95%) , YES\n",
      "8 , Low job saturation(lower than95%) , YES\n",
      "9 , Low job saturation(lower than95%) , YES\n",
      "10 , Low job saturation(lower than95%) , YES\n",
      "11 , Low job saturation(lower than95%) , YES\n",
      "12 , Low job saturation(lower than95%) , YES\n",
      "13 , Low job saturation(lower than95%) , YES\n",
      "14 , Low job saturation(lower than95%) , YES\n",
      "15 , Job saturation 100% , NO\n",
      "16 , Bottleneck station (the average C/T of the station is the largest) , YES\n",
      "17 , Bottleneck station (the average C/T of the station is the largest) , NO\n",
      "18 , Simultaneous working time of man and machine = manual time (39S) + automatic time (2S) - process standard C/T (41S) = 0S Time of man waiting for machine = automatic time (2S) - simultaneous working time of man and machine (0S) = 2S , NO\n",
      "19 , Simultaneous working time of man and machine = manual time (39S) + automatic time (2S) - process standard C/T (41S) = 0S Time of man waiting for machine = automatic time (2S) - simultaneous working time of man and machine (0S) = 2S , YES\n",
      "20 , The sum of Sn process saturation and S(n+1) process saturation is less than or equal to 95% , YES\n",
      "21 , Balance rate is less than 90% , NO\n"
     ]
    }
   ],
   "source": [
    "#Generate query and test if it generating them correctly\n",
    "from tqdm import tqdm\n",
    "items_to_be_improved = {}\n",
    "\n",
    "for index, item in enumerate(ItemsToBeImproved):\n",
    "    des = Description[index]\n",
    "    job_saturation = f\"Is the job saturation value lower than 95% for:'{des}'? Your response should be boolean. Either YES or NO?\"\n",
    "    input_msg = ChatMessage.from_str(job_saturation)\n",
    "    output = llm.chat([input_msg])\n",
    "    answer = output.message.content\n",
    "    \n",
    "    print(index,',',des,',',answer)\n",
    "    \n",
    "    # for (index, parameter) in enumerate(ImprovementParameters):\n",
    "    #     des = Description[index]\n",
    "    #     job_saturation = f\"Is the job saturation value lower than 95% for:'{des}'? Your response should be boolean. Either YES or NO?\"\n",
    "    #     # query = f\"What is the '{parameter}' for '{item}'? If you don't know the answer then say 'NA'\"\n",
    "    #     answer = str(query_engine.query(job_saturation))\n",
    "    #     # items_to_be_improved[item][parameter] = answer\n",
    "    #     print(des,',',answer)\n",
    "    #     index +=1"
   ]
  },
  {
   "cell_type": "code",
   "execution_count": null,
   "metadata": {},
   "outputs": [
    {
     "data": {
      "text/plain": [
       "{'The saturation of the lower glass point Xiaoli Pill is 65%': {'Description': 'NA',\n",
       "  'Improvement direction': \"The improvement direction for 'The saturation of the lower glass point Xiaoli Pill is 65%' is: 1. Judgment of value and reduce tasks without added value 2. Inspection of movement quality and human engineering hazards: Reduce the number of movements, work with both hands at the same time, shorten the distance of movements, and make movements easier; eliminate human engineering hazards 3. Automated level inspection: simple and automated import 4. Merge and rearrange new job elements.\",\n",
       "  'Person responsible': 'LiXX',\n",
       "  'Expected start date': '10/8/24',\n",
       "  'Actual start date': '10/8/24',\n",
       "  'Expected completion date': '10/15/24',\n",
       "  'Actual completion date': '10/15/24',\n",
       "  'Improve immediately': 'yes',\n",
       "  'Confirmation': 'LiXX',\n",
       "  'appendix': 'NA'},\n",
       " 'Bottom glass electrophoresis tank+UVFixed baking operation saturation79.2%': {'Description': 'The \\'Description\\' for \\'Bottom glass electrophoresis tank+UVFixed baking operation saturation79.2%\\' is \"Low job saturation(lower than95%).\"',\n",
       "  'Improvement direction': 'Judgment of value and reduce tasks without added value 2. Inspection of movement quality and human engineering hazards: Reduce the number of movements, work with both hands at the same time, shorten the distance of movements, and make movements easier; eliminate human engineering hazards.',\n",
       "  'Person responsible': 'LiXX',\n",
       "  'Expected start date': '10/8/24',\n",
       "  'Actual start date': '10/8/24',\n",
       "  'Expected completion date': '10/15/24',\n",
       "  'Actual completion date': '10/15/24',\n",
       "  'Improve immediately': 'yes',\n",
       "  'Confirmation': 'LiXX',\n",
       "  'appendix': 'LiXX'}}"
      ]
     },
     "execution_count": 382,
     "metadata": {},
     "output_type": "execute_result"
    }
   ],
   "source": [
    "# items_to_be_improved"
   ]
  },
  {
   "cell_type": "code",
   "execution_count": 370,
   "metadata": {},
   "outputs": [],
   "source": [
    "from tqdm import tqdm\n",
    "def generate_answers(ItemsToBeImproved: List[str], ImprovementParameters: List[str]) -> List[str]:\n",
    "    items_to_be_improved = {}\n",
    "    for item in ItemsToBeImproved[:5]:\n",
    "        items_to_be_improved[item] = {}\n",
    "        for parameter in tqdm(ImprovementParameters):\n",
    "            query = f\"What is the '{parameter}' for '{item}'? If you don't know the answer then say 'NA'\"\n",
    "            answer = str(query_engine.query(query))\n",
    "            items_to_be_improved[item][parameter] = answer\n",
    "    return items_to_be_improved"
   ]
  },
  {
   "cell_type": "code",
   "execution_count": 162,
   "metadata": {},
   "outputs": [],
   "source": [
    "# ItemsToBeImproved = output_obj.ItemsToBeImproved\n",
    "# ImprovementParameters = output_obj.TrueCause"
   ]
  },
  {
   "cell_type": "code",
   "execution_count": 371,
   "metadata": {},
   "outputs": [
    {
     "name": "stderr",
     "output_type": "stream",
     "text": [
      " ... (more hidden) ...\n",
      " ... (more hidden) ...\n",
      " ... (more hidden) ...\n",
      " ... (more hidden) ...\n",
      " ... (more hidden) ...\n"
     ]
    }
   ],
   "source": [
    "answers = generate_answers(ItemsToBeImproved, ImprovementParameters)"
   ]
  },
  {
   "cell_type": "code",
   "execution_count": 375,
   "metadata": {},
   "outputs": [
    {
     "data": {
      "text/plain": [
       "{'The saturation of the lower glass point Xiaoli Pill is 65%': {'': 'NA',\n",
       "  'Improvement direction': \"The improvement direction for 'The saturation of the lower glass point Xiaoli Pill is 65%' is: 1. Judgment of value and reduce tasks without added value 2. Inspection of movement quality and human engineering hazards: Reduce the number of movements, work with both hands at the same time, shorten the distance of movements, and make movements easier; eliminate human engineering hazards 3. Automated level inspection: simple and automated import 4. Merge and rearrange new job elements.\",\n",
       "  'Person responsible': 'LiXX',\n",
       "  'Expected start date': '10/8/24',\n",
       "  'Actual start date': '10/8/24',\n",
       "  'Expected completion date': '10/15/24',\n",
       "  'Acutal completion date': '10/15/24',\n",
       "  'Improve immediately': 'yes',\n",
       "  'Confirmation': 'LiXX',\n",
       "  'appendix': 'NA'},\n",
       " 'Bottom glass electrophoresis tank+UVFixed baking operation saturation79.2%': {'': 'NA',\n",
       "  'Improvement direction': 'Judgment of value and reduce tasks without added value, Inspection of movement quality and human engineering hazards, Automated level inspection, Merge and rearrange new job elements.',\n",
       "  'Person responsible': 'LiXX',\n",
       "  'Expected start date': '10/8/24',\n",
       "  'Actual start date': '10/8/24',\n",
       "  'Expected completion date': '10/15/24',\n",
       "  'Acutal completion date': '10/15/24',\n",
       "  'Improve immediately': 'yes',\n",
       "  'Confirmation': 'LiXX',\n",
       "  'appendix': 'LiXX'},\n",
       " 'Xiaoliwan wax+Paste conductive foam+Lower glass glue frame dispensing operation saturation75%': {'': 'NA',\n",
       "  'Improvement direction': '1. Judgment of value and reduce tasks without added value\\n2. Inspection of movement quality and human engineering hazards: Reduce the number of movements, work with both hands at the same time, shorten the distance of movements, and make movements easier; eliminate human engineering hazards\\n3. Automated level inspection: simple and automated import\\n4. Merge and rearrange new job elements',\n",
       "  'Person responsible': 'LiXX',\n",
       "  'Expected start date': '10/8/24',\n",
       "  'Actual start date': '10/8/24',\n",
       "  'Expected completion date': '10/15/24',\n",
       "  'Acutal completion date': '10/15/24',\n",
       "  'Improve immediately': 'yes',\n",
       "  'Confirmation': 'LiXX',\n",
       "  'appendix': 'LiXX'},\n",
       " 'The upper and lower glass bonding saturation is 67.5%': {'': 'NA',\n",
       "  'Improvement direction': \"The improvement direction for 'The upper and lower glass bonding saturation is 67.5%' is as follows: 1. Judgment of value and reduce tasks without added value 2. Inspection of movement quality and human engineering hazards: Reduce the number of movements, work with both hands at the same time, shorten the distance of movements, and make movements easier; eliminate human engineering hazards 3. Automated level inspection: simple and automated import 4. Merge and rearrange new job elements.\",\n",
       "  'Person responsible': 'LiXX',\n",
       "  'Expected start date': '10/8/24',\n",
       "  'Actual start date': '10/8/24',\n",
       "  'Expected completion date': '10/15/24',\n",
       "  'Acutal completion date': '10/15/24',\n",
       "  'Improve immediately': 'yes',\n",
       "  'Confirmation': 'LiXX',\n",
       "  'appendix': 'NA'},\n",
       " 'Five-in-one front&back saturation53.2%': {'': 'NA',\n",
       "  'Improvement direction': 'NA',\n",
       "  'Person responsible': 'LiXX',\n",
       "  'Expected start date': '10/8/24',\n",
       "  'Actual start date': '10/8/24',\n",
       "  'Expected completion date': '10/15/24',\n",
       "  'Acutal completion date': '10/15/24',\n",
       "  'Improve immediately': 'NA',\n",
       "  'Confirmation': 'LiXX',\n",
       "  'appendix': 'NA'}}"
      ]
     },
     "execution_count": 375,
     "metadata": {},
     "output_type": "execute_result"
    }
   ],
   "source": [
    "answers"
   ]
  },
  {
   "cell_type": "code",
   "execution_count": 372,
   "metadata": {},
   "outputs": [],
   "source": [
    "def flatten_dict(d, parent_key='', sep='_'):\n",
    "    items = []\n",
    "    for k, v in d.items():\n",
    "        new_key = f\"{parent_key}{sep}{k}\" if parent_key else k\n",
    "        if isinstance(v, dict):\n",
    "            items.extend(flatten_dict(v, new_key, sep=sep).items())\n",
    "        else:\n",
    "            items.append((new_key, v))\n",
    "    return dict(items)\n",
    "flat_data = []\n",
    "for parameter, metrics in answers.items():\n",
    "    flat_metrics = flatten_dict(metrics)\n",
    "    flat_data.append(flat_metrics)"
   ]
  },
  {
   "cell_type": "code",
   "execution_count": 306,
   "metadata": {},
   "outputs": [],
   "source": [
    "# flat_metrics"
   ]
  },
  {
   "cell_type": "code",
   "execution_count": 307,
   "metadata": {},
   "outputs": [],
   "source": [
    "# flat_data"
   ]
  },
  {
   "cell_type": "code",
   "execution_count": 56,
   "metadata": {},
   "outputs": [],
   "source": [
    "# answers = json.loads(\"\"\"\n",
    "# {'The saturation of the lower glass point Xiaoli Pill is 65%': 'Judgment of value and reduce tasks without added value, Inspection of movement quality and human engineering hazards: Reduce the number of movements, work with both hands at the same time, shorten the distance of movements, and make movements easier; eliminate human engineering hazards, Automated level inspection: simple and automated import, Merge and rearrange new job elements.',\n",
    "#  'Bottom glass electrophoresis tank+UVFixed baking operation saturation 79.2%': 'The improvement direction for Bottom glass electrophoresis tank+UVFixed baking operation saturation 79.2% is to reduce tasks without added value, inspect movement quality and human engineering hazards, conduct automated level inspection, and merge and rearrange new job elements.',\n",
    "#  'Xiaoliwan wax+Paste conductive foam+Lower glass glue frame dispensing operation saturation75%': 'The improvement direction for Xiaoliwan wax+Paste conductive foam+Lower glass glue frame dispensing operation saturation75% is to reduce the number of movements, work with both hands at the same time, shorten the distance of movements, and make movements easier; eliminate human engineering hazards.'}\n",
    "# \"\"\")"
   ]
  },
  {
   "cell_type": "code",
   "execution_count": 387,
   "metadata": {},
   "outputs": [
    {
     "data": {
      "text/plain": [
       "[{'': 'NA',\n",
       "  'Improvement direction': \"The improvement direction for 'The saturation of the lower glass point Xiaoli Pill is 65%' is: 1. Judgment of value and reduce tasks without added value 2. Inspection of movement quality and human engineering hazards: Reduce the number of movements, work with both hands at the same time, shorten the distance of movements, and make movements easier; eliminate human engineering hazards 3. Automated level inspection: simple and automated import 4. Merge and rearrange new job elements.\",\n",
       "  'Person responsible': 'LiXX',\n",
       "  'Expected start date': '10/8/24',\n",
       "  'Actual start date': '10/8/24',\n",
       "  'Expected completion date': '10/15/24',\n",
       "  'Acutal completion date': '10/15/24',\n",
       "  'Improve immediately': 'yes',\n",
       "  'Confirmation': 'LiXX',\n",
       "  'appendix': 'NA',\n",
       "  'Items to be improved': 'The saturation of the lower glass point Xiaoli Pill is 65%'},\n",
       " {'': 'NA',\n",
       "  'Improvement direction': 'Judgment of value and reduce tasks without added value, Inspection of movement quality and human engineering hazards, Automated level inspection, Merge and rearrange new job elements.',\n",
       "  'Person responsible': 'LiXX',\n",
       "  'Expected start date': '10/8/24',\n",
       "  'Actual start date': '10/8/24',\n",
       "  'Expected completion date': '10/15/24',\n",
       "  'Acutal completion date': '10/15/24',\n",
       "  'Improve immediately': 'yes',\n",
       "  'Confirmation': 'LiXX',\n",
       "  'appendix': 'LiXX',\n",
       "  'Items to be improved': 'Bottom glass electrophoresis tank+UVFixed baking operation saturation79.2%'},\n",
       " {'': 'NA',\n",
       "  'Improvement direction': '1. Judgment of value and reduce tasks without added value\\n2. Inspection of movement quality and human engineering hazards: Reduce the number of movements, work with both hands at the same time, shorten the distance of movements, and make movements easier; eliminate human engineering hazards\\n3. Automated level inspection: simple and automated import\\n4. Merge and rearrange new job elements',\n",
       "  'Person responsible': 'LiXX',\n",
       "  'Expected start date': '10/8/24',\n",
       "  'Actual start date': '10/8/24',\n",
       "  'Expected completion date': '10/15/24',\n",
       "  'Acutal completion date': '10/15/24',\n",
       "  'Improve immediately': 'yes',\n",
       "  'Confirmation': 'LiXX',\n",
       "  'appendix': 'LiXX',\n",
       "  'Items to be improved': 'Xiaoliwan wax+Paste conductive foam+Lower glass glue frame dispensing operation saturation75%'},\n",
       " {'': 'NA',\n",
       "  'Improvement direction': \"The improvement direction for 'The upper and lower glass bonding saturation is 67.5%' is as follows: 1. Judgment of value and reduce tasks without added value 2. Inspection of movement quality and human engineering hazards: Reduce the number of movements, work with both hands at the same time, shorten the distance of movements, and make movements easier; eliminate human engineering hazards 3. Automated level inspection: simple and automated import 4. Merge and rearrange new job elements.\",\n",
       "  'Person responsible': 'LiXX',\n",
       "  'Expected start date': '10/8/24',\n",
       "  'Actual start date': '10/8/24',\n",
       "  'Expected completion date': '10/15/24',\n",
       "  'Acutal completion date': '10/15/24',\n",
       "  'Improve immediately': 'yes',\n",
       "  'Confirmation': 'LiXX',\n",
       "  'appendix': 'NA',\n",
       "  'Items to be improved': 'The upper and lower glass bonding saturation is 67.5%'},\n",
       " {'': 'NA',\n",
       "  'Improvement direction': 'NA',\n",
       "  'Person responsible': 'LiXX',\n",
       "  'Expected start date': '10/8/24',\n",
       "  'Actual start date': '10/8/24',\n",
       "  'Expected completion date': '10/15/24',\n",
       "  'Acutal completion date': '10/15/24',\n",
       "  'Improve immediately': 'NA',\n",
       "  'Confirmation': 'LiXX',\n",
       "  'appendix': 'NA',\n",
       "  'Items to be improved': 'Five-in-one front&back saturation53.2%'}]"
      ]
     },
     "execution_count": 387,
     "metadata": {},
     "output_type": "execute_result"
    }
   ],
   "source": [
    "flat_data"
   ]
  },
  {
   "cell_type": "code",
   "execution_count": 373,
   "metadata": {},
   "outputs": [
    {
     "ename": "ValueError",
     "evalue": "'Description' is not in list",
     "output_type": "error",
     "traceback": [
      "\u001b[1;31m---------------------------------------------------------------------------\u001b[0m",
      "\u001b[1;31mValueError\u001b[0m                                Traceback (most recent call last)",
      "Cell \u001b[1;32mIn[373], line 26\u001b[0m\n\u001b[0;32m     24\u001b[0m headers \u001b[38;5;241m=\u001b[39m \u001b[38;5;28msorted\u001b[39m(headers)\n\u001b[0;32m     25\u001b[0m headers\u001b[38;5;241m.\u001b[39minsert(\u001b[38;5;241m0\u001b[39m, headers\u001b[38;5;241m.\u001b[39mpop(headers\u001b[38;5;241m.\u001b[39mindex(\u001b[38;5;124m'\u001b[39m\u001b[38;5;124mItems to be improved\u001b[39m\u001b[38;5;124m'\u001b[39m)))\n\u001b[1;32m---> 26\u001b[0m headers\u001b[38;5;241m.\u001b[39minsert(\u001b[38;5;241m1\u001b[39m, headers\u001b[38;5;241m.\u001b[39mpop(\u001b[43mheaders\u001b[49m\u001b[38;5;241;43m.\u001b[39;49m\u001b[43mindex\u001b[49m\u001b[43m(\u001b[49m\u001b[38;5;124;43m'\u001b[39;49m\u001b[38;5;124;43mDescription\u001b[39;49m\u001b[38;5;124;43m'\u001b[39;49m\u001b[43m)\u001b[49m))\n\u001b[0;32m     27\u001b[0m headers\u001b[38;5;241m.\u001b[39minsert(\u001b[38;5;241m2\u001b[39m, headers\u001b[38;5;241m.\u001b[39mpop(headers\u001b[38;5;241m.\u001b[39mindex(\u001b[38;5;124m'\u001b[39m\u001b[38;5;124mImprovement direction\u001b[39m\u001b[38;5;124m'\u001b[39m)))\n\u001b[0;32m     28\u001b[0m headers\u001b[38;5;241m.\u001b[39minsert(\u001b[38;5;241m3\u001b[39m, headers\u001b[38;5;241m.\u001b[39mpop(headers\u001b[38;5;241m.\u001b[39mindex(\u001b[38;5;124m'\u001b[39m\u001b[38;5;124mPerson responsible\u001b[39m\u001b[38;5;124m'\u001b[39m)))\n",
      "\u001b[1;31mValueError\u001b[0m: 'Description' is not in list"
     ]
    }
   ],
   "source": [
    "def flatten_dict(d, parent_key='', sep='_'):\n",
    "    items = []\n",
    "    for k, v in d.items():\n",
    "        new_key = f\"{parent_key}{sep}{k}\" if parent_key else k\n",
    "        if isinstance(v, dict):\n",
    "            items.extend(flatten_dict(v, new_key, sep=sep).items())\n",
    "        else:\n",
    "            items.append((new_key, v))\n",
    "    return dict(items)\n",
    "\n",
    "# Flatten the nested dictionary\n",
    "flat_data = []\n",
    "for parameter, metrics in answers.items():\n",
    "    flat_metrics = flatten_dict(metrics)\n",
    "    flat_metrics['Items to be improved'] = parameter \n",
    "    flat_data.append(flat_metrics)\n",
    "\n",
    "# Get all unique keys to use as CSV headers\n",
    "headers = set()\n",
    "for item in flat_data:\n",
    "    headers.update(item.keys())\n",
    "\n",
    "# Sort headers to ensure 'Items to be improved' comes first\n",
    "headers = sorted(headers)\n",
    "headers.insert(0, headers.pop(headers.index('Items to be improved')))\n",
    "headers.insert(1, headers.pop(headers.index('Description')))\n",
    "headers.insert(2, headers.pop(headers.index('Improvement direction')))\n",
    "headers.insert(3, headers.pop(headers.index('Person responsible')))\n",
    "headers.insert(4, headers.pop(headers.index('Expected start date')))\n",
    "headers.insert(5, headers.pop(headers.index('Actual start date')))\n",
    "headers.insert(6, headers.pop(headers.index('Expected completion date')))\n",
    "headers.insert(7, headers.pop(headers.index('Actual completion date')))\n",
    "headers.insert(8, headers.pop(headers.index('Improve immediately')))\n",
    "headers.insert(9, headers.pop(headers.index('Confirmation')))\n",
    "headers.insert(10, headers.pop(headers.index('appendix')))\n",
    "\n",
    "# Write to CSV\n",
    "with open('Report_format_2_complete.csv', 'w', newline='', encoding='utf-8') as csvfile:\n",
    "    writer = csv.DictWriter(csvfile, fieldnames=headers)\n",
    "    writer.writeheader()\n",
    "    for row in flat_data:\n",
    "        writer.writerow(row)"
   ]
  },
  {
   "cell_type": "code",
   "execution_count": 324,
   "metadata": {},
   "outputs": [
    {
     "data": {
      "text/html": [
       "<table border=\"1\" class=\"dataframe\">\n",
       "  <thead>\n",
       "    <tr style=\"text-align: right;\">\n",
       "      <th></th>\n",
       "      <th>Items to be improved</th>\n",
       "      <th>Description</th>\n",
       "      <th>Improvement direction</th>\n",
       "      <th>Person responsible</th>\n",
       "      <th>Expected start date</th>\n",
       "      <th>Actual start date</th>\n",
       "      <th>Expected completion date</th>\n",
       "      <th>Actual completion date</th>\n",
       "      <th>Improve immediately</th>\n",
       "      <th>Confirmation</th>\n",
       "      <th>appendix</th>\n",
       "    </tr>\n",
       "  </thead>\n",
       "  <tbody>\n",
       "    <tr>\n",
       "      <th>0</th>\n",
       "      <td>The saturation of the lower glass point Xiaoli Pill is 65%</td>\n",
       "      <td>NaN</td>\n",
       "      <td>The improvement direction for 'The saturation of the lower glass point Xiaoli Pill is 65%' is: 1. Judgment of value and reduce tasks without added value 2. Inspection of movement quality and human engineering hazards: Reduce the number of movements, work with both hands at the same time, shorten the distance of movements, and make movements easier; eliminate human engineering hazards 3. Automated level inspection: simple and automated import 4. Merge and rearrange new job elements.</td>\n",
       "      <td>LiXX</td>\n",
       "      <td>10/8/24</td>\n",
       "      <td>10/8/24</td>\n",
       "      <td>10/15/24</td>\n",
       "      <td>10/15/24</td>\n",
       "      <td>yes</td>\n",
       "      <td>LiXX</td>\n",
       "      <td>NaN</td>\n",
       "    </tr>\n",
       "    <tr>\n",
       "      <th>1</th>\n",
       "      <td>Bottom glass electrophoresis tank+UVFixed baking operation saturation79.2%</td>\n",
       "      <td>NaN</td>\n",
       "      <td>The 'Improvement direction' for 'Bottom glass electrophoresis tank+UVFixed baking operation saturation79.2%' is as follows: 1. Judgment of value and reduce tasks without added value 2. Inspection of movement quality and human engineering hazards: Reduce the number of movements, work with both hands at the same time, shorten the distance of movements, and make movements easier; eliminate human engineering hazards 3. Automated level inspection: simple and automated import 4. Merge and rearrange new job elements.</td>\n",
       "      <td>LiXX</td>\n",
       "      <td>10/8/24</td>\n",
       "      <td>10/8/24</td>\n",
       "      <td>10/15/24</td>\n",
       "      <td>10/15/24</td>\n",
       "      <td>yes</td>\n",
       "      <td>LiXX</td>\n",
       "      <td>LiXX</td>\n",
       "    </tr>\n",
       "    <tr>\n",
       "      <th>2</th>\n",
       "      <td>Xiaoliwan wax+Paste conductive foam+Lower glass glue frame dispensing operation saturation75%</td>\n",
       "      <td>NaN</td>\n",
       "      <td>1. Judgment of value and reduce tasks without added value\\n2. Inspection of movement quality and human engineering hazards: Reduce the number of movements, work with both hands at the same time, shorten the distance of movements, and make movements easier; eliminate human engineering hazards\\n3. Automated level inspection: simple and automated import\\n4. Merge and rearrange new job elements</td>\n",
       "      <td>LiXX</td>\n",
       "      <td>10/8/24</td>\n",
       "      <td>10/8/24</td>\n",
       "      <td>10/15/24</td>\n",
       "      <td>10/15/24</td>\n",
       "      <td>yes</td>\n",
       "      <td>LiXX</td>\n",
       "      <td>LiXX</td>\n",
       "    </tr>\n",
       "    <tr>\n",
       "      <th>3</th>\n",
       "      <td>The upper and lower glass bonding saturation is 67.5%</td>\n",
       "      <td>NaN</td>\n",
       "      <td>The improvement direction for 'The upper and lower glass bonding saturation is 67.5%' is as follows: 1. Judgment of value and reduce tasks without added value 2. Inspection of movement quality and human engineering hazards: Reduce the number of movements, work with both hands at the same time, shorten the distance of movements, and make movements easier; eliminate human engineering hazards 3. Automated level inspection: simple and automated import 4. Merge and rearrange new job elements.</td>\n",
       "      <td>LiXX</td>\n",
       "      <td>10/8/24</td>\n",
       "      <td>10/8/24</td>\n",
       "      <td>10/15/24</td>\n",
       "      <td>10/15/24</td>\n",
       "      <td>yes</td>\n",
       "      <td>LiXX</td>\n",
       "      <td>NaN</td>\n",
       "    </tr>\n",
       "    <tr>\n",
       "      <th>4</th>\n",
       "      <td>Five-in-one front&amp;back saturation53.2%</td>\n",
       "      <td>NaN</td>\n",
       "      <td>The 'Improvement direction' for 'Five-in-one front&amp;back saturation53.2%' is to reduce the number of movements, work with both hands at the same time, shorten the distance of movements, and make movements easier; eliminate human engineering hazards.</td>\n",
       "      <td>LiXX</td>\n",
       "      <td>10/8/24</td>\n",
       "      <td>10/8/24</td>\n",
       "      <td>10/15/24</td>\n",
       "      <td>10/15/24</td>\n",
       "      <td>NaN</td>\n",
       "      <td>LiXX</td>\n",
       "      <td>NaN</td>\n",
       "    </tr>\n",
       "  </tbody>\n",
       "</table>"
      ],
      "text/plain": [
       "<IPython.core.display.HTML object>"
      ]
     },
     "execution_count": 324,
     "metadata": {},
     "output_type": "execute_result"
    }
   ],
   "source": [
    "import pandas as pd\n",
    "from IPython.core.display import HTML\n",
    "pd.set_option('display.max_colwidth', 10)\n",
    "out_df = pd.read_csv(\"Report_format_2_complete.csv\")\n",
    "html = out_df.to_html()\n",
    "HTML(html)"
   ]
  },
  {
   "cell_type": "code",
   "execution_count": 325,
   "metadata": {},
   "outputs": [],
   "source": [
    "out_df.to_excel(\"Report_format_2_complete.xlsx\", index=False)"
   ]
  },
  {
   "cell_type": "code",
   "execution_count": null,
   "metadata": {},
   "outputs": [],
   "source": [
    "#Creating new duration column for plotting the Gantt Chart"
   ]
  },
  {
   "cell_type": "code",
   "execution_count": 326,
   "metadata": {},
   "outputs": [
    {
     "data": {
      "text/html": [
       "<div>\n",
       "<style scoped>\n",
       "    .dataframe tbody tr th:only-of-type {\n",
       "        vertical-align: middle;\n",
       "    }\n",
       "\n",
       "    .dataframe tbody tr th {\n",
       "        vertical-align: top;\n",
       "    }\n",
       "\n",
       "    .dataframe thead th {\n",
       "        text-align: right;\n",
       "    }\n",
       "</style>\n",
       "<table border=\"1\" class=\"dataframe\">\n",
       "  <thead>\n",
       "    <tr style=\"text-align: right;\">\n",
       "      <th></th>\n",
       "      <th>Items to be improved</th>\n",
       "      <th>Description</th>\n",
       "      <th>Improvement direction</th>\n",
       "      <th>Person responsible</th>\n",
       "      <th>Expected start date</th>\n",
       "      <th>Actual start date</th>\n",
       "      <th>Expected completion date</th>\n",
       "      <th>Actual completion date</th>\n",
       "      <th>Improve immediately</th>\n",
       "      <th>Confirmation</th>\n",
       "      <th>appendix</th>\n",
       "    </tr>\n",
       "  </thead>\n",
       "  <tbody>\n",
       "    <tr>\n",
       "      <th>0</th>\n",
       "      <td>The sa...</td>\n",
       "      <td>NaN</td>\n",
       "      <td>The im...</td>\n",
       "      <td>LiXX</td>\n",
       "      <td>10/8/24</td>\n",
       "      <td>10/8/24</td>\n",
       "      <td>10/15/24</td>\n",
       "      <td>10/15/24</td>\n",
       "      <td>yes</td>\n",
       "      <td>LiXX</td>\n",
       "      <td>NaN</td>\n",
       "    </tr>\n",
       "    <tr>\n",
       "      <th>1</th>\n",
       "      <td>Bottom...</td>\n",
       "      <td>NaN</td>\n",
       "      <td>The 'I...</td>\n",
       "      <td>LiXX</td>\n",
       "      <td>10/8/24</td>\n",
       "      <td>10/8/24</td>\n",
       "      <td>10/15/24</td>\n",
       "      <td>10/15/24</td>\n",
       "      <td>yes</td>\n",
       "      <td>LiXX</td>\n",
       "      <td>LiXX</td>\n",
       "    </tr>\n",
       "    <tr>\n",
       "      <th>2</th>\n",
       "      <td>Xiaoli...</td>\n",
       "      <td>NaN</td>\n",
       "      <td>1. Jud...</td>\n",
       "      <td>LiXX</td>\n",
       "      <td>10/8/24</td>\n",
       "      <td>10/8/24</td>\n",
       "      <td>10/15/24</td>\n",
       "      <td>10/15/24</td>\n",
       "      <td>yes</td>\n",
       "      <td>LiXX</td>\n",
       "      <td>LiXX</td>\n",
       "    </tr>\n",
       "    <tr>\n",
       "      <th>3</th>\n",
       "      <td>The up...</td>\n",
       "      <td>NaN</td>\n",
       "      <td>The im...</td>\n",
       "      <td>LiXX</td>\n",
       "      <td>10/8/24</td>\n",
       "      <td>10/8/24</td>\n",
       "      <td>10/15/24</td>\n",
       "      <td>10/15/24</td>\n",
       "      <td>yes</td>\n",
       "      <td>LiXX</td>\n",
       "      <td>NaN</td>\n",
       "    </tr>\n",
       "    <tr>\n",
       "      <th>4</th>\n",
       "      <td>Five-i...</td>\n",
       "      <td>NaN</td>\n",
       "      <td>The 'I...</td>\n",
       "      <td>LiXX</td>\n",
       "      <td>10/8/24</td>\n",
       "      <td>10/8/24</td>\n",
       "      <td>10/15/24</td>\n",
       "      <td>10/15/24</td>\n",
       "      <td>NaN</td>\n",
       "      <td>LiXX</td>\n",
       "      <td>NaN</td>\n",
       "    </tr>\n",
       "  </tbody>\n",
       "</table>\n",
       "</div>"
      ],
      "text/plain": [
       "  Items to be improved  Description Improvement direction Person responsible  \\\n",
       "0  The sa...                  NaN    The im...                  LiXX           \n",
       "1  Bottom...                  NaN    The 'I...                  LiXX           \n",
       "2  Xiaoli...                  NaN    1. Jud...                  LiXX           \n",
       "3  The up...                  NaN    The im...                  LiXX           \n",
       "4  Five-i...                  NaN    The 'I...                  LiXX           \n",
       "\n",
       "  Expected start date Actual start date Expected completion date  \\\n",
       "0    10/8/24             10/8/24          10/15/24                 \n",
       "1    10/8/24             10/8/24          10/15/24                 \n",
       "2    10/8/24             10/8/24          10/15/24                 \n",
       "3    10/8/24             10/8/24          10/15/24                 \n",
       "4    10/8/24             10/8/24          10/15/24                 \n",
       "\n",
       "  Actual completion date Improve immediately Confirmation appendix  \n",
       "0   10/15/24                    yes                LiXX        NaN  \n",
       "1   10/15/24                    yes                LiXX       LiXX  \n",
       "2   10/15/24                    yes                LiXX       LiXX  \n",
       "3   10/15/24                    yes                LiXX        NaN  \n",
       "4   10/15/24                    NaN                LiXX        NaN  "
      ]
     },
     "execution_count": 326,
     "metadata": {},
     "output_type": "execute_result"
    }
   ],
   "source": [
    "import os\n",
    "import pandas as pd\n",
    "file_path = '../llama_parse_al/Report_format_2_complete.csv'\n",
    "df = pd.read_csv(file_path)\n",
    "df.head()"
   ]
  },
  {
   "cell_type": "code",
   "execution_count": 327,
   "metadata": {},
   "outputs": [
    {
     "name": "stderr",
     "output_type": "stream",
     "text": [
      "C:\\Users\\Muhammad Al-Amin\\AppData\\Local\\Temp\\ipykernel_49540\\4031733434.py:1: UserWarning:\n",
      "\n",
      "Could not infer format, so each element will be parsed individually, falling back to `dateutil`. To ensure parsing is consistent and as-expected, please specify a format.\n",
      "\n",
      "C:\\Users\\Muhammad Al-Amin\\AppData\\Local\\Temp\\ipykernel_49540\\4031733434.py:1: UserWarning:\n",
      "\n",
      "Could not infer format, so each element will be parsed individually, falling back to `dateutil`. To ensure parsing is consistent and as-expected, please specify a format.\n",
      "\n"
     ]
    }
   ],
   "source": [
    "df['duration'] = pd.to_datetime(df['Actual completion date']) - pd.to_datetime(df['Actual start date'])"
   ]
  },
  {
   "cell_type": "code",
   "execution_count": 328,
   "metadata": {},
   "outputs": [
    {
     "data": {
      "text/html": [
       "<div>\n",
       "<style scoped>\n",
       "    .dataframe tbody tr th:only-of-type {\n",
       "        vertical-align: middle;\n",
       "    }\n",
       "\n",
       "    .dataframe tbody tr th {\n",
       "        vertical-align: top;\n",
       "    }\n",
       "\n",
       "    .dataframe thead th {\n",
       "        text-align: right;\n",
       "    }\n",
       "</style>\n",
       "<table border=\"1\" class=\"dataframe\">\n",
       "  <thead>\n",
       "    <tr style=\"text-align: right;\">\n",
       "      <th></th>\n",
       "      <th>Items to be improved</th>\n",
       "      <th>Description</th>\n",
       "      <th>Improvement direction</th>\n",
       "      <th>Person responsible</th>\n",
       "      <th>Expected start date</th>\n",
       "      <th>Actual start date</th>\n",
       "      <th>Expected completion date</th>\n",
       "      <th>Actual completion date</th>\n",
       "      <th>Improve immediately</th>\n",
       "      <th>Confirmation</th>\n",
       "      <th>appendix</th>\n",
       "      <th>duration</th>\n",
       "    </tr>\n",
       "  </thead>\n",
       "  <tbody>\n",
       "    <tr>\n",
       "      <th>0</th>\n",
       "      <td>The sa...</td>\n",
       "      <td>NaN</td>\n",
       "      <td>The im...</td>\n",
       "      <td>LiXX</td>\n",
       "      <td>10/8/24</td>\n",
       "      <td>10/8/24</td>\n",
       "      <td>10/15/24</td>\n",
       "      <td>10/15/24</td>\n",
       "      <td>yes</td>\n",
       "      <td>LiXX</td>\n",
       "      <td>NaN</td>\n",
       "      <td>7 days</td>\n",
       "    </tr>\n",
       "    <tr>\n",
       "      <th>1</th>\n",
       "      <td>Bottom...</td>\n",
       "      <td>NaN</td>\n",
       "      <td>The 'I...</td>\n",
       "      <td>LiXX</td>\n",
       "      <td>10/8/24</td>\n",
       "      <td>10/8/24</td>\n",
       "      <td>10/15/24</td>\n",
       "      <td>10/15/24</td>\n",
       "      <td>yes</td>\n",
       "      <td>LiXX</td>\n",
       "      <td>LiXX</td>\n",
       "      <td>7 days</td>\n",
       "    </tr>\n",
       "    <tr>\n",
       "      <th>2</th>\n",
       "      <td>Xiaoli...</td>\n",
       "      <td>NaN</td>\n",
       "      <td>1. Jud...</td>\n",
       "      <td>LiXX</td>\n",
       "      <td>10/8/24</td>\n",
       "      <td>10/8/24</td>\n",
       "      <td>10/15/24</td>\n",
       "      <td>10/15/24</td>\n",
       "      <td>yes</td>\n",
       "      <td>LiXX</td>\n",
       "      <td>LiXX</td>\n",
       "      <td>7 days</td>\n",
       "    </tr>\n",
       "    <tr>\n",
       "      <th>3</th>\n",
       "      <td>The up...</td>\n",
       "      <td>NaN</td>\n",
       "      <td>The im...</td>\n",
       "      <td>LiXX</td>\n",
       "      <td>10/8/24</td>\n",
       "      <td>10/8/24</td>\n",
       "      <td>10/15/24</td>\n",
       "      <td>10/15/24</td>\n",
       "      <td>yes</td>\n",
       "      <td>LiXX</td>\n",
       "      <td>NaN</td>\n",
       "      <td>7 days</td>\n",
       "    </tr>\n",
       "    <tr>\n",
       "      <th>4</th>\n",
       "      <td>Five-i...</td>\n",
       "      <td>NaN</td>\n",
       "      <td>The 'I...</td>\n",
       "      <td>LiXX</td>\n",
       "      <td>10/8/24</td>\n",
       "      <td>10/8/24</td>\n",
       "      <td>10/15/24</td>\n",
       "      <td>10/15/24</td>\n",
       "      <td>NaN</td>\n",
       "      <td>LiXX</td>\n",
       "      <td>NaN</td>\n",
       "      <td>7 days</td>\n",
       "    </tr>\n",
       "  </tbody>\n",
       "</table>\n",
       "</div>"
      ],
      "text/plain": [
       "  Items to be improved  Description Improvement direction Person responsible  \\\n",
       "0  The sa...                  NaN    The im...                  LiXX           \n",
       "1  Bottom...                  NaN    The 'I...                  LiXX           \n",
       "2  Xiaoli...                  NaN    1. Jud...                  LiXX           \n",
       "3  The up...                  NaN    The im...                  LiXX           \n",
       "4  Five-i...                  NaN    The 'I...                  LiXX           \n",
       "\n",
       "  Expected start date Actual start date Expected completion date  \\\n",
       "0    10/8/24             10/8/24          10/15/24                 \n",
       "1    10/8/24             10/8/24          10/15/24                 \n",
       "2    10/8/24             10/8/24          10/15/24                 \n",
       "3    10/8/24             10/8/24          10/15/24                 \n",
       "4    10/8/24             10/8/24          10/15/24                 \n",
       "\n",
       "  Actual completion date Improve immediately Confirmation appendix duration  \n",
       "0   10/15/24                    yes                LiXX        NaN   7 days  \n",
       "1   10/15/24                    yes                LiXX       LiXX   7 days  \n",
       "2   10/15/24                    yes                LiXX       LiXX   7 days  \n",
       "3   10/15/24                    yes                LiXX        NaN   7 days  \n",
       "4   10/15/24                    NaN                LiXX        NaN   7 days  "
      ]
     },
     "execution_count": 328,
     "metadata": {},
     "output_type": "execute_result"
    }
   ],
   "source": [
    "df.head()"
   ]
  },
  {
   "cell_type": "code",
   "execution_count": 329,
   "metadata": {},
   "outputs": [],
   "source": [
    "# Position a column to a specified place in pandas\n",
    "columns = list(df.columns)\n",
    "columns.remove('duration')\n",
    "insert_at = columns.index('Actual completion date') + 1\n",
    "columns.insert(insert_at, 'duration')\n",
    "df = df[columns]"
   ]
  },
  {
   "cell_type": "code",
   "execution_count": 330,
   "metadata": {},
   "outputs": [],
   "source": [
    "# Save the excel file after formatting is done\n",
    "df.to_excel('Report_format_2_complete_input.xlsx', index=False)"
   ]
  },
  {
   "cell_type": "code",
   "execution_count": 265,
   "metadata": {},
   "outputs": [
    {
     "data": {
      "text/html": [
       "<div>\n",
       "<style scoped>\n",
       "    .dataframe tbody tr th:only-of-type {\n",
       "        vertical-align: middle;\n",
       "    }\n",
       "\n",
       "    .dataframe tbody tr th {\n",
       "        vertical-align: top;\n",
       "    }\n",
       "\n",
       "    .dataframe thead th {\n",
       "        text-align: right;\n",
       "    }\n",
       "</style>\n",
       "<table border=\"1\" class=\"dataframe\">\n",
       "  <thead>\n",
       "    <tr style=\"text-align: right;\">\n",
       "      <th></th>\n",
       "      <th>Items to be improved</th>\n",
       "      <th>Description</th>\n",
       "      <th>Improvement direction</th>\n",
       "      <th>Person responsible</th>\n",
       "      <th>Expected start date</th>\n",
       "      <th>Actual start date</th>\n",
       "      <th>Expected completion date</th>\n",
       "      <th>Actual completion date</th>\n",
       "      <th>duration</th>\n",
       "      <th>Improve immediately</th>\n",
       "      <th>Confirmation</th>\n",
       "      <th>appendix</th>\n",
       "    </tr>\n",
       "  </thead>\n",
       "  <tbody>\n",
       "    <tr>\n",
       "      <th>0</th>\n",
       "      <td>The sa...</td>\n",
       "      <td>NaN</td>\n",
       "      <td>The im...</td>\n",
       "      <td>LiXX</td>\n",
       "      <td>10/8/24</td>\n",
       "      <td>10/8/24</td>\n",
       "      <td>10/15/24</td>\n",
       "      <td>10/15/24</td>\n",
       "      <td>7 days</td>\n",
       "      <td>yes</td>\n",
       "      <td>LiXX</td>\n",
       "      <td>NaN</td>\n",
       "    </tr>\n",
       "    <tr>\n",
       "      <th>1</th>\n",
       "      <td>Bottom...</td>\n",
       "      <td>NaN</td>\n",
       "      <td>NaN</td>\n",
       "      <td>LiXX</td>\n",
       "      <td>10/8/24</td>\n",
       "      <td>10/8/24</td>\n",
       "      <td>10/15/24</td>\n",
       "      <td>10/15/24</td>\n",
       "      <td>7 days</td>\n",
       "      <td>yes</td>\n",
       "      <td>LiXX</td>\n",
       "      <td>LiXX</td>\n",
       "    </tr>\n",
       "  </tbody>\n",
       "</table>\n",
       "</div>"
      ],
      "text/plain": [
       "  Items to be improved  Description Improvement direction Person responsible  \\\n",
       "0  The sa...                  NaN    The im...                  LiXX           \n",
       "1  Bottom...                  NaN          NaN                  LiXX           \n",
       "\n",
       "  Expected start date Actual start date Expected completion date  \\\n",
       "0    10/8/24             10/8/24          10/15/24                 \n",
       "1    10/8/24             10/8/24          10/15/24                 \n",
       "\n",
       "  Actual completion date duration Improve immediately Confirmation appendix  \n",
       "0   10/15/24               7 days        yes                LiXX        NaN  \n",
       "1   10/15/24               7 days        yes                LiXX       LiXX  "
      ]
     },
     "execution_count": 265,
     "metadata": {},
     "output_type": "execute_result"
    }
   ],
   "source": [
    "df.head()"
   ]
  },
  {
   "cell_type": "code",
   "execution_count": 331,
   "metadata": {},
   "outputs": [
    {
     "data": {
      "text/plain": [
       "True"
      ]
     },
     "execution_count": 331,
     "metadata": {},
     "output_type": "execute_result"
    }
   ],
   "source": [
    "import os\n",
    "file_path = '../llama_parse_al/Report_format_2_complete_input.xlsx'\n",
    "os.path.exists(file_path)"
   ]
  },
  {
   "cell_type": "code",
   "execution_count": 332,
   "metadata": {},
   "outputs": [
    {
     "name": "stdout",
     "output_type": "stream",
     "text": [
      "Chart added to 'updated_data.xlsx'\n"
     ]
    }
   ],
   "source": [
    "from openpyxl import load_workbook\n",
    "from openpyxl.chart import BarChart, Reference\n",
    "from openpyxl.chart.label import DataLabelList\n",
    "# Step 1: Load the Excel file\n",
    "# file_path = \"data.xlsx\"  # Replace with your Excel file path\n",
    "workbook = load_workbook(file_path)\n",
    "sheet = workbook.active  # Use the active sheet (or specify by name: workbook['SheetName'])\n",
    "\n",
    "# Step 2: Identify the data range (e.g., A1:B5)\n",
    "# Assuming the first column has categories (e.g., tasks) and the second has values (e.g., counts)\n",
    "categories = Reference(sheet, min_col=1, min_row=2, max_row=sheet.max_row)  # Task names\n",
    "values = Reference(sheet, min_col=9, min_row=1, max_row=sheet.max_row)  # Values including header\n",
    "\n",
    "# Step 3: Create a horizontal bar chart\n",
    "chart = BarChart()\n",
    "chart.type = \"bar\"  # Horizontal bar chart\n",
    "chart.title = \"Timeline Chart\"\n",
    "chart.y_axis.title = \"Days\"\n",
    "chart.x_axis.title = \"Tasks\"\n",
    "# Add data and categories to the chart\n",
    "chart.add_data(values, titles_from_data=True)\n",
    "chart.set_categories(categories)\n",
    "# Step 5: Add data labels\n",
    "data_labels = DataLabelList()  # Create a DataLabelList object\n",
    "data_labels.showVal = True  # Show values on the bars\n",
    "data_labels.position = 'inBase'\n",
    "chart.dLbls = data_labels\n",
    "chart.legend = None\n",
    "\n",
    "# Step 4: Add the chart to the worksheet\n",
    "sheet.add_chart(chart, \"M2\")  # Place the chart in column D, row 2\n",
    "\n",
    "# Step 5: Save the updated Excel file\n",
    "workbook.save(\"updated_data.xlsx\")\n",
    "print(\"Chart added to 'updated_data.xlsx'\")"
   ]
  },
  {
   "cell_type": "code",
   "execution_count": 283,
   "metadata": {},
   "outputs": [
    {
     "data": {
      "text/plain": [
       "<openpyxl.chart.label.DataLabelList object>\n",
       "Parameters:\n",
       "delete=None, dLbl=[], numFmt=None, spPr=None, txPr=None, dLblPos=None, showLegendKey=None, showVal=True, showCatName=None, showSerName=None, showPercent=None, showBubbleSize=None, showLeaderLines=None, separator=None"
      ]
     },
     "execution_count": 283,
     "metadata": {},
     "output_type": "execute_result"
    }
   ],
   "source": [
    "chart.dLbls"
   ]
  },
  {
   "cell_type": "code",
   "execution_count": 159,
   "metadata": {},
   "outputs": [],
   "source": [
    "from openpyxl import load_workbook\n",
    "workbook = load_workbook(\"Report_format_2_complete.xlsx\")"
   ]
  },
  {
   "cell_type": "code",
   "execution_count": 160,
   "metadata": {},
   "outputs": [
    {
     "name": "stdout",
     "output_type": "stream",
     "text": [
      "New row added at the beginning!\n"
     ]
    }
   ],
   "source": [
    "# Select the active worksheet (or specify the sheet by name)\n",
    "sheet = workbook.active  # or workbook[\"SheetName\"]\n",
    "\n",
    "# Insert a new row at the beginning\n",
    "sheet.insert_rows(1)  # Insert an empty row at the top\n",
    "\n",
    "# Merge two cells (e.g., A1 and B1)\n",
    "sheet.merge_cells(\"E1:F1\")\n",
    "\n",
    "# Write data into the merged cells\n",
    "sheet[\"E1\"] = \"Date\"\n",
    "\n",
    "# Save the workbook\n",
    "workbook.save(\"example.xlsx\")\n",
    "\n",
    "print(\"New row added at the beginning!\")\n"
   ]
  },
  {
   "cell_type": "code",
   "execution_count": null,
   "metadata": {},
   "outputs": [
    {
     "ename": "ImportError",
     "evalue": "cannot import name 'Ganttchart' from 'openpyxl.chart' (C:\\Users\\Muhammad Al-Amin\\Desktop\\Al-Amin\\llama_parse_al\\env\\lib\\site-packages\\openpyxl\\chart\\__init__.py)",
     "output_type": "error",
     "traceback": [
      "\u001b[1;31m---------------------------------------------------------------------------\u001b[0m",
      "\u001b[1;31mImportError\u001b[0m                               Traceback (most recent call last)",
      "Cell \u001b[1;32mIn[161], line 1\u001b[0m\n\u001b[1;32m----> 1\u001b[0m \u001b[38;5;28;01mfrom\u001b[39;00m \u001b[38;5;21;01mopenpyxl\u001b[39;00m\u001b[38;5;21;01m.\u001b[39;00m\u001b[38;5;21;01mchart\u001b[39;00m \u001b[38;5;28;01mimport\u001b[39;00m Ganttchart\n",
      "\u001b[1;31mImportError\u001b[0m: cannot import name 'Ganttchart' from 'openpyxl.chart' (C:\\Users\\Muhammad Al-Amin\\Desktop\\Al-Amin\\llama_parse_al\\env\\lib\\site-packages\\openpyxl\\chart\\__init__.py)"
     ]
    }
   ],
   "source": [
    "from openpyxl.chart import "
   ]
  },
  {
   "cell_type": "code",
   "execution_count": 162,
   "metadata": {},
   "outputs": [],
   "source": [
    "from openpyxl import Workbook\n",
    "from openpyxl.chart import BarChart, Reference\n",
    "from openpyxl.styles import NamedStyle\n",
    "from datetime import datetime, timedelta\n",
    "\n",
    "# Step 1: Create workbook and add data\n",
    "wb = Workbook()\n",
    "ws = wb.active\n",
    "ws.title = \"Gantt Chart\"\n",
    "\n",
    "# Define task data\n",
    "data = [\n",
    "    [\"Task\", \"Start Date\", \"Duration (Days)\"],\n",
    "    [\"Task 1\", datetime(2024, 1, 1), 5],\n",
    "    [\"Task 2\", datetime(2024, 1, 6), 3],\n",
    "    [\"Task 3\", datetime(2024, 1, 9), 7],\n",
    "    [\"Task 4\", datetime(2024, 1, 16), 4],\n",
    "]\n",
    "\n",
    "# Add data to worksheet\n",
    "for row in data:\n",
    "    ws.append(row)\n",
    "\n",
    "# Apply date format to start date column\n",
    "date_style = NamedStyle(name=\"date_style\", number_format=\"MM/DD/YYYY\")\n",
    "for row in ws.iter_rows(min_row=2, max_row=len(data), min_col=2, max_col=2):\n",
    "    for cell in row:\n",
    "        cell.style = date_style\n",
    "\n",
    "# Step 2: Calculate start offsets\n",
    "start_date = data[1][1]  # The earliest start date (Task 1 start date)\n",
    "ws[\"D1\"] = \"Start Offset (Days)\"\n",
    "for i in range(2, len(data) + 1):\n",
    "    ws[f\"D{i}\"] = f\"=B{i} - DATE({start_date.year}, {start_date.month}, {start_date.day})\"\n",
    "\n",
    "# Step 3: Create a BarChart for the Gantt chart\n",
    "chart = BarChart()\n",
    "chart.type = \"bar\"\n",
    "chart.style = 12\n",
    "chart.title = \"Gantt Chart\"\n",
    "chart.y_axis.title = \"Tasks\"\n",
    "chart.x_axis.title = \"Days\"\n",
    "chart.barDir = \"bar\"  # Horizontal bars\n",
    "\n",
    "# Add data for the chart\n",
    "duration_values = Reference(ws, min_col=3, min_row=2, max_row=len(data))  # Durations\n",
    "offset_values = Reference(ws, min_col=4, min_row=2, max_row=len(data))  # Start offsets\n",
    "chart.add_data(duration_values, titles_from_data=False)\n",
    "\n",
    "# Set categories (tasks) as labels\n",
    "categories = Reference(ws, min_col=1, min_row=2, max_row=len(data))\n",
    "chart.set_categories(categories)\n",
    "\n",
    "# Set start offset as the base (stacked bar chart)\n",
    "chart.add_data(offset_values, from_rows=False)\n",
    "\n",
    "# Step 4: Add the chart to the worksheet\n",
    "ws.add_chart(chart, \"F2\")\n",
    "\n",
    "# Step 5: Save the workbook\n",
    "wb.save(\"gantt_chart.xlsx\")\n"
   ]
  },
  {
   "cell_type": "code",
   "execution_count": 167,
   "metadata": {},
   "outputs": [],
   "source": [
    "from openpyxl import Workbook\n",
    "from openpyxl.chart import BarChart, Series, Reference\n",
    "\n",
    "wb = Workbook(write_only=True)\n",
    "ws = wb.create_sheet()\n",
    "\n",
    "rows = [\n",
    "    ('Number', 'Batch 1', 'Batch 2'),\n",
    "    (2, 10, 30),\n",
    "    (3, 40, 60),\n",
    "    (4, 50, 70),\n",
    "    (5, 20, 10),\n",
    "    (6, 10, 40),\n",
    "    (7, 50, 30),\n",
    "]\n",
    "\n",
    "for row in rows:\n",
    "    ws.append(row)\n",
    "\n",
    "chart1 = BarChart()\n",
    "chart1.type = \"col\"\n",
    "chart1.style = 10\n",
    "chart1.title = \"Bar Chart\"\n",
    "chart1.y_axis.title = 'Test number'\n",
    "chart1.x_axis.title = 'Sample length (mm)'\n",
    "\n",
    "data = Reference(ws, min_col=2, min_row=1, max_row=7, max_col=3)\n",
    "cats = Reference(ws, min_col=1, min_row=2, max_row=7)\n",
    "chart1.add_data(data, titles_from_data=True)\n",
    "chart1.set_categories(cats)\n",
    "chart1.shape = 4\n",
    "ws.add_chart(chart1, \"A10\")\n",
    "\n",
    "from copy import deepcopy\n",
    "\n",
    "chart2 = deepcopy(chart1)\n",
    "chart2.style = 11\n",
    "chart2.type = \"bar\"\n",
    "chart2.title = \"Horizontal Bar Chart\"\n",
    "\n",
    "ws.add_chart(chart2, \"G10\")\n",
    "\n",
    "\n",
    "chart3 = deepcopy(chart1)\n",
    "chart3.type = \"col\"\n",
    "chart3.style = 12\n",
    "chart3.grouping = \"stacked\"\n",
    "chart3.overlap = 100\n",
    "chart3.title = 'Stacked Chart'\n",
    "\n",
    "ws.add_chart(chart3, \"A27\")\n",
    "\n",
    "\n",
    "chart4 = deepcopy(chart1)\n",
    "chart4.type = \"bar\"\n",
    "chart4.style = 13\n",
    "chart4.grouping = \"percentStacked\"\n",
    "chart4.overlap = 100\n",
    "chart4.title = 'Percent Stacked Chart'\n",
    "\n",
    "ws.add_chart(chart4, \"G27\")\n",
    "\n",
    "wb.save(\"bar.xlsx\")"
   ]
  },
  {
   "cell_type": "code",
   "execution_count": 168,
   "metadata": {},
   "outputs": [],
   "source": [
    "from openpyxl import Workbook\n",
    "from openpyxl.chart import BarChart, Reference\n",
    "from datetime import datetime\n",
    "\n",
    "# Step 1: Create a workbook and worksheet\n",
    "wb = Workbook()\n",
    "ws = wb.active\n",
    "ws.title = \"Gantt Chart\"\n",
    "\n",
    "# Step 2: Prepare data (tasks, start dates, durations)\n",
    "data = [\n",
    "    [\"Task\", \"Start Date\", \"Duration (Days)\", \"Start Offset (Days)\"],\n",
    "    [\"Task 1\", datetime(2024, 1, 1), 5, 0],  # Offset calculated manually\n",
    "    [\"Task 2\", datetime(2024, 1, 6), 3, 5],\n",
    "    [\"Task 3\", datetime(2024, 1, 9), 7, 8],\n",
    "    [\"Task 4\", datetime(2024, 1, 16), 4, 15],\n",
    "]\n",
    "\n",
    "# Add headers and data to the worksheet\n",
    "for row in data:\n",
    "    ws.append(row)\n",
    "\n",
    "# Format date column\n",
    "for cell in ws[\"B\"]:\n",
    "    if cell.row != 1:  # Skip the header\n",
    "        cell.number_format = \"MM/DD/YYYY\"\n",
    "\n",
    "# Step 3: Create a stacked bar chart\n",
    "chart = BarChart()\n",
    "chart.type = \"bar\"\n",
    "chart.style = 10\n",
    "chart.title = \"Gantt Chart\"\n",
    "chart.y_axis.title = \"Tasks\"\n",
    "chart.x_axis.title = \"Days\"\n",
    "chart.barDir = \"bar\"  # Use horizontal bars\n",
    "\n",
    "# Reference durations and offsets for the chart\n",
    "duration_values = Reference(ws, min_col=3, min_row=2, max_row=len(data))  # Durations\n",
    "offset_values = Reference(ws, min_col=4, min_row=2, max_row=len(data))  # Start offsets\n",
    "\n",
    "# Add the data series\n",
    "chart.add_data(duration_values, titles_from_data=False)  # Duration as the main bar\n",
    "chart.add_data(offset_values, titles_from_data=False)    # Offset as the base\n",
    "\n",
    "# Set task names as categories\n",
    "categories = Reference(ws, min_col=1, min_row=2, max_row=len(data))\n",
    "chart.set_categories(categories)\n",
    "\n",
    "# Step 4: Add the chart to the worksheet\n",
    "ws.add_chart(chart, \"F2\")\n",
    "\n",
    "# Step 5: Save the workbook\n",
    "wb.save(\"gantt_chart.xlsx\")\n"
   ]
  },
  {
   "cell_type": "code",
   "execution_count": 181,
   "metadata": {},
   "outputs": [
    {
     "name": "stdout",
     "output_type": "stream",
     "text": [
      "Gantt chart created successfully!\n"
     ]
    }
   ],
   "source": [
    "from openpyxl import Workbook\n",
    "from openpyxl.chart import BarChart, Reference\n",
    "from openpyxl.styles import NamedStyle\n",
    "from datetime import datetime\n",
    "\n",
    "# Step 1: Create a workbook and worksheet\n",
    "wb = Workbook()\n",
    "ws = wb.active\n",
    "ws.title = \"Gantt Chart\"\n",
    "\n",
    "# Step 2: Add task data (Task Name, Start Date, Duration)\n",
    "data = [\n",
    "    [\"Task\", \"Start Date\", \"Duration (Days)\"],\n",
    "    [\"Task 1\", datetime(2024, 1, 1), 5],\n",
    "    [\"Task 2\", datetime(2024, 1, 6), 3],\n",
    "    [\"Task 3\", datetime(2024, 1, 10), 7],\n",
    "    [\"Task 4\", datetime(2024, 1, 18), 4],\n",
    "]\n",
    "\n",
    "# Add header and data to worksheet\n",
    "for row in data:\n",
    "    ws.append(row)\n",
    "\n",
    "# Apply date format to Start Date column\n",
    "date_style = NamedStyle(name=\"date_style\", number_format=\"MM/DD/YYYY\")\n",
    "for row in ws.iter_rows(min_row=2, max_row=len(data), min_col=2, max_col=2):\n",
    "    for cell in row:\n",
    "        cell.style = date_style\n",
    "\n",
    "# Step 3: Calculate \"Start Offset\" column\n",
    "start_date = data[1][1]  # Earliest start date\n",
    "ws[\"D1\"] = \"Start Offset (Days)\"  # Add header for Start Offset\n",
    "for i, row in enumerate(data[1:], start=2):\n",
    "    ws[f\"D{i}\"] = f\"=B{i} - DATE({start_date.year}, {start_date.month}, {start_date.day})\"\n",
    "\n",
    "# Step 4: Create the Gantt chart\n",
    "chart = BarChart()\n",
    "chart.type = \"bar\"\n",
    "chart.style = 11\n",
    "chart.title = \"Project Timeline\"\n",
    "chart.y_axis.title = \"Tasks\"\n",
    "chart.x_axis.title = \"Days\"\n",
    "chart.barDir = \"bar\"  # Horizontal bars\n",
    "\n",
    "# Add data for the Gantt chart\n",
    "# Series 1: Start Offset (empty space)\n",
    "start_offset = Reference(ws, min_col=4, min_row=2, max_row=len(data))\n",
    "# Series 2: Duration (bar length)\n",
    "duration = Reference(ws, min_col=3, min_row=2, max_row=len(data))\n",
    "chart.add_data(duration, titles_from_data=False)\n",
    "\n",
    "# Set task names as categories\n",
    "categories = Reference(ws, min_col=1, min_row=2, max_row=len(data))\n",
    "chart.set_categories(categories)\n",
    "\n",
    "# Add the chart to the worksheet\n",
    "ws.add_chart(chart, \"F2\")\n",
    "\n",
    "# Step 5: Save the workbook\n",
    "wb.save(\"Gantt_Chart_new.xlsx\")\n",
    "print(\"Gantt chart created successfully!\")\n"
   ]
  },
  {
   "cell_type": "code",
   "execution_count": 180,
   "metadata": {},
   "outputs": [
    {
     "data": {
      "application/vnd.plotly.v1+json": {
       "config": {
        "plotlyServerURL": "https://plot.ly"
       },
       "data": [
        {
         "alignmentgroup": "True",
         "base": [
          "2024-01-01T00:00:00",
          "2024-01-03T00:00:00",
          "2024-01-07T00:00:00"
         ],
         "hovertemplate": "Start=%{base}<br>Finish=%{x}<br>Task=%{y}<extra></extra>",
         "legendgroup": "",
         "marker": {
          "color": "#636efa",
          "pattern": {
           "shape": ""
          }
         },
         "name": "",
         "offsetgroup": "",
         "orientation": "h",
         "showlegend": false,
         "textposition": "auto",
         "type": "bar",
         "x": [
          172800000,
          345600000,
          259200000
         ],
         "xaxis": "x",
         "y": [
          "task one",
          "task two",
          "task three"
         ],
         "yaxis": "y"
        }
       ],
       "layout": {
        "barmode": "overlay",
        "legend": {
         "tracegroupgap": 0
        },
        "margin": {
         "t": 60
        },
        "template": {
         "data": {
          "bar": [
           {
            "error_x": {
             "color": "#2a3f5f"
            },
            "error_y": {
             "color": "#2a3f5f"
            },
            "marker": {
             "line": {
              "color": "#E5ECF6",
              "width": 0.5
             },
             "pattern": {
              "fillmode": "overlay",
              "size": 10,
              "solidity": 0.2
             }
            },
            "type": "bar"
           }
          ],
          "barpolar": [
           {
            "marker": {
             "line": {
              "color": "#E5ECF6",
              "width": 0.5
             },
             "pattern": {
              "fillmode": "overlay",
              "size": 10,
              "solidity": 0.2
             }
            },
            "type": "barpolar"
           }
          ],
          "carpet": [
           {
            "aaxis": {
             "endlinecolor": "#2a3f5f",
             "gridcolor": "white",
             "linecolor": "white",
             "minorgridcolor": "white",
             "startlinecolor": "#2a3f5f"
            },
            "baxis": {
             "endlinecolor": "#2a3f5f",
             "gridcolor": "white",
             "linecolor": "white",
             "minorgridcolor": "white",
             "startlinecolor": "#2a3f5f"
            },
            "type": "carpet"
           }
          ],
          "choropleth": [
           {
            "colorbar": {
             "outlinewidth": 0,
             "ticks": ""
            },
            "type": "choropleth"
           }
          ],
          "contour": [
           {
            "colorbar": {
             "outlinewidth": 0,
             "ticks": ""
            },
            "colorscale": [
             [
              0,
              "#0d0887"
             ],
             [
              0.1111111111111111,
              "#46039f"
             ],
             [
              0.2222222222222222,
              "#7201a8"
             ],
             [
              0.3333333333333333,
              "#9c179e"
             ],
             [
              0.4444444444444444,
              "#bd3786"
             ],
             [
              0.5555555555555556,
              "#d8576b"
             ],
             [
              0.6666666666666666,
              "#ed7953"
             ],
             [
              0.7777777777777778,
              "#fb9f3a"
             ],
             [
              0.8888888888888888,
              "#fdca26"
             ],
             [
              1,
              "#f0f921"
             ]
            ],
            "type": "contour"
           }
          ],
          "contourcarpet": [
           {
            "colorbar": {
             "outlinewidth": 0,
             "ticks": ""
            },
            "type": "contourcarpet"
           }
          ],
          "heatmap": [
           {
            "colorbar": {
             "outlinewidth": 0,
             "ticks": ""
            },
            "colorscale": [
             [
              0,
              "#0d0887"
             ],
             [
              0.1111111111111111,
              "#46039f"
             ],
             [
              0.2222222222222222,
              "#7201a8"
             ],
             [
              0.3333333333333333,
              "#9c179e"
             ],
             [
              0.4444444444444444,
              "#bd3786"
             ],
             [
              0.5555555555555556,
              "#d8576b"
             ],
             [
              0.6666666666666666,
              "#ed7953"
             ],
             [
              0.7777777777777778,
              "#fb9f3a"
             ],
             [
              0.8888888888888888,
              "#fdca26"
             ],
             [
              1,
              "#f0f921"
             ]
            ],
            "type": "heatmap"
           }
          ],
          "heatmapgl": [
           {
            "colorbar": {
             "outlinewidth": 0,
             "ticks": ""
            },
            "colorscale": [
             [
              0,
              "#0d0887"
             ],
             [
              0.1111111111111111,
              "#46039f"
             ],
             [
              0.2222222222222222,
              "#7201a8"
             ],
             [
              0.3333333333333333,
              "#9c179e"
             ],
             [
              0.4444444444444444,
              "#bd3786"
             ],
             [
              0.5555555555555556,
              "#d8576b"
             ],
             [
              0.6666666666666666,
              "#ed7953"
             ],
             [
              0.7777777777777778,
              "#fb9f3a"
             ],
             [
              0.8888888888888888,
              "#fdca26"
             ],
             [
              1,
              "#f0f921"
             ]
            ],
            "type": "heatmapgl"
           }
          ],
          "histogram": [
           {
            "marker": {
             "pattern": {
              "fillmode": "overlay",
              "size": 10,
              "solidity": 0.2
             }
            },
            "type": "histogram"
           }
          ],
          "histogram2d": [
           {
            "colorbar": {
             "outlinewidth": 0,
             "ticks": ""
            },
            "colorscale": [
             [
              0,
              "#0d0887"
             ],
             [
              0.1111111111111111,
              "#46039f"
             ],
             [
              0.2222222222222222,
              "#7201a8"
             ],
             [
              0.3333333333333333,
              "#9c179e"
             ],
             [
              0.4444444444444444,
              "#bd3786"
             ],
             [
              0.5555555555555556,
              "#d8576b"
             ],
             [
              0.6666666666666666,
              "#ed7953"
             ],
             [
              0.7777777777777778,
              "#fb9f3a"
             ],
             [
              0.8888888888888888,
              "#fdca26"
             ],
             [
              1,
              "#f0f921"
             ]
            ],
            "type": "histogram2d"
           }
          ],
          "histogram2dcontour": [
           {
            "colorbar": {
             "outlinewidth": 0,
             "ticks": ""
            },
            "colorscale": [
             [
              0,
              "#0d0887"
             ],
             [
              0.1111111111111111,
              "#46039f"
             ],
             [
              0.2222222222222222,
              "#7201a8"
             ],
             [
              0.3333333333333333,
              "#9c179e"
             ],
             [
              0.4444444444444444,
              "#bd3786"
             ],
             [
              0.5555555555555556,
              "#d8576b"
             ],
             [
              0.6666666666666666,
              "#ed7953"
             ],
             [
              0.7777777777777778,
              "#fb9f3a"
             ],
             [
              0.8888888888888888,
              "#fdca26"
             ],
             [
              1,
              "#f0f921"
             ]
            ],
            "type": "histogram2dcontour"
           }
          ],
          "mesh3d": [
           {
            "colorbar": {
             "outlinewidth": 0,
             "ticks": ""
            },
            "type": "mesh3d"
           }
          ],
          "parcoords": [
           {
            "line": {
             "colorbar": {
              "outlinewidth": 0,
              "ticks": ""
             }
            },
            "type": "parcoords"
           }
          ],
          "pie": [
           {
            "automargin": true,
            "type": "pie"
           }
          ],
          "scatter": [
           {
            "fillpattern": {
             "fillmode": "overlay",
             "size": 10,
             "solidity": 0.2
            },
            "type": "scatter"
           }
          ],
          "scatter3d": [
           {
            "line": {
             "colorbar": {
              "outlinewidth": 0,
              "ticks": ""
             }
            },
            "marker": {
             "colorbar": {
              "outlinewidth": 0,
              "ticks": ""
             }
            },
            "type": "scatter3d"
           }
          ],
          "scattercarpet": [
           {
            "marker": {
             "colorbar": {
              "outlinewidth": 0,
              "ticks": ""
             }
            },
            "type": "scattercarpet"
           }
          ],
          "scattergeo": [
           {
            "marker": {
             "colorbar": {
              "outlinewidth": 0,
              "ticks": ""
             }
            },
            "type": "scattergeo"
           }
          ],
          "scattergl": [
           {
            "marker": {
             "colorbar": {
              "outlinewidth": 0,
              "ticks": ""
             }
            },
            "type": "scattergl"
           }
          ],
          "scattermapbox": [
           {
            "marker": {
             "colorbar": {
              "outlinewidth": 0,
              "ticks": ""
             }
            },
            "type": "scattermapbox"
           }
          ],
          "scatterpolar": [
           {
            "marker": {
             "colorbar": {
              "outlinewidth": 0,
              "ticks": ""
             }
            },
            "type": "scatterpolar"
           }
          ],
          "scatterpolargl": [
           {
            "marker": {
             "colorbar": {
              "outlinewidth": 0,
              "ticks": ""
             }
            },
            "type": "scatterpolargl"
           }
          ],
          "scatterternary": [
           {
            "marker": {
             "colorbar": {
              "outlinewidth": 0,
              "ticks": ""
             }
            },
            "type": "scatterternary"
           }
          ],
          "surface": [
           {
            "colorbar": {
             "outlinewidth": 0,
             "ticks": ""
            },
            "colorscale": [
             [
              0,
              "#0d0887"
             ],
             [
              0.1111111111111111,
              "#46039f"
             ],
             [
              0.2222222222222222,
              "#7201a8"
             ],
             [
              0.3333333333333333,
              "#9c179e"
             ],
             [
              0.4444444444444444,
              "#bd3786"
             ],
             [
              0.5555555555555556,
              "#d8576b"
             ],
             [
              0.6666666666666666,
              "#ed7953"
             ],
             [
              0.7777777777777778,
              "#fb9f3a"
             ],
             [
              0.8888888888888888,
              "#fdca26"
             ],
             [
              1,
              "#f0f921"
             ]
            ],
            "type": "surface"
           }
          ],
          "table": [
           {
            "cells": {
             "fill": {
              "color": "#EBF0F8"
             },
             "line": {
              "color": "white"
             }
            },
            "header": {
             "fill": {
              "color": "#C8D4E3"
             },
             "line": {
              "color": "white"
             }
            },
            "type": "table"
           }
          ]
         },
         "layout": {
          "annotationdefaults": {
           "arrowcolor": "#2a3f5f",
           "arrowhead": 0,
           "arrowwidth": 1
          },
          "autotypenumbers": "strict",
          "coloraxis": {
           "colorbar": {
            "outlinewidth": 0,
            "ticks": ""
           }
          },
          "colorscale": {
           "diverging": [
            [
             0,
             "#8e0152"
            ],
            [
             0.1,
             "#c51b7d"
            ],
            [
             0.2,
             "#de77ae"
            ],
            [
             0.3,
             "#f1b6da"
            ],
            [
             0.4,
             "#fde0ef"
            ],
            [
             0.5,
             "#f7f7f7"
            ],
            [
             0.6,
             "#e6f5d0"
            ],
            [
             0.7,
             "#b8e186"
            ],
            [
             0.8,
             "#7fbc41"
            ],
            [
             0.9,
             "#4d9221"
            ],
            [
             1,
             "#276419"
            ]
           ],
           "sequential": [
            [
             0,
             "#0d0887"
            ],
            [
             0.1111111111111111,
             "#46039f"
            ],
            [
             0.2222222222222222,
             "#7201a8"
            ],
            [
             0.3333333333333333,
             "#9c179e"
            ],
            [
             0.4444444444444444,
             "#bd3786"
            ],
            [
             0.5555555555555556,
             "#d8576b"
            ],
            [
             0.6666666666666666,
             "#ed7953"
            ],
            [
             0.7777777777777778,
             "#fb9f3a"
            ],
            [
             0.8888888888888888,
             "#fdca26"
            ],
            [
             1,
             "#f0f921"
            ]
           ],
           "sequentialminus": [
            [
             0,
             "#0d0887"
            ],
            [
             0.1111111111111111,
             "#46039f"
            ],
            [
             0.2222222222222222,
             "#7201a8"
            ],
            [
             0.3333333333333333,
             "#9c179e"
            ],
            [
             0.4444444444444444,
             "#bd3786"
            ],
            [
             0.5555555555555556,
             "#d8576b"
            ],
            [
             0.6666666666666666,
             "#ed7953"
            ],
            [
             0.7777777777777778,
             "#fb9f3a"
            ],
            [
             0.8888888888888888,
             "#fdca26"
            ],
            [
             1,
             "#f0f921"
            ]
           ]
          },
          "colorway": [
           "#636efa",
           "#EF553B",
           "#00cc96",
           "#ab63fa",
           "#FFA15A",
           "#19d3f3",
           "#FF6692",
           "#B6E880",
           "#FF97FF",
           "#FECB52"
          ],
          "font": {
           "color": "#2a3f5f"
          },
          "geo": {
           "bgcolor": "white",
           "lakecolor": "white",
           "landcolor": "#E5ECF6",
           "showlakes": true,
           "showland": true,
           "subunitcolor": "white"
          },
          "hoverlabel": {
           "align": "left"
          },
          "hovermode": "closest",
          "mapbox": {
           "style": "light"
          },
          "paper_bgcolor": "white",
          "plot_bgcolor": "#E5ECF6",
          "polar": {
           "angularaxis": {
            "gridcolor": "white",
            "linecolor": "white",
            "ticks": ""
           },
           "bgcolor": "#E5ECF6",
           "radialaxis": {
            "gridcolor": "white",
            "linecolor": "white",
            "ticks": ""
           }
          },
          "scene": {
           "xaxis": {
            "backgroundcolor": "#E5ECF6",
            "gridcolor": "white",
            "gridwidth": 2,
            "linecolor": "white",
            "showbackground": true,
            "ticks": "",
            "zerolinecolor": "white"
           },
           "yaxis": {
            "backgroundcolor": "#E5ECF6",
            "gridcolor": "white",
            "gridwidth": 2,
            "linecolor": "white",
            "showbackground": true,
            "ticks": "",
            "zerolinecolor": "white"
           },
           "zaxis": {
            "backgroundcolor": "#E5ECF6",
            "gridcolor": "white",
            "gridwidth": 2,
            "linecolor": "white",
            "showbackground": true,
            "ticks": "",
            "zerolinecolor": "white"
           }
          },
          "shapedefaults": {
           "line": {
            "color": "#2a3f5f"
           }
          },
          "ternary": {
           "aaxis": {
            "gridcolor": "white",
            "linecolor": "white",
            "ticks": ""
           },
           "baxis": {
            "gridcolor": "white",
            "linecolor": "white",
            "ticks": ""
           },
           "bgcolor": "#E5ECF6",
           "caxis": {
            "gridcolor": "white",
            "linecolor": "white",
            "ticks": ""
           }
          },
          "title": {
           "x": 0.05
          },
          "xaxis": {
           "automargin": true,
           "gridcolor": "white",
           "linecolor": "white",
           "ticks": "",
           "title": {
            "standoff": 15
           },
           "zerolinecolor": "white",
           "zerolinewidth": 2
          },
          "yaxis": {
           "automargin": true,
           "gridcolor": "white",
           "linecolor": "white",
           "ticks": "",
           "title": {
            "standoff": 15
           },
           "zerolinecolor": "white",
           "zerolinewidth": 2
          }
         }
        },
        "title": {
         "text": "Project Gantt Chart"
        },
        "xaxis": {
         "anchor": "y",
         "domain": [
          0,
          1
         ],
         "type": "date"
        },
        "yaxis": {
         "anchor": "x",
         "domain": [
          0,
          1
         ],
         "title": {
          "text": "Task"
         }
        }
       }
      },
      "text/html": [
       "<div>                            <div id=\"1ab5a6c4-eb98-4611-8aff-f6e1145bc034\" class=\"plotly-graph-div\" style=\"height:525px; width:100%;\"></div>            <script type=\"text/javascript\">                require([\"plotly\"], function(Plotly) {                    window.PLOTLYENV=window.PLOTLYENV || {};                                    if (document.getElementById(\"1ab5a6c4-eb98-4611-8aff-f6e1145bc034\")) {                    Plotly.newPlot(                        \"1ab5a6c4-eb98-4611-8aff-f6e1145bc034\",                        [{\"alignmentgroup\":\"True\",\"base\":[\"2024-01-01T00:00:00\",\"2024-01-03T00:00:00\",\"2024-01-07T00:00:00\"],\"hovertemplate\":\"Start=%{base}\\u003cbr\\u003eFinish=%{x}\\u003cbr\\u003eTask=%{y}\\u003cextra\\u003e\\u003c\\u002fextra\\u003e\",\"legendgroup\":\"\",\"marker\":{\"color\":\"#636efa\",\"pattern\":{\"shape\":\"\"}},\"name\":\"\",\"offsetgroup\":\"\",\"orientation\":\"h\",\"showlegend\":false,\"textposition\":\"auto\",\"x\":[172800000.0,345600000.0,259200000.0],\"xaxis\":\"x\",\"y\":[\"task one\",\"task two\",\"task three\"],\"yaxis\":\"y\",\"type\":\"bar\"}],                        {\"template\":{\"data\":{\"histogram2dcontour\":[{\"type\":\"histogram2dcontour\",\"colorbar\":{\"outlinewidth\":0,\"ticks\":\"\"},\"colorscale\":[[0.0,\"#0d0887\"],[0.1111111111111111,\"#46039f\"],[0.2222222222222222,\"#7201a8\"],[0.3333333333333333,\"#9c179e\"],[0.4444444444444444,\"#bd3786\"],[0.5555555555555556,\"#d8576b\"],[0.6666666666666666,\"#ed7953\"],[0.7777777777777778,\"#fb9f3a\"],[0.8888888888888888,\"#fdca26\"],[1.0,\"#f0f921\"]]}],\"choropleth\":[{\"type\":\"choropleth\",\"colorbar\":{\"outlinewidth\":0,\"ticks\":\"\"}}],\"histogram2d\":[{\"type\":\"histogram2d\",\"colorbar\":{\"outlinewidth\":0,\"ticks\":\"\"},\"colorscale\":[[0.0,\"#0d0887\"],[0.1111111111111111,\"#46039f\"],[0.2222222222222222,\"#7201a8\"],[0.3333333333333333,\"#9c179e\"],[0.4444444444444444,\"#bd3786\"],[0.5555555555555556,\"#d8576b\"],[0.6666666666666666,\"#ed7953\"],[0.7777777777777778,\"#fb9f3a\"],[0.8888888888888888,\"#fdca26\"],[1.0,\"#f0f921\"]]}],\"heatmap\":[{\"type\":\"heatmap\",\"colorbar\":{\"outlinewidth\":0,\"ticks\":\"\"},\"colorscale\":[[0.0,\"#0d0887\"],[0.1111111111111111,\"#46039f\"],[0.2222222222222222,\"#7201a8\"],[0.3333333333333333,\"#9c179e\"],[0.4444444444444444,\"#bd3786\"],[0.5555555555555556,\"#d8576b\"],[0.6666666666666666,\"#ed7953\"],[0.7777777777777778,\"#fb9f3a\"],[0.8888888888888888,\"#fdca26\"],[1.0,\"#f0f921\"]]}],\"heatmapgl\":[{\"type\":\"heatmapgl\",\"colorbar\":{\"outlinewidth\":0,\"ticks\":\"\"},\"colorscale\":[[0.0,\"#0d0887\"],[0.1111111111111111,\"#46039f\"],[0.2222222222222222,\"#7201a8\"],[0.3333333333333333,\"#9c179e\"],[0.4444444444444444,\"#bd3786\"],[0.5555555555555556,\"#d8576b\"],[0.6666666666666666,\"#ed7953\"],[0.7777777777777778,\"#fb9f3a\"],[0.8888888888888888,\"#fdca26\"],[1.0,\"#f0f921\"]]}],\"contourcarpet\":[{\"type\":\"contourcarpet\",\"colorbar\":{\"outlinewidth\":0,\"ticks\":\"\"}}],\"contour\":[{\"type\":\"contour\",\"colorbar\":{\"outlinewidth\":0,\"ticks\":\"\"},\"colorscale\":[[0.0,\"#0d0887\"],[0.1111111111111111,\"#46039f\"],[0.2222222222222222,\"#7201a8\"],[0.3333333333333333,\"#9c179e\"],[0.4444444444444444,\"#bd3786\"],[0.5555555555555556,\"#d8576b\"],[0.6666666666666666,\"#ed7953\"],[0.7777777777777778,\"#fb9f3a\"],[0.8888888888888888,\"#fdca26\"],[1.0,\"#f0f921\"]]}],\"surface\":[{\"type\":\"surface\",\"colorbar\":{\"outlinewidth\":0,\"ticks\":\"\"},\"colorscale\":[[0.0,\"#0d0887\"],[0.1111111111111111,\"#46039f\"],[0.2222222222222222,\"#7201a8\"],[0.3333333333333333,\"#9c179e\"],[0.4444444444444444,\"#bd3786\"],[0.5555555555555556,\"#d8576b\"],[0.6666666666666666,\"#ed7953\"],[0.7777777777777778,\"#fb9f3a\"],[0.8888888888888888,\"#fdca26\"],[1.0,\"#f0f921\"]]}],\"mesh3d\":[{\"type\":\"mesh3d\",\"colorbar\":{\"outlinewidth\":0,\"ticks\":\"\"}}],\"scatter\":[{\"fillpattern\":{\"fillmode\":\"overlay\",\"size\":10,\"solidity\":0.2},\"type\":\"scatter\"}],\"parcoords\":[{\"type\":\"parcoords\",\"line\":{\"colorbar\":{\"outlinewidth\":0,\"ticks\":\"\"}}}],\"scatterpolargl\":[{\"type\":\"scatterpolargl\",\"marker\":{\"colorbar\":{\"outlinewidth\":0,\"ticks\":\"\"}}}],\"bar\":[{\"error_x\":{\"color\":\"#2a3f5f\"},\"error_y\":{\"color\":\"#2a3f5f\"},\"marker\":{\"line\":{\"color\":\"#E5ECF6\",\"width\":0.5},\"pattern\":{\"fillmode\":\"overlay\",\"size\":10,\"solidity\":0.2}},\"type\":\"bar\"}],\"scattergeo\":[{\"type\":\"scattergeo\",\"marker\":{\"colorbar\":{\"outlinewidth\":0,\"ticks\":\"\"}}}],\"scatterpolar\":[{\"type\":\"scatterpolar\",\"marker\":{\"colorbar\":{\"outlinewidth\":0,\"ticks\":\"\"}}}],\"histogram\":[{\"marker\":{\"pattern\":{\"fillmode\":\"overlay\",\"size\":10,\"solidity\":0.2}},\"type\":\"histogram\"}],\"scattergl\":[{\"type\":\"scattergl\",\"marker\":{\"colorbar\":{\"outlinewidth\":0,\"ticks\":\"\"}}}],\"scatter3d\":[{\"type\":\"scatter3d\",\"line\":{\"colorbar\":{\"outlinewidth\":0,\"ticks\":\"\"}},\"marker\":{\"colorbar\":{\"outlinewidth\":0,\"ticks\":\"\"}}}],\"scattermapbox\":[{\"type\":\"scattermapbox\",\"marker\":{\"colorbar\":{\"outlinewidth\":0,\"ticks\":\"\"}}}],\"scatterternary\":[{\"type\":\"scatterternary\",\"marker\":{\"colorbar\":{\"outlinewidth\":0,\"ticks\":\"\"}}}],\"scattercarpet\":[{\"type\":\"scattercarpet\",\"marker\":{\"colorbar\":{\"outlinewidth\":0,\"ticks\":\"\"}}}],\"carpet\":[{\"aaxis\":{\"endlinecolor\":\"#2a3f5f\",\"gridcolor\":\"white\",\"linecolor\":\"white\",\"minorgridcolor\":\"white\",\"startlinecolor\":\"#2a3f5f\"},\"baxis\":{\"endlinecolor\":\"#2a3f5f\",\"gridcolor\":\"white\",\"linecolor\":\"white\",\"minorgridcolor\":\"white\",\"startlinecolor\":\"#2a3f5f\"},\"type\":\"carpet\"}],\"table\":[{\"cells\":{\"fill\":{\"color\":\"#EBF0F8\"},\"line\":{\"color\":\"white\"}},\"header\":{\"fill\":{\"color\":\"#C8D4E3\"},\"line\":{\"color\":\"white\"}},\"type\":\"table\"}],\"barpolar\":[{\"marker\":{\"line\":{\"color\":\"#E5ECF6\",\"width\":0.5},\"pattern\":{\"fillmode\":\"overlay\",\"size\":10,\"solidity\":0.2}},\"type\":\"barpolar\"}],\"pie\":[{\"automargin\":true,\"type\":\"pie\"}]},\"layout\":{\"autotypenumbers\":\"strict\",\"colorway\":[\"#636efa\",\"#EF553B\",\"#00cc96\",\"#ab63fa\",\"#FFA15A\",\"#19d3f3\",\"#FF6692\",\"#B6E880\",\"#FF97FF\",\"#FECB52\"],\"font\":{\"color\":\"#2a3f5f\"},\"hovermode\":\"closest\",\"hoverlabel\":{\"align\":\"left\"},\"paper_bgcolor\":\"white\",\"plot_bgcolor\":\"#E5ECF6\",\"polar\":{\"bgcolor\":\"#E5ECF6\",\"angularaxis\":{\"gridcolor\":\"white\",\"linecolor\":\"white\",\"ticks\":\"\"},\"radialaxis\":{\"gridcolor\":\"white\",\"linecolor\":\"white\",\"ticks\":\"\"}},\"ternary\":{\"bgcolor\":\"#E5ECF6\",\"aaxis\":{\"gridcolor\":\"white\",\"linecolor\":\"white\",\"ticks\":\"\"},\"baxis\":{\"gridcolor\":\"white\",\"linecolor\":\"white\",\"ticks\":\"\"},\"caxis\":{\"gridcolor\":\"white\",\"linecolor\":\"white\",\"ticks\":\"\"}},\"coloraxis\":{\"colorbar\":{\"outlinewidth\":0,\"ticks\":\"\"}},\"colorscale\":{\"sequential\":[[0.0,\"#0d0887\"],[0.1111111111111111,\"#46039f\"],[0.2222222222222222,\"#7201a8\"],[0.3333333333333333,\"#9c179e\"],[0.4444444444444444,\"#bd3786\"],[0.5555555555555556,\"#d8576b\"],[0.6666666666666666,\"#ed7953\"],[0.7777777777777778,\"#fb9f3a\"],[0.8888888888888888,\"#fdca26\"],[1.0,\"#f0f921\"]],\"sequentialminus\":[[0.0,\"#0d0887\"],[0.1111111111111111,\"#46039f\"],[0.2222222222222222,\"#7201a8\"],[0.3333333333333333,\"#9c179e\"],[0.4444444444444444,\"#bd3786\"],[0.5555555555555556,\"#d8576b\"],[0.6666666666666666,\"#ed7953\"],[0.7777777777777778,\"#fb9f3a\"],[0.8888888888888888,\"#fdca26\"],[1.0,\"#f0f921\"]],\"diverging\":[[0,\"#8e0152\"],[0.1,\"#c51b7d\"],[0.2,\"#de77ae\"],[0.3,\"#f1b6da\"],[0.4,\"#fde0ef\"],[0.5,\"#f7f7f7\"],[0.6,\"#e6f5d0\"],[0.7,\"#b8e186\"],[0.8,\"#7fbc41\"],[0.9,\"#4d9221\"],[1,\"#276419\"]]},\"xaxis\":{\"gridcolor\":\"white\",\"linecolor\":\"white\",\"ticks\":\"\",\"title\":{\"standoff\":15},\"zerolinecolor\":\"white\",\"automargin\":true,\"zerolinewidth\":2},\"yaxis\":{\"gridcolor\":\"white\",\"linecolor\":\"white\",\"ticks\":\"\",\"title\":{\"standoff\":15},\"zerolinecolor\":\"white\",\"automargin\":true,\"zerolinewidth\":2},\"scene\":{\"xaxis\":{\"backgroundcolor\":\"#E5ECF6\",\"gridcolor\":\"white\",\"linecolor\":\"white\",\"showbackground\":true,\"ticks\":\"\",\"zerolinecolor\":\"white\",\"gridwidth\":2},\"yaxis\":{\"backgroundcolor\":\"#E5ECF6\",\"gridcolor\":\"white\",\"linecolor\":\"white\",\"showbackground\":true,\"ticks\":\"\",\"zerolinecolor\":\"white\",\"gridwidth\":2},\"zaxis\":{\"backgroundcolor\":\"#E5ECF6\",\"gridcolor\":\"white\",\"linecolor\":\"white\",\"showbackground\":true,\"ticks\":\"\",\"zerolinecolor\":\"white\",\"gridwidth\":2}},\"shapedefaults\":{\"line\":{\"color\":\"#2a3f5f\"}},\"annotationdefaults\":{\"arrowcolor\":\"#2a3f5f\",\"arrowhead\":0,\"arrowwidth\":1},\"geo\":{\"bgcolor\":\"white\",\"landcolor\":\"#E5ECF6\",\"subunitcolor\":\"white\",\"showland\":true,\"showlakes\":true,\"lakecolor\":\"white\"},\"title\":{\"x\":0.05},\"mapbox\":{\"style\":\"light\"}}},\"xaxis\":{\"anchor\":\"y\",\"domain\":[0.0,1.0],\"type\":\"date\"},\"yaxis\":{\"anchor\":\"x\",\"domain\":[0.0,1.0],\"title\":{\"text\":\"Task\"}},\"legend\":{\"tracegroupgap\":0},\"margin\":{\"t\":60},\"barmode\":\"overlay\",\"title\":{\"text\":\"Project Gantt Chart\"}},                        {\"responsive\": true}                    ).then(function(){\n",
       "                            \n",
       "var gd = document.getElementById('1ab5a6c4-eb98-4611-8aff-f6e1145bc034');\n",
       "var x = new MutationObserver(function (mutations, observer) {{\n",
       "        var display = window.getComputedStyle(gd).display;\n",
       "        if (!display || display === 'none') {{\n",
       "            console.log([gd, 'removed!']);\n",
       "            Plotly.purge(gd);\n",
       "            observer.disconnect();\n",
       "        }}\n",
       "}});\n",
       "\n",
       "// Listen for the removal of the full notebook cells\n",
       "var notebookContainer = gd.closest('#notebook-container');\n",
       "if (notebookContainer) {{\n",
       "    x.observe(notebookContainer, {childList: true});\n",
       "}}\n",
       "\n",
       "// Listen for the clearing of the current output cell\n",
       "var outputEl = gd.closest('.output');\n",
       "if (outputEl) {{\n",
       "    x.observe(outputEl, {childList: true});\n",
       "}}\n",
       "\n",
       "                        })                };                });            </script>        </div>"
      ]
     },
     "metadata": {},
     "output_type": "display_data"
    }
   ],
   "source": [
    "import openpyxl\n",
    "import plotly.express as px\n",
    "\n",
    "# Load Excel data\n",
    "workbook = openpyxl.load_workbook('project_data.xlsx')\n",
    "worksheet = workbook.active\n",
    "\n",
    "# Extract data\n",
    "tasks = []\n",
    "start_dates = []\n",
    "end_dates = []\n",
    "for row in worksheet.iter_rows(min_row=2, values_only=True):\n",
    "    tasks.append(row[0])\n",
    "    start_dates.append(row[1])\n",
    "    end_dates.append(row[2])\n",
    "\n",
    "# Create Gantt chart using Plotly\n",
    "fig = px.timeline(\n",
    "    dict(Task=tasks, Start=start_dates, Finish=end_dates),\n",
    "    x_start=\"Start\",\n",
    "    x_end=\"Finish\",\n",
    "    y=\"Task\"\n",
    ")\n",
    "fig.update_layout(title_text=\"Project Gantt Chart\")\n",
    "fig.show()  # Display the chart"
   ]
  },
  {
   "cell_type": "code",
   "execution_count": 178,
   "metadata": {},
   "outputs": [
    {
     "data": {
      "application/vnd.plotly.v1+json": {
       "config": {
        "plotlyServerURL": "https://plot.ly"
       },
       "data": [
        {
         "fill": "toself",
         "fillcolor": "rgb(255, 127, 14)",
         "hoverinfo": "name",
         "legendgroup": "rgb(255, 127, 14)",
         "mode": "none",
         "name": "Task 2",
         "type": "scatter",
         "x": [
          "2024-12-05",
          "2024-12-08",
          "2024-12-08",
          "2024-12-05"
         ],
         "y": [
          0.5,
          0.5,
          1.5,
          1.5
         ]
        },
        {
         "fill": "toself",
         "fillcolor": "rgb(31, 119, 180)",
         "hoverinfo": "name",
         "legendgroup": "rgb(31, 119, 180)",
         "mode": "none",
         "name": "Task 1",
         "type": "scatter",
         "x": [
          "2024-12-01",
          "2024-12-05",
          "2024-12-05",
          "2024-12-01"
         ],
         "y": [
          -0.5,
          -0.5,
          0.5,
          0.5
         ]
        },
        {
         "fill": "toself",
         "fillcolor": "rgb(44, 160, 44)",
         "hoverinfo": "name",
         "legendgroup": "rgb(44, 160, 44)",
         "mode": "none",
         "name": "Task 3",
         "type": "scatter",
         "x": [
          "2024-12-06",
          "2024-12-10",
          "2024-12-10",
          "2024-12-06"
         ],
         "y": [
          1.5,
          1.5,
          2.5,
          2.5
         ]
        },
        {
         "legendgroup": "rgb(255, 127, 14)",
         "marker": {
          "color": "rgb(255, 127, 14)",
          "opacity": 0,
          "size": 1
         },
         "mode": "markers",
         "name": "",
         "showlegend": false,
         "text": [
          null,
          null
         ],
         "type": "scatter",
         "x": [
          "2024-12-05",
          "2024-12-08"
         ],
         "y": [
          1,
          1
         ]
        },
        {
         "legendgroup": "rgb(31, 119, 180)",
         "marker": {
          "color": "rgb(31, 119, 180)",
          "opacity": 0,
          "size": 1
         },
         "mode": "markers",
         "name": "",
         "showlegend": false,
         "text": [
          null,
          null
         ],
         "type": "scatter",
         "x": [
          "2024-12-01",
          "2024-12-05"
         ],
         "y": [
          0,
          0
         ]
        },
        {
         "legendgroup": "rgb(44, 160, 44)",
         "marker": {
          "color": "rgb(44, 160, 44)",
          "opacity": 0,
          "size": 1
         },
         "mode": "markers",
         "name": "",
         "showlegend": false,
         "text": [
          null,
          null
         ],
         "type": "scatter",
         "x": [
          "2024-12-06",
          "2024-12-10"
         ],
         "y": [
          2,
          2
         ]
        }
       ],
       "layout": {
        "height": 600,
        "hovermode": "closest",
        "showlegend": true,
        "template": {
         "data": {
          "bar": [
           {
            "error_x": {
             "color": "#2a3f5f"
            },
            "error_y": {
             "color": "#2a3f5f"
            },
            "marker": {
             "line": {
              "color": "#E5ECF6",
              "width": 0.5
             },
             "pattern": {
              "fillmode": "overlay",
              "size": 10,
              "solidity": 0.2
             }
            },
            "type": "bar"
           }
          ],
          "barpolar": [
           {
            "marker": {
             "line": {
              "color": "#E5ECF6",
              "width": 0.5
             },
             "pattern": {
              "fillmode": "overlay",
              "size": 10,
              "solidity": 0.2
             }
            },
            "type": "barpolar"
           }
          ],
          "carpet": [
           {
            "aaxis": {
             "endlinecolor": "#2a3f5f",
             "gridcolor": "white",
             "linecolor": "white",
             "minorgridcolor": "white",
             "startlinecolor": "#2a3f5f"
            },
            "baxis": {
             "endlinecolor": "#2a3f5f",
             "gridcolor": "white",
             "linecolor": "white",
             "minorgridcolor": "white",
             "startlinecolor": "#2a3f5f"
            },
            "type": "carpet"
           }
          ],
          "choropleth": [
           {
            "colorbar": {
             "outlinewidth": 0,
             "ticks": ""
            },
            "type": "choropleth"
           }
          ],
          "contour": [
           {
            "colorbar": {
             "outlinewidth": 0,
             "ticks": ""
            },
            "colorscale": [
             [
              0,
              "#0d0887"
             ],
             [
              0.1111111111111111,
              "#46039f"
             ],
             [
              0.2222222222222222,
              "#7201a8"
             ],
             [
              0.3333333333333333,
              "#9c179e"
             ],
             [
              0.4444444444444444,
              "#bd3786"
             ],
             [
              0.5555555555555556,
              "#d8576b"
             ],
             [
              0.6666666666666666,
              "#ed7953"
             ],
             [
              0.7777777777777778,
              "#fb9f3a"
             ],
             [
              0.8888888888888888,
              "#fdca26"
             ],
             [
              1,
              "#f0f921"
             ]
            ],
            "type": "contour"
           }
          ],
          "contourcarpet": [
           {
            "colorbar": {
             "outlinewidth": 0,
             "ticks": ""
            },
            "type": "contourcarpet"
           }
          ],
          "heatmap": [
           {
            "colorbar": {
             "outlinewidth": 0,
             "ticks": ""
            },
            "colorscale": [
             [
              0,
              "#0d0887"
             ],
             [
              0.1111111111111111,
              "#46039f"
             ],
             [
              0.2222222222222222,
              "#7201a8"
             ],
             [
              0.3333333333333333,
              "#9c179e"
             ],
             [
              0.4444444444444444,
              "#bd3786"
             ],
             [
              0.5555555555555556,
              "#d8576b"
             ],
             [
              0.6666666666666666,
              "#ed7953"
             ],
             [
              0.7777777777777778,
              "#fb9f3a"
             ],
             [
              0.8888888888888888,
              "#fdca26"
             ],
             [
              1,
              "#f0f921"
             ]
            ],
            "type": "heatmap"
           }
          ],
          "heatmapgl": [
           {
            "colorbar": {
             "outlinewidth": 0,
             "ticks": ""
            },
            "colorscale": [
             [
              0,
              "#0d0887"
             ],
             [
              0.1111111111111111,
              "#46039f"
             ],
             [
              0.2222222222222222,
              "#7201a8"
             ],
             [
              0.3333333333333333,
              "#9c179e"
             ],
             [
              0.4444444444444444,
              "#bd3786"
             ],
             [
              0.5555555555555556,
              "#d8576b"
             ],
             [
              0.6666666666666666,
              "#ed7953"
             ],
             [
              0.7777777777777778,
              "#fb9f3a"
             ],
             [
              0.8888888888888888,
              "#fdca26"
             ],
             [
              1,
              "#f0f921"
             ]
            ],
            "type": "heatmapgl"
           }
          ],
          "histogram": [
           {
            "marker": {
             "pattern": {
              "fillmode": "overlay",
              "size": 10,
              "solidity": 0.2
             }
            },
            "type": "histogram"
           }
          ],
          "histogram2d": [
           {
            "colorbar": {
             "outlinewidth": 0,
             "ticks": ""
            },
            "colorscale": [
             [
              0,
              "#0d0887"
             ],
             [
              0.1111111111111111,
              "#46039f"
             ],
             [
              0.2222222222222222,
              "#7201a8"
             ],
             [
              0.3333333333333333,
              "#9c179e"
             ],
             [
              0.4444444444444444,
              "#bd3786"
             ],
             [
              0.5555555555555556,
              "#d8576b"
             ],
             [
              0.6666666666666666,
              "#ed7953"
             ],
             [
              0.7777777777777778,
              "#fb9f3a"
             ],
             [
              0.8888888888888888,
              "#fdca26"
             ],
             [
              1,
              "#f0f921"
             ]
            ],
            "type": "histogram2d"
           }
          ],
          "histogram2dcontour": [
           {
            "colorbar": {
             "outlinewidth": 0,
             "ticks": ""
            },
            "colorscale": [
             [
              0,
              "#0d0887"
             ],
             [
              0.1111111111111111,
              "#46039f"
             ],
             [
              0.2222222222222222,
              "#7201a8"
             ],
             [
              0.3333333333333333,
              "#9c179e"
             ],
             [
              0.4444444444444444,
              "#bd3786"
             ],
             [
              0.5555555555555556,
              "#d8576b"
             ],
             [
              0.6666666666666666,
              "#ed7953"
             ],
             [
              0.7777777777777778,
              "#fb9f3a"
             ],
             [
              0.8888888888888888,
              "#fdca26"
             ],
             [
              1,
              "#f0f921"
             ]
            ],
            "type": "histogram2dcontour"
           }
          ],
          "mesh3d": [
           {
            "colorbar": {
             "outlinewidth": 0,
             "ticks": ""
            },
            "type": "mesh3d"
           }
          ],
          "parcoords": [
           {
            "line": {
             "colorbar": {
              "outlinewidth": 0,
              "ticks": ""
             }
            },
            "type": "parcoords"
           }
          ],
          "pie": [
           {
            "automargin": true,
            "type": "pie"
           }
          ],
          "scatter": [
           {
            "fillpattern": {
             "fillmode": "overlay",
             "size": 10,
             "solidity": 0.2
            },
            "type": "scatter"
           }
          ],
          "scatter3d": [
           {
            "line": {
             "colorbar": {
              "outlinewidth": 0,
              "ticks": ""
             }
            },
            "marker": {
             "colorbar": {
              "outlinewidth": 0,
              "ticks": ""
             }
            },
            "type": "scatter3d"
           }
          ],
          "scattercarpet": [
           {
            "marker": {
             "colorbar": {
              "outlinewidth": 0,
              "ticks": ""
             }
            },
            "type": "scattercarpet"
           }
          ],
          "scattergeo": [
           {
            "marker": {
             "colorbar": {
              "outlinewidth": 0,
              "ticks": ""
             }
            },
            "type": "scattergeo"
           }
          ],
          "scattergl": [
           {
            "marker": {
             "colorbar": {
              "outlinewidth": 0,
              "ticks": ""
             }
            },
            "type": "scattergl"
           }
          ],
          "scattermapbox": [
           {
            "marker": {
             "colorbar": {
              "outlinewidth": 0,
              "ticks": ""
             }
            },
            "type": "scattermapbox"
           }
          ],
          "scatterpolar": [
           {
            "marker": {
             "colorbar": {
              "outlinewidth": 0,
              "ticks": ""
             }
            },
            "type": "scatterpolar"
           }
          ],
          "scatterpolargl": [
           {
            "marker": {
             "colorbar": {
              "outlinewidth": 0,
              "ticks": ""
             }
            },
            "type": "scatterpolargl"
           }
          ],
          "scatterternary": [
           {
            "marker": {
             "colorbar": {
              "outlinewidth": 0,
              "ticks": ""
             }
            },
            "type": "scatterternary"
           }
          ],
          "surface": [
           {
            "colorbar": {
             "outlinewidth": 0,
             "ticks": ""
            },
            "colorscale": [
             [
              0,
              "#0d0887"
             ],
             [
              0.1111111111111111,
              "#46039f"
             ],
             [
              0.2222222222222222,
              "#7201a8"
             ],
             [
              0.3333333333333333,
              "#9c179e"
             ],
             [
              0.4444444444444444,
              "#bd3786"
             ],
             [
              0.5555555555555556,
              "#d8576b"
             ],
             [
              0.6666666666666666,
              "#ed7953"
             ],
             [
              0.7777777777777778,
              "#fb9f3a"
             ],
             [
              0.8888888888888888,
              "#fdca26"
             ],
             [
              1,
              "#f0f921"
             ]
            ],
            "type": "surface"
           }
          ],
          "table": [
           {
            "cells": {
             "fill": {
              "color": "#EBF0F8"
             },
             "line": {
              "color": "white"
             }
            },
            "header": {
             "fill": {
              "color": "#C8D4E3"
             },
             "line": {
              "color": "white"
             }
            },
            "type": "table"
           }
          ]
         },
         "layout": {
          "annotationdefaults": {
           "arrowcolor": "#2a3f5f",
           "arrowhead": 0,
           "arrowwidth": 1
          },
          "autotypenumbers": "strict",
          "coloraxis": {
           "colorbar": {
            "outlinewidth": 0,
            "ticks": ""
           }
          },
          "colorscale": {
           "diverging": [
            [
             0,
             "#8e0152"
            ],
            [
             0.1,
             "#c51b7d"
            ],
            [
             0.2,
             "#de77ae"
            ],
            [
             0.3,
             "#f1b6da"
            ],
            [
             0.4,
             "#fde0ef"
            ],
            [
             0.5,
             "#f7f7f7"
            ],
            [
             0.6,
             "#e6f5d0"
            ],
            [
             0.7,
             "#b8e186"
            ],
            [
             0.8,
             "#7fbc41"
            ],
            [
             0.9,
             "#4d9221"
            ],
            [
             1,
             "#276419"
            ]
           ],
           "sequential": [
            [
             0,
             "#0d0887"
            ],
            [
             0.1111111111111111,
             "#46039f"
            ],
            [
             0.2222222222222222,
             "#7201a8"
            ],
            [
             0.3333333333333333,
             "#9c179e"
            ],
            [
             0.4444444444444444,
             "#bd3786"
            ],
            [
             0.5555555555555556,
             "#d8576b"
            ],
            [
             0.6666666666666666,
             "#ed7953"
            ],
            [
             0.7777777777777778,
             "#fb9f3a"
            ],
            [
             0.8888888888888888,
             "#fdca26"
            ],
            [
             1,
             "#f0f921"
            ]
           ],
           "sequentialminus": [
            [
             0,
             "#0d0887"
            ],
            [
             0.1111111111111111,
             "#46039f"
            ],
            [
             0.2222222222222222,
             "#7201a8"
            ],
            [
             0.3333333333333333,
             "#9c179e"
            ],
            [
             0.4444444444444444,
             "#bd3786"
            ],
            [
             0.5555555555555556,
             "#d8576b"
            ],
            [
             0.6666666666666666,
             "#ed7953"
            ],
            [
             0.7777777777777778,
             "#fb9f3a"
            ],
            [
             0.8888888888888888,
             "#fdca26"
            ],
            [
             1,
             "#f0f921"
            ]
           ]
          },
          "colorway": [
           "#636efa",
           "#EF553B",
           "#00cc96",
           "#ab63fa",
           "#FFA15A",
           "#19d3f3",
           "#FF6692",
           "#B6E880",
           "#FF97FF",
           "#FECB52"
          ],
          "font": {
           "color": "#2a3f5f"
          },
          "geo": {
           "bgcolor": "white",
           "lakecolor": "white",
           "landcolor": "#E5ECF6",
           "showlakes": true,
           "showland": true,
           "subunitcolor": "white"
          },
          "hoverlabel": {
           "align": "left"
          },
          "hovermode": "closest",
          "mapbox": {
           "style": "light"
          },
          "paper_bgcolor": "white",
          "plot_bgcolor": "#E5ECF6",
          "polar": {
           "angularaxis": {
            "gridcolor": "white",
            "linecolor": "white",
            "ticks": ""
           },
           "bgcolor": "#E5ECF6",
           "radialaxis": {
            "gridcolor": "white",
            "linecolor": "white",
            "ticks": ""
           }
          },
          "scene": {
           "xaxis": {
            "backgroundcolor": "#E5ECF6",
            "gridcolor": "white",
            "gridwidth": 2,
            "linecolor": "white",
            "showbackground": true,
            "ticks": "",
            "zerolinecolor": "white"
           },
           "yaxis": {
            "backgroundcolor": "#E5ECF6",
            "gridcolor": "white",
            "gridwidth": 2,
            "linecolor": "white",
            "showbackground": true,
            "ticks": "",
            "zerolinecolor": "white"
           },
           "zaxis": {
            "backgroundcolor": "#E5ECF6",
            "gridcolor": "white",
            "gridwidth": 2,
            "linecolor": "white",
            "showbackground": true,
            "ticks": "",
            "zerolinecolor": "white"
           }
          },
          "shapedefaults": {
           "line": {
            "color": "#2a3f5f"
           }
          },
          "ternary": {
           "aaxis": {
            "gridcolor": "white",
            "linecolor": "white",
            "ticks": ""
           },
           "baxis": {
            "gridcolor": "white",
            "linecolor": "white",
            "ticks": ""
           },
           "bgcolor": "#E5ECF6",
           "caxis": {
            "gridcolor": "white",
            "linecolor": "white",
            "ticks": ""
           }
          },
          "title": {
           "x": 0.05
          },
          "xaxis": {
           "automargin": true,
           "gridcolor": "white",
           "linecolor": "white",
           "ticks": "",
           "title": {
            "standoff": 15
           },
           "zerolinecolor": "white",
           "zerolinewidth": 2
          },
          "yaxis": {
           "automargin": true,
           "gridcolor": "white",
           "linecolor": "white",
           "ticks": "",
           "title": {
            "standoff": 15
           },
           "zerolinecolor": "white",
           "zerolinewidth": 2
          }
         }
        },
        "title": {
         "text": "Project Gantt Chart"
        },
        "xaxis": {
         "rangeselector": {
          "buttons": [
           {
            "count": 7,
            "label": "1w",
            "step": "day",
            "stepmode": "backward"
           },
           {
            "count": 1,
            "label": "1m",
            "step": "month",
            "stepmode": "backward"
           },
           {
            "count": 6,
            "label": "6m",
            "step": "month",
            "stepmode": "backward"
           },
           {
            "count": 1,
            "label": "YTD",
            "step": "year",
            "stepmode": "todate"
           },
           {
            "count": 1,
            "label": "1y",
            "step": "year",
            "stepmode": "backward"
           },
           {
            "step": "all"
           }
          ]
         },
         "showgrid": false,
         "type": "date",
         "zeroline": false
        },
        "yaxis": {
         "autorange": false,
         "range": [
          -1,
          4
         ],
         "showgrid": false,
         "ticktext": [
          "Task 1",
          "Task 2",
          "Task 3"
         ],
         "tickvals": [
          0,
          1,
          2
         ],
         "zeroline": false
        }
       }
      },
      "text/html": [
       "<div>                            <div id=\"87b8ddde-5297-422f-8d6f-35d001052bc6\" class=\"plotly-graph-div\" style=\"height:600px; width:100%;\"></div>            <script type=\"text/javascript\">                require([\"plotly\"], function(Plotly) {                    window.PLOTLYENV=window.PLOTLYENV || {};                                    if (document.getElementById(\"87b8ddde-5297-422f-8d6f-35d001052bc6\")) {                    Plotly.newPlot(                        \"87b8ddde-5297-422f-8d6f-35d001052bc6\",                        [{\"fill\":\"toself\",\"fillcolor\":\"rgb(255, 127, 14)\",\"hoverinfo\":\"name\",\"legendgroup\":\"rgb(255, 127, 14)\",\"mode\":\"none\",\"name\":\"Task 2\",\"x\":[\"2024-12-05\",\"2024-12-08\",\"2024-12-08\",\"2024-12-05\"],\"y\":[0.5,0.5,1.5,1.5],\"type\":\"scatter\"},{\"fill\":\"toself\",\"fillcolor\":\"rgb(31, 119, 180)\",\"hoverinfo\":\"name\",\"legendgroup\":\"rgb(31, 119, 180)\",\"mode\":\"none\",\"name\":\"Task 1\",\"x\":[\"2024-12-01\",\"2024-12-05\",\"2024-12-05\",\"2024-12-01\"],\"y\":[-0.5,-0.5,0.5,0.5],\"type\":\"scatter\"},{\"fill\":\"toself\",\"fillcolor\":\"rgb(44, 160, 44)\",\"hoverinfo\":\"name\",\"legendgroup\":\"rgb(44, 160, 44)\",\"mode\":\"none\",\"name\":\"Task 3\",\"x\":[\"2024-12-06\",\"2024-12-10\",\"2024-12-10\",\"2024-12-06\"],\"y\":[1.5,1.5,2.5,2.5],\"type\":\"scatter\"},{\"legendgroup\":\"rgb(255, 127, 14)\",\"marker\":{\"color\":\"rgb(255, 127, 14)\",\"opacity\":0,\"size\":1},\"mode\":\"markers\",\"name\":\"\",\"showlegend\":false,\"text\":[null,null],\"x\":[\"2024-12-05\",\"2024-12-08\"],\"y\":[1,1],\"type\":\"scatter\"},{\"legendgroup\":\"rgb(31, 119, 180)\",\"marker\":{\"color\":\"rgb(31, 119, 180)\",\"opacity\":0,\"size\":1},\"mode\":\"markers\",\"name\":\"\",\"showlegend\":false,\"text\":[null,null],\"x\":[\"2024-12-01\",\"2024-12-05\"],\"y\":[0,0],\"type\":\"scatter\"},{\"legendgroup\":\"rgb(44, 160, 44)\",\"marker\":{\"color\":\"rgb(44, 160, 44)\",\"opacity\":0,\"size\":1},\"mode\":\"markers\",\"name\":\"\",\"showlegend\":false,\"text\":[null,null],\"x\":[\"2024-12-06\",\"2024-12-10\"],\"y\":[2,2],\"type\":\"scatter\"}],                        {\"height\":600,\"hovermode\":\"closest\",\"showlegend\":true,\"title\":{\"text\":\"Project Gantt Chart\"},\"xaxis\":{\"rangeselector\":{\"buttons\":[{\"count\":7,\"label\":\"1w\",\"step\":\"day\",\"stepmode\":\"backward\"},{\"count\":1,\"label\":\"1m\",\"step\":\"month\",\"stepmode\":\"backward\"},{\"count\":6,\"label\":\"6m\",\"step\":\"month\",\"stepmode\":\"backward\"},{\"count\":1,\"label\":\"YTD\",\"step\":\"year\",\"stepmode\":\"todate\"},{\"count\":1,\"label\":\"1y\",\"step\":\"year\",\"stepmode\":\"backward\"},{\"step\":\"all\"}]},\"showgrid\":false,\"type\":\"date\",\"zeroline\":false},\"yaxis\":{\"autorange\":false,\"range\":[-1,4],\"showgrid\":false,\"ticktext\":[\"Task 1\",\"Task 2\",\"Task 3\"],\"tickvals\":[0,1,2],\"zeroline\":false},\"template\":{\"data\":{\"histogram2dcontour\":[{\"type\":\"histogram2dcontour\",\"colorbar\":{\"outlinewidth\":0,\"ticks\":\"\"},\"colorscale\":[[0.0,\"#0d0887\"],[0.1111111111111111,\"#46039f\"],[0.2222222222222222,\"#7201a8\"],[0.3333333333333333,\"#9c179e\"],[0.4444444444444444,\"#bd3786\"],[0.5555555555555556,\"#d8576b\"],[0.6666666666666666,\"#ed7953\"],[0.7777777777777778,\"#fb9f3a\"],[0.8888888888888888,\"#fdca26\"],[1.0,\"#f0f921\"]]}],\"choropleth\":[{\"type\":\"choropleth\",\"colorbar\":{\"outlinewidth\":0,\"ticks\":\"\"}}],\"histogram2d\":[{\"type\":\"histogram2d\",\"colorbar\":{\"outlinewidth\":0,\"ticks\":\"\"},\"colorscale\":[[0.0,\"#0d0887\"],[0.1111111111111111,\"#46039f\"],[0.2222222222222222,\"#7201a8\"],[0.3333333333333333,\"#9c179e\"],[0.4444444444444444,\"#bd3786\"],[0.5555555555555556,\"#d8576b\"],[0.6666666666666666,\"#ed7953\"],[0.7777777777777778,\"#fb9f3a\"],[0.8888888888888888,\"#fdca26\"],[1.0,\"#f0f921\"]]}],\"heatmap\":[{\"type\":\"heatmap\",\"colorbar\":{\"outlinewidth\":0,\"ticks\":\"\"},\"colorscale\":[[0.0,\"#0d0887\"],[0.1111111111111111,\"#46039f\"],[0.2222222222222222,\"#7201a8\"],[0.3333333333333333,\"#9c179e\"],[0.4444444444444444,\"#bd3786\"],[0.5555555555555556,\"#d8576b\"],[0.6666666666666666,\"#ed7953\"],[0.7777777777777778,\"#fb9f3a\"],[0.8888888888888888,\"#fdca26\"],[1.0,\"#f0f921\"]]}],\"heatmapgl\":[{\"type\":\"heatmapgl\",\"colorbar\":{\"outlinewidth\":0,\"ticks\":\"\"},\"colorscale\":[[0.0,\"#0d0887\"],[0.1111111111111111,\"#46039f\"],[0.2222222222222222,\"#7201a8\"],[0.3333333333333333,\"#9c179e\"],[0.4444444444444444,\"#bd3786\"],[0.5555555555555556,\"#d8576b\"],[0.6666666666666666,\"#ed7953\"],[0.7777777777777778,\"#fb9f3a\"],[0.8888888888888888,\"#fdca26\"],[1.0,\"#f0f921\"]]}],\"contourcarpet\":[{\"type\":\"contourcarpet\",\"colorbar\":{\"outlinewidth\":0,\"ticks\":\"\"}}],\"contour\":[{\"type\":\"contour\",\"colorbar\":{\"outlinewidth\":0,\"ticks\":\"\"},\"colorscale\":[[0.0,\"#0d0887\"],[0.1111111111111111,\"#46039f\"],[0.2222222222222222,\"#7201a8\"],[0.3333333333333333,\"#9c179e\"],[0.4444444444444444,\"#bd3786\"],[0.5555555555555556,\"#d8576b\"],[0.6666666666666666,\"#ed7953\"],[0.7777777777777778,\"#fb9f3a\"],[0.8888888888888888,\"#fdca26\"],[1.0,\"#f0f921\"]]}],\"surface\":[{\"type\":\"surface\",\"colorbar\":{\"outlinewidth\":0,\"ticks\":\"\"},\"colorscale\":[[0.0,\"#0d0887\"],[0.1111111111111111,\"#46039f\"],[0.2222222222222222,\"#7201a8\"],[0.3333333333333333,\"#9c179e\"],[0.4444444444444444,\"#bd3786\"],[0.5555555555555556,\"#d8576b\"],[0.6666666666666666,\"#ed7953\"],[0.7777777777777778,\"#fb9f3a\"],[0.8888888888888888,\"#fdca26\"],[1.0,\"#f0f921\"]]}],\"mesh3d\":[{\"type\":\"mesh3d\",\"colorbar\":{\"outlinewidth\":0,\"ticks\":\"\"}}],\"scatter\":[{\"fillpattern\":{\"fillmode\":\"overlay\",\"size\":10,\"solidity\":0.2},\"type\":\"scatter\"}],\"parcoords\":[{\"type\":\"parcoords\",\"line\":{\"colorbar\":{\"outlinewidth\":0,\"ticks\":\"\"}}}],\"scatterpolargl\":[{\"type\":\"scatterpolargl\",\"marker\":{\"colorbar\":{\"outlinewidth\":0,\"ticks\":\"\"}}}],\"bar\":[{\"error_x\":{\"color\":\"#2a3f5f\"},\"error_y\":{\"color\":\"#2a3f5f\"},\"marker\":{\"line\":{\"color\":\"#E5ECF6\",\"width\":0.5},\"pattern\":{\"fillmode\":\"overlay\",\"size\":10,\"solidity\":0.2}},\"type\":\"bar\"}],\"scattergeo\":[{\"type\":\"scattergeo\",\"marker\":{\"colorbar\":{\"outlinewidth\":0,\"ticks\":\"\"}}}],\"scatterpolar\":[{\"type\":\"scatterpolar\",\"marker\":{\"colorbar\":{\"outlinewidth\":0,\"ticks\":\"\"}}}],\"histogram\":[{\"marker\":{\"pattern\":{\"fillmode\":\"overlay\",\"size\":10,\"solidity\":0.2}},\"type\":\"histogram\"}],\"scattergl\":[{\"type\":\"scattergl\",\"marker\":{\"colorbar\":{\"outlinewidth\":0,\"ticks\":\"\"}}}],\"scatter3d\":[{\"type\":\"scatter3d\",\"line\":{\"colorbar\":{\"outlinewidth\":0,\"ticks\":\"\"}},\"marker\":{\"colorbar\":{\"outlinewidth\":0,\"ticks\":\"\"}}}],\"scattermapbox\":[{\"type\":\"scattermapbox\",\"marker\":{\"colorbar\":{\"outlinewidth\":0,\"ticks\":\"\"}}}],\"scatterternary\":[{\"type\":\"scatterternary\",\"marker\":{\"colorbar\":{\"outlinewidth\":0,\"ticks\":\"\"}}}],\"scattercarpet\":[{\"type\":\"scattercarpet\",\"marker\":{\"colorbar\":{\"outlinewidth\":0,\"ticks\":\"\"}}}],\"carpet\":[{\"aaxis\":{\"endlinecolor\":\"#2a3f5f\",\"gridcolor\":\"white\",\"linecolor\":\"white\",\"minorgridcolor\":\"white\",\"startlinecolor\":\"#2a3f5f\"},\"baxis\":{\"endlinecolor\":\"#2a3f5f\",\"gridcolor\":\"white\",\"linecolor\":\"white\",\"minorgridcolor\":\"white\",\"startlinecolor\":\"#2a3f5f\"},\"type\":\"carpet\"}],\"table\":[{\"cells\":{\"fill\":{\"color\":\"#EBF0F8\"},\"line\":{\"color\":\"white\"}},\"header\":{\"fill\":{\"color\":\"#C8D4E3\"},\"line\":{\"color\":\"white\"}},\"type\":\"table\"}],\"barpolar\":[{\"marker\":{\"line\":{\"color\":\"#E5ECF6\",\"width\":0.5},\"pattern\":{\"fillmode\":\"overlay\",\"size\":10,\"solidity\":0.2}},\"type\":\"barpolar\"}],\"pie\":[{\"automargin\":true,\"type\":\"pie\"}]},\"layout\":{\"autotypenumbers\":\"strict\",\"colorway\":[\"#636efa\",\"#EF553B\",\"#00cc96\",\"#ab63fa\",\"#FFA15A\",\"#19d3f3\",\"#FF6692\",\"#B6E880\",\"#FF97FF\",\"#FECB52\"],\"font\":{\"color\":\"#2a3f5f\"},\"hovermode\":\"closest\",\"hoverlabel\":{\"align\":\"left\"},\"paper_bgcolor\":\"white\",\"plot_bgcolor\":\"#E5ECF6\",\"polar\":{\"bgcolor\":\"#E5ECF6\",\"angularaxis\":{\"gridcolor\":\"white\",\"linecolor\":\"white\",\"ticks\":\"\"},\"radialaxis\":{\"gridcolor\":\"white\",\"linecolor\":\"white\",\"ticks\":\"\"}},\"ternary\":{\"bgcolor\":\"#E5ECF6\",\"aaxis\":{\"gridcolor\":\"white\",\"linecolor\":\"white\",\"ticks\":\"\"},\"baxis\":{\"gridcolor\":\"white\",\"linecolor\":\"white\",\"ticks\":\"\"},\"caxis\":{\"gridcolor\":\"white\",\"linecolor\":\"white\",\"ticks\":\"\"}},\"coloraxis\":{\"colorbar\":{\"outlinewidth\":0,\"ticks\":\"\"}},\"colorscale\":{\"sequential\":[[0.0,\"#0d0887\"],[0.1111111111111111,\"#46039f\"],[0.2222222222222222,\"#7201a8\"],[0.3333333333333333,\"#9c179e\"],[0.4444444444444444,\"#bd3786\"],[0.5555555555555556,\"#d8576b\"],[0.6666666666666666,\"#ed7953\"],[0.7777777777777778,\"#fb9f3a\"],[0.8888888888888888,\"#fdca26\"],[1.0,\"#f0f921\"]],\"sequentialminus\":[[0.0,\"#0d0887\"],[0.1111111111111111,\"#46039f\"],[0.2222222222222222,\"#7201a8\"],[0.3333333333333333,\"#9c179e\"],[0.4444444444444444,\"#bd3786\"],[0.5555555555555556,\"#d8576b\"],[0.6666666666666666,\"#ed7953\"],[0.7777777777777778,\"#fb9f3a\"],[0.8888888888888888,\"#fdca26\"],[1.0,\"#f0f921\"]],\"diverging\":[[0,\"#8e0152\"],[0.1,\"#c51b7d\"],[0.2,\"#de77ae\"],[0.3,\"#f1b6da\"],[0.4,\"#fde0ef\"],[0.5,\"#f7f7f7\"],[0.6,\"#e6f5d0\"],[0.7,\"#b8e186\"],[0.8,\"#7fbc41\"],[0.9,\"#4d9221\"],[1,\"#276419\"]]},\"xaxis\":{\"gridcolor\":\"white\",\"linecolor\":\"white\",\"ticks\":\"\",\"title\":{\"standoff\":15},\"zerolinecolor\":\"white\",\"automargin\":true,\"zerolinewidth\":2},\"yaxis\":{\"gridcolor\":\"white\",\"linecolor\":\"white\",\"ticks\":\"\",\"title\":{\"standoff\":15},\"zerolinecolor\":\"white\",\"automargin\":true,\"zerolinewidth\":2},\"scene\":{\"xaxis\":{\"backgroundcolor\":\"#E5ECF6\",\"gridcolor\":\"white\",\"linecolor\":\"white\",\"showbackground\":true,\"ticks\":\"\",\"zerolinecolor\":\"white\",\"gridwidth\":2},\"yaxis\":{\"backgroundcolor\":\"#E5ECF6\",\"gridcolor\":\"white\",\"linecolor\":\"white\",\"showbackground\":true,\"ticks\":\"\",\"zerolinecolor\":\"white\",\"gridwidth\":2},\"zaxis\":{\"backgroundcolor\":\"#E5ECF6\",\"gridcolor\":\"white\",\"linecolor\":\"white\",\"showbackground\":true,\"ticks\":\"\",\"zerolinecolor\":\"white\",\"gridwidth\":2}},\"shapedefaults\":{\"line\":{\"color\":\"#2a3f5f\"}},\"annotationdefaults\":{\"arrowcolor\":\"#2a3f5f\",\"arrowhead\":0,\"arrowwidth\":1},\"geo\":{\"bgcolor\":\"white\",\"landcolor\":\"#E5ECF6\",\"subunitcolor\":\"white\",\"showland\":true,\"showlakes\":true,\"lakecolor\":\"white\"},\"title\":{\"x\":0.05},\"mapbox\":{\"style\":\"light\"}}}},                        {\"responsive\": true}                    ).then(function(){\n",
       "                            \n",
       "var gd = document.getElementById('87b8ddde-5297-422f-8d6f-35d001052bc6');\n",
       "var x = new MutationObserver(function (mutations, observer) {{\n",
       "        var display = window.getComputedStyle(gd).display;\n",
       "        if (!display || display === 'none') {{\n",
       "            console.log([gd, 'removed!']);\n",
       "            Plotly.purge(gd);\n",
       "            observer.disconnect();\n",
       "        }}\n",
       "}});\n",
       "\n",
       "// Listen for the removal of the full notebook cells\n",
       "var notebookContainer = gd.closest('#notebook-container');\n",
       "if (notebookContainer) {{\n",
       "    x.observe(notebookContainer, {childList: true});\n",
       "}}\n",
       "\n",
       "// Listen for the clearing of the current output cell\n",
       "var outputEl = gd.closest('.output');\n",
       "if (outputEl) {{\n",
       "    x.observe(outputEl, {childList: true});\n",
       "}}\n",
       "\n",
       "                        })                };                });            </script>        </div>"
      ]
     },
     "metadata": {},
     "output_type": "display_data"
    }
   ],
   "source": [
    "import plotly.figure_factory as ff\n",
    "\n",
    "df = pd.DataFrame([\n",
    "    dict(Task=\"Task 1\", Start='2024-12-01', Finish='2024-12-05'),\n",
    "    dict(Task=\"Task 2\", Start='2024-12-05', Finish='2024-12-08'),\n",
    "    dict(Task=\"Task 3\", Start='2024-12-06', Finish='2024-12-10')\n",
    "])\n",
    "\n",
    "fig = ff.create_gantt(df, title='Project Gantt Chart',\n",
    "                       show_colorbar=True, bar_width=0.5, showgrid_x=False, showgrid_y=False)\n",
    "\n",
    "fig.show()"
   ]
  },
  {
   "cell_type": "code",
   "execution_count": 175,
   "metadata": {},
   "outputs": [
    {
     "data": {
      "application/vnd.plotly.v1+json": {
       "config": {
        "plotlyServerURL": "https://plot.ly"
       },
       "data": [
        {
         "fill": "toself",
         "fillcolor": "rgb(123.25000000000001, 125.50000000000001, 198.4)",
         "hoverinfo": "name",
         "legendgroup": "rgb(123.25000000000001, 125.50000000000001, 198.4)",
         "mode": "none",
         "name": "55",
         "showlegend": false,
         "type": "scatter",
         "x": [
          "2011-01-01",
          "2012-06-05",
          "2012-06-05",
          "2011-01-01"
         ],
         "y": [
          0.5,
          0.5,
          1.5,
          1.5
         ]
        },
        {
         "fill": "toself",
         "fillcolor": "rgb(207.1, 207.39999999999998, 217.12)",
         "hoverinfo": "name",
         "legendgroup": "rgb(207.1, 207.39999999999998, 217.12)",
         "mode": "none",
         "name": "94",
         "showlegend": false,
         "type": "scatter",
         "x": [
          "2012-01-05",
          "2013-07-05",
          "2013-07-05",
          "2012-01-05"
         ],
         "y": [
          1.5,
          1.5,
          2.5,
          2.5
         ]
        },
        {
         "fill": "toself",
         "fillcolor": "rgb(26.5, 31.0, 176.8)",
         "hoverinfo": "name",
         "legendgroup": "rgb(26.5, 31.0, 176.8)",
         "mode": "none",
         "name": "10",
         "showlegend": false,
         "type": "scatter",
         "x": [
          "2010-01-01",
          "2011-02-02",
          "2011-02-02",
          "2010-01-01"
         ],
         "y": [
          -0.5,
          -0.5,
          0.5,
          0.5
         ]
        },
        {
         "legendgroup": "rgb(123.25000000000001, 125.50000000000001, 198.4)",
         "marker": {
          "color": "rgb(123.25000000000001, 125.50000000000001, 198.4)",
          "opacity": 0,
          "size": 1
         },
         "mode": "markers",
         "name": "",
         "showlegend": false,
         "text": [
          null,
          null
         ],
         "type": "scatter",
         "x": [
          "2011-01-01",
          "2012-06-05"
         ],
         "y": [
          1,
          1
         ]
        },
        {
         "legendgroup": "rgb(207.1, 207.39999999999998, 217.12)",
         "marker": {
          "color": "rgb(207.1, 207.39999999999998, 217.12)",
          "opacity": 0,
          "size": 1
         },
         "mode": "markers",
         "name": "",
         "showlegend": false,
         "text": [
          null,
          null
         ],
         "type": "scatter",
         "x": [
          "2012-01-05",
          "2013-07-05"
         ],
         "y": [
          2,
          2
         ]
        },
        {
         "legendgroup": "rgb(26.5, 31.0, 176.8)",
         "marker": {
          "cmax": 100,
          "cmin": 0,
          "color": "rgb(26.5, 31.0, 176.8)",
          "colorscale": [
           [
            0,
            "rgb(5.0, 10.0, 172.0)"
           ],
           [
            1,
            "rgb(220.0, 220.0, 220.0)"
           ]
          ],
          "opacity": 0,
          "showscale": true,
          "size": 1
         },
         "mode": "markers",
         "name": "",
         "showlegend": false,
         "text": [
          null,
          null
         ],
         "type": "scatter",
         "x": [
          "2010-01-01",
          "2011-02-02"
         ],
         "y": [
          0,
          0
         ]
        }
       ],
       "layout": {
        "height": 600,
        "hovermode": "closest",
        "showlegend": false,
        "template": {
         "data": {
          "bar": [
           {
            "error_x": {
             "color": "#2a3f5f"
            },
            "error_y": {
             "color": "#2a3f5f"
            },
            "marker": {
             "line": {
              "color": "#E5ECF6",
              "width": 0.5
             },
             "pattern": {
              "fillmode": "overlay",
              "size": 10,
              "solidity": 0.2
             }
            },
            "type": "bar"
           }
          ],
          "barpolar": [
           {
            "marker": {
             "line": {
              "color": "#E5ECF6",
              "width": 0.5
             },
             "pattern": {
              "fillmode": "overlay",
              "size": 10,
              "solidity": 0.2
             }
            },
            "type": "barpolar"
           }
          ],
          "carpet": [
           {
            "aaxis": {
             "endlinecolor": "#2a3f5f",
             "gridcolor": "white",
             "linecolor": "white",
             "minorgridcolor": "white",
             "startlinecolor": "#2a3f5f"
            },
            "baxis": {
             "endlinecolor": "#2a3f5f",
             "gridcolor": "white",
             "linecolor": "white",
             "minorgridcolor": "white",
             "startlinecolor": "#2a3f5f"
            },
            "type": "carpet"
           }
          ],
          "choropleth": [
           {
            "colorbar": {
             "outlinewidth": 0,
             "ticks": ""
            },
            "type": "choropleth"
           }
          ],
          "contour": [
           {
            "colorbar": {
             "outlinewidth": 0,
             "ticks": ""
            },
            "colorscale": [
             [
              0,
              "#0d0887"
             ],
             [
              0.1111111111111111,
              "#46039f"
             ],
             [
              0.2222222222222222,
              "#7201a8"
             ],
             [
              0.3333333333333333,
              "#9c179e"
             ],
             [
              0.4444444444444444,
              "#bd3786"
             ],
             [
              0.5555555555555556,
              "#d8576b"
             ],
             [
              0.6666666666666666,
              "#ed7953"
             ],
             [
              0.7777777777777778,
              "#fb9f3a"
             ],
             [
              0.8888888888888888,
              "#fdca26"
             ],
             [
              1,
              "#f0f921"
             ]
            ],
            "type": "contour"
           }
          ],
          "contourcarpet": [
           {
            "colorbar": {
             "outlinewidth": 0,
             "ticks": ""
            },
            "type": "contourcarpet"
           }
          ],
          "heatmap": [
           {
            "colorbar": {
             "outlinewidth": 0,
             "ticks": ""
            },
            "colorscale": [
             [
              0,
              "#0d0887"
             ],
             [
              0.1111111111111111,
              "#46039f"
             ],
             [
              0.2222222222222222,
              "#7201a8"
             ],
             [
              0.3333333333333333,
              "#9c179e"
             ],
             [
              0.4444444444444444,
              "#bd3786"
             ],
             [
              0.5555555555555556,
              "#d8576b"
             ],
             [
              0.6666666666666666,
              "#ed7953"
             ],
             [
              0.7777777777777778,
              "#fb9f3a"
             ],
             [
              0.8888888888888888,
              "#fdca26"
             ],
             [
              1,
              "#f0f921"
             ]
            ],
            "type": "heatmap"
           }
          ],
          "heatmapgl": [
           {
            "colorbar": {
             "outlinewidth": 0,
             "ticks": ""
            },
            "colorscale": [
             [
              0,
              "#0d0887"
             ],
             [
              0.1111111111111111,
              "#46039f"
             ],
             [
              0.2222222222222222,
              "#7201a8"
             ],
             [
              0.3333333333333333,
              "#9c179e"
             ],
             [
              0.4444444444444444,
              "#bd3786"
             ],
             [
              0.5555555555555556,
              "#d8576b"
             ],
             [
              0.6666666666666666,
              "#ed7953"
             ],
             [
              0.7777777777777778,
              "#fb9f3a"
             ],
             [
              0.8888888888888888,
              "#fdca26"
             ],
             [
              1,
              "#f0f921"
             ]
            ],
            "type": "heatmapgl"
           }
          ],
          "histogram": [
           {
            "marker": {
             "pattern": {
              "fillmode": "overlay",
              "size": 10,
              "solidity": 0.2
             }
            },
            "type": "histogram"
           }
          ],
          "histogram2d": [
           {
            "colorbar": {
             "outlinewidth": 0,
             "ticks": ""
            },
            "colorscale": [
             [
              0,
              "#0d0887"
             ],
             [
              0.1111111111111111,
              "#46039f"
             ],
             [
              0.2222222222222222,
              "#7201a8"
             ],
             [
              0.3333333333333333,
              "#9c179e"
             ],
             [
              0.4444444444444444,
              "#bd3786"
             ],
             [
              0.5555555555555556,
              "#d8576b"
             ],
             [
              0.6666666666666666,
              "#ed7953"
             ],
             [
              0.7777777777777778,
              "#fb9f3a"
             ],
             [
              0.8888888888888888,
              "#fdca26"
             ],
             [
              1,
              "#f0f921"
             ]
            ],
            "type": "histogram2d"
           }
          ],
          "histogram2dcontour": [
           {
            "colorbar": {
             "outlinewidth": 0,
             "ticks": ""
            },
            "colorscale": [
             [
              0,
              "#0d0887"
             ],
             [
              0.1111111111111111,
              "#46039f"
             ],
             [
              0.2222222222222222,
              "#7201a8"
             ],
             [
              0.3333333333333333,
              "#9c179e"
             ],
             [
              0.4444444444444444,
              "#bd3786"
             ],
             [
              0.5555555555555556,
              "#d8576b"
             ],
             [
              0.6666666666666666,
              "#ed7953"
             ],
             [
              0.7777777777777778,
              "#fb9f3a"
             ],
             [
              0.8888888888888888,
              "#fdca26"
             ],
             [
              1,
              "#f0f921"
             ]
            ],
            "type": "histogram2dcontour"
           }
          ],
          "mesh3d": [
           {
            "colorbar": {
             "outlinewidth": 0,
             "ticks": ""
            },
            "type": "mesh3d"
           }
          ],
          "parcoords": [
           {
            "line": {
             "colorbar": {
              "outlinewidth": 0,
              "ticks": ""
             }
            },
            "type": "parcoords"
           }
          ],
          "pie": [
           {
            "automargin": true,
            "type": "pie"
           }
          ],
          "scatter": [
           {
            "fillpattern": {
             "fillmode": "overlay",
             "size": 10,
             "solidity": 0.2
            },
            "type": "scatter"
           }
          ],
          "scatter3d": [
           {
            "line": {
             "colorbar": {
              "outlinewidth": 0,
              "ticks": ""
             }
            },
            "marker": {
             "colorbar": {
              "outlinewidth": 0,
              "ticks": ""
             }
            },
            "type": "scatter3d"
           }
          ],
          "scattercarpet": [
           {
            "marker": {
             "colorbar": {
              "outlinewidth": 0,
              "ticks": ""
             }
            },
            "type": "scattercarpet"
           }
          ],
          "scattergeo": [
           {
            "marker": {
             "colorbar": {
              "outlinewidth": 0,
              "ticks": ""
             }
            },
            "type": "scattergeo"
           }
          ],
          "scattergl": [
           {
            "marker": {
             "colorbar": {
              "outlinewidth": 0,
              "ticks": ""
             }
            },
            "type": "scattergl"
           }
          ],
          "scattermapbox": [
           {
            "marker": {
             "colorbar": {
              "outlinewidth": 0,
              "ticks": ""
             }
            },
            "type": "scattermapbox"
           }
          ],
          "scatterpolar": [
           {
            "marker": {
             "colorbar": {
              "outlinewidth": 0,
              "ticks": ""
             }
            },
            "type": "scatterpolar"
           }
          ],
          "scatterpolargl": [
           {
            "marker": {
             "colorbar": {
              "outlinewidth": 0,
              "ticks": ""
             }
            },
            "type": "scatterpolargl"
           }
          ],
          "scatterternary": [
           {
            "marker": {
             "colorbar": {
              "outlinewidth": 0,
              "ticks": ""
             }
            },
            "type": "scatterternary"
           }
          ],
          "surface": [
           {
            "colorbar": {
             "outlinewidth": 0,
             "ticks": ""
            },
            "colorscale": [
             [
              0,
              "#0d0887"
             ],
             [
              0.1111111111111111,
              "#46039f"
             ],
             [
              0.2222222222222222,
              "#7201a8"
             ],
             [
              0.3333333333333333,
              "#9c179e"
             ],
             [
              0.4444444444444444,
              "#bd3786"
             ],
             [
              0.5555555555555556,
              "#d8576b"
             ],
             [
              0.6666666666666666,
              "#ed7953"
             ],
             [
              0.7777777777777778,
              "#fb9f3a"
             ],
             [
              0.8888888888888888,
              "#fdca26"
             ],
             [
              1,
              "#f0f921"
             ]
            ],
            "type": "surface"
           }
          ],
          "table": [
           {
            "cells": {
             "fill": {
              "color": "#EBF0F8"
             },
             "line": {
              "color": "white"
             }
            },
            "header": {
             "fill": {
              "color": "#C8D4E3"
             },
             "line": {
              "color": "white"
             }
            },
            "type": "table"
           }
          ]
         },
         "layout": {
          "annotationdefaults": {
           "arrowcolor": "#2a3f5f",
           "arrowhead": 0,
           "arrowwidth": 1
          },
          "autotypenumbers": "strict",
          "coloraxis": {
           "colorbar": {
            "outlinewidth": 0,
            "ticks": ""
           }
          },
          "colorscale": {
           "diverging": [
            [
             0,
             "#8e0152"
            ],
            [
             0.1,
             "#c51b7d"
            ],
            [
             0.2,
             "#de77ae"
            ],
            [
             0.3,
             "#f1b6da"
            ],
            [
             0.4,
             "#fde0ef"
            ],
            [
             0.5,
             "#f7f7f7"
            ],
            [
             0.6,
             "#e6f5d0"
            ],
            [
             0.7,
             "#b8e186"
            ],
            [
             0.8,
             "#7fbc41"
            ],
            [
             0.9,
             "#4d9221"
            ],
            [
             1,
             "#276419"
            ]
           ],
           "sequential": [
            [
             0,
             "#0d0887"
            ],
            [
             0.1111111111111111,
             "#46039f"
            ],
            [
             0.2222222222222222,
             "#7201a8"
            ],
            [
             0.3333333333333333,
             "#9c179e"
            ],
            [
             0.4444444444444444,
             "#bd3786"
            ],
            [
             0.5555555555555556,
             "#d8576b"
            ],
            [
             0.6666666666666666,
             "#ed7953"
            ],
            [
             0.7777777777777778,
             "#fb9f3a"
            ],
            [
             0.8888888888888888,
             "#fdca26"
            ],
            [
             1,
             "#f0f921"
            ]
           ],
           "sequentialminus": [
            [
             0,
             "#0d0887"
            ],
            [
             0.1111111111111111,
             "#46039f"
            ],
            [
             0.2222222222222222,
             "#7201a8"
            ],
            [
             0.3333333333333333,
             "#9c179e"
            ],
            [
             0.4444444444444444,
             "#bd3786"
            ],
            [
             0.5555555555555556,
             "#d8576b"
            ],
            [
             0.6666666666666666,
             "#ed7953"
            ],
            [
             0.7777777777777778,
             "#fb9f3a"
            ],
            [
             0.8888888888888888,
             "#fdca26"
            ],
            [
             1,
             "#f0f921"
            ]
           ]
          },
          "colorway": [
           "#636efa",
           "#EF553B",
           "#00cc96",
           "#ab63fa",
           "#FFA15A",
           "#19d3f3",
           "#FF6692",
           "#B6E880",
           "#FF97FF",
           "#FECB52"
          ],
          "font": {
           "color": "#2a3f5f"
          },
          "geo": {
           "bgcolor": "white",
           "lakecolor": "white",
           "landcolor": "#E5ECF6",
           "showlakes": true,
           "showland": true,
           "subunitcolor": "white"
          },
          "hoverlabel": {
           "align": "left"
          },
          "hovermode": "closest",
          "mapbox": {
           "style": "light"
          },
          "paper_bgcolor": "white",
          "plot_bgcolor": "#E5ECF6",
          "polar": {
           "angularaxis": {
            "gridcolor": "white",
            "linecolor": "white",
            "ticks": ""
           },
           "bgcolor": "#E5ECF6",
           "radialaxis": {
            "gridcolor": "white",
            "linecolor": "white",
            "ticks": ""
           }
          },
          "scene": {
           "xaxis": {
            "backgroundcolor": "#E5ECF6",
            "gridcolor": "white",
            "gridwidth": 2,
            "linecolor": "white",
            "showbackground": true,
            "ticks": "",
            "zerolinecolor": "white"
           },
           "yaxis": {
            "backgroundcolor": "#E5ECF6",
            "gridcolor": "white",
            "gridwidth": 2,
            "linecolor": "white",
            "showbackground": true,
            "ticks": "",
            "zerolinecolor": "white"
           },
           "zaxis": {
            "backgroundcolor": "#E5ECF6",
            "gridcolor": "white",
            "gridwidth": 2,
            "linecolor": "white",
            "showbackground": true,
            "ticks": "",
            "zerolinecolor": "white"
           }
          },
          "shapedefaults": {
           "line": {
            "color": "#2a3f5f"
           }
          },
          "ternary": {
           "aaxis": {
            "gridcolor": "white",
            "linecolor": "white",
            "ticks": ""
           },
           "baxis": {
            "gridcolor": "white",
            "linecolor": "white",
            "ticks": ""
           },
           "bgcolor": "#E5ECF6",
           "caxis": {
            "gridcolor": "white",
            "linecolor": "white",
            "ticks": ""
           }
          },
          "title": {
           "x": 0.05
          },
          "xaxis": {
           "automargin": true,
           "gridcolor": "white",
           "linecolor": "white",
           "ticks": "",
           "title": {
            "standoff": 15
           },
           "zerolinecolor": "white",
           "zerolinewidth": 2
          },
          "yaxis": {
           "automargin": true,
           "gridcolor": "white",
           "linecolor": "white",
           "ticks": "",
           "title": {
            "standoff": 15
           },
           "zerolinecolor": "white",
           "zerolinewidth": 2
          }
         }
        },
        "title": {
         "text": "Gantt Chart"
        },
        "xaxis": {
         "rangeselector": {
          "buttons": [
           {
            "count": 7,
            "label": "1w",
            "step": "day",
            "stepmode": "backward"
           },
           {
            "count": 1,
            "label": "1m",
            "step": "month",
            "stepmode": "backward"
           },
           {
            "count": 6,
            "label": "6m",
            "step": "month",
            "stepmode": "backward"
           },
           {
            "count": 1,
            "label": "YTD",
            "step": "year",
            "stepmode": "todate"
           },
           {
            "count": 1,
            "label": "1y",
            "step": "year",
            "stepmode": "backward"
           },
           {
            "step": "all"
           }
          ]
         },
         "showgrid": true,
         "type": "date",
         "zeroline": false
        },
        "yaxis": {
         "autorange": false,
         "range": [
          -1,
          4
         ],
         "showgrid": true,
         "ticktext": [
          "Run",
          "Fast",
          "Eat"
         ],
         "tickvals": [
          0,
          1,
          2
         ],
         "zeroline": false
        }
       }
      },
      "text/html": [
       "<div>                            <div id=\"1d393d7f-fb8b-4fc4-884d-9ba4c58f8f91\" class=\"plotly-graph-div\" style=\"height:600px; width:100%;\"></div>            <script type=\"text/javascript\">                require([\"plotly\"], function(Plotly) {                    window.PLOTLYENV=window.PLOTLYENV || {};                                    if (document.getElementById(\"1d393d7f-fb8b-4fc4-884d-9ba4c58f8f91\")) {                    Plotly.newPlot(                        \"1d393d7f-fb8b-4fc4-884d-9ba4c58f8f91\",                        [{\"fill\":\"toself\",\"fillcolor\":\"rgb(123.25000000000001, 125.50000000000001, 198.4)\",\"hoverinfo\":\"name\",\"legendgroup\":\"rgb(123.25000000000001, 125.50000000000001, 198.4)\",\"mode\":\"none\",\"name\":\"55\",\"showlegend\":false,\"x\":[\"2011-01-01\",\"2012-06-05\",\"2012-06-05\",\"2011-01-01\"],\"y\":[0.5,0.5,1.5,1.5],\"type\":\"scatter\"},{\"fill\":\"toself\",\"fillcolor\":\"rgb(207.1, 207.39999999999998, 217.12)\",\"hoverinfo\":\"name\",\"legendgroup\":\"rgb(207.1, 207.39999999999998, 217.12)\",\"mode\":\"none\",\"name\":\"94\",\"showlegend\":false,\"x\":[\"2012-01-05\",\"2013-07-05\",\"2013-07-05\",\"2012-01-05\"],\"y\":[1.5,1.5,2.5,2.5],\"type\":\"scatter\"},{\"fill\":\"toself\",\"fillcolor\":\"rgb(26.5, 31.0, 176.8)\",\"hoverinfo\":\"name\",\"legendgroup\":\"rgb(26.5, 31.0, 176.8)\",\"mode\":\"none\",\"name\":\"10\",\"showlegend\":false,\"x\":[\"2010-01-01\",\"2011-02-02\",\"2011-02-02\",\"2010-01-01\"],\"y\":[-0.5,-0.5,0.5,0.5],\"type\":\"scatter\"},{\"legendgroup\":\"rgb(123.25000000000001, 125.50000000000001, 198.4)\",\"marker\":{\"color\":\"rgb(123.25000000000001, 125.50000000000001, 198.4)\",\"opacity\":0,\"size\":1},\"mode\":\"markers\",\"name\":\"\",\"showlegend\":false,\"text\":[null,null],\"x\":[\"2011-01-01\",\"2012-06-05\"],\"y\":[1,1],\"type\":\"scatter\"},{\"legendgroup\":\"rgb(207.1, 207.39999999999998, 217.12)\",\"marker\":{\"color\":\"rgb(207.1, 207.39999999999998, 217.12)\",\"opacity\":0,\"size\":1},\"mode\":\"markers\",\"name\":\"\",\"showlegend\":false,\"text\":[null,null],\"x\":[\"2012-01-05\",\"2013-07-05\"],\"y\":[2,2],\"type\":\"scatter\"},{\"legendgroup\":\"rgb(26.5, 31.0, 176.8)\",\"marker\":{\"cmax\":100,\"cmin\":0,\"color\":\"rgb(26.5, 31.0, 176.8)\",\"colorscale\":[[0,\"rgb(5.0, 10.0, 172.0)\"],[1,\"rgb(220.0, 220.0, 220.0)\"]],\"opacity\":0,\"showscale\":true,\"size\":1},\"mode\":\"markers\",\"name\":\"\",\"showlegend\":false,\"text\":[null,null],\"x\":[\"2010-01-01\",\"2011-02-02\"],\"y\":[0,0],\"type\":\"scatter\"}],                        {\"height\":600,\"hovermode\":\"closest\",\"showlegend\":false,\"title\":{\"text\":\"Gantt Chart\"},\"xaxis\":{\"rangeselector\":{\"buttons\":[{\"count\":7,\"label\":\"1w\",\"step\":\"day\",\"stepmode\":\"backward\"},{\"count\":1,\"label\":\"1m\",\"step\":\"month\",\"stepmode\":\"backward\"},{\"count\":6,\"label\":\"6m\",\"step\":\"month\",\"stepmode\":\"backward\"},{\"count\":1,\"label\":\"YTD\",\"step\":\"year\",\"stepmode\":\"todate\"},{\"count\":1,\"label\":\"1y\",\"step\":\"year\",\"stepmode\":\"backward\"},{\"step\":\"all\"}]},\"showgrid\":true,\"type\":\"date\",\"zeroline\":false},\"yaxis\":{\"autorange\":false,\"range\":[-1,4],\"showgrid\":true,\"ticktext\":[\"Run\",\"Fast\",\"Eat\"],\"tickvals\":[0,1,2],\"zeroline\":false},\"template\":{\"data\":{\"histogram2dcontour\":[{\"type\":\"histogram2dcontour\",\"colorbar\":{\"outlinewidth\":0,\"ticks\":\"\"},\"colorscale\":[[0.0,\"#0d0887\"],[0.1111111111111111,\"#46039f\"],[0.2222222222222222,\"#7201a8\"],[0.3333333333333333,\"#9c179e\"],[0.4444444444444444,\"#bd3786\"],[0.5555555555555556,\"#d8576b\"],[0.6666666666666666,\"#ed7953\"],[0.7777777777777778,\"#fb9f3a\"],[0.8888888888888888,\"#fdca26\"],[1.0,\"#f0f921\"]]}],\"choropleth\":[{\"type\":\"choropleth\",\"colorbar\":{\"outlinewidth\":0,\"ticks\":\"\"}}],\"histogram2d\":[{\"type\":\"histogram2d\",\"colorbar\":{\"outlinewidth\":0,\"ticks\":\"\"},\"colorscale\":[[0.0,\"#0d0887\"],[0.1111111111111111,\"#46039f\"],[0.2222222222222222,\"#7201a8\"],[0.3333333333333333,\"#9c179e\"],[0.4444444444444444,\"#bd3786\"],[0.5555555555555556,\"#d8576b\"],[0.6666666666666666,\"#ed7953\"],[0.7777777777777778,\"#fb9f3a\"],[0.8888888888888888,\"#fdca26\"],[1.0,\"#f0f921\"]]}],\"heatmap\":[{\"type\":\"heatmap\",\"colorbar\":{\"outlinewidth\":0,\"ticks\":\"\"},\"colorscale\":[[0.0,\"#0d0887\"],[0.1111111111111111,\"#46039f\"],[0.2222222222222222,\"#7201a8\"],[0.3333333333333333,\"#9c179e\"],[0.4444444444444444,\"#bd3786\"],[0.5555555555555556,\"#d8576b\"],[0.6666666666666666,\"#ed7953\"],[0.7777777777777778,\"#fb9f3a\"],[0.8888888888888888,\"#fdca26\"],[1.0,\"#f0f921\"]]}],\"heatmapgl\":[{\"type\":\"heatmapgl\",\"colorbar\":{\"outlinewidth\":0,\"ticks\":\"\"},\"colorscale\":[[0.0,\"#0d0887\"],[0.1111111111111111,\"#46039f\"],[0.2222222222222222,\"#7201a8\"],[0.3333333333333333,\"#9c179e\"],[0.4444444444444444,\"#bd3786\"],[0.5555555555555556,\"#d8576b\"],[0.6666666666666666,\"#ed7953\"],[0.7777777777777778,\"#fb9f3a\"],[0.8888888888888888,\"#fdca26\"],[1.0,\"#f0f921\"]]}],\"contourcarpet\":[{\"type\":\"contourcarpet\",\"colorbar\":{\"outlinewidth\":0,\"ticks\":\"\"}}],\"contour\":[{\"type\":\"contour\",\"colorbar\":{\"outlinewidth\":0,\"ticks\":\"\"},\"colorscale\":[[0.0,\"#0d0887\"],[0.1111111111111111,\"#46039f\"],[0.2222222222222222,\"#7201a8\"],[0.3333333333333333,\"#9c179e\"],[0.4444444444444444,\"#bd3786\"],[0.5555555555555556,\"#d8576b\"],[0.6666666666666666,\"#ed7953\"],[0.7777777777777778,\"#fb9f3a\"],[0.8888888888888888,\"#fdca26\"],[1.0,\"#f0f921\"]]}],\"surface\":[{\"type\":\"surface\",\"colorbar\":{\"outlinewidth\":0,\"ticks\":\"\"},\"colorscale\":[[0.0,\"#0d0887\"],[0.1111111111111111,\"#46039f\"],[0.2222222222222222,\"#7201a8\"],[0.3333333333333333,\"#9c179e\"],[0.4444444444444444,\"#bd3786\"],[0.5555555555555556,\"#d8576b\"],[0.6666666666666666,\"#ed7953\"],[0.7777777777777778,\"#fb9f3a\"],[0.8888888888888888,\"#fdca26\"],[1.0,\"#f0f921\"]]}],\"mesh3d\":[{\"type\":\"mesh3d\",\"colorbar\":{\"outlinewidth\":0,\"ticks\":\"\"}}],\"scatter\":[{\"fillpattern\":{\"fillmode\":\"overlay\",\"size\":10,\"solidity\":0.2},\"type\":\"scatter\"}],\"parcoords\":[{\"type\":\"parcoords\",\"line\":{\"colorbar\":{\"outlinewidth\":0,\"ticks\":\"\"}}}],\"scatterpolargl\":[{\"type\":\"scatterpolargl\",\"marker\":{\"colorbar\":{\"outlinewidth\":0,\"ticks\":\"\"}}}],\"bar\":[{\"error_x\":{\"color\":\"#2a3f5f\"},\"error_y\":{\"color\":\"#2a3f5f\"},\"marker\":{\"line\":{\"color\":\"#E5ECF6\",\"width\":0.5},\"pattern\":{\"fillmode\":\"overlay\",\"size\":10,\"solidity\":0.2}},\"type\":\"bar\"}],\"scattergeo\":[{\"type\":\"scattergeo\",\"marker\":{\"colorbar\":{\"outlinewidth\":0,\"ticks\":\"\"}}}],\"scatterpolar\":[{\"type\":\"scatterpolar\",\"marker\":{\"colorbar\":{\"outlinewidth\":0,\"ticks\":\"\"}}}],\"histogram\":[{\"marker\":{\"pattern\":{\"fillmode\":\"overlay\",\"size\":10,\"solidity\":0.2}},\"type\":\"histogram\"}],\"scattergl\":[{\"type\":\"scattergl\",\"marker\":{\"colorbar\":{\"outlinewidth\":0,\"ticks\":\"\"}}}],\"scatter3d\":[{\"type\":\"scatter3d\",\"line\":{\"colorbar\":{\"outlinewidth\":0,\"ticks\":\"\"}},\"marker\":{\"colorbar\":{\"outlinewidth\":0,\"ticks\":\"\"}}}],\"scattermapbox\":[{\"type\":\"scattermapbox\",\"marker\":{\"colorbar\":{\"outlinewidth\":0,\"ticks\":\"\"}}}],\"scatterternary\":[{\"type\":\"scatterternary\",\"marker\":{\"colorbar\":{\"outlinewidth\":0,\"ticks\":\"\"}}}],\"scattercarpet\":[{\"type\":\"scattercarpet\",\"marker\":{\"colorbar\":{\"outlinewidth\":0,\"ticks\":\"\"}}}],\"carpet\":[{\"aaxis\":{\"endlinecolor\":\"#2a3f5f\",\"gridcolor\":\"white\",\"linecolor\":\"white\",\"minorgridcolor\":\"white\",\"startlinecolor\":\"#2a3f5f\"},\"baxis\":{\"endlinecolor\":\"#2a3f5f\",\"gridcolor\":\"white\",\"linecolor\":\"white\",\"minorgridcolor\":\"white\",\"startlinecolor\":\"#2a3f5f\"},\"type\":\"carpet\"}],\"table\":[{\"cells\":{\"fill\":{\"color\":\"#EBF0F8\"},\"line\":{\"color\":\"white\"}},\"header\":{\"fill\":{\"color\":\"#C8D4E3\"},\"line\":{\"color\":\"white\"}},\"type\":\"table\"}],\"barpolar\":[{\"marker\":{\"line\":{\"color\":\"#E5ECF6\",\"width\":0.5},\"pattern\":{\"fillmode\":\"overlay\",\"size\":10,\"solidity\":0.2}},\"type\":\"barpolar\"}],\"pie\":[{\"automargin\":true,\"type\":\"pie\"}]},\"layout\":{\"autotypenumbers\":\"strict\",\"colorway\":[\"#636efa\",\"#EF553B\",\"#00cc96\",\"#ab63fa\",\"#FFA15A\",\"#19d3f3\",\"#FF6692\",\"#B6E880\",\"#FF97FF\",\"#FECB52\"],\"font\":{\"color\":\"#2a3f5f\"},\"hovermode\":\"closest\",\"hoverlabel\":{\"align\":\"left\"},\"paper_bgcolor\":\"white\",\"plot_bgcolor\":\"#E5ECF6\",\"polar\":{\"bgcolor\":\"#E5ECF6\",\"angularaxis\":{\"gridcolor\":\"white\",\"linecolor\":\"white\",\"ticks\":\"\"},\"radialaxis\":{\"gridcolor\":\"white\",\"linecolor\":\"white\",\"ticks\":\"\"}},\"ternary\":{\"bgcolor\":\"#E5ECF6\",\"aaxis\":{\"gridcolor\":\"white\",\"linecolor\":\"white\",\"ticks\":\"\"},\"baxis\":{\"gridcolor\":\"white\",\"linecolor\":\"white\",\"ticks\":\"\"},\"caxis\":{\"gridcolor\":\"white\",\"linecolor\":\"white\",\"ticks\":\"\"}},\"coloraxis\":{\"colorbar\":{\"outlinewidth\":0,\"ticks\":\"\"}},\"colorscale\":{\"sequential\":[[0.0,\"#0d0887\"],[0.1111111111111111,\"#46039f\"],[0.2222222222222222,\"#7201a8\"],[0.3333333333333333,\"#9c179e\"],[0.4444444444444444,\"#bd3786\"],[0.5555555555555556,\"#d8576b\"],[0.6666666666666666,\"#ed7953\"],[0.7777777777777778,\"#fb9f3a\"],[0.8888888888888888,\"#fdca26\"],[1.0,\"#f0f921\"]],\"sequentialminus\":[[0.0,\"#0d0887\"],[0.1111111111111111,\"#46039f\"],[0.2222222222222222,\"#7201a8\"],[0.3333333333333333,\"#9c179e\"],[0.4444444444444444,\"#bd3786\"],[0.5555555555555556,\"#d8576b\"],[0.6666666666666666,\"#ed7953\"],[0.7777777777777778,\"#fb9f3a\"],[0.8888888888888888,\"#fdca26\"],[1.0,\"#f0f921\"]],\"diverging\":[[0,\"#8e0152\"],[0.1,\"#c51b7d\"],[0.2,\"#de77ae\"],[0.3,\"#f1b6da\"],[0.4,\"#fde0ef\"],[0.5,\"#f7f7f7\"],[0.6,\"#e6f5d0\"],[0.7,\"#b8e186\"],[0.8,\"#7fbc41\"],[0.9,\"#4d9221\"],[1,\"#276419\"]]},\"xaxis\":{\"gridcolor\":\"white\",\"linecolor\":\"white\",\"ticks\":\"\",\"title\":{\"standoff\":15},\"zerolinecolor\":\"white\",\"automargin\":true,\"zerolinewidth\":2},\"yaxis\":{\"gridcolor\":\"white\",\"linecolor\":\"white\",\"ticks\":\"\",\"title\":{\"standoff\":15},\"zerolinecolor\":\"white\",\"automargin\":true,\"zerolinewidth\":2},\"scene\":{\"xaxis\":{\"backgroundcolor\":\"#E5ECF6\",\"gridcolor\":\"white\",\"linecolor\":\"white\",\"showbackground\":true,\"ticks\":\"\",\"zerolinecolor\":\"white\",\"gridwidth\":2},\"yaxis\":{\"backgroundcolor\":\"#E5ECF6\",\"gridcolor\":\"white\",\"linecolor\":\"white\",\"showbackground\":true,\"ticks\":\"\",\"zerolinecolor\":\"white\",\"gridwidth\":2},\"zaxis\":{\"backgroundcolor\":\"#E5ECF6\",\"gridcolor\":\"white\",\"linecolor\":\"white\",\"showbackground\":true,\"ticks\":\"\",\"zerolinecolor\":\"white\",\"gridwidth\":2}},\"shapedefaults\":{\"line\":{\"color\":\"#2a3f5f\"}},\"annotationdefaults\":{\"arrowcolor\":\"#2a3f5f\",\"arrowhead\":0,\"arrowwidth\":1},\"geo\":{\"bgcolor\":\"white\",\"landcolor\":\"#E5ECF6\",\"subunitcolor\":\"white\",\"showland\":true,\"showlakes\":true,\"lakecolor\":\"white\"},\"title\":{\"x\":0.05},\"mapbox\":{\"style\":\"light\"}}}},                        {\"responsive\": true}                    ).then(function(){\n",
       "                            \n",
       "var gd = document.getElementById('1d393d7f-fb8b-4fc4-884d-9ba4c58f8f91');\n",
       "var x = new MutationObserver(function (mutations, observer) {{\n",
       "        var display = window.getComputedStyle(gd).display;\n",
       "        if (!display || display === 'none') {{\n",
       "            console.log([gd, 'removed!']);\n",
       "            Plotly.purge(gd);\n",
       "            observer.disconnect();\n",
       "        }}\n",
       "}});\n",
       "\n",
       "// Listen for the removal of the full notebook cells\n",
       "var notebookContainer = gd.closest('#notebook-container');\n",
       "if (notebookContainer) {{\n",
       "    x.observe(notebookContainer, {childList: true});\n",
       "}}\n",
       "\n",
       "// Listen for the clearing of the current output cell\n",
       "var outputEl = gd.closest('.output');\n",
       "if (outputEl) {{\n",
       "    x.observe(outputEl, {childList: true});\n",
       "}}\n",
       "\n",
       "                        })                };                });            </script>        </div>"
      ]
     },
     "metadata": {},
     "output_type": "display_data"
    }
   ],
   "source": [
    "    # Example 5: Use a pandas dataframe\n",
    "\n",
    "from plotly.figure_factory import create_gantt\n",
    "import pandas as pd\n",
    "\n",
    "# Make data as a dataframe\n",
    "df = pd.DataFrame([['Run', '2010-01-01', '2011-02-02', 10],\n",
    "                    ['Fast', '2011-01-01', '2012-06-05', 55],\n",
    "                    ['Eat', '2012-01-05', '2013-07-05', 94]],\n",
    "                   columns=['Task', 'Start', 'Finish', 'Complete'])\n",
    "\n",
    "# Create a figure with Plotly colorscale\n",
    "fig = create_gantt(df, colors='Blues', index_col='Complete',\n",
    "                  show_colorbar=True, bar_width=0.5,\n",
    "                    showgrid_x=True, showgrid_y=True)\n",
    "fig.show()"
   ]
  },
  {
   "cell_type": "code",
   "execution_count": 185,
   "metadata": {},
   "outputs": [],
   "source": [
    "from openpyxl import Workbook\n",
    "from openpyxl.chart import BarChart, Reference\n",
    "from datetime import datetime\n",
    "\n",
    "# Step 1: Create a workbook and worksheet\n",
    "wb = Workbook()\n",
    "ws = wb.active\n",
    "ws.title = \"Gantt Chart\"\n",
    "\n",
    "# Step 2: Prepare data (tasks, start dates, durations)\n",
    "data = [\n",
    "    [\"Task\", \"Start Date\", \"Duration (Days)\", \"Start Offset (Days)\"],\n",
    "    [\"Task 1\", datetime(2024, 1, 1), 5, 0],  # Offset calculated manually\n",
    "    [\"Task 2\", datetime(2024, 1, 6), 3, 5],\n",
    "    [\"Task 3\", datetime(2024, 1, 9), 7, 8],\n",
    "    [\"Task 4\", datetime(2024, 1, 16), 4, 15],\n",
    "]\n",
    "\n",
    "# Add headers and data to the worksheet\n",
    "for row in data:\n",
    "    ws.append(row)\n",
    "\n",
    "# Format date column\n",
    "for cell in ws[\"B\"]:\n",
    "    if cell.row != 1:  # Skip the header\n",
    "        cell.number_format = \"MM/DD/YYYY\"\n",
    "\n",
    "# Step 3: Create a stacked bar chart\n",
    "chart = BarChart()\n",
    "chart.type = \"bar\"\n",
    "chart.style = 10\n",
    "chart.overlap=100\n",
    "chart.grouping = \"percentStacked\"\n",
    "chart.title = \"Gantt Chart\"\n",
    "chart.y_axis.title = \"Tasks\"\n",
    "chart.x_axis.title = \"Days\"\n",
    "chart.barDir = \"bar\"  # Use horizontal bars\n",
    "\n",
    "# Reference durations and offsets for the chart\n",
    "duration_values = Reference(ws, min_col=3, min_row=2, max_row=len(data))  # Durations\n",
    "offset_values = Reference(ws, min_col=4, min_row=2, max_row=len(data))  # Start offsets\n",
    "\n",
    "# Add the data series\n",
    "chart.add_data(duration_values, titles_from_data=False)  # Duration as the main bar\n",
    "chart.add_data(offset_values, titles_from_data=False)    # Offset as the base\n",
    "\n",
    "# Set task names as categories\n",
    "categories = Reference(ws, min_col=1, min_row=2, max_row=len(data))\n",
    "chart.set_categories(categories)\n",
    "\n",
    "# Step 4: Add the chart to the worksheet\n",
    "ws.add_chart(chart, \"F2\")\n",
    "\n",
    "# Step 5: Save the workbook\n",
    "wb.save(\"gantt_chart_old.xlsx\")\n"
   ]
  }
 ],
 "metadata": {
  "kernelspec": {
   "display_name": "lparser",
   "language": "python",
   "name": "lparser"
  },
  "language_info": {
   "codemirror_mode": {
    "name": "ipython",
    "version": 3
   },
   "file_extension": ".py",
   "mimetype": "text/x-python",
   "name": "python",
   "nbconvert_exporter": "python",
   "pygments_lexer": "ipython3",
   "version": "3.9.13"
  }
 },
 "nbformat": 4,
 "nbformat_minor": 2
}
